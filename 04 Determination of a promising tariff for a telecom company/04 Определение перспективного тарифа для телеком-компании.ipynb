{
 "cells": [
  {
   "cell_type": "markdown",
   "metadata": {
    "tags": []
   },
   "source": [
    "#### Проект учебного спринта \"Статистический анализ данных\"\n",
    "## Определение перспективного тарифа для телеком-компании"
   ]
  },
  {
   "cell_type": "markdown",
   "metadata": {},
   "source": [
    "#### Исполнитель. Варивода С. П."
   ]
  },
  {
   "cell_type": "markdown",
   "metadata": {},
   "source": [
    "### Описание проекта"
   ]
  },
  {
   "cell_type": "markdown",
   "metadata": {},
   "source": [
    "У оператора связи \"Мегалайн\" есть два тарифных плана: \"Смарт\" и \"Ультра\".\n",
    "Необходимо сравнить данные по использованию этих тарифов.\n"
   ]
  },
  {
   "cell_type": "markdown",
   "metadata": {},
   "source": [
    "<b>Тариф «Смарт»</b><BR>\n",
    "Ежемесячная плата: 550 рублей<BR>\n",
    "Включено 500 минут разговора, 50 сообщений и 15 Гб интернет-трафика<BR>\n",
    "Стоимость услуг сверх тарифного пакета:<BR>\n",
    "минута разговора: 3 рубля<BR>\n",
    "сообщение: 3 рубля<BR>\n",
    "1 Гб интернет-трафика: 200 рублей<BR>"
   ]
  },
  {
   "cell_type": "markdown",
   "metadata": {},
   "source": [
    "<b>Тариф «Ультра»</b><br>\n",
    "Ежемесячная плата: 1950 рублей<br>\n",
    "Включено 3000 минут разговора, 1000 сообщений и 30 Гб интернет-трафика<br>\n",
    "Стоимость услуг сверх тарифного пакета:<br>\n",
    "минута разговора: 1 рубль<br>\n",
    "сообщение: 1 рубль<br>\n",
    "1 Гб интернет-трафика: 150 рублей<br>"
   ]
  },
  {
   "cell_type": "markdown",
   "metadata": {},
   "source": [
    "### Цель проекта"
   ]
  },
  {
   "cell_type": "markdown",
   "metadata": {},
   "source": [
    "Определить, какой из двух тарифов приносит больше денег."
   ]
  },
  {
   "cell_type": "markdown",
   "metadata": {},
   "source": [
    "План проекта:\n",
    "- Загрузка данных из предоставленных таблиц\n",
    "- Проверка общей информации о предоставленных данных\n",
    "- Проверка данных на наличие ошибок, корректности форматов столцов, исправление ошибок и форматов при необходимости\n",
    "- Формирование таблиц-метрик\n",
    "- Заполнение пропусков\n",
    "- Анализ данных на основе выборки: построение гистограмм, оценка потребностей пользователей по потреблению интернет-трафика, сообщений и звонков\n",
    "- Проверка гипотезы о неравенстве выручки двух тарифов\n",
    "- Проверка гипотезы о различии выручки в Москве и других регионах\n",
    "- Общий вывод"
   ]
  },
  {
   "cell_type": "markdown",
   "metadata": {},
   "source": [
    "### Шаг 1. Откройте файл с данными и изучите общую информацию"
   ]
  },
  {
   "cell_type": "markdown",
   "metadata": {},
   "source": [
    "Импорт модулей"
   ]
  },
  {
   "cell_type": "code",
   "execution_count": 126,
   "metadata": {},
   "outputs": [],
   "source": [
    "import pandas as pd\n",
    "import numpy as np\n",
    "import math\n",
    "import re\n",
    "import matplotlib.pyplot as plt\n",
    "import platform\n",
    "from scipy import stats as st"
   ]
  },
  {
   "cell_type": "markdown",
   "metadata": {},
   "source": [
    "Загрузка данных"
   ]
  },
  {
   "cell_type": "code",
   "execution_count": 127,
   "metadata": {},
   "outputs": [],
   "source": [
    "host = platform.node()\n",
    "\n",
    "# На машинах исполнителя проекта файл с данными доступен через символический путь, \n",
    "# ссылающийса на папку на яндекс.диске, где расположен загружаемый файл. \n",
    "# В случае если хостом где выполняется анализ является какая-либо другая машина, \n",
    "# используем путь по умолчанию.\n",
    "try:    \n",
    "    if host in ['22varivoda','Gover-pc','MSI']:\n",
    "        filepath    = 'C:/_YDsymlink/Python/datascience/Projects/09 - Статистический анализ данных/'\n",
    "    else:\n",
    "        filepath    = '/datasets/'\n",
    "except:\n",
    "    print(\"Не удалось подгрузить данные\")\n",
    "    \n",
    "pd.reset_option('^display.',silent=True)\n",
    "pd.set_option('display.float_format', str)\n"
   ]
  },
  {
   "cell_type": "code",
   "execution_count": 128,
   "metadata": {},
   "outputs": [],
   "source": [
    "d_calls     = pd.read_csv(filepath+\"calls.csv\")\n",
    "d_internet  = pd.read_csv(filepath+\"internet.csv\")\n",
    "d_messages  = pd.read_csv(filepath+\"messages.csv\")\n",
    "d_tariffs   = pd.read_csv(filepath+\"tariffs.csv\")\n",
    "d_users     = pd.read_csv(filepath+\"users.csv\")"
   ]
  },
  {
   "cell_type": "markdown",
   "metadata": {},
   "source": [
    "#### 1.1. Проверка базовой информации о таблицах"
   ]
  },
  {
   "cell_type": "markdown",
   "metadata": {},
   "source": [
    "#### 1.1.1 <code>calls</code> - Звонки "
   ]
  },
  {
   "cell_type": "code",
   "execution_count": 133,
   "metadata": {},
   "outputs": [
    {
     "name": "stdout",
     "output_type": "stream",
     "text": [
      "<class 'pandas.core.frame.DataFrame'>\n",
      "RangeIndex: 202607 entries, 0 to 202606\n",
      "Data columns (total 4 columns):\n",
      " #   Column     Non-Null Count   Dtype  \n",
      "---  ------     --------------   -----  \n",
      " 0   id         202607 non-null  object \n",
      " 1   call_date  202607 non-null  object \n",
      " 2   duration   202607 non-null  float64\n",
      " 3   user_id    202607 non-null  int64  \n",
      "dtypes: float64(1), int64(1), object(2)\n",
      "memory usage: 6.2+ MB\n"
     ]
    }
   ],
   "source": [
    "d_calls.info()"
   ]
  },
  {
   "cell_type": "code",
   "execution_count": 134,
   "metadata": {},
   "outputs": [
    {
     "data": {
      "text/html": [
       "<div>\n",
       "<style scoped>\n",
       "    .dataframe tbody tr th:only-of-type {\n",
       "        vertical-align: middle;\n",
       "    }\n",
       "\n",
       "    .dataframe tbody tr th {\n",
       "        vertical-align: top;\n",
       "    }\n",
       "\n",
       "    .dataframe thead th {\n",
       "        text-align: right;\n",
       "    }\n",
       "</style>\n",
       "<table border=\"1\" class=\"dataframe\">\n",
       "  <thead>\n",
       "    <tr style=\"text-align: right;\">\n",
       "      <th></th>\n",
       "      <th>id</th>\n",
       "      <th>call_date</th>\n",
       "      <th>duration</th>\n",
       "      <th>user_id</th>\n",
       "    </tr>\n",
       "  </thead>\n",
       "  <tbody>\n",
       "    <tr>\n",
       "      <th>150365</th>\n",
       "      <td>1377_1212</td>\n",
       "      <td>2018-08-18</td>\n",
       "      <td>4.56</td>\n",
       "      <td>1377</td>\n",
       "    </tr>\n",
       "  </tbody>\n",
       "</table>\n",
       "</div>"
      ],
      "text/plain": [
       "               id   call_date  duration  user_id\n",
       "150365  1377_1212  2018-08-18      4.56     1377"
      ]
     },
     "execution_count": 134,
     "metadata": {},
     "output_type": "execute_result"
    }
   ],
   "source": [
    "d_calls.sample(1)"
   ]
  },
  {
   "cell_type": "markdown",
   "metadata": {},
   "source": [
    "Необходимо преобразовать тип столбца call_date в datetime"
   ]
  },
  {
   "cell_type": "markdown",
   "metadata": {},
   "source": [
    "Судя по разным столбцам, в компании принято столбцы id делить на две части. NN_MM, <BR>\n",
    "Где NN - идентификатор текущей таблицы, <BR>\n",
    "А MM - идентификатор пользователя <code>users.user_id</code>\n",
    "На шаге 2 попытаемся разделить этот столбец на два."
   ]
  },
  {
   "cell_type": "markdown",
   "metadata": {},
   "source": [
    "#### 1.1.2 <code>internet</code> - Информация об интернет-сессиях "
   ]
  },
  {
   "cell_type": "code",
   "execution_count": 135,
   "metadata": {},
   "outputs": [
    {
     "name": "stdout",
     "output_type": "stream",
     "text": [
      "<class 'pandas.core.frame.DataFrame'>\n",
      "RangeIndex: 149396 entries, 0 to 149395\n",
      "Data columns (total 5 columns):\n",
      " #   Column        Non-Null Count   Dtype  \n",
      "---  ------        --------------   -----  \n",
      " 0   Unnamed: 0    149396 non-null  int64  \n",
      " 1   id            149396 non-null  object \n",
      " 2   mb_used       149396 non-null  float64\n",
      " 3   session_date  149396 non-null  object \n",
      " 4   user_id       149396 non-null  int64  \n",
      "dtypes: float64(1), int64(2), object(2)\n",
      "memory usage: 5.7+ MB\n"
     ]
    }
   ],
   "source": [
    "d_internet.info()"
   ]
  },
  {
   "cell_type": "code",
   "execution_count": 136,
   "metadata": {},
   "outputs": [
    {
     "data": {
      "text/html": [
       "<div>\n",
       "<style scoped>\n",
       "    .dataframe tbody tr th:only-of-type {\n",
       "        vertical-align: middle;\n",
       "    }\n",
       "\n",
       "    .dataframe tbody tr th {\n",
       "        vertical-align: top;\n",
       "    }\n",
       "\n",
       "    .dataframe thead th {\n",
       "        text-align: right;\n",
       "    }\n",
       "</style>\n",
       "<table border=\"1\" class=\"dataframe\">\n",
       "  <thead>\n",
       "    <tr style=\"text-align: right;\">\n",
       "      <th></th>\n",
       "      <th>Unnamed: 0</th>\n",
       "      <th>id</th>\n",
       "      <th>mb_used</th>\n",
       "      <th>session_date</th>\n",
       "      <th>user_id</th>\n",
       "    </tr>\n",
       "  </thead>\n",
       "  <tbody>\n",
       "    <tr>\n",
       "      <th>1056</th>\n",
       "      <td>1056</td>\n",
       "      <td>1004_276</td>\n",
       "      <td>624.94</td>\n",
       "      <td>2018-05-30</td>\n",
       "      <td>1004</td>\n",
       "    </tr>\n",
       "  </tbody>\n",
       "</table>\n",
       "</div>"
      ],
      "text/plain": [
       "      Unnamed: 0        id  mb_used session_date  user_id\n",
       "1056        1056  1004_276   624.94   2018-05-30     1004"
      ]
     },
     "execution_count": 136,
     "metadata": {},
     "output_type": "execute_result"
    }
   ],
   "source": [
    "d_internet.sample(1)"
   ]
  },
  {
   "cell_type": "markdown",
   "metadata": {},
   "source": [
    "Необходимо разобраться с безымянным столбцом, дать ему имя, либо удалить.<BR>\n",
    "Столбец session_date необходимо привести к формату datetime"
   ]
  },
  {
   "cell_type": "markdown",
   "metadata": {},
   "source": [
    "Аналогично предыдущей таблице нужно попытаться разделить столбец идентификатора на два"
   ]
  },
  {
   "cell_type": "markdown",
   "metadata": {},
   "source": [
    "#### 1.1.3 <code>messages</code> - Информация о сообщениях "
   ]
  },
  {
   "cell_type": "code",
   "execution_count": 137,
   "metadata": {},
   "outputs": [
    {
     "name": "stdout",
     "output_type": "stream",
     "text": [
      "<class 'pandas.core.frame.DataFrame'>\n",
      "RangeIndex: 123036 entries, 0 to 123035\n",
      "Data columns (total 3 columns):\n",
      " #   Column        Non-Null Count   Dtype \n",
      "---  ------        --------------   ----- \n",
      " 0   id            123036 non-null  object\n",
      " 1   message_date  123036 non-null  object\n",
      " 2   user_id       123036 non-null  int64 \n",
      "dtypes: int64(1), object(2)\n",
      "memory usage: 2.8+ MB\n"
     ]
    }
   ],
   "source": [
    "d_messages.info()"
   ]
  },
  {
   "cell_type": "code",
   "execution_count": 138,
   "metadata": {},
   "outputs": [
    {
     "data": {
      "text/html": [
       "<div>\n",
       "<style scoped>\n",
       "    .dataframe tbody tr th:only-of-type {\n",
       "        vertical-align: middle;\n",
       "    }\n",
       "\n",
       "    .dataframe tbody tr th {\n",
       "        vertical-align: top;\n",
       "    }\n",
       "\n",
       "    .dataframe thead th {\n",
       "        text-align: right;\n",
       "    }\n",
       "</style>\n",
       "<table border=\"1\" class=\"dataframe\">\n",
       "  <thead>\n",
       "    <tr style=\"text-align: right;\">\n",
       "      <th></th>\n",
       "      <th>id</th>\n",
       "      <th>message_date</th>\n",
       "      <th>user_id</th>\n",
       "    </tr>\n",
       "  </thead>\n",
       "  <tbody>\n",
       "    <tr>\n",
       "      <th>104369</th>\n",
       "      <td>1424_222</td>\n",
       "      <td>2018-10-27</td>\n",
       "      <td>1424</td>\n",
       "    </tr>\n",
       "  </tbody>\n",
       "</table>\n",
       "</div>"
      ],
      "text/plain": [
       "              id message_date  user_id\n",
       "104369  1424_222   2018-10-27     1424"
      ]
     },
     "execution_count": 138,
     "metadata": {},
     "output_type": "execute_result"
    }
   ],
   "source": [
    "d_messages.sample(1)"
   ]
  },
  {
   "cell_type": "markdown",
   "metadata": {},
   "source": [
    "Столбец message_date необходимо привести к формату datetime и тоже разделить идентификаторы (<code>id</code>)"
   ]
  },
  {
   "cell_type": "markdown",
   "metadata": {
    "tags": []
   },
   "source": [
    "#### 1.1.4 <code>tariffs</code> - Информация о тарифах "
   ]
  },
  {
   "cell_type": "code",
   "execution_count": 139,
   "metadata": {},
   "outputs": [
    {
     "name": "stdout",
     "output_type": "stream",
     "text": [
      "<class 'pandas.core.frame.DataFrame'>\n",
      "RangeIndex: 2 entries, 0 to 1\n",
      "Data columns (total 8 columns):\n",
      " #   Column                 Non-Null Count  Dtype \n",
      "---  ------                 --------------  ----- \n",
      " 0   messages_included      2 non-null      int64 \n",
      " 1   mb_per_month_included  2 non-null      int64 \n",
      " 2   minutes_included       2 non-null      int64 \n",
      " 3   rub_monthly_fee        2 non-null      int64 \n",
      " 4   rub_per_gb             2 non-null      int64 \n",
      " 5   rub_per_message        2 non-null      int64 \n",
      " 6   rub_per_minute         2 non-null      int64 \n",
      " 7   tariff_name            2 non-null      object\n",
      "dtypes: int64(7), object(1)\n",
      "memory usage: 256.0+ bytes\n"
     ]
    }
   ],
   "source": [
    "d_tariffs.info()"
   ]
  },
  {
   "cell_type": "code",
   "execution_count": 140,
   "metadata": {},
   "outputs": [
    {
     "data": {
      "text/html": [
       "<div>\n",
       "<style scoped>\n",
       "    .dataframe tbody tr th:only-of-type {\n",
       "        vertical-align: middle;\n",
       "    }\n",
       "\n",
       "    .dataframe tbody tr th {\n",
       "        vertical-align: top;\n",
       "    }\n",
       "\n",
       "    .dataframe thead th {\n",
       "        text-align: right;\n",
       "    }\n",
       "</style>\n",
       "<table border=\"1\" class=\"dataframe\">\n",
       "  <thead>\n",
       "    <tr style=\"text-align: right;\">\n",
       "      <th></th>\n",
       "      <th>messages_included</th>\n",
       "      <th>mb_per_month_included</th>\n",
       "      <th>minutes_included</th>\n",
       "      <th>rub_monthly_fee</th>\n",
       "      <th>rub_per_gb</th>\n",
       "      <th>rub_per_message</th>\n",
       "      <th>rub_per_minute</th>\n",
       "      <th>tariff_name</th>\n",
       "    </tr>\n",
       "  </thead>\n",
       "  <tbody>\n",
       "    <tr>\n",
       "      <th>0</th>\n",
       "      <td>50</td>\n",
       "      <td>15360</td>\n",
       "      <td>500</td>\n",
       "      <td>550</td>\n",
       "      <td>200</td>\n",
       "      <td>3</td>\n",
       "      <td>3</td>\n",
       "      <td>smart</td>\n",
       "    </tr>\n",
       "  </tbody>\n",
       "</table>\n",
       "</div>"
      ],
      "text/plain": [
       "   messages_included  mb_per_month_included  minutes_included  \\\n",
       "0                 50                  15360               500   \n",
       "\n",
       "   rub_monthly_fee  rub_per_gb  rub_per_message  rub_per_minute tariff_name  \n",
       "0              550         200                3               3       smart  "
      ]
     },
     "execution_count": 140,
     "metadata": {},
     "output_type": "execute_result"
    }
   ],
   "source": [
    "d_tariffs.sample(1)"
   ]
  },
  {
   "cell_type": "markdown",
   "metadata": {},
   "source": [
    "Преобразований не требуется"
   ]
  },
  {
   "cell_type": "markdown",
   "metadata": {},
   "source": [
    "#### 1.1.5 <code>users</code> - Пользователи "
   ]
  },
  {
   "cell_type": "code",
   "execution_count": 141,
   "metadata": {},
   "outputs": [
    {
     "name": "stdout",
     "output_type": "stream",
     "text": [
      "<class 'pandas.core.frame.DataFrame'>\n",
      "RangeIndex: 500 entries, 0 to 499\n",
      "Data columns (total 8 columns):\n",
      " #   Column      Non-Null Count  Dtype \n",
      "---  ------      --------------  ----- \n",
      " 0   user_id     500 non-null    int64 \n",
      " 1   age         500 non-null    int64 \n",
      " 2   churn_date  38 non-null     object\n",
      " 3   city        500 non-null    object\n",
      " 4   first_name  500 non-null    object\n",
      " 5   last_name   500 non-null    object\n",
      " 6   reg_date    500 non-null    object\n",
      " 7   tariff      500 non-null    object\n",
      "dtypes: int64(2), object(6)\n",
      "memory usage: 31.4+ KB\n"
     ]
    }
   ],
   "source": [
    "d_users.info()"
   ]
  },
  {
   "cell_type": "code",
   "execution_count": 142,
   "metadata": {},
   "outputs": [
    {
     "data": {
      "text/html": [
       "<div>\n",
       "<style scoped>\n",
       "    .dataframe tbody tr th:only-of-type {\n",
       "        vertical-align: middle;\n",
       "    }\n",
       "\n",
       "    .dataframe tbody tr th {\n",
       "        vertical-align: top;\n",
       "    }\n",
       "\n",
       "    .dataframe thead th {\n",
       "        text-align: right;\n",
       "    }\n",
       "</style>\n",
       "<table border=\"1\" class=\"dataframe\">\n",
       "  <thead>\n",
       "    <tr style=\"text-align: right;\">\n",
       "      <th></th>\n",
       "      <th>user_id</th>\n",
       "      <th>age</th>\n",
       "      <th>churn_date</th>\n",
       "      <th>city</th>\n",
       "      <th>first_name</th>\n",
       "      <th>last_name</th>\n",
       "      <th>reg_date</th>\n",
       "      <th>tariff</th>\n",
       "    </tr>\n",
       "  </thead>\n",
       "  <tbody>\n",
       "    <tr>\n",
       "      <th>490</th>\n",
       "      <td>1490</td>\n",
       "      <td>30</td>\n",
       "      <td>NaN</td>\n",
       "      <td>Москва</td>\n",
       "      <td>Радомир</td>\n",
       "      <td>Алесин</td>\n",
       "      <td>2018-04-03</td>\n",
       "      <td>smart</td>\n",
       "    </tr>\n",
       "  </tbody>\n",
       "</table>\n",
       "</div>"
      ],
      "text/plain": [
       "     user_id  age churn_date    city first_name last_name    reg_date tariff\n",
       "490     1490   30        NaN  Москва    Радомир    Алесин  2018-04-03  smart"
      ]
     },
     "execution_count": 142,
     "metadata": {},
     "output_type": "execute_result"
    }
   ],
   "source": [
    "d_users.sample(1)"
   ]
  },
  {
   "cell_type": "markdown",
   "metadata": {},
   "source": [
    "Столбец reg_date необходимо привести к формату datetime.<BR>\n",
    "Возможно что столбец churn_date тоже, но необходима оценка, является ли null тоже полезным значением или нет."
   ]
  },
  {
   "cell_type": "markdown",
   "metadata": {},
   "source": [
    "### Шаг 2. Подготовка данных"
   ]
  },
  {
   "cell_type": "markdown",
   "metadata": {},
   "source": [
    "Подготовим функцию, которая будет вытаскивать user_id и id текущей таблицы из столбцов с идентификаторами"
   ]
  },
  {
   "cell_type": "code",
   "execution_count": 143,
   "metadata": {},
   "outputs": [],
   "source": [
    "def get_id(value, id_part='all'):\n",
    "    try:\n",
    "        result = re.match(r\"(\\d+)_(\\d+)\",value)\n",
    "        user_id  = result.group(1)\n",
    "        table_id = result.group(2)\n",
    "    except:\n",
    "        print(f\"Возникла проблем с регулярным выражением в строке {value}\")\n",
    "    \n",
    "    if id_part == 'user_id':\n",
    "        # Возвращаем user_id (часть идентификатора до символа _ )\n",
    "        return user_id\n",
    "    elif id_part == 'table_id':\n",
    "        # Возвращаем table_id (то что после символа _), то есть идентификатор текущей таблицы\n",
    "        return table_id\n",
    "    else:\n",
    "        # Если не указано что возвращать - возвращаем turple-пару user_id, table_id\n",
    "        return (user_id,table_id)\n",
    "        "
   ]
  },
  {
   "cell_type": "markdown",
   "metadata": {},
   "source": [
    "#### 2.1 <code>calls</code> - Звонки "
   ]
  },
  {
   "cell_type": "code",
   "execution_count": 144,
   "metadata": {},
   "outputs": [
    {
     "data": {
      "text/html": [
       "<div>\n",
       "<style scoped>\n",
       "    .dataframe tbody tr th:only-of-type {\n",
       "        vertical-align: middle;\n",
       "    }\n",
       "\n",
       "    .dataframe tbody tr th {\n",
       "        vertical-align: top;\n",
       "    }\n",
       "\n",
       "    .dataframe thead th {\n",
       "        text-align: right;\n",
       "    }\n",
       "</style>\n",
       "<table border=\"1\" class=\"dataframe\">\n",
       "  <thead>\n",
       "    <tr style=\"text-align: right;\">\n",
       "      <th></th>\n",
       "      <th>id</th>\n",
       "      <th>call_date</th>\n",
       "      <th>duration</th>\n",
       "      <th>user_id</th>\n",
       "    </tr>\n",
       "  </thead>\n",
       "  <tbody>\n",
       "    <tr>\n",
       "      <th>118606</th>\n",
       "      <td>1307_80</td>\n",
       "      <td>2018-06-08</td>\n",
       "      <td>0.6</td>\n",
       "      <td>1307</td>\n",
       "    </tr>\n",
       "  </tbody>\n",
       "</table>\n",
       "</div>"
      ],
      "text/plain": [
       "             id   call_date  duration  user_id\n",
       "118606  1307_80  2018-06-08       0.6     1307"
      ]
     },
     "execution_count": 144,
     "metadata": {},
     "output_type": "execute_result"
    }
   ],
   "source": [
    "d_calls.sample(1)"
   ]
  },
  {
   "cell_type": "code",
   "execution_count": 145,
   "metadata": {},
   "outputs": [],
   "source": [
    "# Меняем формат столбца даты call_date на datetime\n",
    "d_calls['call_date'] = pd.to_datetime( d_calls['call_date'], format='%Y-%m-%d' )"
   ]
  },
  {
   "cell_type": "code",
   "execution_count": 146,
   "metadata": {},
   "outputs": [
    {
     "data": {
      "text/html": [
       "<div>\n",
       "<style scoped>\n",
       "    .dataframe tbody tr th:only-of-type {\n",
       "        vertical-align: middle;\n",
       "    }\n",
       "\n",
       "    .dataframe tbody tr th {\n",
       "        vertical-align: top;\n",
       "    }\n",
       "\n",
       "    .dataframe thead th {\n",
       "        text-align: right;\n",
       "    }\n",
       "</style>\n",
       "<table border=\"1\" class=\"dataframe\">\n",
       "  <thead>\n",
       "    <tr style=\"text-align: right;\">\n",
       "      <th></th>\n",
       "      <th>id</th>\n",
       "      <th>call_date</th>\n",
       "      <th>duration</th>\n",
       "      <th>user_id</th>\n",
       "    </tr>\n",
       "  </thead>\n",
       "  <tbody>\n",
       "  </tbody>\n",
       "</table>\n",
       "</div>"
      ],
      "text/plain": [
       "Empty DataFrame\n",
       "Columns: [id, call_date, duration, user_id]\n",
       "Index: []"
      ]
     },
     "execution_count": 146,
     "metadata": {},
     "output_type": "execute_result"
    }
   ],
   "source": [
    "# Проверка на пустые (нулевые) значения\n",
    "d_calls.loc[ d_calls['user_id']==0 ]"
   ]
  },
  {
   "cell_type": "code",
   "execution_count": 147,
   "metadata": {},
   "outputs": [],
   "source": [
    "# \"Распаковываем\" столбец с идентификаторами\n",
    "d_calls['user_id'] = d_calls['id'].apply(get_id,args=('user_id', )).astype('int')\n",
    "d_calls['call_id'] = d_calls['id'].apply(get_id,args=('table_id',)).astype('int')"
   ]
  },
  {
   "cell_type": "code",
   "execution_count": 148,
   "metadata": {},
   "outputs": [
    {
     "data": {
      "text/html": [
       "<div>\n",
       "<style scoped>\n",
       "    .dataframe tbody tr th:only-of-type {\n",
       "        vertical-align: middle;\n",
       "    }\n",
       "\n",
       "    .dataframe tbody tr th {\n",
       "        vertical-align: top;\n",
       "    }\n",
       "\n",
       "    .dataframe thead th {\n",
       "        text-align: right;\n",
       "    }\n",
       "</style>\n",
       "<table border=\"1\" class=\"dataframe\">\n",
       "  <thead>\n",
       "    <tr style=\"text-align: right;\">\n",
       "      <th></th>\n",
       "      <th>id</th>\n",
       "      <th>call_date</th>\n",
       "      <th>duration</th>\n",
       "      <th>user_id</th>\n",
       "      <th>call_id</th>\n",
       "    </tr>\n",
       "  </thead>\n",
       "  <tbody>\n",
       "    <tr>\n",
       "      <th>90797</th>\n",
       "      <td>1227_217</td>\n",
       "      <td>2018-06-15</td>\n",
       "      <td>5.2</td>\n",
       "      <td>1227</td>\n",
       "      <td>217</td>\n",
       "    </tr>\n",
       "    <tr>\n",
       "      <th>21639</th>\n",
       "      <td>1057_88</td>\n",
       "      <td>2018-12-24</td>\n",
       "      <td>0.0</td>\n",
       "      <td>1057</td>\n",
       "      <td>88</td>\n",
       "    </tr>\n",
       "    <tr>\n",
       "      <th>42234</th>\n",
       "      <td>1104_136</td>\n",
       "      <td>2018-09-15</td>\n",
       "      <td>11.82</td>\n",
       "      <td>1104</td>\n",
       "      <td>136</td>\n",
       "    </tr>\n",
       "  </tbody>\n",
       "</table>\n",
       "</div>"
      ],
      "text/plain": [
       "             id  call_date  duration  user_id  call_id\n",
       "90797  1227_217 2018-06-15       5.2     1227      217\n",
       "21639   1057_88 2018-12-24       0.0     1057       88\n",
       "42234  1104_136 2018-09-15     11.82     1104      136"
      ]
     },
     "execution_count": 148,
     "metadata": {},
     "output_type": "execute_result"
    }
   ],
   "source": [
    "d_calls.sample(3)"
   ]
  },
  {
   "cell_type": "markdown",
   "metadata": {},
   "source": [
    "#### 2.2 <code>internet</code> - Информация об интернет-сессиях"
   ]
  },
  {
   "cell_type": "code",
   "execution_count": 149,
   "metadata": {
    "tags": []
   },
   "outputs": [
    {
     "data": {
      "text/html": [
       "<div>\n",
       "<style scoped>\n",
       "    .dataframe tbody tr th:only-of-type {\n",
       "        vertical-align: middle;\n",
       "    }\n",
       "\n",
       "    .dataframe tbody tr th {\n",
       "        vertical-align: top;\n",
       "    }\n",
       "\n",
       "    .dataframe thead th {\n",
       "        text-align: right;\n",
       "    }\n",
       "</style>\n",
       "<table border=\"1\" class=\"dataframe\">\n",
       "  <thead>\n",
       "    <tr style=\"text-align: right;\">\n",
       "      <th></th>\n",
       "      <th>Unnamed: 0</th>\n",
       "      <th>id</th>\n",
       "      <th>mb_used</th>\n",
       "      <th>session_date</th>\n",
       "      <th>user_id</th>\n",
       "    </tr>\n",
       "  </thead>\n",
       "  <tbody>\n",
       "    <tr>\n",
       "      <th>78208</th>\n",
       "      <td>78208</td>\n",
       "      <td>1263_279</td>\n",
       "      <td>0.0</td>\n",
       "      <td>2018-07-06</td>\n",
       "      <td>1263</td>\n",
       "    </tr>\n",
       "  </tbody>\n",
       "</table>\n",
       "</div>"
      ],
      "text/plain": [
       "       Unnamed: 0        id  mb_used session_date  user_id\n",
       "78208       78208  1263_279      0.0   2018-07-06     1263"
      ]
     },
     "execution_count": 149,
     "metadata": {},
     "output_type": "execute_result"
    }
   ],
   "source": [
    "d_internet.sample(1)"
   ]
  },
  {
   "cell_type": "code",
   "execution_count": 150,
   "metadata": {},
   "outputs": [
    {
     "data": {
      "text/html": [
       "<div>\n",
       "<style scoped>\n",
       "    .dataframe tbody tr th:only-of-type {\n",
       "        vertical-align: middle;\n",
       "    }\n",
       "\n",
       "    .dataframe tbody tr th {\n",
       "        vertical-align: top;\n",
       "    }\n",
       "\n",
       "    .dataframe thead th {\n",
       "        text-align: right;\n",
       "    }\n",
       "</style>\n",
       "<table border=\"1\" class=\"dataframe\">\n",
       "  <thead>\n",
       "    <tr style=\"text-align: right;\">\n",
       "      <th></th>\n",
       "      <th>Unnamed: 0</th>\n",
       "      <th>id</th>\n",
       "      <th>mb_used</th>\n",
       "      <th>session_date</th>\n",
       "      <th>user_id</th>\n",
       "    </tr>\n",
       "  </thead>\n",
       "  <tbody>\n",
       "  </tbody>\n",
       "</table>\n",
       "</div>"
      ],
      "text/plain": [
       "Empty DataFrame\n",
       "Columns: [Unnamed: 0, id, mb_used, session_date, user_id]\n",
       "Index: []"
      ]
     },
     "execution_count": 150,
     "metadata": {},
     "output_type": "execute_result"
    }
   ],
   "source": [
    "# Проверка на пустые (нулевые) значения\n",
    "d_internet.loc[(d_internet['user_id'] == 0)\n",
    "              |(d_internet['id'] == 0)\n",
    "              |(d_internet['session_date'] == 0)\n",
    "              |(d_internet['session_date'] == '1900-01-01')\n",
    "              ]"
   ]
  },
  {
   "cell_type": "code",
   "execution_count": 151,
   "metadata": {},
   "outputs": [],
   "source": [
    "# Меняем формат столбца даты session_date на datetime\n",
    "d_internet['session_date'] = pd.to_datetime( d_internet['session_date'], format='%Y-%m-%d' )"
   ]
  },
  {
   "cell_type": "markdown",
   "metadata": {},
   "source": [
    "Судя по значениям, столбец \"Unnamed: 0\" представляет из себя ничто иное как копию индекса. Проверим начальные и последние значения в нём. И если они соответствуют индексам то избавимся от этого столбца. Если будет нужно мы сможем его воссоздать по индексам."
   ]
  },
  {
   "cell_type": "code",
   "execution_count": 152,
   "metadata": {},
   "outputs": [
    {
     "data": {
      "text/html": [
       "<div>\n",
       "<style scoped>\n",
       "    .dataframe tbody tr th:only-of-type {\n",
       "        vertical-align: middle;\n",
       "    }\n",
       "\n",
       "    .dataframe tbody tr th {\n",
       "        vertical-align: top;\n",
       "    }\n",
       "\n",
       "    .dataframe thead th {\n",
       "        text-align: right;\n",
       "    }\n",
       "</style>\n",
       "<table border=\"1\" class=\"dataframe\">\n",
       "  <thead>\n",
       "    <tr style=\"text-align: right;\">\n",
       "      <th></th>\n",
       "      <th>Unnamed: 0</th>\n",
       "      <th>id</th>\n",
       "      <th>mb_used</th>\n",
       "      <th>session_date</th>\n",
       "      <th>user_id</th>\n",
       "    </tr>\n",
       "  </thead>\n",
       "  <tbody>\n",
       "    <tr>\n",
       "      <th>0</th>\n",
       "      <td>0</td>\n",
       "      <td>1000_0</td>\n",
       "      <td>112.95</td>\n",
       "      <td>2018-11-25</td>\n",
       "      <td>1000</td>\n",
       "    </tr>\n",
       "    <tr>\n",
       "      <th>1</th>\n",
       "      <td>1</td>\n",
       "      <td>1000_1</td>\n",
       "      <td>1052.81</td>\n",
       "      <td>2018-09-07</td>\n",
       "      <td>1000</td>\n",
       "    </tr>\n",
       "  </tbody>\n",
       "</table>\n",
       "</div>"
      ],
      "text/plain": [
       "   Unnamed: 0      id  mb_used session_date  user_id\n",
       "0           0  1000_0   112.95   2018-11-25     1000\n",
       "1           1  1000_1  1052.81   2018-09-07     1000"
      ]
     },
     "execution_count": 152,
     "metadata": {},
     "output_type": "execute_result"
    }
   ],
   "source": [
    "d_internet.head(2)"
   ]
  },
  {
   "cell_type": "code",
   "execution_count": 153,
   "metadata": {},
   "outputs": [
    {
     "data": {
      "text/html": [
       "<div>\n",
       "<style scoped>\n",
       "    .dataframe tbody tr th:only-of-type {\n",
       "        vertical-align: middle;\n",
       "    }\n",
       "\n",
       "    .dataframe tbody tr th {\n",
       "        vertical-align: top;\n",
       "    }\n",
       "\n",
       "    .dataframe thead th {\n",
       "        text-align: right;\n",
       "    }\n",
       "</style>\n",
       "<table border=\"1\" class=\"dataframe\">\n",
       "  <thead>\n",
       "    <tr style=\"text-align: right;\">\n",
       "      <th></th>\n",
       "      <th>Unnamed: 0</th>\n",
       "      <th>id</th>\n",
       "      <th>mb_used</th>\n",
       "      <th>session_date</th>\n",
       "      <th>user_id</th>\n",
       "    </tr>\n",
       "  </thead>\n",
       "  <tbody>\n",
       "    <tr>\n",
       "      <th>149394</th>\n",
       "      <td>149394</td>\n",
       "      <td>1499_155</td>\n",
       "      <td>1246.32</td>\n",
       "      <td>2018-11-26</td>\n",
       "      <td>1499</td>\n",
       "    </tr>\n",
       "    <tr>\n",
       "      <th>149395</th>\n",
       "      <td>149395</td>\n",
       "      <td>1499_156</td>\n",
       "      <td>544.37</td>\n",
       "      <td>2018-10-26</td>\n",
       "      <td>1499</td>\n",
       "    </tr>\n",
       "  </tbody>\n",
       "</table>\n",
       "</div>"
      ],
      "text/plain": [
       "        Unnamed: 0        id  mb_used session_date  user_id\n",
       "149394      149394  1499_155  1246.32   2018-11-26     1499\n",
       "149395      149395  1499_156   544.37   2018-10-26     1499"
      ]
     },
     "execution_count": 153,
     "metadata": {},
     "output_type": "execute_result"
    }
   ],
   "source": [
    "d_internet.tail(2)"
   ]
  },
  {
   "cell_type": "code",
   "execution_count": 154,
   "metadata": {},
   "outputs": [
    {
     "data": {
      "text/html": [
       "<div>\n",
       "<style scoped>\n",
       "    .dataframe tbody tr th:only-of-type {\n",
       "        vertical-align: middle;\n",
       "    }\n",
       "\n",
       "    .dataframe tbody tr th {\n",
       "        vertical-align: top;\n",
       "    }\n",
       "\n",
       "    .dataframe thead th {\n",
       "        text-align: right;\n",
       "    }\n",
       "</style>\n",
       "<table border=\"1\" class=\"dataframe\">\n",
       "  <thead>\n",
       "    <tr style=\"text-align: right;\">\n",
       "      <th></th>\n",
       "      <th>Unnamed: 0</th>\n",
       "      <th>id</th>\n",
       "      <th>mb_used</th>\n",
       "      <th>session_date</th>\n",
       "      <th>user_id</th>\n",
       "    </tr>\n",
       "  </thead>\n",
       "  <tbody>\n",
       "    <tr>\n",
       "      <th>106840</th>\n",
       "      <td>106840</td>\n",
       "      <td>1362_70</td>\n",
       "      <td>218.97</td>\n",
       "      <td>2018-09-18</td>\n",
       "      <td>1362</td>\n",
       "    </tr>\n",
       "  </tbody>\n",
       "</table>\n",
       "</div>"
      ],
      "text/plain": [
       "        Unnamed: 0       id  mb_used session_date  user_id\n",
       "106840      106840  1362_70   218.97   2018-09-18     1362"
      ]
     },
     "execution_count": 154,
     "metadata": {},
     "output_type": "execute_result"
    }
   ],
   "source": [
    "d_internet.sample(1)"
   ]
  },
  {
   "cell_type": "code",
   "execution_count": 155,
   "metadata": {},
   "outputs": [
    {
     "data": {
      "text/html": [
       "<div>\n",
       "<style scoped>\n",
       "    .dataframe tbody tr th:only-of-type {\n",
       "        vertical-align: middle;\n",
       "    }\n",
       "\n",
       "    .dataframe tbody tr th {\n",
       "        vertical-align: top;\n",
       "    }\n",
       "\n",
       "    .dataframe thead th {\n",
       "        text-align: right;\n",
       "    }\n",
       "</style>\n",
       "<table border=\"1\" class=\"dataframe\">\n",
       "  <thead>\n",
       "    <tr style=\"text-align: right;\">\n",
       "      <th></th>\n",
       "      <th>id</th>\n",
       "      <th>mb_used</th>\n",
       "      <th>session_date</th>\n",
       "      <th>user_id</th>\n",
       "    </tr>\n",
       "  </thead>\n",
       "  <tbody>\n",
       "    <tr>\n",
       "      <th>72452</th>\n",
       "      <td>1244_284</td>\n",
       "      <td>191.0</td>\n",
       "      <td>2018-06-11</td>\n",
       "      <td>1244</td>\n",
       "    </tr>\n",
       "  </tbody>\n",
       "</table>\n",
       "</div>"
      ],
      "text/plain": [
       "             id  mb_used session_date  user_id\n",
       "72452  1244_284    191.0   2018-06-11     1244"
      ]
     },
     "execution_count": 155,
     "metadata": {},
     "output_type": "execute_result"
    }
   ],
   "source": [
    "# Удаляем этот столбец\n",
    "d_internet = d_internet.drop(columns=d_internet.columns[0])\n",
    "d_internet.sample(1)"
   ]
  },
  {
   "cell_type": "markdown",
   "metadata": {},
   "source": [
    "\"Распаковка\" идентификаторов"
   ]
  },
  {
   "cell_type": "code",
   "execution_count": 156,
   "metadata": {},
   "outputs": [],
   "source": [
    "# \"Распаковываем\" столбец с идентификаторами\n",
    "d_internet['user_id'] = d_internet['id'].apply(get_id, args=('user_id', )).astype('int')\n",
    "d_internet['session_id'] = d_internet['id'].apply(get_id, args=('table_id',)).astype('int')"
   ]
  },
  {
   "cell_type": "markdown",
   "metadata": {},
   "source": [
    "Проверка того, как распаковались идентификаторы:"
   ]
  },
  {
   "cell_type": "code",
   "execution_count": 157,
   "metadata": {},
   "outputs": [
    {
     "data": {
      "text/html": [
       "<div>\n",
       "<style scoped>\n",
       "    .dataframe tbody tr th:only-of-type {\n",
       "        vertical-align: middle;\n",
       "    }\n",
       "\n",
       "    .dataframe tbody tr th {\n",
       "        vertical-align: top;\n",
       "    }\n",
       "\n",
       "    .dataframe thead th {\n",
       "        text-align: right;\n",
       "    }\n",
       "</style>\n",
       "<table border=\"1\" class=\"dataframe\">\n",
       "  <thead>\n",
       "    <tr style=\"text-align: right;\">\n",
       "      <th></th>\n",
       "      <th>id</th>\n",
       "      <th>mb_used</th>\n",
       "      <th>session_date</th>\n",
       "      <th>user_id</th>\n",
       "      <th>session_id</th>\n",
       "    </tr>\n",
       "  </thead>\n",
       "  <tbody>\n",
       "    <tr>\n",
       "      <th>89970</th>\n",
       "      <td>1304_9</td>\n",
       "      <td>330.27</td>\n",
       "      <td>2018-11-08</td>\n",
       "      <td>1304</td>\n",
       "      <td>9</td>\n",
       "    </tr>\n",
       "    <tr>\n",
       "      <th>8942</th>\n",
       "      <td>1032_22</td>\n",
       "      <td>0.0</td>\n",
       "      <td>2018-03-04</td>\n",
       "      <td>1032</td>\n",
       "      <td>22</td>\n",
       "    </tr>\n",
       "    <tr>\n",
       "      <th>80611</th>\n",
       "      <td>1272_3</td>\n",
       "      <td>454.88</td>\n",
       "      <td>2018-12-03</td>\n",
       "      <td>1272</td>\n",
       "      <td>3</td>\n",
       "    </tr>\n",
       "    <tr>\n",
       "      <th>2047</th>\n",
       "      <td>1007_171</td>\n",
       "      <td>0.0</td>\n",
       "      <td>2018-06-27</td>\n",
       "      <td>1007</td>\n",
       "      <td>171</td>\n",
       "    </tr>\n",
       "    <tr>\n",
       "      <th>2658</th>\n",
       "      <td>1009_300</td>\n",
       "      <td>0.0</td>\n",
       "      <td>2018-08-13</td>\n",
       "      <td>1009</td>\n",
       "      <td>300</td>\n",
       "    </tr>\n",
       "  </tbody>\n",
       "</table>\n",
       "</div>"
      ],
      "text/plain": [
       "             id  mb_used session_date  user_id  session_id\n",
       "89970    1304_9   330.27   2018-11-08     1304           9\n",
       "8942    1032_22      0.0   2018-03-04     1032          22\n",
       "80611    1272_3   454.88   2018-12-03     1272           3\n",
       "2047   1007_171      0.0   2018-06-27     1007         171\n",
       "2658   1009_300      0.0   2018-08-13     1009         300"
      ]
     },
     "execution_count": 157,
     "metadata": {},
     "output_type": "execute_result"
    }
   ],
   "source": [
    "d_internet.sample(5)"
   ]
  },
  {
   "cell_type": "markdown",
   "metadata": {},
   "source": [
    "#### 2.3 <code>messages</code> - Информация о сообщениях "
   ]
  },
  {
   "cell_type": "code",
   "execution_count": 158,
   "metadata": {},
   "outputs": [
    {
     "data": {
      "text/html": [
       "<div>\n",
       "<style scoped>\n",
       "    .dataframe tbody tr th:only-of-type {\n",
       "        vertical-align: middle;\n",
       "    }\n",
       "\n",
       "    .dataframe tbody tr th {\n",
       "        vertical-align: top;\n",
       "    }\n",
       "\n",
       "    .dataframe thead th {\n",
       "        text-align: right;\n",
       "    }\n",
       "</style>\n",
       "<table border=\"1\" class=\"dataframe\">\n",
       "  <thead>\n",
       "    <tr style=\"text-align: right;\">\n",
       "      <th></th>\n",
       "      <th>id</th>\n",
       "      <th>message_date</th>\n",
       "      <th>user_id</th>\n",
       "    </tr>\n",
       "  </thead>\n",
       "  <tbody>\n",
       "  </tbody>\n",
       "</table>\n",
       "</div>"
      ],
      "text/plain": [
       "Empty DataFrame\n",
       "Columns: [id, message_date, user_id]\n",
       "Index: []"
      ]
     },
     "execution_count": 158,
     "metadata": {},
     "output_type": "execute_result"
    }
   ],
   "source": [
    "# Проверка на пустые (нулевые) значения\n",
    "d_messages.loc[(d_messages['id'] == 0)\n",
    "              |(d_messages['message_date'] == 0)\n",
    "              |(d_messages['message_date'] == '1900-01-01')\n",
    "              ]"
   ]
  },
  {
   "cell_type": "code",
   "execution_count": 159,
   "metadata": {},
   "outputs": [
    {
     "data": {
      "text/html": [
       "<div>\n",
       "<style scoped>\n",
       "    .dataframe tbody tr th:only-of-type {\n",
       "        vertical-align: middle;\n",
       "    }\n",
       "\n",
       "    .dataframe tbody tr th {\n",
       "        vertical-align: top;\n",
       "    }\n",
       "\n",
       "    .dataframe thead th {\n",
       "        text-align: right;\n",
       "    }\n",
       "</style>\n",
       "<table border=\"1\" class=\"dataframe\">\n",
       "  <thead>\n",
       "    <tr style=\"text-align: right;\">\n",
       "      <th></th>\n",
       "      <th>id</th>\n",
       "      <th>message_date</th>\n",
       "      <th>user_id</th>\n",
       "    </tr>\n",
       "  </thead>\n",
       "  <tbody>\n",
       "    <tr>\n",
       "      <th>45715</th>\n",
       "      <td>1197_45</td>\n",
       "      <td>2018-12-11</td>\n",
       "      <td>1197</td>\n",
       "    </tr>\n",
       "  </tbody>\n",
       "</table>\n",
       "</div>"
      ],
      "text/plain": [
       "            id message_date  user_id\n",
       "45715  1197_45   2018-12-11     1197"
      ]
     },
     "execution_count": 159,
     "metadata": {},
     "output_type": "execute_result"
    }
   ],
   "source": [
    "d_messages.sample(1)"
   ]
  },
  {
   "cell_type": "code",
   "execution_count": 160,
   "metadata": {},
   "outputs": [],
   "source": [
    "d_messages['message_date'] = pd.to_datetime( d_messages['message_date'], format='%Y-%m-%d' )"
   ]
  },
  {
   "cell_type": "markdown",
   "metadata": {},
   "source": [
    "\"Распаковка\" идентификаторов"
   ]
  },
  {
   "cell_type": "code",
   "execution_count": 161,
   "metadata": {},
   "outputs": [],
   "source": [
    "# \"Распаковываем\" столбец с идентификаторами\n",
    "d_messages['user_id']    = d_messages['id'].apply(get_id, args=('user_id', )).astype('int')\n",
    "d_messages['message_id'] = d_messages['id'].apply(get_id, args=('table_id',)).astype('int')"
   ]
  },
  {
   "cell_type": "markdown",
   "metadata": {},
   "source": [
    "Проверка того, как распаковались идентификаторы:"
   ]
  },
  {
   "cell_type": "code",
   "execution_count": 162,
   "metadata": {},
   "outputs": [
    {
     "data": {
      "text/html": [
       "<div>\n",
       "<style scoped>\n",
       "    .dataframe tbody tr th:only-of-type {\n",
       "        vertical-align: middle;\n",
       "    }\n",
       "\n",
       "    .dataframe tbody tr th {\n",
       "        vertical-align: top;\n",
       "    }\n",
       "\n",
       "    .dataframe thead th {\n",
       "        text-align: right;\n",
       "    }\n",
       "</style>\n",
       "<table border=\"1\" class=\"dataframe\">\n",
       "  <thead>\n",
       "    <tr style=\"text-align: right;\">\n",
       "      <th></th>\n",
       "      <th>id</th>\n",
       "      <th>message_date</th>\n",
       "      <th>user_id</th>\n",
       "      <th>message_id</th>\n",
       "    </tr>\n",
       "  </thead>\n",
       "  <tbody>\n",
       "    <tr>\n",
       "      <th>118308</th>\n",
       "      <td>1481_79</td>\n",
       "      <td>2018-04-24</td>\n",
       "      <td>1481</td>\n",
       "      <td>79</td>\n",
       "    </tr>\n",
       "    <tr>\n",
       "      <th>73992</th>\n",
       "      <td>1312_71</td>\n",
       "      <td>2018-10-06</td>\n",
       "      <td>1312</td>\n",
       "      <td>71</td>\n",
       "    </tr>\n",
       "    <tr>\n",
       "      <th>18711</th>\n",
       "      <td>1082_152</td>\n",
       "      <td>2018-12-10</td>\n",
       "      <td>1082</td>\n",
       "      <td>152</td>\n",
       "    </tr>\n",
       "    <tr>\n",
       "      <th>66753</th>\n",
       "      <td>1284_341</td>\n",
       "      <td>2018-07-16</td>\n",
       "      <td>1284</td>\n",
       "      <td>341</td>\n",
       "    </tr>\n",
       "    <tr>\n",
       "      <th>92841</th>\n",
       "      <td>1382_302</td>\n",
       "      <td>2018-12-05</td>\n",
       "      <td>1382</td>\n",
       "      <td>302</td>\n",
       "    </tr>\n",
       "  </tbody>\n",
       "</table>\n",
       "</div>"
      ],
      "text/plain": [
       "              id message_date  user_id  message_id\n",
       "118308   1481_79   2018-04-24     1481          79\n",
       "73992    1312_71   2018-10-06     1312          71\n",
       "18711   1082_152   2018-12-10     1082         152\n",
       "66753   1284_341   2018-07-16     1284         341\n",
       "92841   1382_302   2018-12-05     1382         302"
      ]
     },
     "execution_count": 162,
     "metadata": {},
     "output_type": "execute_result"
    }
   ],
   "source": [
    "d_messages.sample(5)"
   ]
  },
  {
   "cell_type": "markdown",
   "metadata": {},
   "source": [
    "#### 2.4 <code>users</code> - Пользователи "
   ]
  },
  {
   "cell_type": "code",
   "execution_count": 163,
   "metadata": {},
   "outputs": [
    {
     "data": {
      "text/html": [
       "<div>\n",
       "<style scoped>\n",
       "    .dataframe tbody tr th:only-of-type {\n",
       "        vertical-align: middle;\n",
       "    }\n",
       "\n",
       "    .dataframe tbody tr th {\n",
       "        vertical-align: top;\n",
       "    }\n",
       "\n",
       "    .dataframe thead th {\n",
       "        text-align: right;\n",
       "    }\n",
       "</style>\n",
       "<table border=\"1\" class=\"dataframe\">\n",
       "  <thead>\n",
       "    <tr style=\"text-align: right;\">\n",
       "      <th></th>\n",
       "      <th>user_id</th>\n",
       "      <th>age</th>\n",
       "      <th>churn_date</th>\n",
       "      <th>city</th>\n",
       "      <th>first_name</th>\n",
       "      <th>last_name</th>\n",
       "      <th>reg_date</th>\n",
       "      <th>tariff</th>\n",
       "    </tr>\n",
       "  </thead>\n",
       "  <tbody>\n",
       "    <tr>\n",
       "      <th>241</th>\n",
       "      <td>1241</td>\n",
       "      <td>71</td>\n",
       "      <td>NaN</td>\n",
       "      <td>Новосибирск</td>\n",
       "      <td>Инна</td>\n",
       "      <td>Андреенко</td>\n",
       "      <td>2018-05-02</td>\n",
       "      <td>smart</td>\n",
       "    </tr>\n",
       "    <tr>\n",
       "      <th>300</th>\n",
       "      <td>1300</td>\n",
       "      <td>40</td>\n",
       "      <td>NaN</td>\n",
       "      <td>Москва</td>\n",
       "      <td>Тихон</td>\n",
       "      <td>Азерников</td>\n",
       "      <td>2018-07-26</td>\n",
       "      <td>ultra</td>\n",
       "    </tr>\n",
       "    <tr>\n",
       "      <th>65</th>\n",
       "      <td>1065</td>\n",
       "      <td>53</td>\n",
       "      <td>2018-12-09</td>\n",
       "      <td>Москва</td>\n",
       "      <td>Роза</td>\n",
       "      <td>Игнатова</td>\n",
       "      <td>2018-03-08</td>\n",
       "      <td>smart</td>\n",
       "    </tr>\n",
       "    <tr>\n",
       "      <th>327</th>\n",
       "      <td>1327</td>\n",
       "      <td>45</td>\n",
       "      <td>NaN</td>\n",
       "      <td>Новороссийск</td>\n",
       "      <td>Клавдия</td>\n",
       "      <td>Севастьянова</td>\n",
       "      <td>2018-04-09</td>\n",
       "      <td>smart</td>\n",
       "    </tr>\n",
       "    <tr>\n",
       "      <th>225</th>\n",
       "      <td>1225</td>\n",
       "      <td>71</td>\n",
       "      <td>NaN</td>\n",
       "      <td>Оренбург</td>\n",
       "      <td>Даниэла</td>\n",
       "      <td>Горбачева</td>\n",
       "      <td>2018-04-26</td>\n",
       "      <td>ultra</td>\n",
       "    </tr>\n",
       "  </tbody>\n",
       "</table>\n",
       "</div>"
      ],
      "text/plain": [
       "     user_id  age  churn_date          city first_name     last_name  \\\n",
       "241     1241   71         NaN   Новосибирск       Инна     Андреенко   \n",
       "300     1300   40         NaN        Москва      Тихон     Азерников   \n",
       "65      1065   53  2018-12-09        Москва       Роза      Игнатова   \n",
       "327     1327   45         NaN  Новороссийск    Клавдия  Севастьянова   \n",
       "225     1225   71         NaN      Оренбург    Даниэла     Горбачева   \n",
       "\n",
       "       reg_date tariff  \n",
       "241  2018-05-02  smart  \n",
       "300  2018-07-26  ultra  \n",
       "65   2018-03-08  smart  \n",
       "327  2018-04-09  smart  \n",
       "225  2018-04-26  ultra  "
      ]
     },
     "execution_count": 163,
     "metadata": {},
     "output_type": "execute_result"
    }
   ],
   "source": [
    "d_users.sample(5)"
   ]
  },
  {
   "cell_type": "code",
   "execution_count": 164,
   "metadata": {},
   "outputs": [],
   "source": [
    "d_users['reg_date'] = pd.to_datetime( d_users['reg_date'], format='%Y-%m-%d' )"
   ]
  },
  {
   "cell_type": "markdown",
   "metadata": {},
   "source": [
    "Проверка столбца возрастов на аномалии"
   ]
  },
  {
   "cell_type": "code",
   "execution_count": 165,
   "metadata": {},
   "outputs": [
    {
     "data": {
      "text/plain": [
       "Int64Index([18, 19, 20, 21, 22, 23, 24, 25, 26, 27, 28, 29, 30, 31, 32, 33, 34,\n",
       "            35, 36, 37, 38, 39, 40, 41, 42, 43, 44, 45, 46, 47, 48, 49, 50, 51,\n",
       "            52, 53, 54, 55, 56, 57, 58, 59, 60, 61, 62, 63, 64, 65, 66, 67, 68,\n",
       "            69, 70, 71, 72, 73, 74, 75],\n",
       "           dtype='int64')"
      ]
     },
     "execution_count": 165,
     "metadata": {},
     "output_type": "execute_result"
    }
   ],
   "source": [
    "d_users['age'].value_counts().index.sort_values()"
   ]
  },
  {
   "cell_type": "markdown",
   "metadata": {},
   "source": [
    "Столбец в порядке"
   ]
  },
  {
   "cell_type": "markdown",
   "metadata": {},
   "source": [
    "Города - проверка на аномальные значения"
   ]
  },
  {
   "cell_type": "code",
   "execution_count": 166,
   "metadata": {},
   "outputs": [
    {
     "data": {
      "text/plain": [
       "Москва             99\n",
       "Санкт-Петербург    39\n",
       "Name: city, dtype: int64"
      ]
     },
     "execution_count": 166,
     "metadata": {},
     "output_type": "execute_result"
    }
   ],
   "source": [
    "d_users['city'].value_counts().head(2)"
   ]
  },
  {
   "cell_type": "code",
   "execution_count": 167,
   "metadata": {},
   "outputs": [
    {
     "data": {
      "text/plain": [
       "Химки      1\n",
       "Иваново    1\n",
       "Name: city, dtype: int64"
      ]
     },
     "execution_count": 167,
     "metadata": {},
     "output_type": "execute_result"
    }
   ],
   "source": [
    "d_users['city'].value_counts().tail(2)"
   ]
  },
  {
   "cell_type": "code",
   "execution_count": 168,
   "metadata": {},
   "outputs": [
    {
     "data": {
      "text/plain": [
       "135    Архангельск\n",
       "253      Астрахань\n",
       "Name: city, dtype: object"
      ]
     },
     "execution_count": 168,
     "metadata": {},
     "output_type": "execute_result"
    }
   ],
   "source": [
    "d_users['city'].sort_values().head(2)"
   ]
  },
  {
   "cell_type": "code",
   "execution_count": 169,
   "metadata": {},
   "outputs": [
    {
     "data": {
      "text/plain": [
       "472    Ярославль\n",
       "39     Ярославль\n",
       "Name: city, dtype: object"
      ]
     },
     "execution_count": 169,
     "metadata": {},
     "output_type": "execute_result"
    }
   ],
   "source": [
    "d_users['city'].sort_values().tail(2)"
   ]
  },
  {
   "cell_type": "markdown",
   "metadata": {},
   "source": [
    "Города в порядке"
   ]
  },
  {
   "cell_type": "markdown",
   "metadata": {},
   "source": [
    "Фамилии и имена - проверка на аномалии"
   ]
  },
  {
   "cell_type": "code",
   "execution_count": 170,
   "metadata": {},
   "outputs": [
    {
     "data": {
      "text/plain": [
       "Андреенко    5\n",
       "Аничкина     3\n",
       "Name: last_name, dtype: int64"
      ]
     },
     "execution_count": 170,
     "metadata": {},
     "output_type": "execute_result"
    }
   ],
   "source": [
    "d_users['last_name'].value_counts().head(2)"
   ]
  },
  {
   "cell_type": "code",
   "execution_count": 171,
   "metadata": {},
   "outputs": [
    {
     "data": {
      "text/plain": [
       "Ёркин        1\n",
       "Карташова    1\n",
       "Name: last_name, dtype: int64"
      ]
     },
     "execution_count": 171,
     "metadata": {},
     "output_type": "execute_result"
    }
   ],
   "source": [
    "d_users['last_name'].value_counts().tail(2)"
   ]
  },
  {
   "cell_type": "code",
   "execution_count": 172,
   "metadata": {},
   "outputs": [
    {
     "data": {
      "text/plain": [
       "416    Ёлчина\n",
       "465     Ёркин\n",
       "Name: last_name, dtype: object"
      ]
     },
     "execution_count": 172,
     "metadata": {},
     "output_type": "execute_result"
    }
   ],
   "source": [
    "d_users['last_name'].sort_values().head(2)"
   ]
  },
  {
   "cell_type": "code",
   "execution_count": 173,
   "metadata": {},
   "outputs": [
    {
     "data": {
      "text/plain": [
       "152    Щербакова\n",
       "419        Яшина\n",
       "Name: last_name, dtype: object"
      ]
     },
     "execution_count": 173,
     "metadata": {},
     "output_type": "execute_result"
    }
   ],
   "source": [
    "d_users['last_name'].sort_values().tail(2)"
   ]
  },
  {
   "cell_type": "code",
   "execution_count": 174,
   "metadata": {},
   "outputs": [
    {
     "data": {
      "text/plain": [
       "Радим    6\n",
       "Пётр     5\n",
       "Name: first_name, dtype: int64"
      ]
     },
     "execution_count": 174,
     "metadata": {},
     "output_type": "execute_result"
    }
   ],
   "source": [
    "d_users['first_name'].value_counts().head(2)"
   ]
  },
  {
   "cell_type": "code",
   "execution_count": 175,
   "metadata": {},
   "outputs": [
    {
     "data": {
      "text/plain": [
       "Наталья    1\n",
       "Людмила    1\n",
       "Name: first_name, dtype: int64"
      ]
     },
     "execution_count": 175,
     "metadata": {},
     "output_type": "execute_result"
    }
   ],
   "source": [
    "d_users['first_name'].value_counts().tail(2)"
   ]
  },
  {
   "cell_type": "code",
   "execution_count": 176,
   "metadata": {},
   "outputs": [
    {
     "data": {
      "text/plain": [
       "495    Авксентий\n",
       "336    Авксентий\n",
       "82     Авксентий\n",
       "199        Агата\n",
       "Name: first_name, dtype: object"
      ]
     },
     "execution_count": 176,
     "metadata": {},
     "output_type": "execute_result"
    }
   ],
   "source": [
    "d_users['first_name'].sort_values().head(4)"
   ]
  },
  {
   "cell_type": "markdown",
   "metadata": {},
   "source": [
    "Имя \"Авксентий\" выглядит странно, но нет возможности проверить ошибка это или нет"
   ]
  },
  {
   "cell_type": "code",
   "execution_count": 177,
   "metadata": {},
   "outputs": [
    {
     "data": {
      "text/plain": [
       "126    Яна\n",
       "207    Яна\n",
       "Name: first_name, dtype: object"
      ]
     },
     "execution_count": 177,
     "metadata": {},
     "output_type": "execute_result"
    }
   ],
   "source": [
    "d_users['first_name'].sort_values().tail(2)"
   ]
  },
  {
   "cell_type": "markdown",
   "metadata": {},
   "source": [
    "ФИО в порядке"
   ]
  },
  {
   "cell_type": "markdown",
   "metadata": {},
   "source": [
    "Проверка, нет ли пользователей, у которых некорректно указан тариф:"
   ]
  },
  {
   "cell_type": "code",
   "execution_count": 178,
   "metadata": {},
   "outputs": [
    {
     "data": {
      "text/plain": [
       "0"
      ]
     },
     "execution_count": 178,
     "metadata": {},
     "output_type": "execute_result"
    }
   ],
   "source": [
    "len(d_users.loc[ ~ d_users['tariff'].isin(['ultra','smart'])])"
   ]
  },
  {
   "cell_type": "markdown",
   "metadata": {},
   "source": [
    "#### 2.5 Добавление таблиц-метрик"
   ]
  },
  {
   "cell_type": "markdown",
   "metadata": {},
   "source": [
    "<B>Количество сделанных звонков и израсходованных минут разговора по месяцам </b>"
   ]
  },
  {
   "cell_type": "code",
   "execution_count": 179,
   "metadata": {},
   "outputs": [],
   "source": [
    "# Добавим столбец месяца в таблицу звонков\n",
    "d_calls['period'] = pd.DatetimeIndex(d_calls['call_date']).strftime('%Y-%m')"
   ]
  },
  {
   "cell_type": "code",
   "execution_count": 180,
   "metadata": {},
   "outputs": [],
   "source": [
    "# Округление. Согласно \"прожёрливой\" политике компании превратим в минуты всё что можно превратить\n",
    "d_calls['duration'] = np.ceil(d_calls['duration'])"
   ]
  },
  {
   "cell_type": "code",
   "execution_count": 181,
   "metadata": {},
   "outputs": [
    {
     "data": {
      "text/html": [
       "<div>\n",
       "<style scoped>\n",
       "    .dataframe tbody tr th:only-of-type {\n",
       "        vertical-align: middle;\n",
       "    }\n",
       "\n",
       "    .dataframe tbody tr th {\n",
       "        vertical-align: top;\n",
       "    }\n",
       "\n",
       "    .dataframe thead th {\n",
       "        text-align: right;\n",
       "    }\n",
       "</style>\n",
       "<table border=\"1\" class=\"dataframe\">\n",
       "  <thead>\n",
       "    <tr style=\"text-align: right;\">\n",
       "      <th></th>\n",
       "      <th>id</th>\n",
       "      <th>call_date</th>\n",
       "      <th>duration</th>\n",
       "      <th>user_id</th>\n",
       "      <th>call_id</th>\n",
       "      <th>period</th>\n",
       "    </tr>\n",
       "  </thead>\n",
       "  <tbody>\n",
       "    <tr>\n",
       "      <th>116757</th>\n",
       "      <td>1300_153</td>\n",
       "      <td>2018-11-07</td>\n",
       "      <td>12.0</td>\n",
       "      <td>1300</td>\n",
       "      <td>153</td>\n",
       "      <td>2018-11</td>\n",
       "    </tr>\n",
       "    <tr>\n",
       "      <th>73026</th>\n",
       "      <td>1184_0</td>\n",
       "      <td>2018-09-06</td>\n",
       "      <td>1.0</td>\n",
       "      <td>1184</td>\n",
       "      <td>0</td>\n",
       "      <td>2018-09</td>\n",
       "    </tr>\n",
       "    <tr>\n",
       "      <th>39248</th>\n",
       "      <td>1098_76</td>\n",
       "      <td>2018-10-31</td>\n",
       "      <td>0.0</td>\n",
       "      <td>1098</td>\n",
       "      <td>76</td>\n",
       "      <td>2018-10</td>\n",
       "    </tr>\n",
       "  </tbody>\n",
       "</table>\n",
       "</div>"
      ],
      "text/plain": [
       "              id  call_date  duration  user_id  call_id   period\n",
       "116757  1300_153 2018-11-07      12.0     1300      153  2018-11\n",
       "73026     1184_0 2018-09-06       1.0     1184        0  2018-09\n",
       "39248    1098_76 2018-10-31       0.0     1098       76  2018-10"
      ]
     },
     "execution_count": 181,
     "metadata": {},
     "output_type": "execute_result"
    }
   ],
   "source": [
    "d_calls.sample(3)"
   ]
  },
  {
   "cell_type": "code",
   "execution_count": 182,
   "metadata": {},
   "outputs": [],
   "source": [
    "# Получаем данные по звонкам и собираем их в обобщенную табличку\n",
    "call_stats = (\n",
    "    d_calls \n",
    "      .pivot_table(\n",
    "          index =['user_id','period'],\n",
    "          values=['call_id','duration'],\n",
    "          aggfunc={ 'call_id':'count',\n",
    "                   'duration':'sum'}\n",
    "      ).rename(\n",
    "          columns={'call_id' :'calls_count',\n",
    "                   'duration':'total_duration'}\n",
    "      )\n",
    ").reset_index() # Сбрасываем индексы для того чтобы перенести их в столбцы"
   ]
  },
  {
   "cell_type": "code",
   "execution_count": 183,
   "metadata": {},
   "outputs": [
    {
     "data": {
      "text/html": [
       "<div>\n",
       "<style scoped>\n",
       "    .dataframe tbody tr th:only-of-type {\n",
       "        vertical-align: middle;\n",
       "    }\n",
       "\n",
       "    .dataframe tbody tr th {\n",
       "        vertical-align: top;\n",
       "    }\n",
       "\n",
       "    .dataframe thead th {\n",
       "        text-align: right;\n",
       "    }\n",
       "</style>\n",
       "<table border=\"1\" class=\"dataframe\">\n",
       "  <thead>\n",
       "    <tr style=\"text-align: right;\">\n",
       "      <th></th>\n",
       "      <th>user_id</th>\n",
       "      <th>period</th>\n",
       "      <th>calls_count</th>\n",
       "      <th>total_duration</th>\n",
       "    </tr>\n",
       "  </thead>\n",
       "  <tbody>\n",
       "    <tr>\n",
       "      <th>2157</th>\n",
       "      <td>1344</td>\n",
       "      <td>2018-09</td>\n",
       "      <td>118</td>\n",
       "      <td>901.0</td>\n",
       "    </tr>\n",
       "    <tr>\n",
       "      <th>1469</th>\n",
       "      <td>1235</td>\n",
       "      <td>2018-11</td>\n",
       "      <td>88</td>\n",
       "      <td>481.0</td>\n",
       "    </tr>\n",
       "    <tr>\n",
       "      <th>1287</th>\n",
       "      <td>1203</td>\n",
       "      <td>2018-12</td>\n",
       "      <td>80</td>\n",
       "      <td>706.0</td>\n",
       "    </tr>\n",
       "  </tbody>\n",
       "</table>\n",
       "</div>"
      ],
      "text/plain": [
       "      user_id   period  calls_count  total_duration\n",
       "2157     1344  2018-09          118           901.0\n",
       "1469     1235  2018-11           88           481.0\n",
       "1287     1203  2018-12           80           706.0"
      ]
     },
     "execution_count": 183,
     "metadata": {},
     "output_type": "execute_result"
    }
   ],
   "source": [
    "call_stats.sample(3)"
   ]
  },
  {
   "cell_type": "markdown",
   "metadata": {},
   "source": [
    "<b>Количество отправленных сообщений по месяцам</b>"
   ]
  },
  {
   "cell_type": "code",
   "execution_count": 184,
   "metadata": {},
   "outputs": [
    {
     "data": {
      "text/html": [
       "<div>\n",
       "<style scoped>\n",
       "    .dataframe tbody tr th:only-of-type {\n",
       "        vertical-align: middle;\n",
       "    }\n",
       "\n",
       "    .dataframe tbody tr th {\n",
       "        vertical-align: top;\n",
       "    }\n",
       "\n",
       "    .dataframe thead th {\n",
       "        text-align: right;\n",
       "    }\n",
       "</style>\n",
       "<table border=\"1\" class=\"dataframe\">\n",
       "  <thead>\n",
       "    <tr style=\"text-align: right;\">\n",
       "      <th></th>\n",
       "      <th>id</th>\n",
       "      <th>message_date</th>\n",
       "      <th>user_id</th>\n",
       "      <th>message_id</th>\n",
       "    </tr>\n",
       "  </thead>\n",
       "  <tbody>\n",
       "    <tr>\n",
       "      <th>10315</th>\n",
       "      <td>1043_22</td>\n",
       "      <td>2018-11-25</td>\n",
       "      <td>1043</td>\n",
       "      <td>22</td>\n",
       "    </tr>\n",
       "    <tr>\n",
       "      <th>58489</th>\n",
       "      <td>1257_281</td>\n",
       "      <td>2018-07-01</td>\n",
       "      <td>1257</td>\n",
       "      <td>281</td>\n",
       "    </tr>\n",
       "    <tr>\n",
       "      <th>27420</th>\n",
       "      <td>1115_111</td>\n",
       "      <td>2018-10-08</td>\n",
       "      <td>1115</td>\n",
       "      <td>111</td>\n",
       "    </tr>\n",
       "  </tbody>\n",
       "</table>\n",
       "</div>"
      ],
      "text/plain": [
       "             id message_date  user_id  message_id\n",
       "10315   1043_22   2018-11-25     1043          22\n",
       "58489  1257_281   2018-07-01     1257         281\n",
       "27420  1115_111   2018-10-08     1115         111"
      ]
     },
     "execution_count": 184,
     "metadata": {},
     "output_type": "execute_result"
    }
   ],
   "source": [
    "d_messages.sample(3)"
   ]
  },
  {
   "cell_type": "code",
   "execution_count": 185,
   "metadata": {},
   "outputs": [],
   "source": [
    "# Добавим столбец месяца в таблицу сообщений\n",
    "d_messages['period'] = pd.DatetimeIndex(d_messages['message_date']).strftime('%Y-%m')"
   ]
  },
  {
   "cell_type": "code",
   "execution_count": 186,
   "metadata": {},
   "outputs": [
    {
     "data": {
      "text/html": [
       "<div>\n",
       "<style scoped>\n",
       "    .dataframe tbody tr th:only-of-type {\n",
       "        vertical-align: middle;\n",
       "    }\n",
       "\n",
       "    .dataframe tbody tr th {\n",
       "        vertical-align: top;\n",
       "    }\n",
       "\n",
       "    .dataframe thead th {\n",
       "        text-align: right;\n",
       "    }\n",
       "</style>\n",
       "<table border=\"1\" class=\"dataframe\">\n",
       "  <thead>\n",
       "    <tr style=\"text-align: right;\">\n",
       "      <th></th>\n",
       "      <th>id</th>\n",
       "      <th>message_date</th>\n",
       "      <th>user_id</th>\n",
       "      <th>message_id</th>\n",
       "      <th>period</th>\n",
       "    </tr>\n",
       "  </thead>\n",
       "  <tbody>\n",
       "    <tr>\n",
       "      <th>68842</th>\n",
       "      <td>1294_167</td>\n",
       "      <td>2018-07-21</td>\n",
       "      <td>1294</td>\n",
       "      <td>167</td>\n",
       "      <td>2018-07</td>\n",
       "    </tr>\n",
       "    <tr>\n",
       "      <th>16423</th>\n",
       "      <td>1071_54</td>\n",
       "      <td>2018-07-26</td>\n",
       "      <td>1071</td>\n",
       "      <td>54</td>\n",
       "      <td>2018-07</td>\n",
       "    </tr>\n",
       "    <tr>\n",
       "      <th>82047</th>\n",
       "      <td>1344_111</td>\n",
       "      <td>2018-06-28</td>\n",
       "      <td>1344</td>\n",
       "      <td>111</td>\n",
       "      <td>2018-06</td>\n",
       "    </tr>\n",
       "  </tbody>\n",
       "</table>\n",
       "</div>"
      ],
      "text/plain": [
       "             id message_date  user_id  message_id   period\n",
       "68842  1294_167   2018-07-21     1294         167  2018-07\n",
       "16423   1071_54   2018-07-26     1071          54  2018-07\n",
       "82047  1344_111   2018-06-28     1344         111  2018-06"
      ]
     },
     "execution_count": 186,
     "metadata": {},
     "output_type": "execute_result"
    }
   ],
   "source": [
    "d_messages.sample(3)"
   ]
  },
  {
   "cell_type": "code",
   "execution_count": 187,
   "metadata": {},
   "outputs": [],
   "source": [
    "# Получаем данные по звонкам и собираем их в обобщенную табличку\n",
    "messages_stats = (\n",
    "    d_messages\n",
    "      .pivot_table(\n",
    "          index =['user_id','period'],\n",
    "          values=['message_id'],\n",
    "          aggfunc={ 'message_id':'count' }\n",
    "      ).rename(\n",
    "          columns={'message_id' :'messages_count'}\n",
    "      )\n",
    ").reset_index() # Сбрасываем индексы для того чтобы перенести их в столбцы"
   ]
  },
  {
   "cell_type": "code",
   "execution_count": 188,
   "metadata": {},
   "outputs": [
    {
     "data": {
      "text/html": [
       "<div>\n",
       "<style scoped>\n",
       "    .dataframe tbody tr th:only-of-type {\n",
       "        vertical-align: middle;\n",
       "    }\n",
       "\n",
       "    .dataframe tbody tr th {\n",
       "        vertical-align: top;\n",
       "    }\n",
       "\n",
       "    .dataframe thead th {\n",
       "        text-align: right;\n",
       "    }\n",
       "</style>\n",
       "<table border=\"1\" class=\"dataframe\">\n",
       "  <thead>\n",
       "    <tr style=\"text-align: right;\">\n",
       "      <th></th>\n",
       "      <th>user_id</th>\n",
       "      <th>period</th>\n",
       "      <th>messages_count</th>\n",
       "    </tr>\n",
       "  </thead>\n",
       "  <tbody>\n",
       "    <tr>\n",
       "      <th>1822</th>\n",
       "      <td>1346</td>\n",
       "      <td>2018-10</td>\n",
       "      <td>49</td>\n",
       "    </tr>\n",
       "    <tr>\n",
       "      <th>1923</th>\n",
       "      <td>1369</td>\n",
       "      <td>2018-11</td>\n",
       "      <td>118</td>\n",
       "    </tr>\n",
       "    <tr>\n",
       "      <th>1168</th>\n",
       "      <td>1223</td>\n",
       "      <td>2018-12</td>\n",
       "      <td>33</td>\n",
       "    </tr>\n",
       "    <tr>\n",
       "      <th>406</th>\n",
       "      <td>1073</td>\n",
       "      <td>2018-12</td>\n",
       "      <td>27</td>\n",
       "    </tr>\n",
       "    <tr>\n",
       "      <th>2019</th>\n",
       "      <td>1382</td>\n",
       "      <td>2018-04</td>\n",
       "      <td>80</td>\n",
       "    </tr>\n",
       "  </tbody>\n",
       "</table>\n",
       "</div>"
      ],
      "text/plain": [
       "      user_id   period  messages_count\n",
       "1822     1346  2018-10              49\n",
       "1923     1369  2018-11             118\n",
       "1168     1223  2018-12              33\n",
       "406      1073  2018-12              27\n",
       "2019     1382  2018-04              80"
      ]
     },
     "execution_count": 188,
     "metadata": {},
     "output_type": "execute_result"
    }
   ],
   "source": [
    "messages_stats.sample(5)"
   ]
  },
  {
   "cell_type": "markdown",
   "metadata": {},
   "source": [
    "<b>Объем израсходованного интернет-трафика по месяцам</b>"
   ]
  },
  {
   "cell_type": "code",
   "execution_count": 189,
   "metadata": {},
   "outputs": [],
   "source": [
    "# Добавим столбец месяца в таблицу интернет-сессий\n",
    "d_internet['period'] = pd.DatetimeIndex(d_internet['session_date']).strftime('%Y-%m')"
   ]
  },
  {
   "cell_type": "code",
   "execution_count": 190,
   "metadata": {},
   "outputs": [],
   "source": [
    "# Создаем таблицу статистики по интернет сессиям (использованию трафика в месяц)\n",
    "internet_stats = (\n",
    "    d_internet.pivot_table(index=['user_id','period'],values='mb_used',aggfunc='sum')\n",
    ").reset_index()"
   ]
  },
  {
   "cell_type": "code",
   "execution_count": 191,
   "metadata": {},
   "outputs": [],
   "source": [
    "# Считаем число гигибайт и округляем в большую сторону до целых\n",
    "# Также обновим поле с мегабайтами, округлив их в большую сторону до гигибайт\n",
    "internet_stats['gb_used'] = np.ceil(internet_stats['mb_used']/1024).astype('int')\n",
    "internet_stats['mb_used'] = np.ceil(internet_stats['mb_used']/1024).astype('int')*1024"
   ]
  },
  {
   "cell_type": "code",
   "execution_count": 192,
   "metadata": {},
   "outputs": [
    {
     "data": {
      "text/html": [
       "<div>\n",
       "<style scoped>\n",
       "    .dataframe tbody tr th:only-of-type {\n",
       "        vertical-align: middle;\n",
       "    }\n",
       "\n",
       "    .dataframe tbody tr th {\n",
       "        vertical-align: top;\n",
       "    }\n",
       "\n",
       "    .dataframe thead th {\n",
       "        text-align: right;\n",
       "    }\n",
       "</style>\n",
       "<table border=\"1\" class=\"dataframe\">\n",
       "  <thead>\n",
       "    <tr style=\"text-align: right;\">\n",
       "      <th></th>\n",
       "      <th>user_id</th>\n",
       "      <th>period</th>\n",
       "      <th>mb_used</th>\n",
       "      <th>gb_used</th>\n",
       "    </tr>\n",
       "  </thead>\n",
       "  <tbody>\n",
       "    <tr>\n",
       "      <th>1165</th>\n",
       "      <td>1180</td>\n",
       "      <td>2018-11</td>\n",
       "      <td>26624</td>\n",
       "      <td>26</td>\n",
       "    </tr>\n",
       "    <tr>\n",
       "      <th>249</th>\n",
       "      <td>1039</td>\n",
       "      <td>2018-12</td>\n",
       "      <td>20480</td>\n",
       "      <td>20</td>\n",
       "    </tr>\n",
       "  </tbody>\n",
       "</table>\n",
       "</div>"
      ],
      "text/plain": [
       "      user_id   period  mb_used  gb_used\n",
       "1165     1180  2018-11    26624       26\n",
       "249      1039  2018-12    20480       20"
      ]
     },
     "execution_count": 192,
     "metadata": {},
     "output_type": "execute_result"
    }
   ],
   "source": [
    "internet_stats.sample(2)"
   ]
  },
  {
   "cell_type": "markdown",
   "metadata": {},
   "source": [
    "<b>Подсчет помесячной выручки</b>"
   ]
  },
  {
   "cell_type": "markdown",
   "metadata": {},
   "source": [
    "Создадим новую табличку с комбинированными данными по месяцам для каждого пользователя"
   ]
  },
  {
   "cell_type": "code",
   "execution_count": 193,
   "metadata": {},
   "outputs": [],
   "source": [
    "total_stats = (\n",
    "    call_stats.merge(messages_stats, on=['user_id','period'], how='outer')\n",
    "              .merge(internet_stats, on=['user_id','period'], how='outer')\n",
    "              .merge(d_users, on='user_id', how='outer')\n",
    "              .merge(d_tariffs, left_on='tariff',right_on='tariff_name', how='left')    \n",
    ")"
   ]
  },
  {
   "cell_type": "code",
   "execution_count": 194,
   "metadata": {},
   "outputs": [
    {
     "name": "stdout",
     "output_type": "stream",
     "text": [
      "<class 'pandas.core.frame.DataFrame'>\n",
      "Int64Index: 3216 entries, 0 to 3215\n",
      "Data columns (total 22 columns):\n",
      " #   Column                 Non-Null Count  Dtype         \n",
      "---  ------                 --------------  -----         \n",
      " 0   user_id                3216 non-null   int64         \n",
      " 1   period                 3214 non-null   object        \n",
      " 2   calls_count            3174 non-null   float64       \n",
      " 3   total_duration         3174 non-null   float64       \n",
      " 4   messages_count         2717 non-null   float64       \n",
      " 5   mb_used                3203 non-null   float64       \n",
      " 6   gb_used                3203 non-null   float64       \n",
      " 7   age                    3216 non-null   int64         \n",
      " 8   churn_date             189 non-null    object        \n",
      " 9   city                   3216 non-null   object        \n",
      " 10  first_name             3216 non-null   object        \n",
      " 11  last_name              3216 non-null   object        \n",
      " 12  reg_date               3216 non-null   datetime64[ns]\n",
      " 13  tariff                 3216 non-null   object        \n",
      " 14  messages_included      3216 non-null   int64         \n",
      " 15  mb_per_month_included  3216 non-null   int64         \n",
      " 16  minutes_included       3216 non-null   int64         \n",
      " 17  rub_monthly_fee        3216 non-null   int64         \n",
      " 18  rub_per_gb             3216 non-null   int64         \n",
      " 19  rub_per_message        3216 non-null   int64         \n",
      " 20  rub_per_minute         3216 non-null   int64         \n",
      " 21  tariff_name            3216 non-null   object        \n",
      "dtypes: datetime64[ns](1), float64(5), int64(9), object(7)\n",
      "memory usage: 577.9+ KB\n"
     ]
    }
   ],
   "source": [
    "total_stats.info()"
   ]
  },
  {
   "cell_type": "code",
   "execution_count": 195,
   "metadata": {},
   "outputs": [],
   "source": [
    "total_stats.loc[ total_stats['calls_count'].isna(),'calls_count' ] = 0\n",
    "total_stats.loc[ total_stats['total_duration'].isna(),'total_duration' ] = 0\n",
    "total_stats.loc[ total_stats['messages_count'].isna(),'messages_count' ] = 0\n",
    "total_stats.loc[ total_stats['mb_used'].isna(),'mb_used' ] = 0\n",
    "total_stats.loc[ total_stats['gb_used'].isna(),'gb_used' ] = 0"
   ]
  },
  {
   "cell_type": "markdown",
   "metadata": {},
   "source": [
    "Похоже что у двух записей не прописался период так как договоры были закрыты до конца месяца"
   ]
  },
  {
   "cell_type": "code",
   "execution_count": 196,
   "metadata": {},
   "outputs": [
    {
     "data": {
      "text/html": [
       "<div>\n",
       "<style scoped>\n",
       "    .dataframe tbody tr th:only-of-type {\n",
       "        vertical-align: middle;\n",
       "    }\n",
       "\n",
       "    .dataframe tbody tr th {\n",
       "        vertical-align: top;\n",
       "    }\n",
       "\n",
       "    .dataframe thead th {\n",
       "        text-align: right;\n",
       "    }\n",
       "</style>\n",
       "<table border=\"1\" class=\"dataframe\">\n",
       "  <thead>\n",
       "    <tr style=\"text-align: right;\">\n",
       "      <th></th>\n",
       "      <th>user_id</th>\n",
       "      <th>period</th>\n",
       "      <th>calls_count</th>\n",
       "      <th>total_duration</th>\n",
       "      <th>messages_count</th>\n",
       "      <th>mb_used</th>\n",
       "      <th>gb_used</th>\n",
       "      <th>age</th>\n",
       "      <th>churn_date</th>\n",
       "      <th>city</th>\n",
       "      <th>...</th>\n",
       "      <th>reg_date</th>\n",
       "      <th>tariff</th>\n",
       "      <th>messages_included</th>\n",
       "      <th>mb_per_month_included</th>\n",
       "      <th>minutes_included</th>\n",
       "      <th>rub_monthly_fee</th>\n",
       "      <th>rub_per_gb</th>\n",
       "      <th>rub_per_message</th>\n",
       "      <th>rub_per_minute</th>\n",
       "      <th>tariff_name</th>\n",
       "    </tr>\n",
       "  </thead>\n",
       "  <tbody>\n",
       "    <tr>\n",
       "      <th>3214</th>\n",
       "      <td>1128</td>\n",
       "      <td>NaN</td>\n",
       "      <td>0.0</td>\n",
       "      <td>0.0</td>\n",
       "      <td>0.0</td>\n",
       "      <td>0.0</td>\n",
       "      <td>0.0</td>\n",
       "      <td>51</td>\n",
       "      <td>2018-12-23</td>\n",
       "      <td>Волжский</td>\n",
       "      <td>...</td>\n",
       "      <td>2018-12-15</td>\n",
       "      <td>ultra</td>\n",
       "      <td>1000</td>\n",
       "      <td>30720</td>\n",
       "      <td>3000</td>\n",
       "      <td>1950</td>\n",
       "      <td>150</td>\n",
       "      <td>1</td>\n",
       "      <td>1</td>\n",
       "      <td>ultra</td>\n",
       "    </tr>\n",
       "    <tr>\n",
       "      <th>3215</th>\n",
       "      <td>1371</td>\n",
       "      <td>NaN</td>\n",
       "      <td>0.0</td>\n",
       "      <td>0.0</td>\n",
       "      <td>0.0</td>\n",
       "      <td>0.0</td>\n",
       "      <td>0.0</td>\n",
       "      <td>50</td>\n",
       "      <td>2018-12-30</td>\n",
       "      <td>Омск</td>\n",
       "      <td>...</td>\n",
       "      <td>2018-12-25</td>\n",
       "      <td>smart</td>\n",
       "      <td>50</td>\n",
       "      <td>15360</td>\n",
       "      <td>500</td>\n",
       "      <td>550</td>\n",
       "      <td>200</td>\n",
       "      <td>3</td>\n",
       "      <td>3</td>\n",
       "      <td>smart</td>\n",
       "    </tr>\n",
       "  </tbody>\n",
       "</table>\n",
       "<p>2 rows × 22 columns</p>\n",
       "</div>"
      ],
      "text/plain": [
       "      user_id period  calls_count  total_duration  messages_count  mb_used  \\\n",
       "3214     1128    NaN          0.0             0.0             0.0      0.0   \n",
       "3215     1371    NaN          0.0             0.0             0.0      0.0   \n",
       "\n",
       "      gb_used  age  churn_date      city  ...   reg_date tariff  \\\n",
       "3214      0.0   51  2018-12-23  Волжский  ... 2018-12-15  ultra   \n",
       "3215      0.0   50  2018-12-30      Омск  ... 2018-12-25  smart   \n",
       "\n",
       "     messages_included mb_per_month_included  minutes_included  \\\n",
       "3214              1000                 30720              3000   \n",
       "3215                50                 15360               500   \n",
       "\n",
       "      rub_monthly_fee  rub_per_gb  rub_per_message  rub_per_minute  \\\n",
       "3214             1950         150                1               1   \n",
       "3215              550         200                3               3   \n",
       "\n",
       "      tariff_name  \n",
       "3214        ultra  \n",
       "3215        smart  \n",
       "\n",
       "[2 rows x 22 columns]"
      ]
     },
     "execution_count": 196,
     "metadata": {},
     "output_type": "execute_result"
    }
   ],
   "source": [
    "total_stats.loc[ total_stats['period'].isna() ]"
   ]
  },
  {
   "cell_type": "markdown",
   "metadata": {},
   "source": [
    "Судя по всему эти две записи возникли при объединении таблиц, так как в них нет данных об использовании звонков, смс и интернет-трафика. Получается что их смысл только в абонентской плате. Так как их всего лишь две поправим их вручную. Если бы было много - нужно было бы создавать более красивое решение."
   ]
  },
  {
   "cell_type": "code",
   "execution_count": 197,
   "metadata": {},
   "outputs": [],
   "source": [
    "total_stats.loc[ total_stats['period'].isna(),'period' ] = pd.DatetimeIndex(total_stats.loc[ total_stats['period'].isna(),'churn_date']).strftime('%Y-%m')"
   ]
  },
  {
   "cell_type": "markdown",
   "metadata": {},
   "source": [
    "Столбец с датой закрытия для действующих договоров заполним значением 2099-12-31 (как максимальная дата), хотя по большому счету он для нас уже не важен"
   ]
  },
  {
   "cell_type": "code",
   "execution_count": 198,
   "metadata": {},
   "outputs": [],
   "source": [
    "total_stats.loc[ total_stats['churn_date'].isna(),'churn_date' ] = '2099-12-31'"
   ]
  },
  {
   "cell_type": "markdown",
   "metadata": {},
   "source": [
    "null-значения заполнены. Продолжаем"
   ]
  },
  {
   "cell_type": "markdown",
   "metadata": {},
   "source": [
    "Посчитаем переплаты клиентов за превышения лимитов:"
   ]
  },
  {
   "cell_type": "code",
   "execution_count": 199,
   "metadata": {},
   "outputs": [],
   "source": [
    "total_stats['time_overpayed'    ] = 0\n",
    "total_stats['messages_overpayed'] = 0\n",
    "total_stats['internet_overpayed'] = 0"
   ]
  },
  {
   "cell_type": "code",
   "execution_count": 200,
   "metadata": {},
   "outputs": [],
   "source": [
    "# Превышение лимитов по длительности звонков\n",
    "total_stats.loc[  total_stats['total_duration'] > total_stats['minutes_included'],  'time_overpayed'  ] = \\\n",
    "    ((total_stats['total_duration'] - total_stats['minutes_included']) *  total_stats['rub_per_minute'])"
   ]
  },
  {
   "cell_type": "code",
   "execution_count": 201,
   "metadata": {},
   "outputs": [],
   "source": [
    "# Превышение лимитов по числу смс\n",
    "total_stats.loc[  total_stats['messages_count'] > total_stats['messages_included'],  'messages_overpayed'  ] = \\\n",
    "    ((total_stats['messages_count'] - total_stats['messages_included']) *  total_stats['rub_per_message'])"
   ]
  },
  {
   "cell_type": "code",
   "execution_count": 202,
   "metadata": {},
   "outputs": [],
   "source": [
    "# Превышение лимитов по интернет-трафику\n",
    "total_stats.loc[  total_stats['mb_used'] > total_stats['mb_per_month_included'],  'internet_overpayed'  ] = \\\n",
    "    (((total_stats['mb_used'] - total_stats['mb_per_month_included'])/1024) *  total_stats['rub_per_gb'])"
   ]
  },
  {
   "cell_type": "code",
   "execution_count": 203,
   "metadata": {},
   "outputs": [],
   "source": [
    "# Общее превышение тарифа\n",
    "# и общая потраченная клиентом сумма\n",
    "total_stats.loc[:,'overpay'] =  (total_stats.loc[:,'time_overpayed']) + (total_stats.loc[:,'messages_overpayed']) + (total_stats.loc[:,'internet_overpayed'])\n",
    "total_stats['period_income'] = total_stats['rub_monthly_fee'] + total_stats['overpay']"
   ]
  },
  {
   "cell_type": "code",
   "execution_count": 204,
   "metadata": {},
   "outputs": [
    {
     "data": {
      "text/html": [
       "<div>\n",
       "<style scoped>\n",
       "    .dataframe tbody tr th:only-of-type {\n",
       "        vertical-align: middle;\n",
       "    }\n",
       "\n",
       "    .dataframe tbody tr th {\n",
       "        vertical-align: top;\n",
       "    }\n",
       "\n",
       "    .dataframe thead th {\n",
       "        text-align: right;\n",
       "    }\n",
       "</style>\n",
       "<table border=\"1\" class=\"dataframe\">\n",
       "  <thead>\n",
       "    <tr style=\"text-align: right;\">\n",
       "      <th></th>\n",
       "      <th>user_id</th>\n",
       "      <th>period</th>\n",
       "      <th>calls_count</th>\n",
       "      <th>total_duration</th>\n",
       "      <th>messages_count</th>\n",
       "      <th>mb_used</th>\n",
       "      <th>gb_used</th>\n",
       "      <th>age</th>\n",
       "      <th>churn_date</th>\n",
       "      <th>city</th>\n",
       "      <th>...</th>\n",
       "      <th>rub_monthly_fee</th>\n",
       "      <th>rub_per_gb</th>\n",
       "      <th>rub_per_message</th>\n",
       "      <th>rub_per_minute</th>\n",
       "      <th>tariff_name</th>\n",
       "      <th>time_overpayed</th>\n",
       "      <th>messages_overpayed</th>\n",
       "      <th>internet_overpayed</th>\n",
       "      <th>overpay</th>\n",
       "      <th>period_income</th>\n",
       "    </tr>\n",
       "  </thead>\n",
       "  <tbody>\n",
       "    <tr>\n",
       "      <th>2952</th>\n",
       "      <td>1465</td>\n",
       "      <td>2018-04</td>\n",
       "      <td>40.0</td>\n",
       "      <td>247.0</td>\n",
       "      <td>32.0</td>\n",
       "      <td>9216.0</td>\n",
       "      <td>9.0</td>\n",
       "      <td>41</td>\n",
       "      <td>2099-12-31</td>\n",
       "      <td>Омск</td>\n",
       "      <td>...</td>\n",
       "      <td>550</td>\n",
       "      <td>200</td>\n",
       "      <td>3</td>\n",
       "      <td>3</td>\n",
       "      <td>smart</td>\n",
       "      <td>0.0</td>\n",
       "      <td>0.0</td>\n",
       "      <td>0.0</td>\n",
       "      <td>0.0</td>\n",
       "      <td>550.0</td>\n",
       "    </tr>\n",
       "    <tr>\n",
       "      <th>2605</th>\n",
       "      <td>1410</td>\n",
       "      <td>2018-11</td>\n",
       "      <td>69.0</td>\n",
       "      <td>555.0</td>\n",
       "      <td>21.0</td>\n",
       "      <td>26624.0</td>\n",
       "      <td>26.0</td>\n",
       "      <td>25</td>\n",
       "      <td>2099-12-31</td>\n",
       "      <td>Нижний Тагил</td>\n",
       "      <td>...</td>\n",
       "      <td>550</td>\n",
       "      <td>200</td>\n",
       "      <td>3</td>\n",
       "      <td>3</td>\n",
       "      <td>smart</td>\n",
       "      <td>165.0</td>\n",
       "      <td>0.0</td>\n",
       "      <td>2200.0</td>\n",
       "      <td>2365.0</td>\n",
       "      <td>2915.0</td>\n",
       "    </tr>\n",
       "    <tr>\n",
       "      <th>2303</th>\n",
       "      <td>1370</td>\n",
       "      <td>2018-08</td>\n",
       "      <td>17.0</td>\n",
       "      <td>123.0</td>\n",
       "      <td>0.0</td>\n",
       "      <td>19456.0</td>\n",
       "      <td>19.0</td>\n",
       "      <td>48</td>\n",
       "      <td>2018-10-27</td>\n",
       "      <td>Новороссийск</td>\n",
       "      <td>...</td>\n",
       "      <td>550</td>\n",
       "      <td>200</td>\n",
       "      <td>3</td>\n",
       "      <td>3</td>\n",
       "      <td>smart</td>\n",
       "      <td>0.0</td>\n",
       "      <td>0.0</td>\n",
       "      <td>800.0</td>\n",
       "      <td>800.0</td>\n",
       "      <td>1350.0</td>\n",
       "    </tr>\n",
       "    <tr>\n",
       "      <th>2163</th>\n",
       "      <td>1345</td>\n",
       "      <td>2018-08</td>\n",
       "      <td>31.0</td>\n",
       "      <td>281.0</td>\n",
       "      <td>3.0</td>\n",
       "      <td>24576.0</td>\n",
       "      <td>24.0</td>\n",
       "      <td>31</td>\n",
       "      <td>2099-12-31</td>\n",
       "      <td>Москва</td>\n",
       "      <td>...</td>\n",
       "      <td>550</td>\n",
       "      <td>200</td>\n",
       "      <td>3</td>\n",
       "      <td>3</td>\n",
       "      <td>smart</td>\n",
       "      <td>0.0</td>\n",
       "      <td>0.0</td>\n",
       "      <td>1800.0</td>\n",
       "      <td>1800.0</td>\n",
       "      <td>2350.0</td>\n",
       "    </tr>\n",
       "    <tr>\n",
       "      <th>1793</th>\n",
       "      <td>1286</td>\n",
       "      <td>2018-12</td>\n",
       "      <td>95.0</td>\n",
       "      <td>739.0</td>\n",
       "      <td>68.0</td>\n",
       "      <td>35840.0</td>\n",
       "      <td>35.0</td>\n",
       "      <td>19</td>\n",
       "      <td>2099-12-31</td>\n",
       "      <td>Москва</td>\n",
       "      <td>...</td>\n",
       "      <td>550</td>\n",
       "      <td>200</td>\n",
       "      <td>3</td>\n",
       "      <td>3</td>\n",
       "      <td>smart</td>\n",
       "      <td>717.0</td>\n",
       "      <td>54.0</td>\n",
       "      <td>4000.0</td>\n",
       "      <td>4771.0</td>\n",
       "      <td>5321.0</td>\n",
       "    </tr>\n",
       "  </tbody>\n",
       "</table>\n",
       "<p>5 rows × 27 columns</p>\n",
       "</div>"
      ],
      "text/plain": [
       "      user_id   period  calls_count  total_duration  messages_count  mb_used  \\\n",
       "2952     1465  2018-04         40.0           247.0            32.0   9216.0   \n",
       "2605     1410  2018-11         69.0           555.0            21.0  26624.0   \n",
       "2303     1370  2018-08         17.0           123.0             0.0  19456.0   \n",
       "2163     1345  2018-08         31.0           281.0             3.0  24576.0   \n",
       "1793     1286  2018-12         95.0           739.0            68.0  35840.0   \n",
       "\n",
       "      gb_used  age  churn_date          city  ... rub_monthly_fee rub_per_gb  \\\n",
       "2952      9.0   41  2099-12-31          Омск  ...             550        200   \n",
       "2605     26.0   25  2099-12-31  Нижний Тагил  ...             550        200   \n",
       "2303     19.0   48  2018-10-27  Новороссийск  ...             550        200   \n",
       "2163     24.0   31  2099-12-31        Москва  ...             550        200   \n",
       "1793     35.0   19  2099-12-31        Москва  ...             550        200   \n",
       "\n",
       "     rub_per_message rub_per_minute  tariff_name  time_overpayed  \\\n",
       "2952               3              3        smart             0.0   \n",
       "2605               3              3        smart           165.0   \n",
       "2303               3              3        smart             0.0   \n",
       "2163               3              3        smart             0.0   \n",
       "1793               3              3        smart           717.0   \n",
       "\n",
       "      messages_overpayed  internet_overpayed  overpay  period_income  \n",
       "2952                 0.0                 0.0      0.0          550.0  \n",
       "2605                 0.0              2200.0   2365.0         2915.0  \n",
       "2303                 0.0               800.0    800.0         1350.0  \n",
       "2163                 0.0              1800.0   1800.0         2350.0  \n",
       "1793                54.0              4000.0   4771.0         5321.0  \n",
       "\n",
       "[5 rows x 27 columns]"
      ]
     },
     "execution_count": 204,
     "metadata": {},
     "output_type": "execute_result"
    }
   ],
   "source": [
    "total_stats.sample(5)"
   ]
  },
  {
   "cell_type": "code",
   "execution_count": 205,
   "metadata": {},
   "outputs": [
    {
     "data": {
      "text/plain": [
       "4916951.0"
      ]
     },
     "execution_count": 205,
     "metadata": {},
     "output_type": "execute_result"
    }
   ],
   "source": [
    "# check\n",
    "total_stats['period_income'].sum()"
   ]
  },
  {
   "cell_type": "markdown",
   "metadata": {},
   "source": [
    "### Шаг 3. Анализ данных"
   ]
  },
  {
   "cell_type": "markdown",
   "metadata": {},
   "source": [
    "Будем проводить анализ на основе выборок размером в 30 записей.\n",
    "\n"
   ]
  },
  {
   "cell_type": "code",
   "execution_count": 206,
   "metadata": {},
   "outputs": [],
   "source": [
    "df_ultra_sample = total_stats.loc[ total_stats['tariff'] == 'ultra']\n",
    "df_smart_sample = total_stats.loc[ total_stats['tariff'] == 'smart']"
   ]
  },
  {
   "cell_type": "markdown",
   "metadata": {},
   "source": [
    "Считаем среднее, дисперсию, стандартное отклонение"
   ]
  },
  {
   "cell_type": "code",
   "execution_count": 207,
   "metadata": {},
   "outputs": [],
   "source": [
    "# Тариф Ultra\n",
    "ultra_time_mean             = df_ultra_sample['total_duration'].mean()\n",
    "ultra_time_var              = np.var(df_ultra_sample['total_duration'],ddof=1)\n",
    "ultra_time_std              = np.std(df_ultra_sample['total_duration'],ddof=1)\n",
    "ultra_messages_mean         = df_ultra_sample['messages_count'].mean()\n",
    "ultra_messages_var          = np.var(df_ultra_sample['messages_count'],ddof=1)\n",
    "ultra_messages_std          = np.std(df_ultra_sample['messages_count'],ddof=1)\n",
    "ultra_internet_traffic_mean = df_ultra_sample['mb_used'].mean()\n",
    "ultra_internet_traffic_var  = np.var(df_ultra_sample['mb_used'],ddof=1)\n",
    "ultra_internet_traffic_std  = np.std(df_ultra_sample['mb_used'],ddof=1)\n",
    "\n",
    "# Тариф Smart \n",
    "smart_time_mean             = df_ultra_sample['total_duration'].mean()\n",
    "smart_time_var              = np.var(df_smart_sample['total_duration'],ddof=1)\n",
    "smart_time_std              = np.std(df_smart_sample['total_duration'],ddof=1)\n",
    "smart_messages_mean         = df_ultra_sample['messages_count'].mean()\n",
    "smart_messages_var          = np.var(df_smart_sample['messages_count'],ddof=1)\n",
    "smart_messages_std          = np.std(df_smart_sample['messages_count'],ddof=1)\n",
    "smart_internet_traffic_mean = df_ultra_sample['mb_used'].mean()\n",
    "smart_internet_traffic_var  = np.var(df_smart_sample['mb_used'],ddof=1)\n",
    "smart_internet_traffic_std  = np.std(df_smart_sample['mb_used'],ddof=1)"
   ]
  },
  {
   "cell_type": "markdown",
   "metadata": {},
   "source": [
    "Выведем полученные значения"
   ]
  },
  {
   "cell_type": "code",
   "execution_count": 208,
   "metadata": {},
   "outputs": [
    {
     "name": "stdout",
     "output_type": "stream",
     "text": [
      "Тариф Ultra\n",
      "Продолжительность звонка. Среднее:  526.09\n",
      "Продолжительность звонка. Дисперсия:  101052.49\n",
      "Продолжительность звонка. Среднее отклонение:  317.89\n",
      "Число сообщений. Среднее:  49.31\n",
      "Число сообщений. Дисперсия:  2285.42\n",
      "Число сообщений. Среднее отклонение:  47.81\n",
      "Использованный трафик. Среднее:  19942.04\n",
      "Использованный трафик. Дисперсия:  102108804.46\n",
      "Использованный трафик. Среднее отклонение:  10104.89\n",
      "Тариф Smart\n",
      "Продолжительность звонка. Среднее:  526.09\n",
      "Продолжительность звонка. Дисперсия:  36281.39\n",
      "Продолжительность звонка. Среднее отклонение:  190.48\n",
      "Число сообщений. Среднее:  49.31\n",
      "Число сообщений. Дисперсия:  796.96\n",
      "Число сообщений. Среднее отклонение:  28.23\n",
      "Использованный трафик. Среднее:  19942.04\n",
      "Использованный трафик. Дисперсия:  34742943.65\n",
      "Использованный трафик. Среднее отклонение:  5894.31\n"
     ]
    }
   ],
   "source": [
    "print( \"Тариф Ultra\")\n",
    "print(f\"Продолжительность звонка. Среднее: \", round(ultra_time_mean,2))\n",
    "print(f\"Продолжительность звонка. Дисперсия: \", round(ultra_time_var,2))\n",
    "print(f\"Продолжительность звонка. Среднее отклонение: \", round(ultra_time_std,2))\n",
    "print(f\"Число сообщений. Среднее: \", round(ultra_messages_mean,2))\n",
    "print(f\"Число сообщений. Дисперсия: \", round(ultra_messages_var,2))\n",
    "print(f\"Число сообщений. Среднее отклонение: \", round(ultra_messages_std,2))\n",
    "print(f\"Использованный трафик. Среднее: \", round(ultra_internet_traffic_mean,2))\n",
    "print(f\"Использованный трафик. Дисперсия: \", round(ultra_internet_traffic_var,2))\n",
    "print(f\"Использованный трафик. Среднее отклонение: \", round(ultra_internet_traffic_std,2))\n",
    "\n",
    "print( \"Тариф Smart\")\n",
    "print(f\"Продолжительность звонка. Среднее: \", round(smart_time_mean,2))\n",
    "print(f\"Продолжительность звонка. Дисперсия: \", round(smart_time_var,2))\n",
    "print(f\"Продолжительность звонка. Среднее отклонение: \", round(smart_time_std,2))\n",
    "print(f\"Число сообщений. Среднее: \", round(smart_messages_mean,2))\n",
    "print(f\"Число сообщений. Дисперсия: \", round(smart_messages_var,2))\n",
    "print(f\"Число сообщений. Среднее отклонение: \", round(smart_messages_std,2))\n",
    "print(f\"Использованный трафик. Среднее: \", round(smart_internet_traffic_mean,2))\n",
    "print(f\"Использованный трафик. Дисперсия: \", round(smart_internet_traffic_var,2))\n",
    "print(f\"Использованный трафик. Среднее отклонение: \", round(smart_internet_traffic_std,2))"
   ]
  },
  {
   "cell_type": "markdown",
   "metadata": {},
   "source": [
    "#### 3.1 Анализ показателей выборки тарифа Ultra"
   ]
  },
  {
   "cell_type": "markdown",
   "metadata": {},
   "source": [
    "Построим гистограммы плотности для длительности звонков, числа сообщений и интернет-трафика. Ширину графика будем брать примерно в 3-4 отклонения в обе стороны от среднего, так как более 99% значений укладываются в 3-х сигменный интервал и масштаб будет вполне подходящий."
   ]
  },
  {
   "cell_type": "markdown",
   "metadata": {
    "tags": []
   },
   "source": [
    "##### Длительность звонков"
   ]
  },
  {
   "cell_type": "code",
   "execution_count": 209,
   "metadata": {},
   "outputs": [
    {
     "data": {
      "image/png": "[encoded data removed]",
      "text/plain": [
       "<Figure size 576x432 with 1 Axes>"
      ]
     },
     "metadata": {
      "needs_background": "light"
     },
     "output_type": "display_data"
    }
   ],
   "source": [
    "fig, ax = plt.subplots()\n",
    "ax.hist(\n",
    "    total_stats.loc[ total_stats['tariff'] == 'ultra']['total_duration'],\n",
    "    range=(ultra_time_mean-4*ultra_time_std,ultra_time_mean+4*ultra_time_std),\n",
    "    density=True\n",
    ")\n",
    "ax.set_title(\n",
    "    \"Тариф Ультра\",\n",
    "    fontsize=12,\n",
    "    loc='left'\n",
    ")\n",
    "ax.set_xlabel(\"Гистограмма плотности для длительности звонков в месяц (мин.)\", fontsize=12)\n",
    "fig.set_figwidth(8)\n",
    "fig.set_figheight(6)\n",
    "plt.show()"
   ]
  },
  {
   "cell_type": "code",
   "execution_count": 210,
   "metadata": {},
   "outputs": [
    {
     "data": {
      "text/plain": [
       "count               986.0\n",
       "mean    526.0892494929006\n",
       "std     317.8875485911392\n",
       "min                   0.0\n",
       "25%                 282.5\n",
       "50%                 518.0\n",
       "75%                751.75\n",
       "max                1673.0\n",
       "Name: total_duration, dtype: float64"
      ]
     },
     "execution_count": 210,
     "metadata": {},
     "output_type": "execute_result"
    }
   ],
   "source": [
    "total_stats.loc[ total_stats['tariff'] == 'ultra']['total_duration'].describe()"
   ]
  },
  {
   "cell_type": "code",
   "execution_count": 211,
   "metadata": {},
   "outputs": [
    {
     "data": {
      "image/png": "[encoded data removed]",
      "text/plain": [
       "<Figure size 432x288 with 1 Axes>"
      ]
     },
     "metadata": {
      "needs_background": "light"
     },
     "output_type": "display_data"
    }
   ],
   "source": [
    "(\n",
    "    total_stats.loc[ total_stats['tariff'] == 'ultra']\n",
    "        .boxplot(column='total_duration')\n",
    "        .set(\n",
    "            title='Диаграмма размаха суммарной длительности разговоров. Тариф Ультра',\n",
    "            ylabel='Число минут/мес.'            \n",
    "        )\n",
    ");"
   ]
  },
  {
   "cell_type": "markdown",
   "metadata": {},
   "source": [
    "##### Число сообщений"
   ]
  },
  {
   "cell_type": "code",
   "execution_count": 212,
   "metadata": {},
   "outputs": [
    {
     "data": {
      "image/png": "[encoded data removed]",
      "text/plain": [
       "<Figure size 576x432 with 1 Axes>"
      ]
     },
     "metadata": {
      "needs_background": "light"
     },
     "output_type": "display_data"
    }
   ],
   "source": [
    "fig, ax = plt.subplots()\n",
    "ax.hist(\n",
    "    total_stats.loc[ total_stats['tariff'] == 'ultra']['messages_count'],\n",
    "    range=(ultra_messages_mean-4*ultra_messages_std,ultra_messages_mean+4*ultra_messages_std),\n",
    "    density=True\n",
    ")\n",
    "ax.set_title(\n",
    "    \"Тариф Ультра\",\n",
    "    fontsize=12,\n",
    "    loc='left'\n",
    ")\n",
    "ax.set_xlabel(\"Гистограмма плотности для количества сообещний в месяц (шт.)\", fontsize=12)\n",
    "fig.set_figwidth(8)\n",
    "fig.set_figheight(6)\n",
    "plt.show()"
   ]
  },
  {
   "cell_type": "code",
   "execution_count": 213,
   "metadata": {},
   "outputs": [
    {
     "data": {
      "text/plain": [
       "count               986.0\n",
       "mean    49.31338742393509\n",
       "std     47.80603962530092\n",
       "min                   0.0\n",
       "25%                   6.0\n",
       "50%                  38.0\n",
       "75%                 78.75\n",
       "max                 224.0\n",
       "Name: messages_count, dtype: float64"
      ]
     },
     "execution_count": 213,
     "metadata": {},
     "output_type": "execute_result"
    }
   ],
   "source": [
    "total_stats.loc[ total_stats['tariff'] == 'ultra']['messages_count'].describe()"
   ]
  },
  {
   "cell_type": "code",
   "execution_count": 214,
   "metadata": {},
   "outputs": [
    {
     "data": {
      "image/png": "[encoded data removed]",
      "text/plain": [
       "<Figure size 432x288 with 1 Axes>"
      ]
     },
     "metadata": {
      "needs_background": "light"
     },
     "output_type": "display_data"
    }
   ],
   "source": [
    "(\n",
    "    total_stats.loc[ total_stats['tariff'] == 'ultra']\n",
    "        .boxplot(column='messages_count')\n",
    "        .set(\n",
    "            title='Диаграмма размаха числа сообщений. Тариф Ультра',\n",
    "            ylabel='Число сообщений/мес.',\n",
    "        )\n",
    ");"
   ]
  },
  {
   "cell_type": "markdown",
   "metadata": {},
   "source": [
    "##### Интернет-трафик"
   ]
  },
  {
   "cell_type": "code",
   "execution_count": 215,
   "metadata": {},
   "outputs": [
    {
     "data": {
      "image/png": "[encoded data removed]",
      "text/plain": [
       "<Figure size 576x432 with 1 Axes>"
      ]
     },
     "metadata": {
      "needs_background": "light"
     },
     "output_type": "display_data"
    }
   ],
   "source": [
    "fig, ax = plt.subplots()\n",
    "ax.hist(\n",
    "    total_stats.loc[ total_stats['tariff'] == 'ultra']['mb_used'],\n",
    "    range=(ultra_internet_traffic_mean - 4*ultra_internet_traffic_std,\n",
    "           ultra_internet_traffic_mean + 4*ultra_internet_traffic_std),\n",
    "    density=True\n",
    ")\n",
    "ax.set_title(\n",
    "    \"Тариф Ультра\\n\",\n",
    "    fontsize=12,\n",
    "    loc='left'\n",
    ")\n",
    "ax.set_xlabel(\"Гистограмма плотности для использованного интернет-трафика в месяц (Мб)\", fontsize=12)\n",
    "fig.set_figwidth(8)\n",
    "fig.set_figheight(6)\n",
    "plt.show()"
   ]
  },
  {
   "cell_type": "code",
   "execution_count": 216,
   "metadata": {},
   "outputs": [
    {
     "data": {
      "text/plain": [
       "count                986.0\n",
       "mean    19942.036511156188\n",
       "std     10104.890125951337\n",
       "min                    0.0\n",
       "25%                12288.0\n",
       "50%                19456.0\n",
       "75%                27648.0\n",
       "max                50176.0\n",
       "Name: mb_used, dtype: float64"
      ]
     },
     "execution_count": 216,
     "metadata": {},
     "output_type": "execute_result"
    }
   ],
   "source": [
    "total_stats.loc[ total_stats['tariff'] == 'ultra']['mb_used'].describe()"
   ]
  },
  {
   "cell_type": "code",
   "execution_count": 217,
   "metadata": {},
   "outputs": [
    {
     "data": {
      "image/png": "[encoded data removed]",
      "text/plain": [
       "<Figure size 432x288 with 1 Axes>"
      ]
     },
     "metadata": {
      "needs_background": "light"
     },
     "output_type": "display_data"
    }
   ],
   "source": [
    "(\n",
    "    total_stats.loc[ total_stats['tariff'] == 'ultra']\n",
    "        .boxplot(column='mb_used')\n",
    "        .set(\n",
    "            title='Диаграмма размаха интернет-трафика. Тариф Ультра',\n",
    "            ylabel='Мб/мес.',\n",
    "        )\n",
    ");"
   ]
  },
  {
   "cell_type": "markdown",
   "metadata": {},
   "source": [
    "Распределения отдаленно напоминают своим видом нормальное (горкой ближе к центру). Учитывая малый размер выборки ожидать большого сходства с обычным графиком нормального распределения не приходится."
   ]
  },
  {
   "cell_type": "markdown",
   "metadata": {},
   "source": [
    "#### 3.2 Анализ показателей выборки тарифа Smart"
   ]
  },
  {
   "cell_type": "markdown",
   "metadata": {},
   "source": [
    "##### Длительность звонков"
   ]
  },
  {
   "cell_type": "code",
   "execution_count": 218,
   "metadata": {},
   "outputs": [
    {
     "data": {
      "image/png": "[encoded data removed]",
      "text/plain": [
       "<Figure size 576x432 with 1 Axes>"
      ]
     },
     "metadata": {
      "needs_background": "light"
     },
     "output_type": "display_data"
    }
   ],
   "source": [
    "fig, ax = plt.subplots()\n",
    "ax.hist(\n",
    "    total_stats.loc[ total_stats['tariff'] == 'smart']['total_duration'],\n",
    "    range=(smart_time_mean-4*smart_time_std,smart_time_mean+4*smart_time_std),\n",
    "    density=True\n",
    ")\n",
    "ax.set_title(\n",
    "    \"Тариф Смарт\",\n",
    "    fontsize=12,\n",
    "    loc='left'\n",
    ")\n",
    "ax.set_xlabel(\"Гистограмма плотности для длительности звонков в месяц (мин.)\", fontsize=12)\n",
    "fig.set_figwidth(8)\n",
    "fig.set_figheight(6)\n",
    "plt.show()"
   ]
  },
  {
   "cell_type": "code",
   "execution_count": 219,
   "metadata": {},
   "outputs": [
    {
     "data": {
      "text/plain": [
       "count              2230.0\n",
       "mean     417.747533632287\n",
       "std     190.4767540579285\n",
       "min                   0.0\n",
       "25%                 282.0\n",
       "50%                 421.5\n",
       "75%                 545.0\n",
       "max                1435.0\n",
       "Name: total_duration, dtype: float64"
      ]
     },
     "execution_count": 219,
     "metadata": {},
     "output_type": "execute_result"
    }
   ],
   "source": [
    "total_stats.loc[ total_stats['tariff'] == 'smart']['total_duration'].describe()"
   ]
  },
  {
   "cell_type": "code",
   "execution_count": 220,
   "metadata": {},
   "outputs": [
    {
     "data": {
      "image/png": "[encoded data removed]",
      "text/plain": [
       "<Figure size 432x288 with 1 Axes>"
      ]
     },
     "metadata": {
      "needs_background": "light"
     },
     "output_type": "display_data"
    }
   ],
   "source": [
    "(\n",
    "    total_stats.loc[ total_stats['tariff'] == 'smart']\n",
    "        .boxplot(column='total_duration')\n",
    "        .set(\n",
    "            title='Диаграмма размаха суммарной длительности разговоров. Тариф Смарт',\n",
    "            ylabel='Число минут/мес.'            \n",
    "        )\n",
    ");"
   ]
  },
  {
   "cell_type": "markdown",
   "metadata": {},
   "source": [
    "##### Число сообщений"
   ]
  },
  {
   "cell_type": "code",
   "execution_count": 221,
   "metadata": {},
   "outputs": [
    {
     "data": {
      "image/png": "[encoded data removed]",
      "text/plain": [
       "<Figure size 576x432 with 1 Axes>"
      ]
     },
     "metadata": {
      "needs_background": "light"
     },
     "output_type": "display_data"
    }
   ],
   "source": [
    "fig, ax = plt.subplots()\n",
    "ax.hist(\n",
    "    total_stats.loc[ total_stats['tariff'] == 'smart']['messages_count'],\n",
    "    range=(smart_messages_mean - 3*smart_messages_std, smart_messages_mean + 3*smart_messages_std),\n",
    "    density=True\n",
    ")\n",
    "ax.set_title(\n",
    "    \"Тариф Смарт\",\n",
    "    fontsize=12,\n",
    "    loc='left'\n",
    ")\n",
    "ax.set_xlabel(\"Гистограмма плотности для количества сообещний в месяц (шт.)\", fontsize=12)\n",
    "fig.set_figwidth(8)\n",
    "fig.set_figheight(6)\n",
    "plt.show()"
   ]
  },
  {
   "cell_type": "code",
   "execution_count": 222,
   "metadata": {},
   "outputs": [
    {
     "data": {
      "text/plain": [
       "count               2230.0\n",
       "mean     33.36905829596412\n",
       "std     28.230395954185852\n",
       "min                    0.0\n",
       "25%                   10.0\n",
       "50%                   28.0\n",
       "75%                   51.0\n",
       "max                  143.0\n",
       "Name: messages_count, dtype: float64"
      ]
     },
     "execution_count": 222,
     "metadata": {},
     "output_type": "execute_result"
    }
   ],
   "source": [
    "total_stats.loc[ total_stats['tariff'] == 'smart']['messages_count'].describe()"
   ]
  },
  {
   "cell_type": "code",
   "execution_count": 223,
   "metadata": {},
   "outputs": [
    {
     "data": {
      "image/png": "[encoded data removed]",
      "text/plain": [
       "<Figure size 432x288 with 1 Axes>"
      ]
     },
     "metadata": {
      "needs_background": "light"
     },
     "output_type": "display_data"
    }
   ],
   "source": [
    "(\n",
    "    total_stats.loc[ total_stats['tariff'] == 'smart']\n",
    "        .boxplot(column='messages_count')\n",
    "        .set(\n",
    "            title='Диаграмма размаха числа сообщений. Тариф Смарт',\n",
    "            ylabel='Число сообщений/мес.'\n",
    "        )\n",
    ");"
   ]
  },
  {
   "cell_type": "markdown",
   "metadata": {},
   "source": [
    "##### Интернет-трафик"
   ]
  },
  {
   "cell_type": "code",
   "execution_count": 224,
   "metadata": {},
   "outputs": [
    {
     "data": {
      "image/png": "[encoded data removed]",
      "text/plain": [
       "<Figure size 576x432 with 1 Axes>"
      ]
     },
     "metadata": {
      "needs_background": "light"
     },
     "output_type": "display_data"
    }
   ],
   "source": [
    "fig, ax = plt.subplots()\n",
    "ax.hist(\n",
    "    total_stats.loc[ total_stats['tariff'] == 'smart']['mb_used'],\n",
    "    range=(\n",
    "        smart_internet_traffic_mean - 3*smart_internet_traffic_std, \n",
    "        smart_internet_traffic_mean + 3*smart_internet_traffic_std),\n",
    "    density=True\n",
    ")\n",
    "ax.set_title(\n",
    "    \"Тариф Смарт\\n\",\n",
    "    fontsize=12,\n",
    "    loc='left'\n",
    ")\n",
    "ax.set_xlabel(\"Гистограмма плотности для использованного интернет-трафика в месяц (Мб)\", fontsize=12)\n",
    "fig.set_figwidth(8)\n",
    "fig.set_figheight(6)\n",
    "plt.show()"
   ]
  },
  {
   "cell_type": "code",
   "execution_count": 225,
   "metadata": {},
   "outputs": [
    {
     "data": {
      "text/plain": [
       "count               2230.0\n",
       "mean    16713.241255605382\n",
       "std      5894.314519107293\n",
       "min                    0.0\n",
       "25%                13312.0\n",
       "50%                17408.0\n",
       "75%                20480.0\n",
       "max                38912.0\n",
       "Name: mb_used, dtype: float64"
      ]
     },
     "execution_count": 225,
     "metadata": {},
     "output_type": "execute_result"
    }
   ],
   "source": [
    "total_stats.loc[ total_stats['tariff'] == 'smart']['mb_used'].describe()"
   ]
  },
  {
   "cell_type": "code",
   "execution_count": 226,
   "metadata": {},
   "outputs": [
    {
     "data": {
      "image/png": "[encoded data removed]",
      "text/plain": [
       "<Figure size 432x288 with 1 Axes>"
      ]
     },
     "metadata": {
      "needs_background": "light"
     },
     "output_type": "display_data"
    }
   ],
   "source": [
    "(\n",
    "    total_stats.loc[ total_stats['tariff'] == 'smart']\n",
    "        .boxplot(column='mb_used')\n",
    "        .set(\n",
    "            title='Диаграмма размаха интернет-трафика. Тариф Смарт',\n",
    "            ylabel='Мб/мес.',\n",
    "        )\n",
    ");"
   ]
  },
  {
   "cell_type": "markdown",
   "metadata": {},
   "source": [
    "И для длительности звонков и для числа сообщений и для интернет-трафика наблюдаются графики схожие с нормальным распределением<BR>\n",
    "(которые при этом могут визуально существенно от него отличаться в зависимости от того какая получилась выборка. Это связано с небольшим размером выборок)"
   ]
  },
  {
   "cell_type": "markdown",
   "metadata": {},
   "source": [
    "При этом можно наблюдать что дисперсия (и среднеквадратичное отклонение) для тарифа Ultra существенно меньше чем для тарифа Smart."
   ]
  },
  {
   "cell_type": "markdown",
   "metadata": {},
   "source": [
    "Для тарифа Ultra пользователям в среднем требуется <BR>\n",
    "от 264 до 668 минут разговора (медиана 477, среднее 489)\n",
    "от 35 до 71 сообщений (медиана 40, среднее 56)<BR>\n",
    "от 8 до 21 Гб интернет-трафика (медиана 11 Гб, среднее 15 Гб)<BR>\n",
    "<BR>\n",
    "Для тарифа Smart пользователям в среднем требуется <BR>\n",
    "от 356 до 561 минут разговора (медиана 479, среднее 467)<BR>\n",
    "от 22 до 57 сообщений (медиана 37, среднее 40)<BR>\n",
    "от 13 до 21 Гб интернет-трафика (медиана 17 Гб, среднее 17 Гб)<BR>\n",
    "<BR>\n",
    "Любопытно что при более ёмком тарифе Ultra пользователи тарифа Smart используют больше интернет-трафика. А средняя длительность звонков и число сообщений имеют маленькие отличия.\n"
   ]
  },
  {
   "cell_type": "markdown",
   "metadata": {},
   "source": [
    "#### 3.3 Сравнение пользоватей"
   ]
  },
  {
   "cell_type": "markdown",
   "metadata": {},
   "source": [
    "Кто пользуется тарифами?"
   ]
  },
  {
   "cell_type": "code",
   "execution_count": 227,
   "metadata": {},
   "outputs": [
    {
     "data": {
      "image/png": "[encoded data removed]",
      "text/plain": [
       "<Figure size 576x432 with 1 Axes>"
      ]
     },
     "metadata": {
      "needs_background": "light"
     },
     "output_type": "display_data"
    }
   ],
   "source": [
    "fig, ax = plt.subplots()\n",
    "ax.hist(\n",
    "    total_stats.loc[ total_stats['tariff'] == 'ultra']['age'],\n",
    "    density=True\n",
    ")\n",
    "ax.set_title(\n",
    "    \"Тариф Ультра\",\n",
    "    fontsize=12,\n",
    "    loc='left'\n",
    ")\n",
    "ax.set_xlabel(\"Распределение пользовтелей тарифа Ультра по возрастам\", fontsize=12)\n",
    "fig.set_figwidth(8)\n",
    "fig.set_figheight(6)\n",
    "plt.show()"
   ]
  },
  {
   "cell_type": "code",
   "execution_count": 228,
   "metadata": {},
   "outputs": [
    {
     "data": {
      "image/png": "[encoded data removed]",
      "text/plain": [
       "<Figure size 576x432 with 1 Axes>"
      ]
     },
     "metadata": {
      "needs_background": "light"
     },
     "output_type": "display_data"
    }
   ],
   "source": [
    "fig, ax = plt.subplots()\n",
    "ax.hist(\n",
    "    total_stats.loc[ total_stats['tariff'] == 'smart']['age'],\n",
    "    density=True\n",
    ")\n",
    "ax.set_title(\n",
    "    \"Тариф Смарт\",\n",
    "    fontsize=12,\n",
    "    loc='left'\n",
    ")\n",
    "ax.set_xlabel(\"Распределение пользовтелей тарифа Смарт по возрастам\", fontsize=12)\n",
    "fig.set_figwidth(8)\n",
    "fig.set_figheight(6)\n",
    "plt.show()"
   ]
  },
  {
   "cell_type": "code",
   "execution_count": 229,
   "metadata": {},
   "outputs": [
    {
     "data": {
      "text/plain": [
       "count                986.0\n",
       "mean     46.83874239350913\n",
       "std     17.099807344198307\n",
       "min                   18.0\n",
       "25%                   30.0\n",
       "50%                   45.0\n",
       "75%                   63.0\n",
       "max                   75.0\n",
       "Name: age, dtype: float64"
      ]
     },
     "execution_count": 229,
     "metadata": {},
     "output_type": "execute_result"
    }
   ],
   "source": [
    "total_stats.loc[ total_stats['tariff'] == 'ultra']['age'].describe()\n"
   ]
  },
  {
   "cell_type": "code",
   "execution_count": 230,
   "metadata": {},
   "outputs": [
    {
     "data": {
      "text/plain": [
       "count               2230.0\n",
       "mean    46.557847533632284\n",
       "std      16.34986534365247\n",
       "min                   18.0\n",
       "25%                   32.0\n",
       "50%                   47.0\n",
       "75%                   62.0\n",
       "max                   75.0\n",
       "Name: age, dtype: float64"
      ]
     },
     "execution_count": 230,
     "metadata": {},
     "output_type": "execute_result"
    }
   ],
   "source": [
    "total_stats.loc[ total_stats['tariff'] == 'smart']['age'].describe()"
   ]
  },
  {
   "cell_type": "code",
   "execution_count": 231,
   "metadata": {},
   "outputs": [],
   "source": [
    "# Подчсет числа пользователей разных тарифов для Москвы и вне Москвы\n",
    "ultra_moscow_count = len(total_stats.loc[ (total_stats['tariff'] == 'ultra') & (total_stats['city'] == 'Москва')] )\n",
    "smart_moscow_count = len(total_stats.loc[ (total_stats['tariff'] == 'smart') & (total_stats['city'] == 'Москва')] )\n",
    "total_moscow_count = len(total_stats.loc[total_stats['city'] == 'Москва'] )\n",
    "ultra_ratio_moscow = ultra_moscow_count / total_moscow_count\n",
    "smart_ratio_moscow = smart_moscow_count / total_moscow_count\n",
    "\n",
    "# Не Москва\n",
    "ultra_nonmoscow_count = len(total_stats.loc[ (total_stats['tariff'] == 'ultra') & (total_stats['city'] != 'Москва')] )\n",
    "smart_nonmoscow_count = len(total_stats.loc[ (total_stats['tariff'] == 'smart') & (total_stats['city'] != 'Москва')] )\n",
    "total_nonmoscow_count = len(total_stats.loc[total_stats['city'] != 'Москва'] )\n",
    "ultra_ratio_nonmoscow = ultra_nonmoscow_count / total_nonmoscow_count\n",
    "smart_ratio_nonmoscow = smart_nonmoscow_count / total_nonmoscow_count"
   ]
  },
  {
   "cell_type": "code",
   "execution_count": 232,
   "metadata": {},
   "outputs": [
    {
     "name": "stdout",
     "output_type": "stream",
     "text": [
      "Москва:\n",
      "Пользователей Ultra: 225 (36.82%)\n",
      "Пользователей Smart: 386 (63.18%)\n",
      "Не Москва:\n",
      "Пользователей Ultra: 761 (29.21%)\n",
      "Пользователей Smart: 1844 (70.79%)\n"
     ]
    }
   ],
   "source": [
    "print( \"Москва:\")\n",
    "print(f\"Пользователей Ultra: {ultra_moscow_count} ({ultra_ratio_moscow:0.2%})\")\n",
    "print(f\"Пользователей Smart: {smart_moscow_count} ({smart_ratio_moscow:0.2%})\")\n",
    "\n",
    "print( \"Не Москва:\")\n",
    "print(f\"Пользователей Ultra: {ultra_nonmoscow_count} ({ultra_ratio_nonmoscow:0.2%})\")\n",
    "print(f\"Пользователей Smart: {smart_nonmoscow_count} ({smart_ratio_nonmoscow:0.2%})\")"
   ]
  },
  {
   "cell_type": "code",
   "execution_count": 233,
   "metadata": {},
   "outputs": [
    {
     "data": {
      "text/plain": [
       "count               986.0\n",
       "mean    526.0892494929006\n",
       "std     317.8875485911392\n",
       "min                   0.0\n",
       "25%                 282.5\n",
       "50%                 518.0\n",
       "75%                751.75\n",
       "max                1673.0\n",
       "Name: total_duration, dtype: float64"
      ]
     },
     "execution_count": 233,
     "metadata": {},
     "output_type": "execute_result"
    }
   ],
   "source": [
    "total_stats.loc[ (total_stats['tariff'] == 'ultra') ]['total_duration'].describe()"
   ]
  },
  {
   "cell_type": "code",
   "execution_count": 234,
   "metadata": {},
   "outputs": [
    {
     "data": {
      "text/plain": [
       "count              2230.0\n",
       "mean     417.747533632287\n",
       "std     190.4767540579285\n",
       "min                   0.0\n",
       "25%                 282.0\n",
       "50%                 421.5\n",
       "75%                 545.0\n",
       "max                1435.0\n",
       "Name: total_duration, dtype: float64"
      ]
     },
     "execution_count": 234,
     "metadata": {},
     "output_type": "execute_result"
    }
   ],
   "source": [
    "total_stats.loc[ (total_stats['tariff'] == 'smart') ]['total_duration'].describe()"
   ]
  },
  {
   "cell_type": "code",
   "execution_count": 235,
   "metadata": {},
   "outputs": [
    {
     "data": {
      "text/plain": [
       "count               986.0\n",
       "mean    49.31338742393509\n",
       "std     47.80603962530092\n",
       "min                   0.0\n",
       "25%                   6.0\n",
       "50%                  38.0\n",
       "75%                 78.75\n",
       "max                 224.0\n",
       "Name: messages_count, dtype: float64"
      ]
     },
     "execution_count": 235,
     "metadata": {},
     "output_type": "execute_result"
    }
   ],
   "source": [
    "total_stats.loc[ (total_stats['tariff'] == 'ultra') ]['messages_count'].describe()"
   ]
  },
  {
   "cell_type": "code",
   "execution_count": 236,
   "metadata": {},
   "outputs": [
    {
     "data": {
      "text/plain": [
       "count               2230.0\n",
       "mean     33.36905829596412\n",
       "std     28.230395954185852\n",
       "min                    0.0\n",
       "25%                   10.0\n",
       "50%                   28.0\n",
       "75%                   51.0\n",
       "max                  143.0\n",
       "Name: messages_count, dtype: float64"
      ]
     },
     "execution_count": 236,
     "metadata": {},
     "output_type": "execute_result"
    }
   ],
   "source": [
    "total_stats.loc[ (total_stats['tariff'] == 'smart') ]['messages_count'].describe()"
   ]
  },
  {
   "cell_type": "code",
   "execution_count": 237,
   "metadata": {},
   "outputs": [
    {
     "data": {
      "text/plain": [
       "count                986.0\n",
       "mean    19942.036511156188\n",
       "std     10104.890125951337\n",
       "min                    0.0\n",
       "25%                12288.0\n",
       "50%                19456.0\n",
       "75%                27648.0\n",
       "max                50176.0\n",
       "Name: mb_used, dtype: float64"
      ]
     },
     "execution_count": 237,
     "metadata": {},
     "output_type": "execute_result"
    }
   ],
   "source": [
    "total_stats.loc[ (total_stats['tariff'] == 'ultra') ]['mb_used'].describe()"
   ]
  },
  {
   "cell_type": "code",
   "execution_count": 238,
   "metadata": {},
   "outputs": [
    {
     "data": {
      "text/plain": [
       "count               2230.0\n",
       "mean    16713.241255605382\n",
       "std      5894.314519107293\n",
       "min                    0.0\n",
       "25%                13312.0\n",
       "50%                17408.0\n",
       "75%                20480.0\n",
       "max                38912.0\n",
       "Name: mb_used, dtype: float64"
      ]
     },
     "execution_count": 238,
     "metadata": {},
     "output_type": "execute_result"
    }
   ],
   "source": [
    "total_stats.loc[ (total_stats['tariff'] == 'smart') ]['mb_used'].describe()"
   ]
  },
  {
   "cell_type": "markdown",
   "metadata": {},
   "source": [
    "### Шаг 4. Проверка гипотез"
   ]
  },
  {
   "cell_type": "markdown",
   "metadata": {},
   "source": [
    "#### 4.1 Гипотеза: Средняя выручка пользователей тарифов \"Ультра\" и \"Смарт\" различается."
   ]
  },
  {
   "cell_type": "markdown",
   "metadata": {},
   "source": [
    "Нулевая гипотеза (H<sub>0</sub>) при поставленной задаче звучит так:<BR>\n",
    "Средняя выручка пользователей тарифов \"Ультра\" и \"Смарт\" не различается.<BR>\n",
    "Соответственно, альтернативная односторонняя гипотеза (H<sub>1</sub>): <BR>\n",
    "Средняя выручка пользователей тарифа \"Ультра\" больше средней выручки тарифа \"Смарт\".<BR>\n",
    "Мы используем одностороннюю альтернативную гипотезу, так как перед проектом поставлена задача выяснить,<BR>\n",
    "какой тариф лучше, а не просто выяснить есть ли разница между тарифами."
   ]
  },
  {
   "cell_type": "markdown",
   "metadata": {},
   "source": [
    "Установим критический уровень значимости в 5%, так как нет требовний к особо точной оценке"
   ]
  },
  {
   "cell_type": "code",
   "execution_count": 239,
   "metadata": {},
   "outputs": [],
   "source": [
    "alpha= 0.05 "
   ]
  },
  {
   "cell_type": "markdown",
   "metadata": {},
   "source": [
    "Проводим Т-тест и смотрим какие у нас получились средние значения выручки для наших выборок"
   ]
  },
  {
   "cell_type": "code",
   "execution_count": 240,
   "metadata": {},
   "outputs": [
    {
     "name": "stdout",
     "output_type": "stream",
     "text": [
      "Среднее значение выручки для тарифа Ultra = 2070.03\n",
      "Среднее значение выручки для тарифа Smart = 1289.64\n"
     ]
    }
   ],
   "source": [
    "compare_data = st.ttest_ind(  total_stats.loc[ total_stats['tariff'] == 'ultra' ]['period_income'],\n",
    "                              total_stats.loc[ total_stats['tariff'] == 'smart' ]['period_income'],\n",
    "                              equal_var = False \n",
    "                           ) \n",
    "df_ultra_sample_mean = total_stats.loc[ total_stats['tariff'] == 'ultra' ]['period_income'].mean()\n",
    "df_smart_sample_mean = total_stats.loc[ total_stats['tariff'] == 'smart' ]['period_income'].mean()\n",
    "\n",
    "print(f\"Среднее значение выручки для тарифа Ultra = {df_ultra_sample_mean:.2f}\")\n",
    "print(f\"Среднее значение выручки для тарифа Smart = {df_smart_sample_mean:.2f}\")"
   ]
  },
  {
   "cell_type": "markdown",
   "metadata": {},
   "source": [
    "Проверяем, можем ли мы отвергнуть нулевую гипотезу. Так как альтернативная гипотеза односторонняя - берём половину от p.value."
   ]
  },
  {
   "cell_type": "code",
   "execution_count": 263,
   "metadata": {},
   "outputs": [
    {
     "name": "stdout",
     "output_type": "stream",
     "text": [
      "Нулевая гипотеза отвергается: Средняя выручка пользователей тарифов \"Ультра\" и \"Смарт\" различается, pvalue(1.927011394420941e-250) < alpha(0.05)\n"
     ]
    }
   ],
   "source": [
    "if (    compare_data.pvalue/2 < alpha    ):\n",
    "    print(f'Нулевая гипотеза отвергается: Средняя выручка пользователей тарифов \"Ультра\" и \"Смарт\" различается, pvalue({compare_data.pvalue}) < alpha({alpha})')\n",
    "else :\n",
    "    print(f'Нулевая гипотеза не отвергается: Средняя выручка пользователей тарифов \"Ультра\" и \"Смарт\" не различается, pvalue({compare_data.pvalue}) >= alpha({alpha})')"
   ]
  },
  {
   "cell_type": "code",
   "execution_count": 262,
   "metadata": {},
   "outputs": [
    {
     "name": "stdout",
     "output_type": "stream",
     "text": [
      "p-значение: 0.1912450522572209\n",
      "Не получилось отвергнуть нулевую гипотезу\n"
     ]
    }
   ],
   "source": [
    "# Приведены два датасета: сумма покупок, совершённых за месяц посетителями ...\n",
    "\n",
    "sample_1 = [3071, 3636, 3454, 3151, 2185, 3259, 1727, 2263, 2015,\n",
    "2582, 4815, 633, 3186, 887, 2028, 3589, 2564, 1422, 1785,\n",
    "3180, 1770, 2716, 2546, 1848, 4644, 3134, 475, 2686,\n",
    "1838, 3352]\n",
    "sample_2 = [1211, 1228, 2157, 3699, 600, 1898, 1688, 1420, 5048, 3007,\n",
    "509, 3777, 5583, 3949, 121, 1674, 4300, 1338, 3066,\n",
    "3562, 1010, 2311, 462, 863, 2021, 528, 1849, 255,\n",
    "1740, 2596]\n",
    "alpha = .05 # критический уровень статистической значимости\n",
    "# если p-value окажется меньше него - отвергнем гипотезу\n",
    "results = st.ttest_ind(\n",
    "sample_1,\n",
    "sample_2)\n",
    "print('p-значение:', results.pvalue)\n",
    "if (results.pvalue < alpha):\n",
    "    print(\"Отвергаем нулевую гипотезу\")\n",
    "else:\n",
    "\n",
    "    print(\"Не получилось отвергнуть нулевую гипотезу\")"
   ]
  },
  {
   "cell_type": "code",
   "execution_count": 243,
   "metadata": {},
   "outputs": [
    {
     "name": "stdout",
     "output_type": "stream",
     "text": [
      "p-значение: 1.3358596895543794e-06\n",
      "Отвергаем нулевую гипотезу\n"
     ]
    }
   ],
   "source": [
    "screens = pd.Series([4, 2, 4, 5, 5, 4, 2, 3, 3, 5\n",
    "                     , 2, 5, 2, 2, 2, 3, 3, 4, 8, 3, 4, 3, 5,\n",
    "                     5, 4, 2, 5, 2, 3, 7, 5, 5, 6,  5, 3, 4, 3, 6, 3, 4, \n",
    "                     4, 3, 5, 4, 4, 8, 4, 7, 4, 5, 5, 3, 4, 6, 7, 2, 3, 6, \n",
    "                     5, 6, 4, 4, 3, 4, 6, 4, 4, 6, 2, 6, 5, 3, 3, 3, 4, 5, 3, \n",
    "                     5, 5, 4, 3, 3, 3, 1, 5, 4, 3, 4, 6, 3, 1, 3, 2, 7, 3, 6, 6, 6, 5, 5])\n",
    "\n",
    "prev_screens_value = 4.867\n",
    "\n",
    "alpha = .05 # уровень статистической значимости\n",
    "\n",
    "results = st.ttest_1samp(\n",
    "    screens, \n",
    "    prev_screens_value)\n",
    "\n",
    "# тест односторонний: p-value будет в два раза меньше\n",
    "print('p-значение:', results.pvalue / 2)\n",
    "\n",
    "# тест односторонний влево:\n",
    "# отвергаем гипотезу только тогда, когда выборочное среднее значимо меньше предполагаемого значения\n",
    "if (results.pvalue / 2 < alpha) and (screens.mean() < prev_screens_value):\n",
    "    print(\"Отвергаем нулевую гипотезу\")\n",
    "else:\n",
    "    print(\"Не отвергаем нулевую гипотезу\") "
   ]
  },
  {
   "cell_type": "markdown",
   "metadata": {},
   "source": [
    "#### 4.2 Гипотеза: Средняя выручка пользователей из Москвы отличается от выручки пользователей из других регионов"
   ]
  },
  {
   "cell_type": "markdown",
   "metadata": {},
   "source": [
    "Проверим есть ли разница в выручке между Москвой и другими регионами."
   ]
  },
  {
   "cell_type": "code",
   "execution_count": 244,
   "metadata": {},
   "outputs": [],
   "source": [
    "moscow = pd.concat(\n",
    "    [\n",
    "       total_stats.loc[ total_stats['city'] == 'Москва']\n",
    "    ],\n",
    "    ignore_index=True\n",
    ")\n",
    "\n",
    "nonmoscow = pd.concat(\n",
    "    [\n",
    "       total_stats.loc[ total_stats['city'] != 'Москва']\n",
    "    ],\n",
    "    ignore_index=True    \n",
    ")"
   ]
  },
  {
   "cell_type": "code",
   "execution_count": 245,
   "metadata": {},
   "outputs": [],
   "source": [
    "# Особых требований к точности не предъявлено, выборка маленькая, значит будем оценивать грубо,\n",
    "# взяв 5% в качестве критического уровня значимости\n",
    "alpha = 0.05 "
   ]
  },
  {
   "cell_type": "code",
   "execution_count": 246,
   "metadata": {},
   "outputs": [
    {
     "name": "stdout",
     "output_type": "stream",
     "text": [
      "Москва:\n",
      "Средний доход с выборки: 1546.71\n",
      "Дисперсия выборки: 565636.47\n",
      "Среднее отклонение для выборки: 752.09\n",
      "\n",
      "Другие регионы:\n",
      "Средний доход с выборки: 1524.73\n",
      "Дисперсия выборки: 654069.57\n",
      "Среднее отклонение для выборки: 808.75\n"
     ]
    }
   ],
   "source": [
    "# Считаем среднее, дисперсию, отклонение\n",
    "moscow_sample_mean = moscow['period_income'].mean()\n",
    "moscow_sample_var  = np.var( moscow['period_income'], ddof=1)\n",
    "moscow_sample_std  = np.std( moscow['period_income'], ddof=1)\n",
    "\n",
    "nonmoscow_sample_mean = nonmoscow['period_income'].mean()\n",
    "nonmoscow_sample_var  = np.var( nonmoscow['period_income'], ddof=1)\n",
    "nonmoscow_sample_std  = np.std( nonmoscow['period_income'], ddof=1)\n",
    "\n",
    "print( 'Москва:')\n",
    "print(f\"Средний доход с выборки: {moscow_sample_mean:.02f}\")\n",
    "print(f\"Дисперсия выборки: {moscow_sample_var:.02f}\")\n",
    "print(f\"Среднее отклонение для выборки: {moscow_sample_std:.02f}\")\n",
    "print()\n",
    "print( 'Другие регионы:')\n",
    "print(f\"Средний доход с выборки: {nonmoscow_sample_mean:.02f}\")\n",
    "print(f\"Дисперсия выборки: {nonmoscow_sample_var:.02f}\")\n",
    "print(f\"Среднее отклонение для выборки: {nonmoscow_sample_std:.02f}\")"
   ]
  },
  {
   "cell_type": "markdown",
   "metadata": {},
   "source": [
    "Нулевая гипотеза (H<sub>0</sub>): средняя выручка пользователей из Москвы не отличается от средней выручки от других регионов.<BR>\n",
    "Альтернативная гипотеза (H<sub>1</sub>): средняя выручка пользователей из Москвы и других регионов различаются"
   ]
  },
  {
   "cell_type": "code",
   "execution_count": 247,
   "metadata": {},
   "outputs": [],
   "source": [
    "ttest_results = st.ttest_ind(\n",
    "    moscow['period_income'],\n",
    "    nonmoscow['period_income'],\n",
    "    equal_var = False\n",
    ")"
   ]
  },
  {
   "cell_type": "markdown",
   "metadata": {},
   "source": [
    "Проверка нулевой гипотезы (о равенстве выручки для Москвы и других регионов):"
   ]
  },
  {
   "cell_type": "code",
   "execution_count": 248,
   "metadata": {},
   "outputs": [
    {
     "name": "stdout",
     "output_type": "stream",
     "text": [
      "pvalue(0.5216952110000279) >= alpha(0.05)\n",
      "Не отвергаем нулевую гипотезу. Выручка для Москвы не отличается от выручки для других регионов\n"
     ]
    }
   ],
   "source": [
    "if ttest_results.pvalue < alpha:\n",
    "    print(f\"pvalue({ttest_results.pvalue}) < alpha({ alpha})\")\n",
    "    print(\"Отвергаем нулевую гипотезу. Выручка для Москвы отличается от выручки для других регионов\")\n",
    "else:\n",
    "    print(f\"pvalue({ttest_results.pvalue}) >= alpha({alpha})\")\n",
    "    print(\"Не отвергаем нулевую гипотезу. Выручка для Москвы не отличается от выручки для других регионов\")"
   ]
  },
  {
   "cell_type": "markdown",
   "metadata": {},
   "source": [
    "Итак, нет оснований считать что выручка между Москвой и регионами имеет существенное различие. Она выглядит сопостовимой."
   ]
  },
  {
   "cell_type": "markdown",
   "metadata": {},
   "source": [
    "### Шаг 5. Общий вывод"
   ]
  },
  {
   "cell_type": "markdown",
   "metadata": {},
   "source": [
    "Обоими тарифами пользуются те же возрастные группы, с практически одинаковым медианным и средним значением.<BR>\n",
    "Смарт: преимущественно пользователи с 32 до 62 лет, в среднем 46-47 лет<BR>\n",
    "Ультра: преимущественно пользователи с 30 до 63 лет, в среднем 45-46 лет<BR>\n",
    "<BR>\n",
    "Процентное соотношение пользователей обоих тарифов<BR>\n",
    "Москва:<BR>\n",
    "Пользователей Ultra: 225 (36.82%)<BR>\n",
    "Пользователей Smart: 386 (63.18%)<BR>\n",
    "Не Москва:<BR>\n",
    "Пользователей Ultra: 761 (29.21%)<BR>\n",
    "Пользователей Smart: 1844 (70.79%)<BR>\n"
   ]
  },
  {
   "cell_type": "markdown",
   "metadata": {},
   "source": [
    "Использование звонков, сообщений и интернет-трафика:<BR>\n",
    "Звонки. <BR>\n",
    "Ultra от 282.5 до 751.75 минут в месяц. Среднее время 526, медианное 518, (в тариф включено 3000) <BR>\n",
    "Smart от 282 до 545 минут в месяц. Среднее время 417, медианное 421. (в тариф включено 500)<BR>\n",
    "Сообщения<BR>\n",
    "Ultra от 6 до 79 смс в месяц. Среднее 49, медианное 38. (в тариф включено 1000)<BR>\n",
    "Smart от 10 до 51 смс в месяц. Среднее 33, медианное 28.(в тариф включено 50)<BR>\n",
    "Интернет-трафик<BR>\n",
    "Ultra от 12 гб до 27 гб. в месяц. Среднее 19, медианное 19 (в тариф включено 30) <BR>\n",
    "Smart от 13 гб до 20 гб. в месяц. Среднее 16, медианное 17 (в тариф включено 15).<BR>"
   ]
  },
  {
   "cell_type": "markdown",
   "metadata": {},
   "source": [
    "На основе предоставленных данных были сделаны проверки гепотез о различии средних выручек тарифов \"Ультра\" и \"Смарт\", а также о различии средних выручек для пользователей из Москвы и други регионов.\n",
    "Проверка выборок показала что:"
   ]
  },
  {
   "cell_type": "markdown",
   "metadata": {},
   "source": [
    "Если же говорить про гипотезу о различии выручки для Москвы и других регионов, то проверка показала очень схожую выручку. Несмотря на то что тариф Ультра в Москве несколько популярнее чем в других городах,<BR>\n",
    "тем не менее совокупный доход в Москве сопостовим с доходом в других регионах."
   ]
  },
  {
   "cell_type": "markdown",
   "metadata": {},
   "source": [
    "Среднее значение выручки для тарифа Ultra = 2070.03<BR>\n",
    "Среднее значение выручки для тарифа Smart = 1289.64<BR>\n",
    "<BR>\n",
    "Статистическая проверка показала что выручка с этих тарифов существенно отличается. И тариф Ультра является более выгодным для опреатора связи, так как приносит большую выручку\n",
    "    "
   ]
  },
  {
   "cell_type": "markdown",
   "metadata": {},
   "source": [
    "## Бонус"
   ]
  },
  {
   "cell_type": "code",
   "execution_count": 249,
   "metadata": {},
   "outputs": [
    {
     "data": {
      "text/plain": [
       "4916951.0"
      ]
     },
     "execution_count": 249,
     "metadata": {},
     "output_type": "execute_result"
    }
   ],
   "source": [
    "# check\n",
    "total_stats['period_income'].sum()"
   ]
  },
  {
   "cell_type": "code",
   "execution_count": 258,
   "metadata": {},
   "outputs": [],
   "source": [
    "import seaborn as sns\n",
    "import matplotlib.pyplot as plt"
   ]
  },
  {
   "cell_type": "code",
   "execution_count": 259,
   "metadata": {},
   "outputs": [],
   "source": [
    "revenue = total_stats.copy()"
   ]
  },
  {
   "cell_type": "code",
   "execution_count": 260,
   "metadata": {},
   "outputs": [
    {
     "data": {
      "text/plain": [
       "Index(['user_id', 'period', 'calls_count', 'total_duration', 'messages_count',\n",
       "       'mb_used', 'gb_used', 'age', 'churn_date', 'city', 'first_name',\n",
       "       'last_name', 'reg_date', 'tariff', 'messages_included',\n",
       "       'mb_per_month_included', 'minutes_included', 'rub_monthly_fee',\n",
       "       'rub_per_gb', 'rub_per_message', 'rub_per_minute', 'tariff_name',\n",
       "       'time_overpayed', 'messages_overpayed', 'internet_overpayed', 'overpay',\n",
       "       'period_income'],\n",
       "      dtype='object')"
      ]
     },
     "execution_count": 260,
     "metadata": {},
     "output_type": "execute_result"
    }
   ],
   "source": [
    "revenue.columns"
   ]
  },
  {
   "cell_type": "code",
   "execution_count": 253,
   "metadata": {},
   "outputs": [
    {
     "data": {
      "image/png": "[encoded data removed]",
      "text/plain": [
       "<Figure size 864x144 with 1 Axes>"
      ]
     },
     "metadata": {
      "needs_background": "light"
     },
     "output_type": "display_data"
    },
    {
     "data": {
      "image/png": "[encoded data removed]",
      "text/plain": [
       "<Figure size 864x144 with 1 Axes>"
      ]
     },
     "metadata": {
      "needs_background": "light"
     },
     "output_type": "display_data"
    },
    {
     "data": {
      "image/png": "[encoded data removed]",
      "text/plain": [
       "<Figure size 864x144 with 1 Axes>"
      ]
     },
     "metadata": {
      "needs_background": "light"
     },
     "output_type": "display_data"
    },
    {
     "data": {
      "image/png": "[encoded data removed]",
      "text/plain": [
       "<Figure size 864x144 with 1 Axes>"
      ]
     },
     "metadata": {
      "needs_background": "light"
     },
     "output_type": "display_data"
    },
    {
     "data": {
      "image/png": "[encoded data removed]",
      "text/plain": [
       "<Figure size 864x144 with 1 Axes>"
      ]
     },
     "metadata": {
      "needs_background": "light"
     },
     "output_type": "display_data"
    },
    {
     "data": {
      "image/png": "[encoded data removed]",
      "text/plain": [
       "<Figure size 864x144 with 1 Axes>"
      ]
     },
     "metadata": {
      "needs_background": "light"
     },
     "output_type": "display_data"
    }
   ],
   "source": [
    "for column in ['calls_count', 'total_duration', 'messages_count',\n",
    "       'mb_used', 'gb_used', 'period_income']:    \n",
    "    g = sns.catplot(y='tariff', x=column, kind=\"box\", data= revenue, orient='h', palette = 'pastel')\n",
    "    g.fig.set_figwidth(12)\n",
    "    g.fig.set_figheight(2)"
   ]
  },
  {
   "cell_type": "code",
   "execution_count": 254,
   "metadata": {},
   "outputs": [
    {
     "data": {
      "image/png": "[encoded data removed]",
      "text/plain": [
       "<Figure size 720x288 with 1 Axes>"
      ]
     },
     "metadata": {
      "needs_background": "light"
     },
     "output_type": "display_data"
    }
   ],
   "source": [
    "(revenue\n",
    " .pivot_table(index='tariff', columns='period', values='user_id', aggfunc='count')\n",
    " .T\n",
    " .plot(kind='line', figsize=(10,4),  style = 'o-')\n",
    ")\n",
    "plt.title('Рост кол-ва клиентов по 2-м тарифам за год'+ \"\\n\")\n",
    "plt.xlabel('Месяц')\n",
    "plt.ylabel('кол-во');"
   ]
  },
  {
   "cell_type": "code",
   "execution_count": 255,
   "metadata": {
    "colab": {
     "base_uri": "https://localhost:8080/",
     "height": 330
    },
    "id": "V4Vo2tdzJ3G6",
    "outputId": "9cfd13a1-35e4-4421-9f10-349b8932486b"
   },
   "outputs": [
    {
     "data": {
      "image/png": "[encoded data removed]",
      "text/plain": [
       "<Figure size 720x288 with 1 Axes>"
      ]
     },
     "metadata": {
      "needs_background": "light"
     },
     "output_type": "display_data"
    }
   ],
   "source": [
    "(revenue\n",
    " .pivot_table(index='tariff', columns='period', values='period_income', aggfunc='mean')\n",
    " .T\n",
    " .plot(kind='line', figsize=(10,4),  style = 'o-')\n",
    ")\n",
    "plt.title('Средняя ежемесячная выручка от одного абонента'+ \"\\n\")\n",
    "plt.xlabel('Месяц')\n",
    "plt.ylabel('Рубли');"
   ]
  },
  {
   "cell_type": "code",
   "execution_count": 256,
   "metadata": {},
   "outputs": [
    {
     "data": {
      "image/png": "[encoded data removed]",
      "text/plain": [
       "<Figure size 720x288 with 1 Axes>"
      ]
     },
     "metadata": {
      "needs_background": "light"
     },
     "output_type": "display_data"
    }
   ],
   "source": [
    "(revenue\n",
    " .pivot_table(index='tariff', columns='period', values='period_income', aggfunc='sum')\n",
    " .T\n",
    " .plot(kind='line', figsize=(10,4),  style = 'o-')\n",
    ")\n",
    "plt.title('Суммарная ежемесячная выручка по 2-м тарифам'+ \"\\n\")\n",
    "plt.xlabel('Месяц')\n",
    "plt.ylabel('Рубли');"
   ]
  },
  {
   "cell_type": "code",
   "execution_count": 257,
   "metadata": {},
   "outputs": [
    {
     "name": "stdout",
     "output_type": "stream",
     "text": [
      "Кол-во клентов покинувших компанию за год 38\n",
      "Кол-во клентов покинувших компанию за посл. 4 мес. 2018 г. на двух тарифах 35\n",
      "%  от общего кол-ва всех клиентов, покинувших компанию за посл. 4 мес. 2018 г. на двух тарифах 92.1\n",
      "Распределение оттока клиентов на тарифах за посл. 4 мес. 2018 г.\n"
     ]
    },
    {
     "data": {
      "text/html": [
       "<div>\n",
       "<style scoped>\n",
       "    .dataframe tbody tr th:only-of-type {\n",
       "        vertical-align: middle;\n",
       "    }\n",
       "\n",
       "    .dataframe tbody tr th {\n",
       "        vertical-align: top;\n",
       "    }\n",
       "\n",
       "    .dataframe thead th {\n",
       "        text-align: right;\n",
       "    }\n",
       "</style>\n",
       "<table border=\"1\" class=\"dataframe\">\n",
       "  <thead>\n",
       "    <tr style=\"text-align: right;\">\n",
       "      <th></th>\n",
       "      <th>churn_date</th>\n",
       "    </tr>\n",
       "    <tr>\n",
       "      <th>tariff</th>\n",
       "      <th></th>\n",
       "    </tr>\n",
       "  </thead>\n",
       "  <tbody>\n",
       "    <tr>\n",
       "      <th>smart</th>\n",
       "      <td>22</td>\n",
       "    </tr>\n",
       "    <tr>\n",
       "      <th>ultra</th>\n",
       "      <td>13</td>\n",
       "    </tr>\n",
       "  </tbody>\n",
       "</table>\n",
       "</div>"
      ],
      "text/plain": [
       "        churn_date\n",
       "tariff            \n",
       "smart           22\n",
       "ultra           13"
      ]
     },
     "execution_count": 257,
     "metadata": {},
     "output_type": "execute_result"
    }
   ],
   "source": [
    "# на скорую руку\n",
    "df_users = pd.read_csv('/datasets/users.csv')\n",
    "\n",
    "print ('Кол-во клентов покинувших компанию за год', df_users.churn_date.notna().sum())\n",
    "\n",
    "print ('Кол-во клентов покинувших компанию за посл. 4 мес. 2018 г. на двух тарифах',\n",
    "       df_users.query('churn_date > \"2018-09-25\"').churn_date.notna().sum()\n",
    "      )\n",
    "print ('%  от общего кол-ва всех клиентов, покинувших компанию за посл. 4 мес. 2018 г. на двух тарифах',\n",
    "    (df_users.query('churn_date > \"2018-09-25\"').churn_date.notna().sum()/df_users.churn_date.notna().sum()*100).round(1)\n",
    ")\n",
    "\n",
    "print ('Распределение оттока клиентов на тарифах за посл. 4 мес. 2018 г.')\n",
    "df_users.query('churn_date > \"2018-09-25\"').groupby('tariff')['churn_date'].count().to_frame()"
   ]
  }
 ],
 "metadata": {
  "ExecuteTimeLog": [
   {
    "duration": 1286,
    "start_time": "2022-06-22T20:21:14.283Z"
   },
   {
    "duration": 11,
    "start_time": "2022-06-22T20:21:15.571Z"
   },
   {
    "duration": 250,
    "start_time": "2022-06-22T20:21:15.587Z"
   },
   {
    "duration": 175,
    "start_time": "2022-06-22T20:21:15.839Z"
   },
   {
    "duration": 121,
    "start_time": "2022-06-22T20:21:16.017Z"
   },
   {
    "duration": 18,
    "start_time": "2022-06-22T20:21:16.140Z"
   },
   {
    "duration": 62,
    "start_time": "2022-06-22T20:21:16.159Z"
   },
   {
    "duration": 25,
    "start_time": "2022-06-22T20:21:16.222Z"
   },
   {
    "duration": 20,
    "start_time": "2022-06-22T20:21:16.249Z"
   },
   {
    "duration": 68,
    "start_time": "2022-06-22T20:21:16.273Z"
   },
   {
    "duration": 16,
    "start_time": "2022-06-22T20:21:16.343Z"
   },
   {
    "duration": 58,
    "start_time": "2022-06-22T20:21:16.370Z"
   },
   {
    "duration": 11,
    "start_time": "2022-06-22T20:21:16.430Z"
   },
   {
    "duration": 19,
    "start_time": "2022-06-22T20:21:16.445Z"
   },
   {
    "duration": 59,
    "start_time": "2022-06-22T20:21:16.466Z"
   },
   {
    "duration": 22,
    "start_time": "2022-06-22T20:21:16.527Z"
   },
   {
    "duration": 53,
    "start_time": "2022-06-22T20:21:16.550Z"
   },
   {
    "duration": 17,
    "start_time": "2022-06-22T20:21:16.607Z"
   },
   {
    "duration": 15,
    "start_time": "2022-06-22T20:21:16.626Z"
   },
   {
    "duration": 53,
    "start_time": "2022-06-22T20:21:16.643Z"
   },
   {
    "duration": 47,
    "start_time": "2022-06-22T20:21:16.700Z"
   },
   {
    "duration": 803,
    "start_time": "2022-06-22T20:21:16.749Z"
   },
   {
    "duration": 25,
    "start_time": "2022-06-22T20:21:17.554Z"
   },
   {
    "duration": 36,
    "start_time": "2022-06-22T20:21:17.585Z"
   },
   {
    "duration": 31,
    "start_time": "2022-06-22T20:21:17.623Z"
   },
   {
    "duration": 48,
    "start_time": "2022-06-22T20:21:17.656Z"
   },
   {
    "duration": 14,
    "start_time": "2022-06-22T20:21:17.708Z"
   },
   {
    "duration": 10,
    "start_time": "2022-06-22T20:21:17.723Z"
   },
   {
    "duration": 12,
    "start_time": "2022-06-22T20:21:17.734Z"
   },
   {
    "duration": 32,
    "start_time": "2022-06-22T20:21:17.747Z"
   },
   {
    "duration": 640,
    "start_time": "2022-06-22T20:21:17.781Z"
   },
   {
    "duration": 21,
    "start_time": "2022-06-22T20:21:18.423Z"
   },
   {
    "duration": 97,
    "start_time": "2022-06-22T20:21:18.447Z"
   },
   {
    "duration": 24,
    "start_time": "2022-06-22T20:21:18.546Z"
   },
   {
    "duration": 60,
    "start_time": "2022-06-22T20:21:18.586Z"
   },
   {
    "duration": 488,
    "start_time": "2022-06-22T20:21:18.649Z"
   },
   {
    "duration": 25,
    "start_time": "2022-06-22T20:21:19.139Z"
   },
   {
    "duration": 15,
    "start_time": "2022-06-22T20:21:19.168Z"
   },
   {
    "duration": 38,
    "start_time": "2022-06-22T20:21:19.185Z"
   },
   {
    "duration": 11,
    "start_time": "2022-06-22T20:21:19.226Z"
   },
   {
    "duration": 19,
    "start_time": "2022-06-22T20:21:19.246Z"
   },
   {
    "duration": 62,
    "start_time": "2022-06-22T20:21:19.267Z"
   },
   {
    "duration": 9,
    "start_time": "2022-06-22T20:21:19.331Z"
   },
   {
    "duration": 7,
    "start_time": "2022-06-22T20:21:19.341Z"
   },
   {
    "duration": 59,
    "start_time": "2022-06-22T20:21:19.350Z"
   },
   {
    "duration": 6,
    "start_time": "2022-06-22T20:21:19.411Z"
   },
   {
    "duration": 7,
    "start_time": "2022-06-22T20:21:19.419Z"
   },
   {
    "duration": 6,
    "start_time": "2022-06-22T20:21:19.427Z"
   },
   {
    "duration": 8,
    "start_time": "2022-06-22T20:21:19.434Z"
   },
   {
    "duration": 6,
    "start_time": "2022-06-22T20:21:19.443Z"
   },
   {
    "duration": 60,
    "start_time": "2022-06-22T20:21:19.450Z"
   },
   {
    "duration": 6,
    "start_time": "2022-06-22T20:21:19.512Z"
   },
   {
    "duration": 8,
    "start_time": "2022-06-22T20:21:19.519Z"
   },
   {
    "duration": 983,
    "start_time": "2022-06-22T20:21:19.528Z"
   },
   {
    "duration": 5,
    "start_time": "2022-06-22T20:21:20.513Z"
   },
   {
    "duration": 40,
    "start_time": "2022-06-22T20:21:20.519Z"
   },
   {
    "duration": 57,
    "start_time": "2022-06-22T20:21:20.561Z"
   },
   {
    "duration": 7,
    "start_time": "2022-06-22T20:21:20.620Z"
   },
   {
    "duration": 10,
    "start_time": "2022-06-22T20:21:20.629Z"
   },
   {
    "duration": 653,
    "start_time": "2022-06-22T20:21:20.654Z"
   },
   {
    "duration": 18,
    "start_time": "2022-06-22T20:21:21.310Z"
   },
   {
    "duration": 32,
    "start_time": "2022-06-22T20:21:21.330Z"
   },
   {
    "duration": 8,
    "start_time": "2022-06-22T20:21:21.367Z"
   },
   {
    "duration": 756,
    "start_time": "2022-06-22T20:21:21.377Z"
   },
   {
    "duration": 52,
    "start_time": "2022-06-22T20:21:22.135Z"
   },
   {
    "duration": 6,
    "start_time": "2022-06-22T20:21:22.189Z"
   },
   {
    "duration": 23,
    "start_time": "2022-06-22T20:21:22.197Z"
   },
   {
    "duration": 22,
    "start_time": "2022-06-22T20:21:22.221Z"
   },
   {
    "duration": 5,
    "start_time": "2022-06-22T20:21:22.244Z"
   },
   {
    "duration": 32,
    "start_time": "2022-06-22T20:21:22.256Z"
   },
   {
    "duration": 24,
    "start_time": "2022-06-22T20:21:22.290Z"
   },
   {
    "duration": 6,
    "start_time": "2022-06-22T20:21:22.315Z"
   },
   {
    "duration": 6,
    "start_time": "2022-06-22T20:21:22.322Z"
   },
   {
    "duration": 19,
    "start_time": "2022-06-22T20:21:22.329Z"
   },
   {
    "duration": 8,
    "start_time": "2022-06-22T20:21:22.350Z"
   },
   {
    "duration": 56,
    "start_time": "2022-06-22T20:21:22.359Z"
   },
   {
    "duration": 12,
    "start_time": "2022-06-22T20:21:22.417Z"
   },
   {
    "duration": 185,
    "start_time": "2022-06-22T20:21:22.430Z"
   },
   {
    "duration": 8,
    "start_time": "2022-06-22T20:21:22.617Z"
   },
   {
    "duration": 114,
    "start_time": "2022-06-22T20:21:22.626Z"
   },
   {
    "duration": 142,
    "start_time": "2022-06-22T20:21:22.742Z"
   },
   {
    "duration": 9,
    "start_time": "2022-06-22T20:21:22.888Z"
   },
   {
    "duration": 109,
    "start_time": "2022-06-22T20:21:22.900Z"
   },
   {
    "duration": 138,
    "start_time": "2022-06-22T20:21:23.011Z"
   },
   {
    "duration": 11,
    "start_time": "2022-06-22T20:21:23.153Z"
   },
   {
    "duration": 147,
    "start_time": "2022-06-22T20:21:23.166Z"
   },
   {
    "duration": 153,
    "start_time": "2022-06-22T20:21:23.315Z"
   },
   {
    "duration": 15,
    "start_time": "2022-06-22T20:21:23.472Z"
   },
   {
    "duration": 129,
    "start_time": "2022-06-22T20:21:23.491Z"
   },
   {
    "duration": 149,
    "start_time": "2022-06-22T20:21:23.621Z"
   },
   {
    "duration": 11,
    "start_time": "2022-06-22T20:21:23.772Z"
   },
   {
    "duration": 221,
    "start_time": "2022-06-22T20:21:23.785Z"
   },
   {
    "duration": 135,
    "start_time": "2022-06-22T20:21:24.009Z"
   },
   {
    "duration": 21,
    "start_time": "2022-06-22T20:21:24.146Z"
   },
   {
    "duration": 144,
    "start_time": "2022-06-22T20:21:24.169Z"
   },
   {
    "duration": 2,
    "start_time": "2022-06-22T20:21:24.315Z"
   },
   {
    "duration": 10,
    "start_time": "2022-06-22T20:21:24.319Z"
   },
   {
    "duration": 7,
    "start_time": "2022-06-22T20:21:24.330Z"
   },
   {
    "duration": 16,
    "start_time": "2022-06-22T20:21:24.339Z"
   },
   {
    "duration": 53,
    "start_time": "2022-06-22T20:21:24.357Z"
   },
   {
    "duration": 11,
    "start_time": "2022-06-22T20:21:24.412Z"
   },
   {
    "duration": 17,
    "start_time": "2022-06-22T20:21:24.424Z"
   },
   {
    "duration": 23,
    "start_time": "2022-06-22T20:21:24.443Z"
   },
   {
    "duration": 15,
    "start_time": "2022-06-22T20:21:24.467Z"
   },
   {
    "duration": 24,
    "start_time": "2022-06-22T20:21:24.488Z"
   },
   {
    "duration": 6,
    "start_time": "2022-06-22T20:21:24.514Z"
   },
   {
    "duration": 5,
    "start_time": "2022-06-22T20:21:24.522Z"
   },
   {
    "duration": 39,
    "start_time": "2022-06-22T20:34:45.450Z"
   },
   {
    "duration": 17,
    "start_time": "2022-06-22T20:34:59.841Z"
   },
   {
    "duration": 7,
    "start_time": "2022-06-22T20:36:34.383Z"
   },
   {
    "duration": 5,
    "start_time": "2022-06-22T20:36:40.721Z"
   },
   {
    "duration": 22,
    "start_time": "2022-06-22T20:38:55.199Z"
   },
   {
    "duration": 5,
    "start_time": "2022-06-22T20:50:35.429Z"
   },
   {
    "duration": 6,
    "start_time": "2022-06-22T20:50:43.440Z"
   },
   {
    "duration": 93,
    "start_time": "2022-06-22T22:19:13.862Z"
   },
   {
    "duration": 44,
    "start_time": "2022-06-22T22:37:37.637Z"
   },
   {
    "duration": 1284,
    "start_time": "2022-06-22T22:38:48.198Z"
   },
   {
    "duration": 4,
    "start_time": "2022-06-22T22:38:49.485Z"
   },
   {
    "duration": 268,
    "start_time": "2022-06-22T22:38:49.491Z"
   },
   {
    "duration": 522,
    "start_time": "2022-06-22T22:38:49.761Z"
   },
   {
    "duration": 370,
    "start_time": "2022-06-22T22:38:50.284Z"
   },
   {
    "duration": 78,
    "start_time": "2022-06-22T22:38:50.655Z"
   },
   {
    "duration": 57,
    "start_time": "2022-06-22T22:38:50.739Z"
   },
   {
    "duration": 30,
    "start_time": "2022-06-22T22:38:50.798Z"
   },
   {
    "duration": 21,
    "start_time": "2022-06-22T22:38:50.834Z"
   },
   {
    "duration": 20,
    "start_time": "2022-06-22T22:38:50.858Z"
   },
   {
    "duration": 22,
    "start_time": "2022-06-22T22:38:50.880Z"
   },
   {
    "duration": 39,
    "start_time": "2022-06-22T22:38:50.903Z"
   },
   {
    "duration": 27,
    "start_time": "2022-06-22T22:38:50.943Z"
   },
   {
    "duration": 26,
    "start_time": "2022-06-22T22:38:50.972Z"
   },
   {
    "duration": 25,
    "start_time": "2022-06-22T22:38:51.000Z"
   },
   {
    "duration": 55,
    "start_time": "2022-06-22T22:38:51.029Z"
   },
   {
    "duration": 30,
    "start_time": "2022-06-22T22:38:51.086Z"
   },
   {
    "duration": 35,
    "start_time": "2022-06-22T22:38:51.117Z"
   },
   {
    "duration": 49,
    "start_time": "2022-06-22T22:38:51.154Z"
   },
   {
    "duration": 49,
    "start_time": "2022-06-22T22:38:51.204Z"
   },
   {
    "duration": 9,
    "start_time": "2022-06-22T22:38:51.254Z"
   },
   {
    "duration": 583,
    "start_time": "2022-06-22T22:38:51.264Z"
   },
   {
    "duration": 18,
    "start_time": "2022-06-22T22:38:51.848Z"
   },
   {
    "duration": 15,
    "start_time": "2022-06-22T22:38:51.867Z"
   },
   {
    "duration": 60,
    "start_time": "2022-06-22T22:38:51.884Z"
   },
   {
    "duration": 36,
    "start_time": "2022-06-22T22:38:51.946Z"
   },
   {
    "duration": 14,
    "start_time": "2022-06-22T22:38:51.984Z"
   },
   {
    "duration": 15,
    "start_time": "2022-06-22T22:38:52.002Z"
   },
   {
    "duration": 45,
    "start_time": "2022-06-22T22:38:52.018Z"
   },
   {
    "duration": 23,
    "start_time": "2022-06-22T22:38:52.065Z"
   },
   {
    "duration": 424,
    "start_time": "2022-06-22T22:38:52.091Z"
   },
   {
    "duration": 21,
    "start_time": "2022-06-22T22:38:52.516Z"
   },
   {
    "duration": 37,
    "start_time": "2022-06-22T22:38:52.542Z"
   },
   {
    "duration": 27,
    "start_time": "2022-06-22T22:38:52.580Z"
   },
   {
    "duration": 42,
    "start_time": "2022-06-22T22:38:52.609Z"
   },
   {
    "duration": 356,
    "start_time": "2022-06-22T22:38:52.653Z"
   },
   {
    "duration": 27,
    "start_time": "2022-06-22T22:38:53.010Z"
   },
   {
    "duration": 26,
    "start_time": "2022-06-22T22:38:53.045Z"
   },
   {
    "duration": 30,
    "start_time": "2022-06-22T22:38:53.073Z"
   },
   {
    "duration": 46,
    "start_time": "2022-06-22T22:38:53.105Z"
   },
   {
    "duration": 16,
    "start_time": "2022-06-22T22:38:53.153Z"
   },
   {
    "duration": 32,
    "start_time": "2022-06-22T22:38:53.171Z"
   },
   {
    "duration": 19,
    "start_time": "2022-06-22T22:38:53.205Z"
   },
   {
    "duration": 48,
    "start_time": "2022-06-22T22:38:53.226Z"
   },
   {
    "duration": 27,
    "start_time": "2022-06-22T22:38:53.276Z"
   },
   {
    "duration": 28,
    "start_time": "2022-06-22T22:38:53.304Z"
   },
   {
    "duration": 11,
    "start_time": "2022-06-22T22:38:53.334Z"
   },
   {
    "duration": 34,
    "start_time": "2022-06-22T22:38:53.346Z"
   },
   {
    "duration": 13,
    "start_time": "2022-06-22T22:38:53.381Z"
   },
   {
    "duration": 22,
    "start_time": "2022-06-22T22:38:53.396Z"
   },
   {
    "duration": 55,
    "start_time": "2022-06-22T22:38:53.419Z"
   },
   {
    "duration": 12,
    "start_time": "2022-06-22T22:38:53.476Z"
   },
   {
    "duration": 32,
    "start_time": "2022-06-22T22:38:53.489Z"
   },
   {
    "duration": 767,
    "start_time": "2022-06-22T22:39:21.390Z"
   },
   {
    "duration": 6,
    "start_time": "2022-06-22T22:39:23.888Z"
   },
   {
    "duration": 5,
    "start_time": "2022-06-22T22:39:29.169Z"
   },
   {
    "duration": 8,
    "start_time": "2022-06-22T22:39:55.399Z"
   },
   {
    "duration": 32,
    "start_time": "2022-06-22T22:40:22.918Z"
   },
   {
    "duration": 571,
    "start_time": "2022-06-22T22:41:34.981Z"
   },
   {
    "duration": 49,
    "start_time": "2022-06-22T22:41:35.619Z"
   },
   {
    "duration": 6,
    "start_time": "2022-06-22T22:41:39.754Z"
   },
   {
    "duration": 64,
    "start_time": "2022-06-22T22:44:15.285Z"
   },
   {
    "duration": 3,
    "start_time": "2022-06-22T22:44:24.475Z"
   },
   {
    "duration": 6,
    "start_time": "2022-06-22T22:44:24.480Z"
   },
   {
    "duration": 205,
    "start_time": "2022-06-22T22:44:24.487Z"
   },
   {
    "duration": 162,
    "start_time": "2022-06-22T22:44:24.694Z"
   },
   {
    "duration": 93,
    "start_time": "2022-06-22T22:44:24.858Z"
   },
   {
    "duration": 17,
    "start_time": "2022-06-22T22:44:24.952Z"
   },
   {
    "duration": 27,
    "start_time": "2022-06-22T22:44:24.971Z"
   },
   {
    "duration": 26,
    "start_time": "2022-06-22T22:44:25.000Z"
   },
   {
    "duration": 15,
    "start_time": "2022-06-22T22:44:25.029Z"
   },
   {
    "duration": 28,
    "start_time": "2022-06-22T22:44:25.046Z"
   },
   {
    "duration": 11,
    "start_time": "2022-06-22T22:44:25.076Z"
   },
   {
    "duration": 19,
    "start_time": "2022-06-22T22:44:25.088Z"
   },
   {
    "duration": 17,
    "start_time": "2022-06-22T22:44:25.127Z"
   },
   {
    "duration": 11,
    "start_time": "2022-06-22T22:44:25.146Z"
   },
   {
    "duration": 9,
    "start_time": "2022-06-22T22:44:25.159Z"
   },
   {
    "duration": 12,
    "start_time": "2022-06-22T22:44:25.170Z"
   },
   {
    "duration": 11,
    "start_time": "2022-06-22T22:44:25.184Z"
   },
   {
    "duration": 5,
    "start_time": "2022-06-22T22:44:25.197Z"
   },
   {
    "duration": 19,
    "start_time": "2022-06-22T22:44:25.232Z"
   },
   {
    "duration": 38,
    "start_time": "2022-06-22T22:44:25.253Z"
   },
   {
    "duration": 18,
    "start_time": "2022-06-22T22:44:25.293Z"
   },
   {
    "duration": 590,
    "start_time": "2022-06-22T22:44:25.313Z"
   },
   {
    "duration": 23,
    "start_time": "2022-06-22T22:44:25.904Z"
   },
   {
    "duration": 12,
    "start_time": "2022-06-22T22:44:25.941Z"
   },
   {
    "duration": 32,
    "start_time": "2022-06-22T22:44:25.955Z"
   },
   {
    "duration": 24,
    "start_time": "2022-06-22T22:44:25.989Z"
   },
   {
    "duration": 26,
    "start_time": "2022-06-22T22:44:26.015Z"
   },
   {
    "duration": 15,
    "start_time": "2022-06-22T22:44:26.047Z"
   },
   {
    "duration": 16,
    "start_time": "2022-06-22T22:44:26.064Z"
   },
   {
    "duration": 17,
    "start_time": "2022-06-22T22:44:26.082Z"
   },
   {
    "duration": 510,
    "start_time": "2022-06-22T22:44:26.100Z"
   },
   {
    "duration": 31,
    "start_time": "2022-06-22T22:44:26.612Z"
   },
   {
    "duration": 32,
    "start_time": "2022-06-22T22:44:26.645Z"
   },
   {
    "duration": 10,
    "start_time": "2022-06-22T22:44:26.678Z"
   },
   {
    "duration": 23,
    "start_time": "2022-06-22T22:44:26.690Z"
   },
   {
    "duration": 373,
    "start_time": "2022-06-22T22:44:26.715Z"
   },
   {
    "duration": 11,
    "start_time": "2022-06-22T22:44:27.090Z"
   },
   {
    "duration": 10,
    "start_time": "2022-06-22T22:44:27.103Z"
   },
   {
    "duration": 9,
    "start_time": "2022-06-22T22:44:27.130Z"
   },
   {
    "duration": 11,
    "start_time": "2022-06-22T22:44:27.141Z"
   },
   {
    "duration": 6,
    "start_time": "2022-06-22T22:44:27.154Z"
   },
   {
    "duration": 7,
    "start_time": "2022-06-22T22:44:27.162Z"
   },
   {
    "duration": 8,
    "start_time": "2022-06-22T22:44:27.170Z"
   },
   {
    "duration": 7,
    "start_time": "2022-06-22T22:44:27.180Z"
   },
   {
    "duration": 7,
    "start_time": "2022-06-22T22:44:27.189Z"
   },
   {
    "duration": 7,
    "start_time": "2022-06-22T22:44:27.197Z"
   },
   {
    "duration": 36,
    "start_time": "2022-06-22T22:44:27.206Z"
   },
   {
    "duration": 9,
    "start_time": "2022-06-22T22:44:27.244Z"
   },
   {
    "duration": 14,
    "start_time": "2022-06-22T22:44:27.255Z"
   },
   {
    "duration": 6,
    "start_time": "2022-06-22T22:44:27.271Z"
   },
   {
    "duration": 7,
    "start_time": "2022-06-22T22:44:27.279Z"
   },
   {
    "duration": 5,
    "start_time": "2022-06-22T22:44:27.288Z"
   },
   {
    "duration": 8,
    "start_time": "2022-06-22T22:44:27.295Z"
   },
   {
    "duration": 795,
    "start_time": "2022-06-22T22:44:27.305Z"
   },
   {
    "duration": 4,
    "start_time": "2022-06-22T22:44:28.102Z"
   },
   {
    "duration": 49,
    "start_time": "2022-06-22T22:44:28.107Z"
   },
   {
    "duration": 45,
    "start_time": "2022-06-22T22:44:28.157Z"
   },
   {
    "duration": 7,
    "start_time": "2022-06-22T22:44:28.204Z"
   },
   {
    "duration": 19,
    "start_time": "2022-06-22T22:44:28.229Z"
   },
   {
    "duration": 455,
    "start_time": "2022-06-22T22:44:28.250Z"
   },
   {
    "duration": 36,
    "start_time": "2022-06-22T22:44:28.707Z"
   },
   {
    "duration": 26,
    "start_time": "2022-06-22T22:44:28.744Z"
   },
   {
    "duration": 8,
    "start_time": "2022-06-22T22:44:28.771Z"
   },
   {
    "duration": 622,
    "start_time": "2022-06-22T22:44:28.780Z"
   },
   {
    "duration": 61,
    "start_time": "2022-06-22T22:44:29.403Z"
   },
   {
    "duration": 6,
    "start_time": "2022-06-22T22:44:29.465Z"
   },
   {
    "duration": 13,
    "start_time": "2022-06-22T22:44:29.472Z"
   },
   {
    "duration": 22,
    "start_time": "2022-06-22T22:44:29.486Z"
   },
   {
    "duration": 31,
    "start_time": "2022-06-22T22:44:29.512Z"
   },
   {
    "duration": 30,
    "start_time": "2022-06-22T22:44:54.288Z"
   },
   {
    "duration": 48,
    "start_time": "2022-06-22T22:46:04.552Z"
   },
   {
    "duration": 4,
    "start_time": "2022-06-22T22:46:10.663Z"
   },
   {
    "duration": 11,
    "start_time": "2022-06-22T22:47:48.237Z"
   },
   {
    "duration": 19,
    "start_time": "2022-06-22T22:47:53.854Z"
   },
   {
    "duration": 23,
    "start_time": "2022-06-22T22:48:17.652Z"
   },
   {
    "duration": 19,
    "start_time": "2022-06-22T22:58:25.273Z"
   },
   {
    "duration": 15,
    "start_time": "2022-06-22T23:03:31.355Z"
   },
   {
    "duration": 5,
    "start_time": "2022-06-22T23:04:30.348Z"
   },
   {
    "duration": 18,
    "start_time": "2022-06-22T23:04:34.922Z"
   },
   {
    "duration": 5,
    "start_time": "2022-06-22T23:06:32.939Z"
   },
   {
    "duration": 4,
    "start_time": "2022-06-22T23:08:34.608Z"
   },
   {
    "duration": 13,
    "start_time": "2022-06-22T23:08:39.816Z"
   },
   {
    "duration": 12,
    "start_time": "2022-06-22T23:11:19.699Z"
   },
   {
    "duration": 4,
    "start_time": "2022-06-22T23:11:29.584Z"
   },
   {
    "duration": 6,
    "start_time": "2022-06-22T23:11:29.590Z"
   },
   {
    "duration": 205,
    "start_time": "2022-06-22T23:11:29.598Z"
   },
   {
    "duration": 166,
    "start_time": "2022-06-22T23:11:29.806Z"
   },
   {
    "duration": 105,
    "start_time": "2022-06-22T23:11:29.974Z"
   },
   {
    "duration": 17,
    "start_time": "2022-06-22T23:11:30.080Z"
   },
   {
    "duration": 34,
    "start_time": "2022-06-22T23:11:30.099Z"
   },
   {
    "duration": 32,
    "start_time": "2022-06-22T23:11:30.134Z"
   },
   {
    "duration": 15,
    "start_time": "2022-06-22T23:11:30.169Z"
   },
   {
    "duration": 48,
    "start_time": "2022-06-22T23:11:30.186Z"
   },
   {
    "duration": 14,
    "start_time": "2022-06-22T23:11:30.236Z"
   },
   {
    "duration": 36,
    "start_time": "2022-06-22T23:11:30.252Z"
   },
   {
    "duration": 23,
    "start_time": "2022-06-22T23:11:30.290Z"
   },
   {
    "duration": 24,
    "start_time": "2022-06-22T23:11:30.315Z"
   },
   {
    "duration": 46,
    "start_time": "2022-06-22T23:11:30.345Z"
   },
   {
    "duration": 44,
    "start_time": "2022-06-22T23:11:30.393Z"
   },
   {
    "duration": 37,
    "start_time": "2022-06-22T23:11:30.438Z"
   },
   {
    "duration": 22,
    "start_time": "2022-06-22T23:11:30.478Z"
   },
   {
    "duration": 54,
    "start_time": "2022-06-22T23:11:30.503Z"
   },
   {
    "duration": 61,
    "start_time": "2022-06-22T23:11:30.559Z"
   },
   {
    "duration": 20,
    "start_time": "2022-06-22T23:11:30.623Z"
   },
   {
    "duration": 633,
    "start_time": "2022-06-22T23:11:30.645Z"
   },
   {
    "duration": 15,
    "start_time": "2022-06-22T23:11:31.280Z"
   },
   {
    "duration": 13,
    "start_time": "2022-06-22T23:11:31.299Z"
   },
   {
    "duration": 53,
    "start_time": "2022-06-22T23:11:31.313Z"
   },
   {
    "duration": 27,
    "start_time": "2022-06-22T23:11:31.368Z"
   },
   {
    "duration": 11,
    "start_time": "2022-06-22T23:11:31.397Z"
   },
   {
    "duration": 18,
    "start_time": "2022-06-22T23:11:31.431Z"
   },
   {
    "duration": 38,
    "start_time": "2022-06-22T23:11:31.453Z"
   },
   {
    "duration": 17,
    "start_time": "2022-06-22T23:11:31.493Z"
   },
   {
    "duration": 431,
    "start_time": "2022-06-22T23:11:31.511Z"
   },
   {
    "duration": 13,
    "start_time": "2022-06-22T23:11:31.944Z"
   },
   {
    "duration": 32,
    "start_time": "2022-06-22T23:11:31.958Z"
   },
   {
    "duration": 10,
    "start_time": "2022-06-22T23:11:31.992Z"
   },
   {
    "duration": 38,
    "start_time": "2022-06-22T23:11:32.004Z"
   },
   {
    "duration": 338,
    "start_time": "2022-06-22T23:11:32.044Z"
   },
   {
    "duration": 15,
    "start_time": "2022-06-22T23:11:32.384Z"
   },
   {
    "duration": 9,
    "start_time": "2022-06-22T23:11:32.401Z"
   },
   {
    "duration": 9,
    "start_time": "2022-06-22T23:11:32.427Z"
   },
   {
    "duration": 20,
    "start_time": "2022-06-22T23:11:32.440Z"
   },
   {
    "duration": 15,
    "start_time": "2022-06-22T23:11:32.462Z"
   },
   {
    "duration": 8,
    "start_time": "2022-06-22T23:11:32.478Z"
   },
   {
    "duration": 8,
    "start_time": "2022-06-22T23:11:32.488Z"
   },
   {
    "duration": 9,
    "start_time": "2022-06-22T23:11:32.497Z"
   },
   {
    "duration": 12,
    "start_time": "2022-06-22T23:11:32.508Z"
   },
   {
    "duration": 12,
    "start_time": "2022-06-22T23:11:32.522Z"
   },
   {
    "duration": 17,
    "start_time": "2022-06-22T23:11:32.536Z"
   },
   {
    "duration": 7,
    "start_time": "2022-06-22T23:11:32.554Z"
   },
   {
    "duration": 7,
    "start_time": "2022-06-22T23:11:32.563Z"
   },
   {
    "duration": 10,
    "start_time": "2022-06-22T23:11:32.572Z"
   },
   {
    "duration": 8,
    "start_time": "2022-06-22T23:11:32.584Z"
   },
   {
    "duration": 11,
    "start_time": "2022-06-22T23:11:32.594Z"
   },
   {
    "duration": 16,
    "start_time": "2022-06-22T23:11:32.606Z"
   },
   {
    "duration": 773,
    "start_time": "2022-06-22T23:11:32.623Z"
   },
   {
    "duration": 4,
    "start_time": "2022-06-22T23:11:33.398Z"
   },
   {
    "duration": 39,
    "start_time": "2022-06-22T23:11:33.404Z"
   },
   {
    "duration": 54,
    "start_time": "2022-06-22T23:11:33.446Z"
   },
   {
    "duration": 9,
    "start_time": "2022-06-22T23:11:33.502Z"
   },
   {
    "duration": 44,
    "start_time": "2022-06-22T23:11:33.513Z"
   },
   {
    "duration": 494,
    "start_time": "2022-06-22T23:11:33.559Z"
   },
   {
    "duration": 17,
    "start_time": "2022-06-22T23:11:34.054Z"
   },
   {
    "duration": 27,
    "start_time": "2022-06-22T23:11:34.073Z"
   },
   {
    "duration": 7,
    "start_time": "2022-06-22T23:11:34.102Z"
   },
   {
    "duration": 552,
    "start_time": "2022-06-22T23:11:34.133Z"
   },
   {
    "duration": 55,
    "start_time": "2022-06-22T23:11:34.687Z"
   },
   {
    "duration": 6,
    "start_time": "2022-06-22T23:11:34.745Z"
   },
   {
    "duration": 10,
    "start_time": "2022-06-22T23:11:34.752Z"
   },
   {
    "duration": 24,
    "start_time": "2022-06-22T23:11:34.764Z"
   },
   {
    "duration": 18,
    "start_time": "2022-06-22T23:11:34.794Z"
   },
   {
    "duration": 18,
    "start_time": "2022-06-22T23:11:34.827Z"
   },
   {
    "duration": 30,
    "start_time": "2022-06-22T23:11:34.849Z"
   },
   {
    "duration": 5,
    "start_time": "2022-06-22T23:11:34.880Z"
   },
   {
    "duration": 9,
    "start_time": "2022-06-22T23:11:34.887Z"
   },
   {
    "duration": 11,
    "start_time": "2022-06-22T23:11:34.898Z"
   },
   {
    "duration": 7,
    "start_time": "2022-06-22T23:11:34.911Z"
   },
   {
    "duration": 27,
    "start_time": "2022-06-22T23:11:34.919Z"
   },
   {
    "duration": 5,
    "start_time": "2022-06-22T23:11:34.948Z"
   },
   {
    "duration": 6,
    "start_time": "2022-06-22T23:11:34.955Z"
   },
   {
    "duration": 22,
    "start_time": "2022-06-22T23:11:34.963Z"
   },
   {
    "duration": 4,
    "start_time": "2022-06-22T23:11:34.986Z"
   },
   {
    "duration": 9,
    "start_time": "2022-06-22T23:11:34.992Z"
   },
   {
    "duration": 11,
    "start_time": "2022-06-22T23:11:35.003Z"
   },
   {
    "duration": 9,
    "start_time": "2022-06-22T23:12:02.458Z"
   },
   {
    "duration": 9,
    "start_time": "2022-06-22T23:12:03.457Z"
   },
   {
    "duration": 12,
    "start_time": "2022-06-22T23:13:21.837Z"
   },
   {
    "duration": 200,
    "start_time": "2022-06-22T23:22:56.176Z"
   },
   {
    "duration": 10,
    "start_time": "2022-06-22T23:24:03.095Z"
   },
   {
    "duration": 170,
    "start_time": "2022-06-22T23:24:36.268Z"
   },
   {
    "duration": 29,
    "start_time": "2022-06-22T23:25:16.828Z"
   },
   {
    "duration": 126,
    "start_time": "2022-06-22T23:25:27.626Z"
   },
   {
    "duration": 139,
    "start_time": "2022-06-22T23:26:05.888Z"
   },
   {
    "duration": 154,
    "start_time": "2022-06-22T23:26:09.705Z"
   },
   {
    "duration": 137,
    "start_time": "2022-06-22T23:26:12.623Z"
   },
   {
    "duration": 9,
    "start_time": "2022-06-22T23:26:41.656Z"
   },
   {
    "duration": 93,
    "start_time": "2022-06-22T23:27:12.670Z"
   },
   {
    "duration": 12,
    "start_time": "2022-06-22T23:32:08.539Z"
   },
   {
    "duration": 188,
    "start_time": "2022-06-22T23:32:10.154Z"
   },
   {
    "duration": 45,
    "start_time": "2022-06-23T13:40:27.933Z"
   },
   {
    "duration": 1260,
    "start_time": "2022-06-23T13:40:33.464Z"
   },
   {
    "duration": 3,
    "start_time": "2022-06-23T13:40:34.726Z"
   },
   {
    "duration": 212,
    "start_time": "2022-06-23T13:40:34.731Z"
   },
   {
    "duration": 430,
    "start_time": "2022-06-23T13:40:34.945Z"
   },
   {
    "duration": 561,
    "start_time": "2022-06-23T13:40:35.376Z"
   },
   {
    "duration": 59,
    "start_time": "2022-06-23T13:40:35.939Z"
   },
   {
    "duration": 47,
    "start_time": "2022-06-23T13:40:36.000Z"
   },
   {
    "duration": 23,
    "start_time": "2022-06-23T13:40:36.049Z"
   },
   {
    "duration": 14,
    "start_time": "2022-06-23T13:40:36.074Z"
   },
   {
    "duration": 18,
    "start_time": "2022-06-23T13:40:36.091Z"
   },
   {
    "duration": 11,
    "start_time": "2022-06-23T13:40:36.111Z"
   },
   {
    "duration": 44,
    "start_time": "2022-06-23T13:40:36.123Z"
   },
   {
    "duration": 10,
    "start_time": "2022-06-23T13:40:36.169Z"
   },
   {
    "duration": 10,
    "start_time": "2022-06-23T13:40:36.181Z"
   },
   {
    "duration": 17,
    "start_time": "2022-06-23T13:40:36.193Z"
   },
   {
    "duration": 39,
    "start_time": "2022-06-23T13:40:36.212Z"
   },
   {
    "duration": 9,
    "start_time": "2022-06-23T13:40:36.252Z"
   },
   {
    "duration": 9,
    "start_time": "2022-06-23T13:40:36.262Z"
   },
   {
    "duration": 19,
    "start_time": "2022-06-23T13:40:36.273Z"
   },
   {
    "duration": 33,
    "start_time": "2022-06-23T13:40:36.294Z"
   },
   {
    "duration": 9,
    "start_time": "2022-06-23T13:40:36.328Z"
   },
   {
    "duration": 544,
    "start_time": "2022-06-23T13:40:36.351Z"
   },
   {
    "duration": 15,
    "start_time": "2022-06-23T13:40:36.897Z"
   },
   {
    "duration": 9,
    "start_time": "2022-06-23T13:40:36.914Z"
   },
   {
    "duration": 43,
    "start_time": "2022-06-23T13:40:36.924Z"
   },
   {
    "duration": 21,
    "start_time": "2022-06-23T13:40:36.969Z"
   },
   {
    "duration": 7,
    "start_time": "2022-06-23T13:40:36.991Z"
   },
   {
    "duration": 8,
    "start_time": "2022-06-23T13:40:37.002Z"
   },
   {
    "duration": 12,
    "start_time": "2022-06-23T13:40:37.011Z"
   },
   {
    "duration": 36,
    "start_time": "2022-06-23T13:40:37.024Z"
   },
   {
    "duration": 400,
    "start_time": "2022-06-23T13:40:37.062Z"
   },
   {
    "duration": 16,
    "start_time": "2022-06-23T13:40:37.464Z"
   },
   {
    "duration": 28,
    "start_time": "2022-06-23T13:40:37.481Z"
   },
   {
    "duration": 12,
    "start_time": "2022-06-23T13:40:37.511Z"
   },
   {
    "duration": 47,
    "start_time": "2022-06-23T13:40:37.525Z"
   },
   {
    "duration": 333,
    "start_time": "2022-06-23T13:40:37.574Z"
   },
   {
    "duration": 13,
    "start_time": "2022-06-23T13:40:37.908Z"
   },
   {
    "duration": 13,
    "start_time": "2022-06-23T13:40:37.923Z"
   },
   {
    "duration": 14,
    "start_time": "2022-06-23T13:40:37.938Z"
   },
   {
    "duration": 8,
    "start_time": "2022-06-23T13:40:37.954Z"
   },
   {
    "duration": 7,
    "start_time": "2022-06-23T13:40:37.963Z"
   },
   {
    "duration": 7,
    "start_time": "2022-06-23T13:40:37.971Z"
   },
   {
    "duration": 8,
    "start_time": "2022-06-23T13:40:37.979Z"
   },
   {
    "duration": 6,
    "start_time": "2022-06-23T13:40:37.989Z"
   },
   {
    "duration": 7,
    "start_time": "2022-06-23T13:40:37.996Z"
   },
   {
    "duration": 5,
    "start_time": "2022-06-23T13:40:38.004Z"
   },
   {
    "duration": 9,
    "start_time": "2022-06-23T13:40:38.010Z"
   },
   {
    "duration": 32,
    "start_time": "2022-06-23T13:40:38.020Z"
   },
   {
    "duration": 7,
    "start_time": "2022-06-23T13:40:38.053Z"
   },
   {
    "duration": 6,
    "start_time": "2022-06-23T13:40:38.061Z"
   },
   {
    "duration": 6,
    "start_time": "2022-06-23T13:40:38.068Z"
   },
   {
    "duration": 6,
    "start_time": "2022-06-23T13:40:38.075Z"
   },
   {
    "duration": 6,
    "start_time": "2022-06-23T13:40:38.082Z"
   },
   {
    "duration": 712,
    "start_time": "2022-06-23T13:40:38.089Z"
   },
   {
    "duration": 3,
    "start_time": "2022-06-23T13:40:38.803Z"
   },
   {
    "duration": 44,
    "start_time": "2022-06-23T13:40:38.808Z"
   },
   {
    "duration": 43,
    "start_time": "2022-06-23T13:40:38.853Z"
   },
   {
    "duration": 8,
    "start_time": "2022-06-23T13:40:38.897Z"
   },
   {
    "duration": 11,
    "start_time": "2022-06-23T13:40:38.906Z"
   },
   {
    "duration": 439,
    "start_time": "2022-06-23T13:40:38.918Z"
   },
   {
    "duration": 17,
    "start_time": "2022-06-23T13:40:39.358Z"
   },
   {
    "duration": 22,
    "start_time": "2022-06-23T13:40:39.376Z"
   },
   {
    "duration": 7,
    "start_time": "2022-06-23T13:40:39.399Z"
   },
   {
    "duration": 535,
    "start_time": "2022-06-23T13:40:39.407Z"
   },
   {
    "duration": 40,
    "start_time": "2022-06-23T13:40:39.943Z"
   },
   {
    "duration": 5,
    "start_time": "2022-06-23T13:40:39.985Z"
   },
   {
    "duration": 14,
    "start_time": "2022-06-23T13:40:39.991Z"
   },
   {
    "duration": 22,
    "start_time": "2022-06-23T13:40:40.006Z"
   },
   {
    "duration": 22,
    "start_time": "2022-06-23T13:40:40.029Z"
   },
   {
    "duration": 8,
    "start_time": "2022-06-23T13:40:40.053Z"
   },
   {
    "duration": 16,
    "start_time": "2022-06-23T13:40:40.062Z"
   },
   {
    "duration": 5,
    "start_time": "2022-06-23T13:40:40.079Z"
   },
   {
    "duration": 5,
    "start_time": "2022-06-23T13:40:40.085Z"
   },
   {
    "duration": 6,
    "start_time": "2022-06-23T13:40:40.091Z"
   },
   {
    "duration": 7,
    "start_time": "2022-06-23T13:40:40.098Z"
   },
   {
    "duration": 7,
    "start_time": "2022-06-23T13:40:40.106Z"
   },
   {
    "duration": 6,
    "start_time": "2022-06-23T13:40:40.114Z"
   },
   {
    "duration": 32,
    "start_time": "2022-06-23T13:40:40.121Z"
   },
   {
    "duration": 20,
    "start_time": "2022-06-23T13:40:40.155Z"
   },
   {
    "duration": 6,
    "start_time": "2022-06-23T13:40:40.177Z"
   },
   {
    "duration": 7,
    "start_time": "2022-06-23T13:40:40.185Z"
   },
   {
    "duration": 13,
    "start_time": "2022-06-23T13:40:40.196Z"
   },
   {
    "duration": 44,
    "start_time": "2022-06-23T13:40:40.212Z"
   },
   {
    "duration": 157,
    "start_time": "2022-06-23T15:00:33.138Z"
   },
   {
    "duration": 17,
    "start_time": "2022-06-23T15:00:46.251Z"
   },
   {
    "duration": 65,
    "start_time": "2022-06-23T15:00:50.443Z"
   },
   {
    "duration": 8,
    "start_time": "2022-06-23T15:00:58.500Z"
   },
   {
    "duration": 113,
    "start_time": "2022-06-23T15:01:10.800Z"
   },
   {
    "duration": 11,
    "start_time": "2022-06-23T15:01:31.958Z"
   },
   {
    "duration": 15,
    "start_time": "2022-06-23T15:01:36.012Z"
   },
   {
    "duration": 128,
    "start_time": "2022-06-23T15:01:52.637Z"
   },
   {
    "duration": 143,
    "start_time": "2022-06-23T15:02:12.594Z"
   },
   {
    "duration": 10,
    "start_time": "2022-06-23T15:02:30.224Z"
   },
   {
    "duration": 87,
    "start_time": "2022-06-23T15:02:38.794Z"
   },
   {
    "duration": 149,
    "start_time": "2022-06-23T15:02:57.365Z"
   },
   {
    "duration": 13,
    "start_time": "2022-06-23T15:03:02.600Z"
   },
   {
    "duration": 91,
    "start_time": "2022-06-23T15:03:09.370Z"
   },
   {
    "duration": 138,
    "start_time": "2022-06-23T15:03:47.354Z"
   },
   {
    "duration": 9,
    "start_time": "2022-06-23T15:03:57.108Z"
   },
   {
    "duration": 10,
    "start_time": "2022-06-23T15:04:02.299Z"
   },
   {
    "duration": 158,
    "start_time": "2022-06-23T15:04:23.963Z"
   },
   {
    "duration": 131,
    "start_time": "2022-06-23T15:04:46.226Z"
   },
   {
    "duration": 11,
    "start_time": "2022-06-23T15:05:13.450Z"
   },
   {
    "duration": 8,
    "start_time": "2022-06-23T15:05:21.616Z"
   },
   {
    "duration": 107,
    "start_time": "2022-06-23T15:05:51.173Z"
   },
   {
    "duration": 1661,
    "start_time": "2022-06-23T15:06:09.336Z"
   },
   {
    "duration": 120,
    "start_time": "2022-06-23T15:06:20.826Z"
   },
   {
    "duration": 10,
    "start_time": "2022-06-23T15:06:42.073Z"
   },
   {
    "duration": 116,
    "start_time": "2022-06-23T15:07:04.946Z"
   },
   {
    "duration": 77,
    "start_time": "2022-06-23T15:18:04.203Z"
   },
   {
    "duration": 44,
    "start_time": "2022-06-23T15:18:54.100Z"
   },
   {
    "duration": 10,
    "start_time": "2022-06-23T15:20:19.762Z"
   },
   {
    "duration": 127,
    "start_time": "2022-06-23T15:26:14.970Z"
   },
   {
    "duration": 123,
    "start_time": "2022-06-23T15:30:56.162Z"
   },
   {
    "duration": 106,
    "start_time": "2022-06-23T15:31:09.668Z"
   },
   {
    "duration": 119,
    "start_time": "2022-06-23T15:31:36.281Z"
   },
   {
    "duration": 141,
    "start_time": "2022-06-23T15:31:49.451Z"
   },
   {
    "duration": 123,
    "start_time": "2022-06-23T15:31:55.062Z"
   },
   {
    "duration": 114,
    "start_time": "2022-06-23T15:32:00.063Z"
   },
   {
    "duration": 121,
    "start_time": "2022-06-23T15:32:05.443Z"
   },
   {
    "duration": 128,
    "start_time": "2022-06-23T15:32:25.706Z"
   },
   {
    "duration": 127,
    "start_time": "2022-06-23T15:33:01.539Z"
   },
   {
    "duration": 273,
    "start_time": "2022-06-23T15:34:22.594Z"
   },
   {
    "duration": 11,
    "start_time": "2022-06-23T15:34:27.133Z"
   },
   {
    "duration": 150,
    "start_time": "2022-06-23T15:34:50.582Z"
   },
   {
    "duration": 142,
    "start_time": "2022-06-23T15:35:23.695Z"
   },
   {
    "duration": 145,
    "start_time": "2022-06-23T15:35:27.707Z"
   },
   {
    "duration": 145,
    "start_time": "2022-06-23T15:35:41.595Z"
   },
   {
    "duration": 141,
    "start_time": "2022-06-23T15:35:44.892Z"
   },
   {
    "duration": 158,
    "start_time": "2022-06-23T15:37:27.744Z"
   },
   {
    "duration": 161,
    "start_time": "2022-06-23T15:37:32.758Z"
   },
   {
    "duration": 135,
    "start_time": "2022-06-23T15:37:36.808Z"
   },
   {
    "duration": 147,
    "start_time": "2022-06-23T15:37:40.819Z"
   },
   {
    "duration": 157,
    "start_time": "2022-06-23T15:38:05.785Z"
   },
   {
    "duration": 240,
    "start_time": "2022-06-23T15:38:15.216Z"
   },
   {
    "duration": 167,
    "start_time": "2022-06-23T15:38:24.297Z"
   },
   {
    "duration": 166,
    "start_time": "2022-06-23T15:39:36.298Z"
   },
   {
    "duration": 166,
    "start_time": "2022-06-23T15:39:43.799Z"
   },
   {
    "duration": 152,
    "start_time": "2022-06-23T15:40:05.513Z"
   },
   {
    "duration": 143,
    "start_time": "2022-06-23T15:40:16.692Z"
   },
   {
    "duration": 138,
    "start_time": "2022-06-23T15:40:39.904Z"
   },
   {
    "duration": 144,
    "start_time": "2022-06-23T15:40:48.123Z"
   },
   {
    "duration": 151,
    "start_time": "2022-06-23T15:41:12.988Z"
   },
   {
    "duration": 155,
    "start_time": "2022-06-23T15:41:22.790Z"
   },
   {
    "duration": 152,
    "start_time": "2022-06-23T15:41:29.966Z"
   },
   {
    "duration": 255,
    "start_time": "2022-06-23T15:41:43.892Z"
   },
   {
    "duration": 226,
    "start_time": "2022-06-23T15:41:53.432Z"
   },
   {
    "duration": 141,
    "start_time": "2022-06-23T15:42:30.095Z"
   },
   {
    "duration": 158,
    "start_time": "2022-06-23T15:42:42.818Z"
   },
   {
    "duration": 115,
    "start_time": "2022-06-23T15:43:20.328Z"
   },
   {
    "duration": 195,
    "start_time": "2022-06-23T15:43:50.117Z"
   },
   {
    "duration": 151,
    "start_time": "2022-06-23T15:44:04.144Z"
   },
   {
    "duration": 151,
    "start_time": "2022-06-23T15:44:45.718Z"
   },
   {
    "duration": 148,
    "start_time": "2022-06-23T15:44:54.830Z"
   },
   {
    "duration": 124,
    "start_time": "2022-06-23T15:45:02.603Z"
   },
   {
    "duration": 132,
    "start_time": "2022-06-23T15:45:33.237Z"
   },
   {
    "duration": 238,
    "start_time": "2022-06-23T15:46:00.766Z"
   },
   {
    "duration": 63,
    "start_time": "2022-06-23T15:46:58.735Z"
   },
   {
    "duration": 149,
    "start_time": "2022-06-23T15:47:09.043Z"
   },
   {
    "duration": 144,
    "start_time": "2022-06-23T15:47:21.280Z"
   },
   {
    "duration": 142,
    "start_time": "2022-06-23T15:48:10.807Z"
   },
   {
    "duration": 224,
    "start_time": "2022-06-23T15:55:31.005Z"
   },
   {
    "duration": 106,
    "start_time": "2022-06-23T15:56:57.782Z"
   },
   {
    "duration": 80,
    "start_time": "2022-06-23T15:57:16.725Z"
   },
   {
    "duration": 53,
    "start_time": "2022-06-23T15:57:33.383Z"
   },
   {
    "duration": 72,
    "start_time": "2022-06-23T15:57:44.134Z"
   },
   {
    "duration": 117,
    "start_time": "2022-06-23T15:59:50.038Z"
   },
   {
    "duration": 116,
    "start_time": "2022-06-23T16:00:54.918Z"
   },
   {
    "duration": 128,
    "start_time": "2022-06-23T16:01:46.639Z"
   },
   {
    "duration": 108,
    "start_time": "2022-06-23T16:04:01.675Z"
   },
   {
    "duration": 12,
    "start_time": "2022-06-23T16:04:26.341Z"
   },
   {
    "duration": 105,
    "start_time": "2022-06-23T16:04:35.091Z"
   },
   {
    "duration": 148,
    "start_time": "2022-06-23T16:05:15.873Z"
   },
   {
    "duration": 49,
    "start_time": "2022-06-23T16:05:36.492Z"
   },
   {
    "duration": 225,
    "start_time": "2022-06-23T16:05:45.672Z"
   },
   {
    "duration": 156,
    "start_time": "2022-06-23T16:05:53.626Z"
   },
   {
    "duration": 140,
    "start_time": "2022-06-23T16:06:31.741Z"
   },
   {
    "duration": 103,
    "start_time": "2022-06-23T16:07:03.010Z"
   },
   {
    "duration": 157,
    "start_time": "2022-06-23T16:07:29.991Z"
   },
   {
    "duration": 162,
    "start_time": "2022-06-23T16:11:32.051Z"
   },
   {
    "duration": 131,
    "start_time": "2022-06-23T16:11:38.428Z"
   },
   {
    "duration": 152,
    "start_time": "2022-06-23T16:11:44.078Z"
   },
   {
    "duration": 159,
    "start_time": "2022-06-23T16:11:54.514Z"
   },
   {
    "duration": 142,
    "start_time": "2022-06-23T16:13:31.707Z"
   },
   {
    "duration": 167,
    "start_time": "2022-06-23T16:13:41.401Z"
   },
   {
    "duration": 154,
    "start_time": "2022-06-23T16:13:46.124Z"
   },
   {
    "duration": 165,
    "start_time": "2022-06-23T16:14:33.781Z"
   },
   {
    "duration": 106,
    "start_time": "2022-06-23T16:14:48.293Z"
   },
   {
    "duration": 151,
    "start_time": "2022-06-23T16:14:59.773Z"
   },
   {
    "duration": 309,
    "start_time": "2022-06-23T16:15:13.639Z"
   },
   {
    "duration": 168,
    "start_time": "2022-06-23T16:15:24.424Z"
   },
   {
    "duration": 159,
    "start_time": "2022-06-23T16:17:20.846Z"
   },
   {
    "duration": 146,
    "start_time": "2022-06-23T16:17:33.401Z"
   },
   {
    "duration": 144,
    "start_time": "2022-06-23T16:18:11.314Z"
   },
   {
    "duration": 23,
    "start_time": "2022-06-23T16:18:22.593Z"
   },
   {
    "duration": 153,
    "start_time": "2022-06-23T16:18:32.916Z"
   },
   {
    "duration": 265,
    "start_time": "2022-06-23T16:19:15.557Z"
   },
   {
    "duration": 75,
    "start_time": "2022-06-23T16:20:29.068Z"
   },
   {
    "duration": 109,
    "start_time": "2022-06-23T16:20:43.124Z"
   },
   {
    "duration": 170,
    "start_time": "2022-06-23T16:20:48.912Z"
   },
   {
    "duration": 165,
    "start_time": "2022-06-23T16:21:13.821Z"
   },
   {
    "duration": 145,
    "start_time": "2022-06-23T16:22:38.281Z"
   },
   {
    "duration": 222,
    "start_time": "2022-06-23T16:22:44.610Z"
   },
   {
    "duration": 27,
    "start_time": "2022-06-23T16:24:05.807Z"
   },
   {
    "duration": 19,
    "start_time": "2022-06-23T16:24:22.387Z"
   },
   {
    "duration": 225,
    "start_time": "2022-06-23T16:25:50.670Z"
   },
   {
    "duration": 236,
    "start_time": "2022-06-23T16:25:58.471Z"
   },
   {
    "duration": 245,
    "start_time": "2022-06-23T16:27:20.823Z"
   },
   {
    "duration": 179,
    "start_time": "2022-06-23T16:27:32.088Z"
   },
   {
    "duration": 271,
    "start_time": "2022-06-23T16:29:50.577Z"
   },
   {
    "duration": 413,
    "start_time": "2022-06-23T16:31:00.309Z"
   },
   {
    "duration": 230,
    "start_time": "2022-06-23T16:31:33.377Z"
   },
   {
    "duration": 176,
    "start_time": "2022-06-23T16:31:36.719Z"
   },
   {
    "duration": 232,
    "start_time": "2022-06-23T16:32:24.609Z"
   },
   {
    "duration": 148,
    "start_time": "2022-06-23T16:33:03.173Z"
   },
   {
    "duration": 183,
    "start_time": "2022-06-23T16:34:36.749Z"
   },
   {
    "duration": 171,
    "start_time": "2022-06-23T16:34:41.298Z"
   },
   {
    "duration": 201,
    "start_time": "2022-06-23T16:34:44.971Z"
   },
   {
    "duration": 255,
    "start_time": "2022-06-23T16:34:55.095Z"
   },
   {
    "duration": 165,
    "start_time": "2022-06-23T16:37:44.643Z"
   },
   {
    "duration": 147,
    "start_time": "2022-06-23T17:01:19.077Z"
   },
   {
    "duration": 28,
    "start_time": "2022-06-23T17:01:31.345Z"
   },
   {
    "duration": 10,
    "start_time": "2022-06-23T17:07:21.307Z"
   },
   {
    "duration": 8,
    "start_time": "2022-06-23T17:07:21.320Z"
   },
   {
    "duration": 234,
    "start_time": "2022-06-23T17:07:21.330Z"
   },
   {
    "duration": 161,
    "start_time": "2022-06-23T17:07:21.566Z"
   },
   {
    "duration": 129,
    "start_time": "2022-06-23T17:07:21.732Z"
   },
   {
    "duration": 44,
    "start_time": "2022-06-23T17:07:21.863Z"
   },
   {
    "duration": 90,
    "start_time": "2022-06-23T17:07:21.909Z"
   },
   {
    "duration": 30,
    "start_time": "2022-06-23T17:07:22.007Z"
   },
   {
    "duration": 26,
    "start_time": "2022-06-23T17:07:22.038Z"
   },
   {
    "duration": 69,
    "start_time": "2022-06-23T17:07:22.066Z"
   },
   {
    "duration": 11,
    "start_time": "2022-06-23T17:07:22.136Z"
   },
   {
    "duration": 113,
    "start_time": "2022-06-23T17:07:22.149Z"
   },
   {
    "duration": 19,
    "start_time": "2022-06-23T17:07:22.267Z"
   },
   {
    "duration": 76,
    "start_time": "2022-06-23T17:07:22.290Z"
   },
   {
    "duration": 77,
    "start_time": "2022-06-23T17:07:22.371Z"
   },
   {
    "duration": 83,
    "start_time": "2022-06-23T17:07:22.450Z"
   },
   {
    "duration": 36,
    "start_time": "2022-06-23T17:07:22.534Z"
   },
   {
    "duration": 69,
    "start_time": "2022-06-23T17:07:22.574Z"
   },
   {
    "duration": 49,
    "start_time": "2022-06-23T17:07:22.645Z"
   },
   {
    "duration": 56,
    "start_time": "2022-06-23T17:07:22.696Z"
   },
   {
    "duration": 89,
    "start_time": "2022-06-23T17:07:22.760Z"
   },
   {
    "duration": 904,
    "start_time": "2022-06-23T17:07:22.850Z"
   },
   {
    "duration": 23,
    "start_time": "2022-06-23T17:07:23.759Z"
   },
   {
    "duration": 24,
    "start_time": "2022-06-23T17:07:23.787Z"
   },
   {
    "duration": 52,
    "start_time": "2022-06-23T17:07:23.816Z"
   },
   {
    "duration": 35,
    "start_time": "2022-06-23T17:07:23.874Z"
   },
   {
    "duration": 27,
    "start_time": "2022-06-23T17:07:23.914Z"
   },
   {
    "duration": 18,
    "start_time": "2022-06-23T17:07:23.942Z"
   },
   {
    "duration": 72,
    "start_time": "2022-06-23T17:07:23.961Z"
   },
   {
    "duration": 23,
    "start_time": "2022-06-23T17:07:24.036Z"
   },
   {
    "duration": 663,
    "start_time": "2022-06-23T17:07:24.060Z"
   },
   {
    "duration": 34,
    "start_time": "2022-06-23T17:07:24.734Z"
   },
   {
    "duration": 117,
    "start_time": "2022-06-23T17:07:24.769Z"
   },
   {
    "duration": 56,
    "start_time": "2022-06-23T17:07:24.891Z"
   },
   {
    "duration": 95,
    "start_time": "2022-06-23T17:07:24.948Z"
   },
   {
    "duration": 592,
    "start_time": "2022-06-23T17:07:25.045Z"
   },
   {
    "duration": 19,
    "start_time": "2022-06-23T17:07:25.638Z"
   },
   {
    "duration": 66,
    "start_time": "2022-06-23T17:07:25.663Z"
   },
   {
    "duration": 15,
    "start_time": "2022-06-23T17:07:25.731Z"
   },
   {
    "duration": 78,
    "start_time": "2022-06-23T17:07:25.747Z"
   },
   {
    "duration": 8,
    "start_time": "2022-06-23T17:07:25.827Z"
   },
   {
    "duration": 6,
    "start_time": "2022-06-23T17:07:25.837Z"
   },
   {
    "duration": 20,
    "start_time": "2022-06-23T17:07:25.845Z"
   },
   {
    "duration": 58,
    "start_time": "2022-06-23T17:07:25.866Z"
   },
   {
    "duration": 6,
    "start_time": "2022-06-23T17:07:25.926Z"
   },
   {
    "duration": 6,
    "start_time": "2022-06-23T17:07:25.933Z"
   },
   {
    "duration": 7,
    "start_time": "2022-06-23T17:07:25.941Z"
   },
   {
    "duration": 75,
    "start_time": "2022-06-23T17:07:25.950Z"
   },
   {
    "duration": 13,
    "start_time": "2022-06-23T17:07:26.027Z"
   },
   {
    "duration": 18,
    "start_time": "2022-06-23T17:07:26.042Z"
   },
   {
    "duration": 62,
    "start_time": "2022-06-23T17:07:26.061Z"
   },
   {
    "duration": 48,
    "start_time": "2022-06-23T17:07:26.130Z"
   },
   {
    "duration": 59,
    "start_time": "2022-06-23T17:07:26.188Z"
   },
   {
    "duration": 1106,
    "start_time": "2022-06-23T17:07:26.248Z"
   },
   {
    "duration": 7,
    "start_time": "2022-06-23T17:07:27.357Z"
   },
   {
    "duration": 118,
    "start_time": "2022-06-23T17:07:27.369Z"
   },
   {
    "duration": 143,
    "start_time": "2022-06-23T17:07:27.489Z"
   },
   {
    "duration": 19,
    "start_time": "2022-06-23T17:07:27.634Z"
   },
   {
    "duration": 36,
    "start_time": "2022-06-23T17:07:27.654Z"
   },
   {
    "duration": 627,
    "start_time": "2022-06-23T17:07:27.692Z"
   },
   {
    "duration": 18,
    "start_time": "2022-06-23T17:07:28.324Z"
   },
   {
    "duration": 30,
    "start_time": "2022-06-23T17:07:28.344Z"
   },
   {
    "duration": 60,
    "start_time": "2022-06-23T17:07:28.376Z"
   },
   {
    "duration": 796,
    "start_time": "2022-06-23T17:07:28.437Z"
   },
   {
    "duration": 69,
    "start_time": "2022-06-23T17:07:29.235Z"
   },
   {
    "duration": 21,
    "start_time": "2022-06-23T17:07:29.311Z"
   },
   {
    "duration": 12,
    "start_time": "2022-06-23T17:07:29.333Z"
   },
   {
    "duration": 109,
    "start_time": "2022-06-23T17:07:29.347Z"
   },
   {
    "duration": 30,
    "start_time": "2022-06-23T17:07:29.462Z"
   },
   {
    "duration": 43,
    "start_time": "2022-06-23T17:07:29.502Z"
   },
   {
    "duration": 45,
    "start_time": "2022-06-23T17:07:29.546Z"
   },
   {
    "duration": 39,
    "start_time": "2022-06-23T17:07:29.596Z"
   },
   {
    "duration": 7,
    "start_time": "2022-06-23T17:07:29.636Z"
   },
   {
    "duration": 14,
    "start_time": "2022-06-23T17:07:29.644Z"
   },
   {
    "duration": 63,
    "start_time": "2022-06-23T17:07:29.662Z"
   },
   {
    "duration": 8,
    "start_time": "2022-06-23T17:07:29.727Z"
   },
   {
    "duration": 7,
    "start_time": "2022-06-23T17:07:29.737Z"
   },
   {
    "duration": 15,
    "start_time": "2022-06-23T17:07:29.746Z"
   },
   {
    "duration": 71,
    "start_time": "2022-06-23T17:07:29.762Z"
   },
   {
    "duration": 5,
    "start_time": "2022-06-23T17:07:29.835Z"
   },
   {
    "duration": 13,
    "start_time": "2022-06-23T17:07:29.842Z"
   },
   {
    "duration": 66,
    "start_time": "2022-06-23T17:07:29.865Z"
   },
   {
    "duration": 11,
    "start_time": "2022-06-23T17:07:29.932Z"
   },
   {
    "duration": 175,
    "start_time": "2022-06-23T17:07:29.945Z"
   },
   {
    "duration": 15,
    "start_time": "2022-06-23T17:07:30.121Z"
   },
   {
    "duration": 211,
    "start_time": "2022-06-23T17:07:30.138Z"
   },
   {
    "duration": 206,
    "start_time": "2022-06-23T17:07:30.354Z"
   },
   {
    "duration": 14,
    "start_time": "2022-06-23T17:07:30.565Z"
   },
   {
    "duration": 251,
    "start_time": "2022-06-23T17:07:30.585Z"
   },
   {
    "duration": 187,
    "start_time": "2022-06-23T17:07:30.837Z"
   },
   {
    "duration": 9,
    "start_time": "2022-06-23T17:07:31.025Z"
   },
   {
    "duration": 124,
    "start_time": "2022-06-23T17:07:31.036Z"
   },
   {
    "duration": 184,
    "start_time": "2022-06-23T17:07:31.162Z"
   },
   {
    "duration": 38,
    "start_time": "2022-06-23T17:07:31.347Z"
   },
   {
    "duration": 185,
    "start_time": "2022-06-23T17:07:31.389Z"
   },
   {
    "duration": 178,
    "start_time": "2022-06-23T17:07:31.579Z"
   },
   {
    "duration": 12,
    "start_time": "2022-06-23T17:07:31.761Z"
   },
   {
    "duration": 160,
    "start_time": "2022-06-23T17:07:31.777Z"
   },
   {
    "duration": 230,
    "start_time": "2022-06-23T17:07:31.939Z"
   },
   {
    "duration": 15,
    "start_time": "2022-06-23T17:07:32.172Z"
   },
   {
    "duration": 172,
    "start_time": "2022-06-23T17:07:32.188Z"
   },
   {
    "duration": 6,
    "start_time": "2022-06-23T17:07:32.364Z"
   },
   {
    "duration": 14,
    "start_time": "2022-06-23T17:08:21.277Z"
   },
   {
    "duration": 24,
    "start_time": "2022-06-23T17:09:45.594Z"
   },
   {
    "duration": 9,
    "start_time": "2022-06-23T17:13:32.318Z"
   },
   {
    "duration": 12,
    "start_time": "2022-06-23T17:18:19.605Z"
   },
   {
    "duration": 42,
    "start_time": "2022-06-23T17:18:38.689Z"
   },
   {
    "duration": 14,
    "start_time": "2022-06-23T17:18:40.021Z"
   },
   {
    "duration": 30,
    "start_time": "2022-06-23T17:18:41.430Z"
   },
   {
    "duration": 3,
    "start_time": "2022-06-23T17:21:32.244Z"
   },
   {
    "duration": 10,
    "start_time": "2022-06-23T17:21:33.424Z"
   },
   {
    "duration": 11,
    "start_time": "2022-06-23T17:21:38.336Z"
   },
   {
    "duration": 9,
    "start_time": "2022-06-23T17:21:58.027Z"
   },
   {
    "duration": 5,
    "start_time": "2022-06-23T17:22:36.510Z"
   },
   {
    "duration": 4,
    "start_time": "2022-06-23T17:25:57.572Z"
   },
   {
    "duration": 12,
    "start_time": "2022-06-23T17:43:28.114Z"
   },
   {
    "duration": 5,
    "start_time": "2022-06-23T17:43:59.837Z"
   },
   {
    "duration": 234,
    "start_time": "2022-06-23T18:18:56.811Z"
   },
   {
    "duration": 231,
    "start_time": "2022-06-23T18:19:44.283Z"
   },
   {
    "duration": 212,
    "start_time": "2022-06-23T18:20:03.928Z"
   },
   {
    "duration": 205,
    "start_time": "2022-06-23T18:20:38.260Z"
   },
   {
    "duration": 310,
    "start_time": "2022-06-23T18:21:10.723Z"
   },
   {
    "duration": 78,
    "start_time": "2022-06-23T18:23:23.171Z"
   },
   {
    "duration": 194,
    "start_time": "2022-06-23T18:24:07.433Z"
   },
   {
    "duration": 230,
    "start_time": "2022-06-23T18:24:35.725Z"
   },
   {
    "duration": 210,
    "start_time": "2022-06-23T18:25:02.420Z"
   },
   {
    "duration": 201,
    "start_time": "2022-06-23T18:27:14.701Z"
   },
   {
    "duration": 205,
    "start_time": "2022-06-23T18:27:28.513Z"
   },
   {
    "duration": 155,
    "start_time": "2022-06-23T18:27:33.823Z"
   },
   {
    "duration": 267,
    "start_time": "2022-06-23T18:28:13.607Z"
   },
   {
    "duration": 157,
    "start_time": "2022-06-23T18:28:32.138Z"
   },
   {
    "duration": 175,
    "start_time": "2022-06-23T18:28:46.720Z"
   },
   {
    "duration": 168,
    "start_time": "2022-06-23T18:28:52.638Z"
   },
   {
    "duration": 191,
    "start_time": "2022-06-23T18:28:56.121Z"
   },
   {
    "duration": 6,
    "start_time": "2022-06-23T18:29:38.826Z"
   },
   {
    "duration": 174,
    "start_time": "2022-06-23T18:29:48.838Z"
   },
   {
    "duration": 20,
    "start_time": "2022-06-23T18:30:34.372Z"
   },
   {
    "duration": 19,
    "start_time": "2022-06-23T18:30:38.809Z"
   },
   {
    "duration": 47,
    "start_time": "2022-06-23T18:30:42.785Z"
   },
   {
    "duration": 40,
    "start_time": "2022-06-23T18:36:32.846Z"
   },
   {
    "duration": 13,
    "start_time": "2022-06-23T18:36:33.839Z"
   },
   {
    "duration": 5,
    "start_time": "2022-06-23T18:37:00.609Z"
   },
   {
    "duration": 40,
    "start_time": "2022-06-23T18:39:05.420Z"
   },
   {
    "duration": 9,
    "start_time": "2022-06-23T18:39:45.313Z"
   },
   {
    "duration": 20,
    "start_time": "2022-06-23T18:39:50.024Z"
   },
   {
    "duration": 24,
    "start_time": "2022-06-23T18:41:43.532Z"
   },
   {
    "duration": 16,
    "start_time": "2022-06-23T18:41:51.013Z"
   },
   {
    "duration": 1925,
    "start_time": "2022-06-23T18:49:45.382Z"
   },
   {
    "duration": 2022,
    "start_time": "2022-06-23T18:49:55.024Z"
   },
   {
    "duration": 27,
    "start_time": "2022-06-23T18:50:06.882Z"
   },
   {
    "duration": 35,
    "start_time": "2022-06-23T18:50:10.317Z"
   },
   {
    "duration": 19,
    "start_time": "2022-06-23T18:51:30.546Z"
   },
   {
    "duration": 18,
    "start_time": "2022-06-23T18:51:33.417Z"
   },
   {
    "duration": 61,
    "start_time": "2022-06-23T18:57:13.114Z"
   },
   {
    "duration": 149,
    "start_time": "2022-06-23T18:58:54.035Z"
   },
   {
    "duration": 201,
    "start_time": "2022-06-23T18:59:00.138Z"
   },
   {
    "duration": 136,
    "start_time": "2022-06-23T19:04:20.526Z"
   },
   {
    "duration": 11,
    "start_time": "2022-06-23T19:05:47.926Z"
   },
   {
    "duration": 10,
    "start_time": "2022-06-23T19:06:05.480Z"
   },
   {
    "duration": 10,
    "start_time": "2022-06-23T19:06:14.022Z"
   },
   {
    "duration": 105,
    "start_time": "2022-06-23T19:07:27.913Z"
   },
   {
    "duration": 55,
    "start_time": "2022-06-24T13:32:12.275Z"
   },
   {
    "duration": 1292,
    "start_time": "2022-06-24T13:32:18.117Z"
   },
   {
    "duration": 4,
    "start_time": "2022-06-24T13:32:19.411Z"
   },
   {
    "duration": 261,
    "start_time": "2022-06-24T13:32:19.417Z"
   },
   {
    "duration": 389,
    "start_time": "2022-06-24T13:32:19.680Z"
   },
   {
    "duration": 333,
    "start_time": "2022-06-24T13:32:20.073Z"
   },
   {
    "duration": 53,
    "start_time": "2022-06-24T13:32:20.407Z"
   },
   {
    "duration": 61,
    "start_time": "2022-06-24T13:32:20.462Z"
   },
   {
    "duration": 44,
    "start_time": "2022-06-24T13:32:20.526Z"
   },
   {
    "duration": 16,
    "start_time": "2022-06-24T13:32:20.573Z"
   },
   {
    "duration": 55,
    "start_time": "2022-06-24T13:32:20.591Z"
   },
   {
    "duration": 19,
    "start_time": "2022-06-24T13:32:20.648Z"
   },
   {
    "duration": 22,
    "start_time": "2022-06-24T13:32:20.670Z"
   },
   {
    "duration": 11,
    "start_time": "2022-06-24T13:32:20.693Z"
   },
   {
    "duration": 12,
    "start_time": "2022-06-24T13:32:20.727Z"
   },
   {
    "duration": 21,
    "start_time": "2022-06-24T13:32:20.741Z"
   },
   {
    "duration": 17,
    "start_time": "2022-06-24T13:32:20.764Z"
   },
   {
    "duration": 27,
    "start_time": "2022-06-24T13:32:20.783Z"
   },
   {
    "duration": 26,
    "start_time": "2022-06-24T13:32:20.811Z"
   },
   {
    "duration": 36,
    "start_time": "2022-06-24T13:32:20.838Z"
   },
   {
    "duration": 37,
    "start_time": "2022-06-24T13:32:20.876Z"
   },
   {
    "duration": 9,
    "start_time": "2022-06-24T13:32:20.914Z"
   },
   {
    "duration": 697,
    "start_time": "2022-06-24T13:32:20.926Z"
   },
   {
    "duration": 20,
    "start_time": "2022-06-24T13:32:21.625Z"
   },
   {
    "duration": 13,
    "start_time": "2022-06-24T13:32:21.647Z"
   },
   {
    "duration": 47,
    "start_time": "2022-06-24T13:32:21.662Z"
   },
   {
    "duration": 26,
    "start_time": "2022-06-24T13:32:21.733Z"
   },
   {
    "duration": 11,
    "start_time": "2022-06-24T13:32:21.761Z"
   },
   {
    "duration": 27,
    "start_time": "2022-06-24T13:32:21.774Z"
   },
   {
    "duration": 19,
    "start_time": "2022-06-24T13:32:21.803Z"
   },
   {
    "duration": 27,
    "start_time": "2022-06-24T13:32:21.824Z"
   },
   {
    "duration": 537,
    "start_time": "2022-06-24T13:32:21.853Z"
   },
   {
    "duration": 16,
    "start_time": "2022-06-24T13:32:22.392Z"
   },
   {
    "duration": 54,
    "start_time": "2022-06-24T13:32:22.410Z"
   },
   {
    "duration": 11,
    "start_time": "2022-06-24T13:32:22.466Z"
   },
   {
    "duration": 28,
    "start_time": "2022-06-24T13:32:22.479Z"
   },
   {
    "duration": 381,
    "start_time": "2022-06-24T13:32:22.508Z"
   },
   {
    "duration": 13,
    "start_time": "2022-06-24T13:32:22.891Z"
   },
   {
    "duration": 23,
    "start_time": "2022-06-24T13:32:22.905Z"
   },
   {
    "duration": 5,
    "start_time": "2022-06-24T13:32:22.930Z"
   },
   {
    "duration": 16,
    "start_time": "2022-06-24T13:32:22.937Z"
   },
   {
    "duration": 10,
    "start_time": "2022-06-24T13:32:22.963Z"
   },
   {
    "duration": 11,
    "start_time": "2022-06-24T13:32:22.975Z"
   },
   {
    "duration": 10,
    "start_time": "2022-06-24T13:32:22.987Z"
   },
   {
    "duration": 7,
    "start_time": "2022-06-24T13:32:23.027Z"
   },
   {
    "duration": 19,
    "start_time": "2022-06-24T13:32:23.036Z"
   },
   {
    "duration": 13,
    "start_time": "2022-06-24T13:32:23.060Z"
   },
   {
    "duration": 13,
    "start_time": "2022-06-24T13:32:23.075Z"
   },
   {
    "duration": 14,
    "start_time": "2022-06-24T13:32:23.090Z"
   },
   {
    "duration": 28,
    "start_time": "2022-06-24T13:32:23.106Z"
   },
   {
    "duration": 9,
    "start_time": "2022-06-24T13:32:23.136Z"
   },
   {
    "duration": 25,
    "start_time": "2022-06-24T13:32:23.147Z"
   },
   {
    "duration": 18,
    "start_time": "2022-06-24T13:32:23.173Z"
   },
   {
    "duration": 16,
    "start_time": "2022-06-24T13:32:23.193Z"
   },
   {
    "duration": 783,
    "start_time": "2022-06-24T13:32:23.211Z"
   },
   {
    "duration": 5,
    "start_time": "2022-06-24T13:32:23.996Z"
   },
   {
    "duration": 47,
    "start_time": "2022-06-24T13:32:24.003Z"
   },
   {
    "duration": 81,
    "start_time": "2022-06-24T13:32:24.053Z"
   },
   {
    "duration": 13,
    "start_time": "2022-06-24T13:32:24.136Z"
   },
   {
    "duration": 18,
    "start_time": "2022-06-24T13:32:24.151Z"
   },
   {
    "duration": 769,
    "start_time": "2022-06-24T13:32:24.172Z"
   },
   {
    "duration": 22,
    "start_time": "2022-06-24T13:32:24.943Z"
   },
   {
    "duration": 31,
    "start_time": "2022-06-24T13:32:24.967Z"
   },
   {
    "duration": 28,
    "start_time": "2022-06-24T13:32:25.000Z"
   },
   {
    "duration": 671,
    "start_time": "2022-06-24T13:32:25.031Z"
   },
   {
    "duration": 52,
    "start_time": "2022-06-24T13:32:25.704Z"
   },
   {
    "duration": 7,
    "start_time": "2022-06-24T13:32:25.758Z"
   },
   {
    "duration": 29,
    "start_time": "2022-06-24T13:32:25.767Z"
   },
   {
    "duration": 51,
    "start_time": "2022-06-24T13:32:25.798Z"
   },
   {
    "duration": 15,
    "start_time": "2022-06-24T13:32:25.851Z"
   },
   {
    "duration": 31,
    "start_time": "2022-06-24T13:32:25.868Z"
   },
   {
    "duration": 25,
    "start_time": "2022-06-24T13:32:25.901Z"
   },
   {
    "duration": 8,
    "start_time": "2022-06-24T13:32:25.928Z"
   },
   {
    "duration": 9,
    "start_time": "2022-06-24T13:32:25.938Z"
   },
   {
    "duration": 31,
    "start_time": "2022-06-24T13:32:25.950Z"
   },
   {
    "duration": 9,
    "start_time": "2022-06-24T13:32:25.982Z"
   },
   {
    "duration": 13,
    "start_time": "2022-06-24T13:32:25.992Z"
   },
   {
    "duration": 11,
    "start_time": "2022-06-24T13:32:26.006Z"
   },
   {
    "duration": 9,
    "start_time": "2022-06-24T13:32:26.019Z"
   },
   {
    "duration": 42,
    "start_time": "2022-06-24T13:32:26.030Z"
   },
   {
    "duration": 5,
    "start_time": "2022-06-24T13:32:26.074Z"
   },
   {
    "duration": 14,
    "start_time": "2022-06-24T13:32:26.081Z"
   },
   {
    "duration": 12,
    "start_time": "2022-06-24T13:32:26.097Z"
   },
   {
    "duration": 27,
    "start_time": "2022-06-24T13:32:26.111Z"
   },
   {
    "duration": 173,
    "start_time": "2022-06-24T13:32:26.141Z"
   },
   {
    "duration": 20,
    "start_time": "2022-06-24T13:32:26.316Z"
   },
   {
    "duration": 163,
    "start_time": "2022-06-24T13:32:26.349Z"
   },
   {
    "duration": 183,
    "start_time": "2022-06-24T13:32:26.514Z"
   },
   {
    "duration": 12,
    "start_time": "2022-06-24T13:32:26.699Z"
   },
   {
    "duration": 124,
    "start_time": "2022-06-24T13:32:26.712Z"
   },
   {
    "duration": 180,
    "start_time": "2022-06-24T13:32:26.839Z"
   },
   {
    "duration": 10,
    "start_time": "2022-06-24T13:32:27.026Z"
   },
   {
    "duration": 121,
    "start_time": "2022-06-24T13:32:27.038Z"
   },
   {
    "duration": 188,
    "start_time": "2022-06-24T13:32:27.161Z"
   },
   {
    "duration": 12,
    "start_time": "2022-06-24T13:32:27.352Z"
   },
   {
    "duration": 157,
    "start_time": "2022-06-24T13:32:27.366Z"
   },
   {
    "duration": 191,
    "start_time": "2022-06-24T13:32:27.526Z"
   },
   {
    "duration": 16,
    "start_time": "2022-06-24T13:32:27.719Z"
   },
   {
    "duration": 231,
    "start_time": "2022-06-24T13:32:27.737Z"
   },
   {
    "duration": 181,
    "start_time": "2022-06-24T13:32:27.969Z"
   },
   {
    "duration": 13,
    "start_time": "2022-06-24T13:32:28.151Z"
   },
   {
    "duration": 177,
    "start_time": "2022-06-24T13:32:28.167Z"
   },
   {
    "duration": 169,
    "start_time": "2022-06-24T13:32:28.346Z"
   },
   {
    "duration": 179,
    "start_time": "2022-06-24T13:32:28.517Z"
   },
   {
    "duration": 11,
    "start_time": "2022-06-24T13:32:28.698Z"
   },
   {
    "duration": 24,
    "start_time": "2022-06-24T13:32:28.711Z"
   },
   {
    "duration": 19,
    "start_time": "2022-06-24T13:32:28.737Z"
   },
   {
    "duration": 8,
    "start_time": "2022-06-24T13:32:28.758Z"
   },
   {
    "duration": 18,
    "start_time": "2022-06-24T13:32:28.768Z"
   },
   {
    "duration": 11,
    "start_time": "2022-06-24T13:32:28.787Z"
   },
   {
    "duration": 35,
    "start_time": "2022-06-24T13:32:28.800Z"
   },
   {
    "duration": 24,
    "start_time": "2022-06-24T13:32:28.838Z"
   },
   {
    "duration": 28,
    "start_time": "2022-06-24T13:32:28.865Z"
   },
   {
    "duration": 11,
    "start_time": "2022-06-24T13:32:28.895Z"
   },
   {
    "duration": 19,
    "start_time": "2022-06-24T13:32:28.908Z"
   },
   {
    "duration": 18,
    "start_time": "2022-06-24T13:32:28.929Z"
   },
   {
    "duration": 13,
    "start_time": "2022-06-24T13:32:28.949Z"
   },
   {
    "duration": 18,
    "start_time": "2022-06-24T13:32:28.964Z"
   },
   {
    "duration": 14,
    "start_time": "2022-06-24T13:32:28.984Z"
   },
   {
    "duration": 33,
    "start_time": "2022-06-24T13:32:29.001Z"
   },
   {
    "duration": 17,
    "start_time": "2022-06-24T13:32:29.036Z"
   },
   {
    "duration": 13,
    "start_time": "2022-06-24T13:32:29.055Z"
   },
   {
    "duration": 4,
    "start_time": "2022-06-24T13:32:29.077Z"
   },
   {
    "duration": 15,
    "start_time": "2022-06-24T13:32:29.083Z"
   },
   {
    "duration": 60,
    "start_time": "2022-06-24T13:38:47.207Z"
   },
   {
    "duration": 77,
    "start_time": "2022-06-24T13:39:00.415Z"
   },
   {
    "duration": 4,
    "start_time": "2022-06-24T13:39:01.179Z"
   },
   {
    "duration": 5,
    "start_time": "2022-06-24T13:39:03.640Z"
   },
   {
    "duration": 2396,
    "start_time": "2022-06-24T13:39:30.034Z"
   },
   {
    "duration": 122,
    "start_time": "2022-06-24T13:39:38.497Z"
   },
   {
    "duration": 220,
    "start_time": "2022-06-24T13:39:54.608Z"
   },
   {
    "duration": 170,
    "start_time": "2022-06-24T13:40:58.517Z"
   },
   {
    "duration": 181,
    "start_time": "2022-06-24T13:41:00.517Z"
   },
   {
    "duration": 1184,
    "start_time": "2022-06-24T13:41:16.295Z"
   },
   {
    "duration": 4,
    "start_time": "2022-06-24T13:41:17.481Z"
   },
   {
    "duration": 202,
    "start_time": "2022-06-24T13:41:17.487Z"
   },
   {
    "duration": 177,
    "start_time": "2022-06-24T13:41:17.692Z"
   },
   {
    "duration": 97,
    "start_time": "2022-06-24T13:41:17.871Z"
   },
   {
    "duration": 15,
    "start_time": "2022-06-24T13:41:17.970Z"
   },
   {
    "duration": 28,
    "start_time": "2022-06-24T13:41:17.987Z"
   },
   {
    "duration": 39,
    "start_time": "2022-06-24T13:41:18.017Z"
   },
   {
    "duration": 22,
    "start_time": "2022-06-24T13:41:18.059Z"
   },
   {
    "duration": 24,
    "start_time": "2022-06-24T13:41:18.084Z"
   },
   {
    "duration": 16,
    "start_time": "2022-06-24T13:41:18.125Z"
   },
   {
    "duration": 40,
    "start_time": "2022-06-24T13:41:18.144Z"
   },
   {
    "duration": 13,
    "start_time": "2022-06-24T13:41:18.186Z"
   },
   {
    "duration": 26,
    "start_time": "2022-06-24T13:41:18.201Z"
   },
   {
    "duration": 18,
    "start_time": "2022-06-24T13:41:18.230Z"
   },
   {
    "duration": 19,
    "start_time": "2022-06-24T13:41:18.250Z"
   },
   {
    "duration": 22,
    "start_time": "2022-06-24T13:41:18.271Z"
   },
   {
    "duration": 28,
    "start_time": "2022-06-24T13:41:18.295Z"
   },
   {
    "duration": 29,
    "start_time": "2022-06-24T13:41:18.325Z"
   },
   {
    "duration": 39,
    "start_time": "2022-06-24T13:41:18.356Z"
   },
   {
    "duration": 9,
    "start_time": "2022-06-24T13:41:18.396Z"
   },
   {
    "duration": 611,
    "start_time": "2022-06-24T13:41:18.407Z"
   },
   {
    "duration": 22,
    "start_time": "2022-06-24T13:41:19.020Z"
   },
   {
    "duration": 18,
    "start_time": "2022-06-24T13:41:19.044Z"
   },
   {
    "duration": 36,
    "start_time": "2022-06-24T13:41:19.064Z"
   },
   {
    "duration": 44,
    "start_time": "2022-06-24T13:41:19.102Z"
   },
   {
    "duration": 10,
    "start_time": "2022-06-24T13:41:19.148Z"
   },
   {
    "duration": 15,
    "start_time": "2022-06-24T13:41:19.162Z"
   },
   {
    "duration": 18,
    "start_time": "2022-06-24T13:41:19.179Z"
   },
   {
    "duration": 16,
    "start_time": "2022-06-24T13:41:19.226Z"
   },
   {
    "duration": 554,
    "start_time": "2022-06-24T13:41:19.244Z"
   },
   {
    "duration": 28,
    "start_time": "2022-06-24T13:41:19.801Z"
   },
   {
    "duration": 44,
    "start_time": "2022-06-24T13:41:19.831Z"
   },
   {
    "duration": 23,
    "start_time": "2022-06-24T13:41:19.878Z"
   },
   {
    "duration": 53,
    "start_time": "2022-06-24T13:41:19.903Z"
   },
   {
    "duration": 489,
    "start_time": "2022-06-24T13:41:19.958Z"
   },
   {
    "duration": 12,
    "start_time": "2022-06-24T13:41:20.449Z"
   },
   {
    "duration": 15,
    "start_time": "2022-06-24T13:41:20.462Z"
   },
   {
    "duration": 7,
    "start_time": "2022-06-24T13:41:20.478Z"
   },
   {
    "duration": 15,
    "start_time": "2022-06-24T13:41:20.487Z"
   },
   {
    "duration": 22,
    "start_time": "2022-06-24T13:41:20.505Z"
   },
   {
    "duration": 7,
    "start_time": "2022-06-24T13:41:20.529Z"
   },
   {
    "duration": 19,
    "start_time": "2022-06-24T13:41:20.537Z"
   },
   {
    "duration": 12,
    "start_time": "2022-06-24T13:41:20.557Z"
   },
   {
    "duration": 22,
    "start_time": "2022-06-24T13:41:20.570Z"
   },
   {
    "duration": 11,
    "start_time": "2022-06-24T13:41:20.594Z"
   },
   {
    "duration": 22,
    "start_time": "2022-06-24T13:41:20.607Z"
   },
   {
    "duration": 14,
    "start_time": "2022-06-24T13:41:20.631Z"
   },
   {
    "duration": 19,
    "start_time": "2022-06-24T13:41:20.646Z"
   },
   {
    "duration": 21,
    "start_time": "2022-06-24T13:41:20.666Z"
   },
   {
    "duration": 13,
    "start_time": "2022-06-24T13:41:20.689Z"
   },
   {
    "duration": 18,
    "start_time": "2022-06-24T13:41:20.704Z"
   },
   {
    "duration": 24,
    "start_time": "2022-06-24T13:41:20.724Z"
   },
   {
    "duration": 849,
    "start_time": "2022-06-24T13:41:20.750Z"
   },
   {
    "duration": 6,
    "start_time": "2022-06-24T13:41:21.601Z"
   },
   {
    "duration": 45,
    "start_time": "2022-06-24T13:41:21.609Z"
   },
   {
    "duration": 51,
    "start_time": "2022-06-24T13:41:21.656Z"
   },
   {
    "duration": 26,
    "start_time": "2022-06-24T13:41:21.709Z"
   },
   {
    "duration": 13,
    "start_time": "2022-06-24T13:41:21.738Z"
   },
   {
    "duration": 491,
    "start_time": "2022-06-24T13:41:21.754Z"
   },
   {
    "duration": 27,
    "start_time": "2022-06-24T13:41:22.247Z"
   },
   {
    "duration": 30,
    "start_time": "2022-06-24T13:41:22.276Z"
   },
   {
    "duration": 12,
    "start_time": "2022-06-24T13:41:22.334Z"
   },
   {
    "duration": 570,
    "start_time": "2022-06-24T13:41:22.347Z"
   },
   {
    "duration": 65,
    "start_time": "2022-06-24T13:41:22.919Z"
   },
   {
    "duration": 7,
    "start_time": "2022-06-24T13:41:22.986Z"
   },
   {
    "duration": 12,
    "start_time": "2022-06-24T13:41:22.995Z"
   },
   {
    "duration": 27,
    "start_time": "2022-06-24T13:41:23.027Z"
   },
   {
    "duration": 20,
    "start_time": "2022-06-24T13:41:23.056Z"
   },
   {
    "duration": 14,
    "start_time": "2022-06-24T13:41:23.078Z"
   },
   {
    "duration": 52,
    "start_time": "2022-06-24T13:41:23.094Z"
   },
   {
    "duration": 7,
    "start_time": "2022-06-24T13:41:23.148Z"
   },
   {
    "duration": 24,
    "start_time": "2022-06-24T13:41:23.157Z"
   },
   {
    "duration": 11,
    "start_time": "2022-06-24T13:41:23.183Z"
   },
   {
    "duration": 14,
    "start_time": "2022-06-24T13:41:23.196Z"
   },
   {
    "duration": 23,
    "start_time": "2022-06-24T13:41:23.212Z"
   },
   {
    "duration": 8,
    "start_time": "2022-06-24T13:41:23.237Z"
   },
   {
    "duration": 32,
    "start_time": "2022-06-24T13:41:23.248Z"
   },
   {
    "duration": 25,
    "start_time": "2022-06-24T13:41:23.282Z"
   },
   {
    "duration": 7,
    "start_time": "2022-06-24T13:41:23.309Z"
   },
   {
    "duration": 8,
    "start_time": "2022-06-24T13:41:23.319Z"
   },
   {
    "duration": 17,
    "start_time": "2022-06-24T13:41:23.337Z"
   },
   {
    "duration": 19,
    "start_time": "2022-06-24T13:41:23.356Z"
   },
   {
    "duration": 215,
    "start_time": "2022-06-24T13:41:23.377Z"
   },
   {
    "duration": 10,
    "start_time": "2022-06-24T13:41:23.594Z"
   },
   {
    "duration": 174,
    "start_time": "2022-06-24T13:41:23.606Z"
   },
   {
    "duration": 217,
    "start_time": "2022-06-24T13:41:23.782Z"
   },
   {
    "duration": 12,
    "start_time": "2022-06-24T13:41:24.000Z"
   },
   {
    "duration": 161,
    "start_time": "2022-06-24T13:41:24.025Z"
   },
   {
    "duration": 257,
    "start_time": "2022-06-24T13:41:24.188Z"
   },
   {
    "duration": 14,
    "start_time": "2022-06-24T13:41:24.447Z"
   },
   {
    "duration": 163,
    "start_time": "2022-06-24T13:41:24.469Z"
   },
   {
    "duration": 246,
    "start_time": "2022-06-24T13:41:24.634Z"
   },
   {
    "duration": 10,
    "start_time": "2022-06-24T13:41:24.882Z"
   },
   {
    "duration": 175,
    "start_time": "2022-06-24T13:41:24.894Z"
   },
   {
    "duration": 217,
    "start_time": "2022-06-24T13:41:25.071Z"
   },
   {
    "duration": 11,
    "start_time": "2022-06-24T13:41:25.290Z"
   },
   {
    "duration": 273,
    "start_time": "2022-06-24T13:41:25.302Z"
   },
   {
    "duration": 211,
    "start_time": "2022-06-24T13:41:25.577Z"
   },
   {
    "duration": 10,
    "start_time": "2022-06-24T13:41:25.790Z"
   },
   {
    "duration": 174,
    "start_time": "2022-06-24T13:41:25.802Z"
   },
   {
    "duration": 201,
    "start_time": "2022-06-24T13:41:25.978Z"
   },
   {
    "duration": 253,
    "start_time": "2022-06-24T13:41:26.182Z"
   },
   {
    "duration": 15,
    "start_time": "2022-06-24T13:41:26.438Z"
   },
   {
    "duration": 19,
    "start_time": "2022-06-24T13:41:26.455Z"
   },
   {
    "duration": 15,
    "start_time": "2022-06-24T13:41:26.477Z"
   },
   {
    "duration": 6,
    "start_time": "2022-06-24T13:41:26.494Z"
   },
   {
    "duration": 15,
    "start_time": "2022-06-24T13:41:26.527Z"
   },
   {
    "duration": 18,
    "start_time": "2022-06-24T13:41:26.544Z"
   },
   {
    "duration": 19,
    "start_time": "2022-06-24T13:41:26.564Z"
   },
   {
    "duration": 14,
    "start_time": "2022-06-24T13:41:26.585Z"
   },
   {
    "duration": 37,
    "start_time": "2022-06-24T13:41:26.601Z"
   },
   {
    "duration": 21,
    "start_time": "2022-06-24T13:41:26.640Z"
   },
   {
    "duration": 3,
    "start_time": "2022-06-24T13:41:26.664Z"
   },
   {
    "duration": 13,
    "start_time": "2022-06-24T13:41:26.670Z"
   },
   {
    "duration": 8,
    "start_time": "2022-06-24T13:41:26.685Z"
   },
   {
    "duration": 40,
    "start_time": "2022-06-24T13:41:26.694Z"
   },
   {
    "duration": 21,
    "start_time": "2022-06-24T13:41:26.739Z"
   },
   {
    "duration": 27,
    "start_time": "2022-06-24T13:41:26.762Z"
   },
   {
    "duration": 3,
    "start_time": "2022-06-24T13:41:26.792Z"
   },
   {
    "duration": 13,
    "start_time": "2022-06-24T13:41:26.798Z"
   },
   {
    "duration": 15,
    "start_time": "2022-06-24T13:41:26.813Z"
   },
   {
    "duration": 14,
    "start_time": "2022-06-24T13:41:26.830Z"
   },
   {
    "duration": 14,
    "start_time": "2022-06-24T13:41:26.846Z"
   },
   {
    "duration": 64,
    "start_time": "2022-06-24T13:41:26.862Z"
   },
   {
    "duration": 4,
    "start_time": "2022-06-24T13:41:26.928Z"
   },
   {
    "duration": 10,
    "start_time": "2022-06-24T13:41:26.934Z"
   },
   {
    "duration": 2105,
    "start_time": "2022-06-24T13:41:26.946Z"
   },
   {
    "duration": 242,
    "start_time": "2022-06-24T13:41:29.053Z"
   },
   {
    "duration": 224,
    "start_time": "2022-06-24T13:41:29.297Z"
   },
   {
    "duration": 236,
    "start_time": "2022-06-24T13:41:29.523Z"
   },
   {
    "duration": 63,
    "start_time": "2022-06-24T13:41:29.762Z"
   },
   {
    "duration": 47,
    "start_time": "2022-06-24T15:00:15.811Z"
   },
   {
    "duration": 1213,
    "start_time": "2022-06-24T15:00:24.121Z"
   },
   {
    "duration": 5,
    "start_time": "2022-06-24T15:00:26.081Z"
   },
   {
    "duration": 232,
    "start_time": "2022-06-24T15:00:27.060Z"
   },
   {
    "duration": 478,
    "start_time": "2022-06-24T15:00:27.410Z"
   },
   {
    "duration": 658,
    "start_time": "2022-06-24T15:00:27.890Z"
   },
   {
    "duration": 76,
    "start_time": "2022-06-24T15:00:28.550Z"
   },
   {
    "duration": 54,
    "start_time": "2022-06-24T15:00:28.628Z"
   },
   {
    "duration": 3,
    "start_time": "2022-06-24T15:00:33.435Z"
   },
   {
    "duration": 8,
    "start_time": "2022-06-24T15:00:33.442Z"
   },
   {
    "duration": 176,
    "start_time": "2022-06-24T15:00:33.451Z"
   },
   {
    "duration": 158,
    "start_time": "2022-06-24T15:00:33.629Z"
   },
   {
    "duration": 91,
    "start_time": "2022-06-24T15:00:33.789Z"
   },
   {
    "duration": 15,
    "start_time": "2022-06-24T15:00:33.883Z"
   },
   {
    "duration": 34,
    "start_time": "2022-06-24T15:00:33.899Z"
   },
   {
    "duration": 23,
    "start_time": "2022-06-24T15:00:33.935Z"
   },
   {
    "duration": 15,
    "start_time": "2022-06-24T15:00:33.960Z"
   },
   {
    "duration": 33,
    "start_time": "2022-06-24T15:00:33.978Z"
   },
   {
    "duration": 11,
    "start_time": "2022-06-24T15:00:34.012Z"
   },
   {
    "duration": 22,
    "start_time": "2022-06-24T15:00:34.025Z"
   },
   {
    "duration": 26,
    "start_time": "2022-06-24T15:00:34.049Z"
   },
   {
    "duration": 25,
    "start_time": "2022-06-24T15:00:34.077Z"
   },
   {
    "duration": 11,
    "start_time": "2022-06-24T15:00:34.104Z"
   },
   {
    "duration": 18,
    "start_time": "2022-06-24T15:00:34.116Z"
   },
   {
    "duration": 16,
    "start_time": "2022-06-24T15:00:34.135Z"
   },
   {
    "duration": 18,
    "start_time": "2022-06-24T15:00:34.153Z"
   },
   {
    "duration": 19,
    "start_time": "2022-06-24T15:00:34.177Z"
   },
   {
    "duration": 44,
    "start_time": "2022-06-24T15:00:34.198Z"
   },
   {
    "duration": 9,
    "start_time": "2022-06-24T15:00:34.244Z"
   },
   {
    "duration": 599,
    "start_time": "2022-06-24T15:00:34.254Z"
   },
   {
    "duration": 24,
    "start_time": "2022-06-24T15:00:34.855Z"
   },
   {
    "duration": 22,
    "start_time": "2022-06-24T15:00:34.881Z"
   },
   {
    "duration": 28,
    "start_time": "2022-06-24T15:00:34.907Z"
   },
   {
    "duration": 23,
    "start_time": "2022-06-24T15:00:34.936Z"
   },
   {
    "duration": 18,
    "start_time": "2022-06-24T15:00:34.961Z"
   },
   {
    "duration": 35,
    "start_time": "2022-06-24T15:00:34.983Z"
   },
   {
    "duration": 33,
    "start_time": "2022-06-24T15:00:35.020Z"
   },
   {
    "duration": 31,
    "start_time": "2022-06-24T15:00:35.055Z"
   },
   {
    "duration": 416,
    "start_time": "2022-06-24T15:00:35.087Z"
   },
   {
    "duration": 14,
    "start_time": "2022-06-24T15:00:35.504Z"
   },
   {
    "duration": 31,
    "start_time": "2022-06-24T15:00:35.520Z"
   },
   {
    "duration": 15,
    "start_time": "2022-06-24T15:00:35.553Z"
   },
   {
    "duration": 29,
    "start_time": "2022-06-24T15:00:35.569Z"
   },
   {
    "duration": 393,
    "start_time": "2022-06-24T15:00:35.600Z"
   },
   {
    "duration": 12,
    "start_time": "2022-06-24T15:00:35.995Z"
   },
   {
    "duration": 10,
    "start_time": "2022-06-24T15:00:36.008Z"
   },
   {
    "duration": 7,
    "start_time": "2022-06-24T15:00:36.020Z"
   },
   {
    "duration": 10,
    "start_time": "2022-06-24T15:00:36.029Z"
   },
   {
    "duration": 36,
    "start_time": "2022-06-24T15:00:36.041Z"
   },
   {
    "duration": 28,
    "start_time": "2022-06-24T15:00:36.079Z"
   },
   {
    "duration": 12,
    "start_time": "2022-06-24T15:00:36.108Z"
   },
   {
    "duration": 10,
    "start_time": "2022-06-24T15:00:36.122Z"
   },
   {
    "duration": 11,
    "start_time": "2022-06-24T15:00:36.134Z"
   },
   {
    "duration": 8,
    "start_time": "2022-06-24T15:00:36.147Z"
   },
   {
    "duration": 15,
    "start_time": "2022-06-24T15:00:36.157Z"
   },
   {
    "duration": 12,
    "start_time": "2022-06-24T15:00:36.181Z"
   },
   {
    "duration": 14,
    "start_time": "2022-06-24T15:00:36.195Z"
   },
   {
    "duration": 10,
    "start_time": "2022-06-24T15:00:36.211Z"
   },
   {
    "duration": 13,
    "start_time": "2022-06-24T15:00:36.222Z"
   },
   {
    "duration": 16,
    "start_time": "2022-06-24T15:00:36.237Z"
   },
   {
    "duration": 8,
    "start_time": "2022-06-24T15:00:36.254Z"
   },
   {
    "duration": 925,
    "start_time": "2022-06-24T15:00:36.264Z"
   },
   {
    "duration": 6,
    "start_time": "2022-06-24T15:00:37.191Z"
   },
   {
    "duration": 40,
    "start_time": "2022-06-24T15:00:37.198Z"
   },
   {
    "duration": 79,
    "start_time": "2022-06-24T15:00:37.241Z"
   },
   {
    "duration": 9,
    "start_time": "2022-06-24T15:00:37.322Z"
   },
   {
    "duration": 15,
    "start_time": "2022-06-24T15:00:37.333Z"
   },
   {
    "duration": 567,
    "start_time": "2022-06-24T15:00:37.350Z"
   },
   {
    "duration": 18,
    "start_time": "2022-06-24T15:00:37.919Z"
   },
   {
    "duration": 44,
    "start_time": "2022-06-24T15:00:37.939Z"
   },
   {
    "duration": 8,
    "start_time": "2022-06-24T15:00:37.986Z"
   },
   {
    "duration": 695,
    "start_time": "2022-06-24T15:00:37.995Z"
   },
   {
    "duration": 43,
    "start_time": "2022-06-24T15:00:38.691Z"
   },
   {
    "duration": 6,
    "start_time": "2022-06-24T15:00:38.735Z"
   },
   {
    "duration": 25,
    "start_time": "2022-06-24T15:00:38.743Z"
   },
   {
    "duration": 26,
    "start_time": "2022-06-24T15:00:38.774Z"
   },
   {
    "duration": 14,
    "start_time": "2022-06-24T15:00:38.801Z"
   },
   {
    "duration": 7,
    "start_time": "2022-06-24T15:00:38.821Z"
   },
   {
    "duration": 56,
    "start_time": "2022-06-24T15:00:38.830Z"
   },
   {
    "duration": 21,
    "start_time": "2022-06-24T15:00:38.894Z"
   },
   {
    "duration": 17,
    "start_time": "2022-06-24T15:00:38.918Z"
   },
   {
    "duration": 15,
    "start_time": "2022-06-24T15:00:38.937Z"
   },
   {
    "duration": 26,
    "start_time": "2022-06-24T15:00:38.954Z"
   },
   {
    "duration": 58,
    "start_time": "2022-06-24T15:00:38.983Z"
   },
   {
    "duration": 10,
    "start_time": "2022-06-24T15:00:39.043Z"
   },
   {
    "duration": 20,
    "start_time": "2022-06-24T15:00:39.055Z"
   },
   {
    "duration": 49,
    "start_time": "2022-06-24T15:00:39.076Z"
   },
   {
    "duration": 14,
    "start_time": "2022-06-24T15:00:39.127Z"
   },
   {
    "duration": 20,
    "start_time": "2022-06-24T15:00:39.144Z"
   },
   {
    "duration": 41,
    "start_time": "2022-06-24T15:00:39.167Z"
   },
   {
    "duration": 30,
    "start_time": "2022-06-24T15:00:39.211Z"
   },
   {
    "duration": 167,
    "start_time": "2022-06-24T15:00:39.243Z"
   },
   {
    "duration": 11,
    "start_time": "2022-06-24T15:00:39.412Z"
   },
   {
    "duration": 170,
    "start_time": "2022-06-24T15:00:39.425Z"
   },
   {
    "duration": 203,
    "start_time": "2022-06-24T15:00:39.598Z"
   },
   {
    "duration": 10,
    "start_time": "2022-06-24T15:00:39.803Z"
   },
   {
    "duration": 137,
    "start_time": "2022-06-24T15:00:39.815Z"
   },
   {
    "duration": 250,
    "start_time": "2022-06-24T15:00:39.954Z"
   },
   {
    "duration": 10,
    "start_time": "2022-06-24T15:00:40.206Z"
   },
   {
    "duration": 138,
    "start_time": "2022-06-24T15:00:40.218Z"
   },
   {
    "duration": 196,
    "start_time": "2022-06-24T15:00:40.358Z"
   },
   {
    "duration": 29,
    "start_time": "2022-06-24T15:00:40.556Z"
   },
   {
    "duration": 143,
    "start_time": "2022-06-24T15:00:40.588Z"
   },
   {
    "duration": 265,
    "start_time": "2022-06-24T15:00:40.733Z"
   },
   {
    "duration": 11,
    "start_time": "2022-06-24T15:00:41.000Z"
   },
   {
    "duration": 150,
    "start_time": "2022-06-24T15:00:41.013Z"
   },
   {
    "duration": 184,
    "start_time": "2022-06-24T15:00:41.167Z"
   },
   {
    "duration": 22,
    "start_time": "2022-06-24T15:00:41.352Z"
   },
   {
    "duration": 136,
    "start_time": "2022-06-24T15:00:41.382Z"
   },
   {
    "duration": 166,
    "start_time": "2022-06-24T15:00:41.520Z"
   },
   {
    "duration": 199,
    "start_time": "2022-06-24T15:00:41.688Z"
   },
   {
    "duration": 13,
    "start_time": "2022-06-24T15:00:41.890Z"
   },
   {
    "duration": 15,
    "start_time": "2022-06-24T15:00:41.905Z"
   },
   {
    "duration": 23,
    "start_time": "2022-06-24T15:00:41.923Z"
   },
   {
    "duration": 23,
    "start_time": "2022-06-24T15:00:41.948Z"
   },
   {
    "duration": 36,
    "start_time": "2022-06-24T15:00:41.983Z"
   },
   {
    "duration": 12,
    "start_time": "2022-06-24T15:00:42.021Z"
   },
   {
    "duration": 14,
    "start_time": "2022-06-24T15:00:42.035Z"
   },
   {
    "duration": 13,
    "start_time": "2022-06-24T15:00:42.051Z"
   },
   {
    "duration": 26,
    "start_time": "2022-06-24T15:00:42.068Z"
   },
   {
    "duration": 12,
    "start_time": "2022-06-24T15:00:42.096Z"
   },
   {
    "duration": 3,
    "start_time": "2022-06-24T15:00:42.110Z"
   },
   {
    "duration": 16,
    "start_time": "2022-06-24T15:00:42.116Z"
   },
   {
    "duration": 11,
    "start_time": "2022-06-24T15:00:42.134Z"
   },
   {
    "duration": 75,
    "start_time": "2022-06-24T15:00:42.147Z"
   },
   {
    "duration": 0,
    "start_time": "2022-06-24T15:00:42.223Z"
   },
   {
    "duration": 1,
    "start_time": "2022-06-24T15:00:42.224Z"
   },
   {
    "duration": 0,
    "start_time": "2022-06-24T15:00:42.226Z"
   },
   {
    "duration": 0,
    "start_time": "2022-06-24T15:00:42.227Z"
   },
   {
    "duration": 0,
    "start_time": "2022-06-24T15:00:42.228Z"
   },
   {
    "duration": 0,
    "start_time": "2022-06-24T15:00:42.229Z"
   },
   {
    "duration": 0,
    "start_time": "2022-06-24T15:00:42.231Z"
   },
   {
    "duration": 0,
    "start_time": "2022-06-24T15:00:42.232Z"
   },
   {
    "duration": 0,
    "start_time": "2022-06-24T15:00:42.233Z"
   },
   {
    "duration": 0,
    "start_time": "2022-06-24T15:00:42.234Z"
   },
   {
    "duration": 0,
    "start_time": "2022-06-24T15:00:42.235Z"
   },
   {
    "duration": 0,
    "start_time": "2022-06-24T15:00:42.236Z"
   },
   {
    "duration": 0,
    "start_time": "2022-06-24T15:00:42.237Z"
   },
   {
    "duration": 0,
    "start_time": "2022-06-24T15:00:42.238Z"
   },
   {
    "duration": 0,
    "start_time": "2022-06-24T15:00:42.240Z"
   },
   {
    "duration": 0,
    "start_time": "2022-06-24T15:00:42.241Z"
   },
   {
    "duration": 3,
    "start_time": "2022-06-24T15:04:33.038Z"
   },
   {
    "duration": 8,
    "start_time": "2022-06-24T15:04:33.044Z"
   },
   {
    "duration": 192,
    "start_time": "2022-06-24T15:04:33.054Z"
   },
   {
    "duration": 158,
    "start_time": "2022-06-24T15:04:33.248Z"
   },
   {
    "duration": 117,
    "start_time": "2022-06-24T15:04:33.409Z"
   },
   {
    "duration": 18,
    "start_time": "2022-06-24T15:04:33.528Z"
   },
   {
    "duration": 37,
    "start_time": "2022-06-24T15:04:33.549Z"
   },
   {
    "duration": 30,
    "start_time": "2022-06-24T15:04:33.593Z"
   },
   {
    "duration": 15,
    "start_time": "2022-06-24T15:04:33.625Z"
   },
   {
    "duration": 39,
    "start_time": "2022-06-24T15:04:33.643Z"
   },
   {
    "duration": 22,
    "start_time": "2022-06-24T15:04:33.683Z"
   },
   {
    "duration": 25,
    "start_time": "2022-06-24T15:04:33.707Z"
   },
   {
    "duration": 52,
    "start_time": "2022-06-24T15:04:33.734Z"
   },
   {
    "duration": 17,
    "start_time": "2022-06-24T15:04:33.788Z"
   },
   {
    "duration": 15,
    "start_time": "2022-06-24T15:04:33.807Z"
   },
   {
    "duration": 13,
    "start_time": "2022-06-24T15:04:33.824Z"
   },
   {
    "duration": 15,
    "start_time": "2022-06-24T15:04:33.839Z"
   },
   {
    "duration": 23,
    "start_time": "2022-06-24T15:04:33.867Z"
   },
   {
    "duration": 22,
    "start_time": "2022-06-24T15:04:33.891Z"
   },
   {
    "duration": 33,
    "start_time": "2022-06-24T15:04:33.915Z"
   },
   {
    "duration": 8,
    "start_time": "2022-06-24T15:04:33.950Z"
   },
   {
    "duration": 630,
    "start_time": "2022-06-24T15:04:33.960Z"
   },
   {
    "duration": 18,
    "start_time": "2022-06-24T15:04:34.592Z"
   },
   {
    "duration": 18,
    "start_time": "2022-06-24T15:04:34.611Z"
   },
   {
    "duration": 69,
    "start_time": "2022-06-24T15:04:34.635Z"
   },
   {
    "duration": 51,
    "start_time": "2022-06-24T15:04:34.706Z"
   },
   {
    "duration": 13,
    "start_time": "2022-06-24T15:04:34.759Z"
   },
   {
    "duration": 23,
    "start_time": "2022-06-24T15:04:34.780Z"
   },
   {
    "duration": 32,
    "start_time": "2022-06-24T15:04:34.805Z"
   },
   {
    "duration": 22,
    "start_time": "2022-06-24T15:04:34.839Z"
   },
   {
    "duration": 486,
    "start_time": "2022-06-24T15:04:34.862Z"
   },
   {
    "duration": 23,
    "start_time": "2022-06-24T15:04:35.349Z"
   },
   {
    "duration": 34,
    "start_time": "2022-06-24T15:04:35.379Z"
   },
   {
    "duration": 13,
    "start_time": "2022-06-24T15:04:35.415Z"
   },
   {
    "duration": 24,
    "start_time": "2022-06-24T15:04:35.430Z"
   },
   {
    "duration": 479,
    "start_time": "2022-06-24T15:04:35.456Z"
   },
   {
    "duration": 17,
    "start_time": "2022-06-24T15:04:35.937Z"
   },
   {
    "duration": 47,
    "start_time": "2022-06-24T15:04:35.956Z"
   },
   {
    "duration": 14,
    "start_time": "2022-06-24T15:04:36.006Z"
   },
   {
    "duration": 12,
    "start_time": "2022-06-24T15:04:36.022Z"
   },
   {
    "duration": 12,
    "start_time": "2022-06-24T15:04:36.036Z"
   },
   {
    "duration": 23,
    "start_time": "2022-06-24T15:04:36.050Z"
   },
   {
    "duration": 33,
    "start_time": "2022-06-24T15:04:36.075Z"
   },
   {
    "duration": 10,
    "start_time": "2022-06-24T15:04:36.110Z"
   },
   {
    "duration": 11,
    "start_time": "2022-06-24T15:04:36.122Z"
   },
   {
    "duration": 7,
    "start_time": "2022-06-24T15:04:36.136Z"
   },
   {
    "duration": 10,
    "start_time": "2022-06-24T15:04:36.145Z"
   },
   {
    "duration": 11,
    "start_time": "2022-06-24T15:04:36.157Z"
   },
   {
    "duration": 30,
    "start_time": "2022-06-24T15:04:36.174Z"
   },
   {
    "duration": 15,
    "start_time": "2022-06-24T15:04:36.206Z"
   },
   {
    "duration": 9,
    "start_time": "2022-06-24T15:04:36.223Z"
   },
   {
    "duration": 9,
    "start_time": "2022-06-24T15:04:36.234Z"
   },
   {
    "duration": 8,
    "start_time": "2022-06-24T15:04:36.244Z"
   },
   {
    "duration": 886,
    "start_time": "2022-06-24T15:04:36.253Z"
   },
   {
    "duration": 5,
    "start_time": "2022-06-24T15:04:37.141Z"
   },
   {
    "duration": 48,
    "start_time": "2022-06-24T15:04:37.147Z"
   },
   {
    "duration": 50,
    "start_time": "2022-06-24T15:04:37.196Z"
   },
   {
    "duration": 36,
    "start_time": "2022-06-24T15:04:37.249Z"
   },
   {
    "duration": 11,
    "start_time": "2022-06-24T15:04:37.287Z"
   },
   {
    "duration": 564,
    "start_time": "2022-06-24T15:04:37.300Z"
   },
   {
    "duration": 27,
    "start_time": "2022-06-24T15:04:37.867Z"
   },
   {
    "duration": 48,
    "start_time": "2022-06-24T15:04:37.895Z"
   },
   {
    "duration": 8,
    "start_time": "2022-06-24T15:04:37.945Z"
   },
   {
    "duration": 647,
    "start_time": "2022-06-24T15:04:37.955Z"
   },
   {
    "duration": 40,
    "start_time": "2022-06-24T15:04:38.604Z"
   },
   {
    "duration": 9,
    "start_time": "2022-06-24T15:04:38.646Z"
   },
   {
    "duration": 40,
    "start_time": "2022-06-24T15:04:38.657Z"
   },
   {
    "duration": 29,
    "start_time": "2022-06-24T15:04:38.698Z"
   },
   {
    "duration": 28,
    "start_time": "2022-06-24T15:04:38.729Z"
   },
   {
    "duration": 16,
    "start_time": "2022-06-24T15:04:38.765Z"
   },
   {
    "duration": 58,
    "start_time": "2022-06-24T15:04:38.785Z"
   },
   {
    "duration": 25,
    "start_time": "2022-06-24T15:04:38.845Z"
   },
   {
    "duration": 39,
    "start_time": "2022-06-24T15:04:38.887Z"
   },
   {
    "duration": 65,
    "start_time": "2022-06-24T15:04:38.929Z"
   },
   {
    "duration": 21,
    "start_time": "2022-06-24T15:04:38.997Z"
   },
   {
    "duration": 31,
    "start_time": "2022-06-24T15:04:39.021Z"
   },
   {
    "duration": 43,
    "start_time": "2022-06-24T15:04:39.054Z"
   },
   {
    "duration": 48,
    "start_time": "2022-06-24T15:04:39.099Z"
   },
   {
    "duration": 47,
    "start_time": "2022-06-24T15:04:39.149Z"
   },
   {
    "duration": 22,
    "start_time": "2022-06-24T15:04:39.197Z"
   },
   {
    "duration": 23,
    "start_time": "2022-06-24T15:04:39.221Z"
   },
   {
    "duration": 47,
    "start_time": "2022-06-24T15:04:39.246Z"
   },
   {
    "duration": 40,
    "start_time": "2022-06-24T15:04:39.294Z"
   },
   {
    "duration": 162,
    "start_time": "2022-06-24T15:04:39.335Z"
   },
   {
    "duration": 10,
    "start_time": "2022-06-24T15:04:39.498Z"
   },
   {
    "duration": 147,
    "start_time": "2022-06-24T15:04:39.509Z"
   },
   {
    "duration": 186,
    "start_time": "2022-06-24T15:04:39.658Z"
   },
   {
    "duration": 11,
    "start_time": "2022-06-24T15:04:39.846Z"
   },
   {
    "duration": 124,
    "start_time": "2022-06-24T15:04:39.867Z"
   },
   {
    "duration": 248,
    "start_time": "2022-06-24T15:04:39.993Z"
   },
   {
    "duration": 10,
    "start_time": "2022-06-24T15:04:40.242Z"
   },
   {
    "duration": 127,
    "start_time": "2022-06-24T15:04:40.254Z"
   },
   {
    "duration": 170,
    "start_time": "2022-06-24T15:04:40.382Z"
   },
   {
    "duration": 20,
    "start_time": "2022-06-24T15:04:40.554Z"
   },
   {
    "duration": 130,
    "start_time": "2022-06-24T15:04:40.578Z"
   },
   {
    "duration": 174,
    "start_time": "2022-06-24T15:04:40.710Z"
   },
   {
    "duration": 10,
    "start_time": "2022-06-24T15:04:40.886Z"
   },
   {
    "duration": 135,
    "start_time": "2022-06-24T15:04:40.898Z"
   },
   {
    "duration": 172,
    "start_time": "2022-06-24T15:04:41.035Z"
   },
   {
    "duration": 12,
    "start_time": "2022-06-24T15:04:41.209Z"
   },
   {
    "duration": 140,
    "start_time": "2022-06-24T15:04:41.222Z"
   },
   {
    "duration": 144,
    "start_time": "2022-06-24T15:04:41.364Z"
   },
   {
    "duration": 185,
    "start_time": "2022-06-24T15:04:41.509Z"
   },
   {
    "duration": 10,
    "start_time": "2022-06-24T15:04:41.696Z"
   },
   {
    "duration": 21,
    "start_time": "2022-06-24T15:04:41.708Z"
   },
   {
    "duration": 19,
    "start_time": "2022-06-24T15:04:41.731Z"
   },
   {
    "duration": 30,
    "start_time": "2022-06-24T15:04:41.752Z"
   },
   {
    "duration": 41,
    "start_time": "2022-06-24T15:04:41.783Z"
   },
   {
    "duration": 19,
    "start_time": "2022-06-24T15:04:41.826Z"
   },
   {
    "duration": 42,
    "start_time": "2022-06-24T15:04:41.848Z"
   },
   {
    "duration": 44,
    "start_time": "2022-06-24T15:04:41.891Z"
   },
   {
    "duration": 35,
    "start_time": "2022-06-24T15:04:41.937Z"
   },
   {
    "duration": 31,
    "start_time": "2022-06-24T15:04:41.974Z"
   },
   {
    "duration": 10,
    "start_time": "2022-06-24T15:04:42.007Z"
   },
   {
    "duration": 22,
    "start_time": "2022-06-24T15:04:42.018Z"
   },
   {
    "duration": 21,
    "start_time": "2022-06-24T15:04:42.041Z"
   },
   {
    "duration": 29,
    "start_time": "2022-06-24T15:04:42.064Z"
   },
   {
    "duration": 26,
    "start_time": "2022-06-24T15:04:42.095Z"
   },
   {
    "duration": 37,
    "start_time": "2022-06-24T15:04:42.123Z"
   },
   {
    "duration": 22,
    "start_time": "2022-06-24T15:04:42.162Z"
   },
   {
    "duration": 30,
    "start_time": "2022-06-24T15:04:42.186Z"
   },
   {
    "duration": 28,
    "start_time": "2022-06-24T15:04:42.217Z"
   },
   {
    "duration": 19,
    "start_time": "2022-06-24T15:04:42.246Z"
   },
   {
    "duration": 34,
    "start_time": "2022-06-24T15:04:42.267Z"
   },
   {
    "duration": 175,
    "start_time": "2022-06-24T15:04:42.303Z"
   },
   {
    "duration": 5,
    "start_time": "2022-06-24T15:04:42.480Z"
   },
   {
    "duration": 36,
    "start_time": "2022-06-24T15:04:42.487Z"
   },
   {
    "duration": 1757,
    "start_time": "2022-06-24T15:04:42.525Z"
   },
   {
    "duration": 170,
    "start_time": "2022-06-24T15:04:44.284Z"
   },
   {
    "duration": 201,
    "start_time": "2022-06-24T15:04:44.456Z"
   },
   {
    "duration": 204,
    "start_time": "2022-06-24T15:04:44.659Z"
   },
   {
    "duration": 53,
    "start_time": "2022-06-24T15:04:44.864Z"
   },
   {
    "duration": 3,
    "start_time": "2022-06-24T15:04:59.630Z"
   },
   {
    "duration": 4,
    "start_time": "2022-06-24T15:05:00.814Z"
   },
   {
    "duration": 5,
    "start_time": "2022-06-24T15:05:01.783Z"
   },
   {
    "duration": 8,
    "start_time": "2022-06-24T16:02:52.931Z"
   },
   {
    "duration": 7,
    "start_time": "2022-06-24T16:02:59.326Z"
   },
   {
    "duration": 4,
    "start_time": "2022-06-24T16:11:03.284Z"
   }
  ],
  "kernelspec": {
   "display_name": "Python 3 (ipykernel)",
   "language": "python",
   "name": "python3"
  },
  "language_info": {
   "codemirror_mode": {
    "name": "ipython",
    "version": 3
   },
   "file_extension": ".py",
   "mimetype": "text/x-python",
   "name": "python",
   "nbconvert_exporter": "python",
   "pygments_lexer": "ipython3",
   "version": "3.9.18"
  },
  "toc": {
   "base_numbering": 1,
   "nav_menu": {},
   "number_sections": false,
   "sideBar": true,
   "skip_h1_title": true,
   "title_cell": "Table of Contents",
   "title_sidebar": "Contents",
   "toc_cell": false,
   "toc_position": {
    "height": "calc(100% - 180px)",
    "left": "10px",
    "top": "150px",
    "width": "366.391px"
   },
   "toc_section_display": true,
   "toc_window_display": true
  }
 },
 "nbformat": 4,
 "nbformat_minor": 4
}
