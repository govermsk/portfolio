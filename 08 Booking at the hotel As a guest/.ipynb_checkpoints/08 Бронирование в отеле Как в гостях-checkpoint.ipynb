{
 "cells": [
  {
   "cell_type": "markdown",
   "metadata": {},
   "source": [
    "# Прогнозирование оттока клиентов в сети отелей «Как в гостях»"
   ]
  },
  {
   "cell_type": "markdown",
   "metadata": {},
   "source": [
    "Исполнитель: Варивода Сергей Петрович"
   ]
  },
  {
   "cell_type": "markdown",
   "metadata": {},
   "source": [
    "## Описание проекта"
   ]
  },
  {
   "cell_type": "markdown",
   "metadata": {},
   "source": [
    "Отель \"Как в гостях\" предоставляет клиентам возможность бесплатного бронирования, но многие из них отказываются от брони в связи с чем отель теряет прибыль.<BR>\n",
    "Задача проекта: разработка модели машинного обучения, предсказывающей возможные отказы клиентов от сделанной брони номеров."
   ]
  },
  {
   "cell_type": "markdown",
   "metadata": {},
   "source": [
    "#### Подготовка к работе с проектом"
   ]
  },
  {
   "cell_type": "markdown",
   "metadata": {},
   "source": [
    "Осуществляем начальные действия для работы с проектом. Прежде всего подключение необходимых библиотек."
   ]
  },
  {
   "cell_type": "code",
   "execution_count": 1,
   "metadata": {},
   "outputs": [],
   "source": [
    "try:\n",
    "    from sklearnex import patch_sklearn\n",
    "    patch_sklearn()\n",
    "except:\n",
    "    pass"
   ]
  },
  {
   "cell_type": "code",
   "execution_count": 2,
   "metadata": {},
   "outputs": [],
   "source": [
    "import pandas as pd\n",
    "import numpy as np\n",
    "import platform\n",
    "\n",
    "from sklearn.model_selection import train_test_split\n",
    "from sklearn.preprocessing import MinMaxScaler\n",
    "from sklearn.metrics import accuracy_score, precision_score, f1_score, roc_auc_score, recall_score, r2_score\n",
    "from sklearn.utils import shuffle\n",
    "from sklearn.ensemble import RandomForestClassifier\n",
    "from sklearn.linear_model import LogisticRegression\n",
    "from sklearn.model_selection import cross_val_score, cross_validate\n",
    "from sklearn.tree import DecisionTreeClassifier\n",
    "from sklearn.metrics import make_scorer\n",
    "from time import strptime, strftime\n",
    "from sklearn.metrics import classification_report\n",
    "import random\n",
    "import time\n",
    "import matplotlib.pyplot as plt"
   ]
  },
  {
   "cell_type": "markdown",
   "metadata": {},
   "source": [
    "Импорт/установка прогресс-бара и библиотеки отчетов"
   ]
  },
  {
   "cell_type": "code",
   "execution_count": 3,
   "metadata": {},
   "outputs": [],
   "source": [
    "try:\n",
    "    from tqdm import tqdm\n",
    "except:\n",
    "    !from pandas_profiling import tqdm"
   ]
  },
  {
   "cell_type": "markdown",
   "metadata": {},
   "source": [
    "Подгрузка библиотеки pandas_profiling для создания отчетов по таблицам"
   ]
  },
  {
   "cell_type": "code",
   "execution_count": 4,
   "metadata": {},
   "outputs": [],
   "source": [
    "try:\n",
    "    from pandas_profiling import ProfileReport\n",
    "except:\n",
    "    !pip install pandas_profiling\n",
    "    !pip install ipywidgets\n",
    "    from pandas_profiling import ProfileReport"
   ]
  },
  {
   "cell_type": "markdown",
   "metadata": {},
   "source": [
    "Подключение optuna для перебора гиперпараметров"
   ]
  },
  {
   "cell_type": "code",
   "execution_count": 5,
   "metadata": {},
   "outputs": [],
   "source": [
    "try:\n",
    "    import optuna\n",
    "except:\n",
    "    !pip install optuna\n",
    "    import optuna"
   ]
  },
  {
   "cell_type": "code",
   "execution_count": 6,
   "metadata": {},
   "outputs": [],
   "source": [
    "host = platform.node()\n",
    "\n",
    "# На машинах исполнителя проекта файл с данными доступен через символический путь, \n",
    "# ссылающийса на папку на яндекс.диске, где расположен загружаемый файл. \n",
    "# В случае если хостом где выполняется анализ является какая-либо другая машина, \n",
    "# используем путь по умолчанию.\n",
    "try:    \n",
    "    if host in ['22varivoda','Gover-pc','MSI']:\n",
    "        filepath    = 'C:/_YDsymlink/Python/datascience/Projects/14 - Сборный проект 2/'\n",
    "    else:\n",
    "        filepath    = '/datasets/'\n",
    "except:\n",
    "    print(\"Не удалось подгрузить данные\")\n",
    "    \n",
    "pd.reset_option('^display.',silent=True)\n",
    "pd.set_option('display.float_format', str)\n",
    "pd.options.mode.chained_assignment = None"
   ]
  },
  {
   "cell_type": "code",
   "execution_count": 7,
   "metadata": {},
   "outputs": [],
   "source": [
    "state = np.random.RandomState(12345)"
   ]
  },
  {
   "cell_type": "markdown",
   "metadata": {},
   "source": [
    "#### Константы проекта"
   ]
  },
  {
   "cell_type": "markdown",
   "metadata": {},
   "source": [
    "Сезонные коэффициенты стоимости проживания"
   ]
  },
  {
   "cell_type": "code",
   "execution_count": 8,
   "metadata": {},
   "outputs": [],
   "source": [
    "PRICE_MULTIPLIER_SPRING = 1.2 # увеличение стоимости проживания для весеннего периода\n",
    "PRICE_MULTIPLIER_SUMMER = 1.4 # увеличение стоимости проживания для летнего периода"
   ]
  },
  {
   "cell_type": "markdown",
   "metadata": {},
   "source": [
    "Базовые стоимости номеров по категориям"
   ]
  },
  {
   "cell_type": "code",
   "execution_count": 9,
   "metadata": {},
   "outputs": [],
   "source": [
    "ROOM_PRICES_BASE = {'A':1000,\n",
    "                    'B':800,\n",
    "                    'C':600,\n",
    "                    'D':550,\n",
    "                    'E':500,\n",
    "                    'F':450,\n",
    "                    'G':350}"
   ]
  },
  {
   "cell_type": "markdown",
   "metadata": {},
   "source": [
    "Стоимость обслуживания"
   ]
  },
  {
   "cell_type": "code",
   "execution_count": 10,
   "metadata": {},
   "outputs": [],
   "source": [
    "ROOM_SERVICE_ONE_TIME_COST = {'A':400,\n",
    "                              'B':350,\n",
    "                              'C':350,\n",
    "                              'D':150,\n",
    "                              'E':150,\n",
    "                              'F':150,\n",
    "                              'G':150}"
   ]
  },
  {
   "cell_type": "markdown",
   "metadata": {},
   "source": [
    "Маски дней по сезонам. К примеру если день является весной то соответствующий его элемент для SPRINGMASK будет True, иначе False"
   ]
  },
  {
   "cell_type": "code",
   "execution_count": 11,
   "metadata": {},
   "outputs": [],
   "source": [
    "SPRINGMASK         = pd.Series(([False] *(31+28)) + ([True ]*(31+30+31)) + ([False]*(30+31+31)) + ([False]*(30+31+30+31)))\n",
    "SPRINGMASK_VISOKOS = pd.concat([pd.Series([False]),SPRINGMASK]).reset_index(drop=True)\n",
    "SUMMERMASK         = pd.Series(([False] *(31+28)) + ([False]*(31+30+31)) + ([True ]*(30+31+31)) + ([False]*(30+31+30+31)))\n",
    "SUMMERMASK_VISOKOS = pd.concat([pd.Series([False]),SUMMERMASK]).reset_index(drop=True)\n",
    "OTHER_MASK         = pd.Series(([True ] *(31+28)) + ([False]*(31+30+31)) + ([False]*(30+31+31)) + ([True ]*(30+31+30+31)))\n",
    "OTHER_MASK_VISOKOS = pd.concat([pd.Series([True]),OTHER_MASK]).reset_index(drop=True)\n",
    "SEASON_MASKS = {'spring':SPRINGMASK,\n",
    "                'spring_visokos':SPRINGMASK_VISOKOS,\n",
    "                'summer':SUMMERMASK,\n",
    "                'summer_visokos':SUMMERMASK_VISOKOS,\n",
    "                'other':OTHER_MASK,\n",
    "                'other_visokos':OTHER_MASK_VISOKOS\n",
    "               }"
   ]
  },
  {
   "cell_type": "markdown",
   "metadata": {},
   "source": [
    "### Шаг 1. Откройте файлы с данными"
   ]
  },
  {
   "cell_type": "markdown",
   "metadata": {},
   "source": [
    "Подгрузка файлов с данными"
   ]
  },
  {
   "cell_type": "code",
   "execution_count": 12,
   "metadata": {},
   "outputs": [],
   "source": [
    "df_train = pd.read_csv(filepath+'hotel_train.csv')\n",
    "df_test  = pd.read_csv(filepath+'hotel_test.csv')"
   ]
  },
  {
   "cell_type": "markdown",
   "metadata": {},
   "source": [
    "Первичный осмотр файлов"
   ]
  },
  {
   "cell_type": "code",
   "execution_count": 13,
   "metadata": {},
   "outputs": [
    {
     "data": {
      "text/html": [
       "<div>\n",
       "<style scoped>\n",
       "    .dataframe tbody tr th:only-of-type {\n",
       "        vertical-align: middle;\n",
       "    }\n",
       "\n",
       "    .dataframe tbody tr th {\n",
       "        vertical-align: top;\n",
       "    }\n",
       "\n",
       "    .dataframe thead th {\n",
       "        text-align: right;\n",
       "    }\n",
       "</style>\n",
       "<table border=\"1\" class=\"dataframe\">\n",
       "  <thead>\n",
       "    <tr style=\"text-align: right;\">\n",
       "      <th></th>\n",
       "      <th>id</th>\n",
       "      <th>is_canceled</th>\n",
       "      <th>lead_time</th>\n",
       "      <th>arrival_date_year</th>\n",
       "      <th>arrival_date_month</th>\n",
       "      <th>arrival_date_week_number</th>\n",
       "      <th>arrival_date_day_of_month</th>\n",
       "      <th>stays_in_weekend_nights</th>\n",
       "      <th>stays_in_week_nights</th>\n",
       "      <th>adults</th>\n",
       "      <th>...</th>\n",
       "      <th>is_repeated_guest</th>\n",
       "      <th>previous_cancellations</th>\n",
       "      <th>previous_bookings_not_canceled</th>\n",
       "      <th>reserved_room_type</th>\n",
       "      <th>booking_changes</th>\n",
       "      <th>days_in_waiting_list</th>\n",
       "      <th>customer_type</th>\n",
       "      <th>required_car_parking_spaces</th>\n",
       "      <th>total_of_special_requests</th>\n",
       "      <th>total_nights</th>\n",
       "    </tr>\n",
       "  </thead>\n",
       "  <tbody>\n",
       "    <tr>\n",
       "      <th>12757</th>\n",
       "      <td>15409</td>\n",
       "      <td>0</td>\n",
       "      <td>131.0</td>\n",
       "      <td>2016</td>\n",
       "      <td>May</td>\n",
       "      <td>22</td>\n",
       "      <td>24</td>\n",
       "      <td>2</td>\n",
       "      <td>5</td>\n",
       "      <td>2.0</td>\n",
       "      <td>...</td>\n",
       "      <td>0</td>\n",
       "      <td>0</td>\n",
       "      <td>0</td>\n",
       "      <td>E</td>\n",
       "      <td>0</td>\n",
       "      <td>0</td>\n",
       "      <td>Transient</td>\n",
       "      <td>0</td>\n",
       "      <td>0</td>\n",
       "      <td>7</td>\n",
       "    </tr>\n",
       "    <tr>\n",
       "      <th>58542</th>\n",
       "      <td>77204</td>\n",
       "      <td>0</td>\n",
       "      <td>62.0</td>\n",
       "      <td>2016</td>\n",
       "      <td>September</td>\n",
       "      <td>37</td>\n",
       "      <td>5</td>\n",
       "      <td>1</td>\n",
       "      <td>2</td>\n",
       "      <td>2.0</td>\n",
       "      <td>...</td>\n",
       "      <td>0</td>\n",
       "      <td>0</td>\n",
       "      <td>0</td>\n",
       "      <td>D</td>\n",
       "      <td>0</td>\n",
       "      <td>0</td>\n",
       "      <td>Transient</td>\n",
       "      <td>1</td>\n",
       "      <td>2</td>\n",
       "      <td>3</td>\n",
       "    </tr>\n",
       "    <tr>\n",
       "      <th>60308</th>\n",
       "      <td>78986</td>\n",
       "      <td>0</td>\n",
       "      <td>193.0</td>\n",
       "      <td>2016</td>\n",
       "      <td>September</td>\n",
       "      <td>40</td>\n",
       "      <td>30</td>\n",
       "      <td>1</td>\n",
       "      <td>2</td>\n",
       "      <td>2.0</td>\n",
       "      <td>...</td>\n",
       "      <td>0</td>\n",
       "      <td>0</td>\n",
       "      <td>0</td>\n",
       "      <td>A</td>\n",
       "      <td>0</td>\n",
       "      <td>0</td>\n",
       "      <td>Transient-Party</td>\n",
       "      <td>0</td>\n",
       "      <td>0</td>\n",
       "      <td>3</td>\n",
       "    </tr>\n",
       "  </tbody>\n",
       "</table>\n",
       "<p>3 rows × 25 columns</p>\n",
       "</div>"
      ],
      "text/plain": [
       "          id  is_canceled  lead_time  arrival_date_year arrival_date_month  \\\n",
       "12757  15409            0      131.0               2016                May   \n",
       "58542  77204            0       62.0               2016          September   \n",
       "60308  78986            0      193.0               2016          September   \n",
       "\n",
       "       arrival_date_week_number  arrival_date_day_of_month  \\\n",
       "12757                        22                         24   \n",
       "58542                        37                          5   \n",
       "60308                        40                         30   \n",
       "\n",
       "       stays_in_weekend_nights  stays_in_week_nights  adults  ...  \\\n",
       "12757                        2                     5     2.0  ...   \n",
       "58542                        1                     2     2.0  ...   \n",
       "60308                        1                     2     2.0  ...   \n",
       "\n",
       "       is_repeated_guest  previous_cancellations  \\\n",
       "12757                  0                       0   \n",
       "58542                  0                       0   \n",
       "60308                  0                       0   \n",
       "\n",
       "      previous_bookings_not_canceled reserved_room_type booking_changes  \\\n",
       "12757                              0   E                              0   \n",
       "58542                              0   D                              0   \n",
       "60308                              0   A                              0   \n",
       "\n",
       "       days_in_waiting_list    customer_type  required_car_parking_spaces  \\\n",
       "12757                     0        Transient                            0   \n",
       "58542                     0        Transient                            1   \n",
       "60308                     0  Transient-Party                            0   \n",
       "\n",
       "      total_of_special_requests  total_nights  \n",
       "12757                         0             7  \n",
       "58542                         2             3  \n",
       "60308                         0             3  \n",
       "\n",
       "[3 rows x 25 columns]"
      ]
     },
     "execution_count": 13,
     "metadata": {},
     "output_type": "execute_result"
    }
   ],
   "source": [
    "df_train.sample(3)"
   ]
  },
  {
   "cell_type": "code",
   "execution_count": 14,
   "metadata": {},
   "outputs": [
    {
     "data": {
      "text/html": [
       "<div>\n",
       "<style scoped>\n",
       "    .dataframe tbody tr th:only-of-type {\n",
       "        vertical-align: middle;\n",
       "    }\n",
       "\n",
       "    .dataframe tbody tr th {\n",
       "        vertical-align: top;\n",
       "    }\n",
       "\n",
       "    .dataframe thead th {\n",
       "        text-align: right;\n",
       "    }\n",
       "</style>\n",
       "<table border=\"1\" class=\"dataframe\">\n",
       "  <thead>\n",
       "    <tr style=\"text-align: right;\">\n",
       "      <th></th>\n",
       "      <th>id</th>\n",
       "      <th>is_canceled</th>\n",
       "      <th>lead_time</th>\n",
       "      <th>arrival_date_year</th>\n",
       "      <th>arrival_date_month</th>\n",
       "      <th>arrival_date_week_number</th>\n",
       "      <th>arrival_date_day_of_month</th>\n",
       "      <th>stays_in_weekend_nights</th>\n",
       "      <th>stays_in_week_nights</th>\n",
       "      <th>adults</th>\n",
       "      <th>...</th>\n",
       "      <th>is_repeated_guest</th>\n",
       "      <th>previous_cancellations</th>\n",
       "      <th>previous_bookings_not_canceled</th>\n",
       "      <th>reserved_room_type</th>\n",
       "      <th>booking_changes</th>\n",
       "      <th>days_in_waiting_list</th>\n",
       "      <th>customer_type</th>\n",
       "      <th>required_car_parking_spaces</th>\n",
       "      <th>total_of_special_requests</th>\n",
       "      <th>total_nights</th>\n",
       "    </tr>\n",
       "  </thead>\n",
       "  <tbody>\n",
       "    <tr>\n",
       "      <th>26733</th>\n",
       "      <td>92225</td>\n",
       "      <td>0</td>\n",
       "      <td>133.0</td>\n",
       "      <td>2017</td>\n",
       "      <td>May</td>\n",
       "      <td>21</td>\n",
       "      <td>26</td>\n",
       "      <td>0</td>\n",
       "      <td>1</td>\n",
       "      <td>2.0</td>\n",
       "      <td>...</td>\n",
       "      <td>0</td>\n",
       "      <td>0</td>\n",
       "      <td>0</td>\n",
       "      <td>A</td>\n",
       "      <td>0</td>\n",
       "      <td>0</td>\n",
       "      <td>Transient</td>\n",
       "      <td>0</td>\n",
       "      <td>1</td>\n",
       "      <td>1</td>\n",
       "    </tr>\n",
       "    <tr>\n",
       "      <th>27209</th>\n",
       "      <td>92701</td>\n",
       "      <td>0</td>\n",
       "      <td>214.0</td>\n",
       "      <td>2017</td>\n",
       "      <td>May</td>\n",
       "      <td>22</td>\n",
       "      <td>28</td>\n",
       "      <td>2</td>\n",
       "      <td>4</td>\n",
       "      <td>2.0</td>\n",
       "      <td>...</td>\n",
       "      <td>0</td>\n",
       "      <td>0</td>\n",
       "      <td>0</td>\n",
       "      <td>A</td>\n",
       "      <td>0</td>\n",
       "      <td>0</td>\n",
       "      <td>Transient</td>\n",
       "      <td>0</td>\n",
       "      <td>0</td>\n",
       "      <td>6</td>\n",
       "    </tr>\n",
       "    <tr>\n",
       "      <th>15887</th>\n",
       "      <td>53076</td>\n",
       "      <td>1</td>\n",
       "      <td>141.0</td>\n",
       "      <td>2017</td>\n",
       "      <td>June</td>\n",
       "      <td>26</td>\n",
       "      <td>27</td>\n",
       "      <td>2</td>\n",
       "      <td>5</td>\n",
       "      <td>1.0</td>\n",
       "      <td>...</td>\n",
       "      <td>0</td>\n",
       "      <td>0</td>\n",
       "      <td>0</td>\n",
       "      <td>A</td>\n",
       "      <td>0</td>\n",
       "      <td>0</td>\n",
       "      <td>Transient</td>\n",
       "      <td>0</td>\n",
       "      <td>0</td>\n",
       "      <td>7</td>\n",
       "    </tr>\n",
       "  </tbody>\n",
       "</table>\n",
       "<p>3 rows × 25 columns</p>\n",
       "</div>"
      ],
      "text/plain": [
       "          id  is_canceled  lead_time  arrival_date_year arrival_date_month  \\\n",
       "26733  92225            0      133.0               2017                May   \n",
       "27209  92701            0      214.0               2017                May   \n",
       "15887  53076            1      141.0               2017               June   \n",
       "\n",
       "       arrival_date_week_number  arrival_date_day_of_month  \\\n",
       "26733                        21                         26   \n",
       "27209                        22                         28   \n",
       "15887                        26                         27   \n",
       "\n",
       "       stays_in_weekend_nights  stays_in_week_nights  adults  ...  \\\n",
       "26733                        0                     1     2.0  ...   \n",
       "27209                        2                     4     2.0  ...   \n",
       "15887                        2                     5     1.0  ...   \n",
       "\n",
       "       is_repeated_guest  previous_cancellations  \\\n",
       "26733                  0                       0   \n",
       "27209                  0                       0   \n",
       "15887                  0                       0   \n",
       "\n",
       "      previous_bookings_not_canceled reserved_room_type booking_changes  \\\n",
       "26733                              0   A                              0   \n",
       "27209                              0   A                              0   \n",
       "15887                              0   A                              0   \n",
       "\n",
       "       days_in_waiting_list  customer_type  required_car_parking_spaces  \\\n",
       "26733                     0      Transient                            0   \n",
       "27209                     0      Transient                            0   \n",
       "15887                     0      Transient                            0   \n",
       "\n",
       "      total_of_special_requests  total_nights  \n",
       "26733                         1             1  \n",
       "27209                         0             6  \n",
       "15887                         0             7  \n",
       "\n",
       "[3 rows x 25 columns]"
      ]
     },
     "execution_count": 14,
     "metadata": {},
     "output_type": "execute_result"
    }
   ],
   "source": [
    "df_test.sample(3)"
   ]
  },
  {
   "cell_type": "markdown",
   "metadata": {},
   "source": [
    "### Шаг 2. Предобработка и исследовательский анализ данных"
   ]
  },
  {
   "cell_type": "markdown",
   "metadata": {},
   "source": [
    "### Проверка таблиц"
   ]
  },
  {
   "cell_type": "markdown",
   "metadata": {},
   "source": [
    "Первая таблица (hotel_train):"
   ]
  },
  {
   "cell_type": "code",
   "execution_count": 15,
   "metadata": {
    "tags": []
   },
   "outputs": [],
   "source": [
    "# Вызов профайлера. Можно закомментировать для экономии времени\n",
    "ProfileReport(df_train, title = 'Отчет по подгруженной базе данных hotel_train')"
   ]
  },
  {
   "cell_type": "markdown",
   "metadata": {},
   "source": [
    "Проверка второй таблички (hotel_test.csv)"
   ]
  },
  {
   "cell_type": "code",
   "execution_count": 16,
   "metadata": {
    "tags": []
   },
   "outputs": [],
   "source": [
    "# Вызов профайлера закомментировал для экономии времени\n",
    "#ProfileReport(df_test, title = 'Отчет по подгруженной базе данных hotel_test')"
   ]
  },
  {
   "cell_type": "markdown",
   "metadata": {},
   "source": [
    "Отчеты Pandas Profiling показывают что:<BR>\n",
    "1) <code>arrival_date_month</code>. имеет формат string(object). Предположительно преобразование в число может быть полезным.<BR>\n",
    "2) <code>meal</code>. Диапазон допустимых значений: SC / BB / HB / FB, то есть четыре значения. На практике имеем пять, так как SC дублируется. Надо поправить<BR>\n",
    "3) <code>stays_in_weekend_nights</code> ∈ строки, <code>stays_in_week_nights</code> ∈ числа, <code>total_nights</code> ∈ числа. Т.е. <code>stays_in_weekend_nights</code> нужно сделать числом<BR>\n",
    "4) <code>adults</code>, <code>children</code> и <code>babies</code> являются строками. Предположительно стоит преобразовать их в числа<BR>\n",
    "5) <code>required_car_parking_places</code> также целесообразно преобразовать в числа.<BR>\n",
    "Пустых (null) значений не обнаруживается.<BR>\n",
    "Эти замечания актуальны для обеих таблиц.<BR>\n",
    "6) Поле <code>country</code> имеет смысл проверить на наличие дубликатов значений, так как оно обладает уж очень большим диапазоном значений"
   ]
  },
  {
   "cell_type": "markdown",
   "metadata": {},
   "source": [
    "Кроме того у второй таблицы в поле <code>arrival_date_year</code> все значения одинаковые = 2017. Вероятно нет смысла использовать это поле."
   ]
  },
  {
   "cell_type": "markdown",
   "metadata": {},
   "source": [
    "Так как <code>total_nights</code>, <code>stays_in_weekend_nights</code>, <code>stays_in_week_nights</code> связаны, имеем дело с dummy-ловушкой, а значит при дальнейшей работе будем пользоваться не всеми тремя, а двумя из этих столбцов"
   ]
  },
  {
   "cell_type": "markdown",
   "metadata": {},
   "source": [
    "<B>Проверка на дубликаты</B>"
   ]
  },
  {
   "cell_type": "markdown",
   "metadata": {},
   "source": [
    "Проверим обучающую выборку на дубликаты. Если они есть - уберём"
   ]
  },
  {
   "cell_type": "code",
   "execution_count": 17,
   "metadata": {},
   "outputs": [
    {
     "data": {
      "text/plain": [
       "21377"
      ]
     },
     "execution_count": 17,
     "metadata": {},
     "output_type": "execute_result"
    }
   ],
   "source": [
    "df_dupecheck_train = df_train\n",
    "df_dupecheck_train = df_dupecheck_train.drop(columns=['id'])\n",
    "df_dupecheck_train.duplicated().sum()"
   ]
  },
  {
   "cell_type": "markdown",
   "metadata": {},
   "source": [
    "Дубликаты есть и их много"
   ]
  },
  {
   "cell_type": "code",
   "execution_count": 18,
   "metadata": {},
   "outputs": [],
   "source": [
    "dupeindex = df_train[df_dupecheck_train.duplicated()].index\n",
    "df_train = df_train.drop(index=dupeindex)"
   ]
  },
  {
   "cell_type": "markdown",
   "metadata": {},
   "source": [
    "Тестовую выборку чистить от дубликатов не будем, так как для нее не критично."
   ]
  },
  {
   "cell_type": "markdown",
   "metadata": {},
   "source": [
    "<B>Проверка на адекватность чисел</B>"
   ]
  },
  {
   "cell_type": "markdown",
   "metadata": {},
   "source": [
    "Посмотрим, есть ли заказы где номер оформлен только на детей но этому нет логического объяснения<BR>\n",
    "Заметим что номер может быть сдан только детям в некоторых случаях:<BR>\n",
    "- многодетная семья из числа человек, превышающего число спальных мест в номере. Тогда старших детей (но не младенцев) могут поселить в соседний номер<BR>\n",
    "- детский тур (воспитатель/старший) в одном номере, а дети расселены по разным<BR>\n",
    "- дети путешествуют в рамках спортивных или иных мероприятий (например чемпионат по легкой атлетике или гастроли молодежного музыкального коллектива) и заселены командой по разным номерам<BR>\n",
    "- дети перемещаются от юридического лица (в т.ч. государства) в рамках какой-либо программы, а сопровождающий их взрослый находится в отдельном номере"
   ]
  },
  {
   "cell_type": "markdown",
   "metadata": {},
   "source": [
    "В этих случаях допустимо число взрослых равное нулю и тип клиента Group/Contract/Transient-Party, но не Transient"
   ]
  },
  {
   "cell_type": "code",
   "execution_count": 19,
   "metadata": {},
   "outputs": [
    {
     "data": {
      "text/plain": [
       "Transient          35369\n",
       "Transient-Party     6350\n",
       "Contract            1874\n",
       "Group                259\n",
       "Name: customer_type, dtype: int64"
      ]
     },
     "execution_count": 19,
     "metadata": {},
     "output_type": "execute_result"
    }
   ],
   "source": [
    "df_train['customer_type'].value_counts()"
   ]
  },
  {
   "cell_type": "code",
   "execution_count": 20,
   "metadata": {},
   "outputs": [
    {
     "data": {
      "text/plain": [
       "90"
      ]
     },
     "execution_count": 20,
     "metadata": {},
     "output_type": "execute_result"
    }
   ],
   "source": [
    "childindex = df_train.loc[(df_train['adults'] ==0)].loc[df_train['customer_type']=='Transient'].index\n",
    "len(childindex)"
   ]
  },
  {
   "cell_type": "code",
   "execution_count": 21,
   "metadata": {},
   "outputs": [],
   "source": [
    "df_train = df_train.drop(index=childindex)"
   ]
  },
  {
   "cell_type": "markdown",
   "metadata": {},
   "source": [
    "Невменяемое число младенцев"
   ]
  },
  {
   "cell_type": "code",
   "execution_count": 22,
   "metadata": {},
   "outputs": [],
   "source": [
    "df_train = df_train.drop(index= (df_train.loc[df_train['babies']>3]['babies'].index))"
   ]
  },
  {
   "cell_type": "markdown",
   "metadata": {},
   "source": [
    "Невменяемое число парковочных мест"
   ]
  },
  {
   "cell_type": "code",
   "execution_count": 23,
   "metadata": {},
   "outputs": [],
   "source": [
    "df_train = df_train.drop(index= (df_train.loc[df_train['required_car_parking_spaces']>3]['required_car_parking_spaces'].index))"
   ]
  },
  {
   "cell_type": "markdown",
   "metadata": {},
   "source": [
    "### Исправления и преобразования"
   ]
  },
  {
   "cell_type": "markdown",
   "metadata": {},
   "source": [
    "Общий список признаков:"
   ]
  },
  {
   "cell_type": "markdown",
   "metadata": {},
   "source": [
    "Пометим через N числовые признаки, а через OHE категориальные, подлежащие прямому кодированию (one-hot-encoding)"
   ]
  },
  {
   "cell_type": "code",
   "execution_count": 24,
   "metadata": {},
   "outputs": [],
   "source": [
    "features = [\"id\",                 # номер записи;\n",
    "            \"is_canceled\",        # отмена заказа\n",
    "            \"lead_time\",          # количество дней между датой бронирования и датой прибытия    N\n",
    "            \"arrival_date_year\",  # год заезда                                            N \n",
    "            \"arrival_date_month\", #  месяц заезда                                         N \n",
    "            \"arrival_date_week_number\",  # неделя заезда                                  N \n",
    "            \"arrival_date_day_of_month\", # день заезда                                    N \n",
    "            \"stays_in_weekend_nights\",   # количество ночей в выходные дни                N\n",
    "            \"stays_in_week_nights\",      # количество ночей в будние дни                  N\n",
    "            \"adults\",   # количество взрослых постояльцев                                 N\n",
    "            \"children\", # количество детей от 3 до 14 лет                                 N\n",
    "            \"babies\",   # количество младенцев                                            N\n",
    "            \"meal\",     # опции заказа   SC / BB / HB / FB                                OHE\n",
    "            \"country\",  # гражданство постояльца                                              OHE \n",
    "            \"distribution_channel\", # канал дистрибуции заказа                                OHE\n",
    "            \"is_repeated_guest\",    # признак того, что гость бронирует номер второй раз      N = 0/1\n",
    "            \"previous_cancellations\",         # количество отменённых заказов у клиента       N\n",
    "            \"previous_bookings_not_canceled\", # количество подтверждённых заказов у клиента   N\n",
    "            \"reserved_room_type\",    # тип забронированной комнаты                            OHE\n",
    "            \"booking_changes\",       #  количество изменений параметров заказа                N\n",
    "            \"days_in_waiting_list\",  # сколько дней заказ ожидал подтверждения                N\n",
    "            \"customer_type\",         #  тип заказчика: Contract / Group / Transient / Transient-party  OHE\n",
    "            \"required_car_parking_spaces\", # необходимость места для автомобиля               N \n",
    "            \"total_of_special_requests\",   # количество специальных отметок                   N\n",
    "            \"total_nights\"                # общее количество ночей                            N\n",
    "]"
   ]
  },
  {
   "cell_type": "markdown",
   "metadata": {},
   "source": [
    "Преобразование <code>arrival_date_month</code> из строки в число"
   ]
  },
  {
   "cell_type": "code",
   "execution_count": 25,
   "metadata": {},
   "outputs": [],
   "source": [
    "df_train['arrival_date_month'] = df_train['arrival_date_month'].apply(lambda s: strptime(s[:3],'%b').tm_mon)\n",
    "df_test['arrival_date_month']  = df_test['arrival_date_month'].apply(lambda s: strptime(s[:3],'%b').tm_mon)"
   ]
  },
  {
   "cell_type": "markdown",
   "metadata": {},
   "source": [
    "Корректировка дубликатов в поле <code>meal</code>"
   ]
  },
  {
   "cell_type": "code",
   "execution_count": 26,
   "metadata": {},
   "outputs": [
    {
     "data": {
      "text/plain": [
       "BB           35471\n",
       "SC            4658\n",
       "HB            3343\n",
       "SC             153\n",
       "FB             135\n",
       "Name: meal, dtype: int64"
      ]
     },
     "execution_count": 26,
     "metadata": {},
     "output_type": "execute_result"
    }
   ],
   "source": [
    "df_train['meal'].value_counts()"
   ]
  },
  {
   "cell_type": "code",
   "execution_count": 27,
   "metadata": {},
   "outputs": [
    {
     "data": {
      "text/plain": [
       "array(['BB       ', 'BB       ', 'BB       '], dtype=object)"
      ]
     },
     "execution_count": 27,
     "metadata": {},
     "output_type": "execute_result"
    }
   ],
   "source": [
    "df_train['meal'][:3].values"
   ]
  },
  {
   "cell_type": "markdown",
   "metadata": {},
   "source": [
    "Видно что проблема в пробелах"
   ]
  },
  {
   "cell_type": "code",
   "execution_count": 28,
   "metadata": {},
   "outputs": [],
   "source": [
    "df_train['meal'] = df_train['meal'].str.strip()\n",
    "df_test['meal']  = df_test['meal'].str.strip()"
   ]
  },
  {
   "cell_type": "markdown",
   "metadata": {},
   "source": [
    "Преобразование <code>stays_in_weekend_nights</code> в число"
   ]
  },
  {
   "cell_type": "code",
   "execution_count": 29,
   "metadata": {},
   "outputs": [],
   "source": [
    "df_train['stays_in_weekend_nights'] = df_train['stays_in_weekend_nights'].astype('int')\n",
    "df_test['stays_in_weekend_nights']  = df_test['stays_in_weekend_nights'].astype('int')"
   ]
  },
  {
   "cell_type": "markdown",
   "metadata": {},
   "source": [
    "Преобразование <code>adults</code>, <code>children</code>, <code>babies</code> в числа"
   ]
  },
  {
   "cell_type": "code",
   "execution_count": 30,
   "metadata": {},
   "outputs": [],
   "source": [
    "df_train['adults'] = df_train['adults'].astype('int')\n",
    "df_test['adults']  = df_test['adults'].astype('int')\n",
    "df_train['children'] = df_train['children'].astype('int')\n",
    "df_test['children']  = df_test['children'].astype('int')\n",
    "df_train['babies'] = df_train['babies'].astype('int')\n",
    "df_test['babies']  = df_test['babies'].astype('int')"
   ]
  },
  {
   "cell_type": "markdown",
   "metadata": {},
   "source": [
    "Преобразование <code>required_car_parking_places</code> в число"
   ]
  },
  {
   "cell_type": "markdown",
   "metadata": {},
   "source": [
    "Проверка <code>Country</code> на дубликаты и неадекватные значения"
   ]
  },
  {
   "cell_type": "code",
   "execution_count": 31,
   "metadata": {},
   "outputs": [],
   "source": [
    "train_countries = df_train['country'].value_counts().reset_index().sort_values(by='index')['index']\n",
    "test_countries  =  df_test['country'].value_counts().reset_index().sort_values(by='index')['index']"
   ]
  },
  {
   "cell_type": "code",
   "execution_count": 32,
   "metadata": {},
   "outputs": [
    {
     "name": "stdout",
     "output_type": "stream",
     "text": [
      "Количество перечисленных стран в обучающей выборке: 155, из них уникальных: 155\n",
      "Количество перечисленных стран в тестовой выборке: 143, из них уникальных: 143\n"
     ]
    }
   ],
   "source": [
    "print(f\"Количество перечисленных стран в обучающей выборке: {len(train_countries)}, из них уникальных: {len(train_countries.unique())}\")\n",
    "print(f\"Количество перечисленных стран в тестовой выборке: {len(test_countries)}, из них уникальных: {len(test_countries.unique())}\")"
   ]
  },
  {
   "cell_type": "markdown",
   "metadata": {},
   "source": [
    "Проверка показывает что со столбцами стран проблем не наблюдается, значения уникальны."
   ]
  },
  {
   "cell_type": "markdown",
   "metadata": {},
   "source": [
    "Тем не менее есть одна проблема. Число стран не совпадает, а значит при прямом кодировании (OHE) число столбцов тоже будет не совпадать. Чтобы избавиться от этой проблемы добавим функцию, сравнив таблицы train и test, выдаст два списка: первый - страны которых не хватает в таблице train и второй - страны которых не хватает в таблице test. Позже можно будет воспользоваться этими списками и сбалансировать таблицы по числу столбцов"
   ]
  },
  {
   "cell_type": "code",
   "execution_count": 33,
   "metadata": {},
   "outputs": [],
   "source": [
    "def get_countries_differences(df1, df2):\n",
    "    countries_list_1 = list(df1['country'].value_counts().index.sort_values())\n",
    "    countries_list_2 = list(df2['country'].value_counts().index.sort_values())\n",
    "\n",
    "    countries_to_add_in_1 = []\n",
    "    countries_to_add_in_2 = []\n",
    "\n",
    "    for c1 in countries_list_1:\n",
    "        if c1 not in countries_list_2:\n",
    "            countries_to_add_in_2.append(c1)\n",
    "\n",
    "    for c2 in countries_list_2:\n",
    "        if c2 not in countries_list_1:\n",
    "            countries_to_add_in_1.append(c2)\n",
    "            \n",
    "    return countries_to_add_in_1, countries_to_add_in_2"
   ]
  },
  {
   "cell_type": "markdown",
   "metadata": {},
   "source": [
    "Посчитаем какие столбцы стран в какую табличку добавлять"
   ]
  },
  {
   "cell_type": "code",
   "execution_count": 34,
   "metadata": {},
   "outputs": [],
   "source": [
    "countries_to_add_to_train, countries_to_add_to_test = get_countries_differences(df_train,df_test)"
   ]
  },
  {
   "cell_type": "markdown",
   "metadata": {},
   "source": [
    "Добавляем столбец \"День года\", дату заезда и дату отъезда"
   ]
  },
  {
   "cell_type": "markdown",
   "metadata": {},
   "source": [
    "Добавляем столбец \"день в году\""
   ]
  },
  {
   "cell_type": "code",
   "execution_count": 35,
   "metadata": {},
   "outputs": [],
   "source": [
    "df_train['arrival_day_of_year'] = df_train.apply(\n",
    "    lambda s: strptime(f\"{s['arrival_date_year']}-{s['arrival_date_month']}-{s['arrival_date_day_of_month']}\",'%Y-%m-%d').tm_yday, axis=1\n",
    ")\n",
    "df_test['arrival_day_of_year'] = df_test.apply(\n",
    "    lambda s: strptime(f\"{s['arrival_date_year']}-{s['arrival_date_month']}-{s['arrival_date_day_of_month']}\",'%Y-%m-%d').tm_yday, axis=1\n",
    ")"
   ]
  },
  {
   "cell_type": "markdown",
   "metadata": {},
   "source": [
    "Добавляем дату заезда"
   ]
  },
  {
   "cell_type": "code",
   "execution_count": 36,
   "metadata": {},
   "outputs": [],
   "source": [
    "df_train['arrival_date'] = df_train.apply(\n",
    "    lambda s: pd.to_datetime(f\"{s['arrival_date_year']}-{s['arrival_date_month']}-{s['arrival_date_day_of_month']}\") , axis=1\n",
    ")\n",
    "df_test['arrival_date'] = df_test.apply(\n",
    "    lambda s: pd.to_datetime(f\"{s['arrival_date_year']}-{s['arrival_date_month']}-{s['arrival_date_day_of_month']}\") , axis=1\n",
    ")"
   ]
  },
  {
   "cell_type": "markdown",
   "metadata": {},
   "source": [
    "Добавляем дату отъезда"
   ]
  },
  {
   "cell_type": "code",
   "execution_count": 37,
   "metadata": {},
   "outputs": [],
   "source": [
    "df_train['departure_date'] = df_train.apply(\n",
    "    lambda s: pd.to_datetime(f\"{s['arrival_date_year']}-{s['arrival_date_month']}-{s['arrival_date_day_of_month']}\") + pd.DateOffset(days=s['total_nights']) , axis=1\n",
    ")\n",
    "df_test['departure_date'] = df_test.apply(\n",
    "    lambda s: pd.to_datetime(f\"{s['arrival_date_year']}-{s['arrival_date_month']}-{s['arrival_date_day_of_month']}\") + pd.DateOffset(days=s['total_nights']) , axis=1\n",
    ")"
   ]
  },
  {
   "cell_type": "markdown",
   "metadata": {},
   "source": [
    "Контроль категорий номеров и создание для них dummy-столбцов для ускорения расчетов"
   ]
  },
  {
   "cell_type": "markdown",
   "metadata": {},
   "source": [
    "Проверка уникальных значений разновидностей номеров"
   ]
  },
  {
   "cell_type": "code",
   "execution_count": 38,
   "metadata": {},
   "outputs": [
    {
     "data": {
      "text/plain": [
       "array(['A               ', 'C               ', 'D               ',\n",
       "       'E               ', 'G               ', 'F               ',\n",
       "       'B               '], dtype=object)"
      ]
     },
     "execution_count": 38,
     "metadata": {},
     "output_type": "execute_result"
    }
   ],
   "source": [
    "df_train['reserved_room_type'].unique()"
   ]
  },
  {
   "cell_type": "code",
   "execution_count": 39,
   "metadata": {},
   "outputs": [],
   "source": [
    "df_train['reserved_room_type'] = df_train['reserved_room_type'].str.strip()\n",
    "df_test['reserved_room_type']  = df_test['reserved_room_type'].str.strip()"
   ]
  },
  {
   "cell_type": "markdown",
   "metadata": {},
   "source": [
    "One-hot-encoding для категориальных признаков:"
   ]
  },
  {
   "cell_type": "code",
   "execution_count": 40,
   "metadata": {},
   "outputs": [],
   "source": [
    "df_train = pd.get_dummies(\n",
    "    df_train, columns=['meal','distribution_channel','reserved_room_type','customer_type','country'])\n",
    "df_test  = pd.get_dummies(\n",
    "    df_test,  columns=['meal','distribution_channel','reserved_room_type','customer_type','country'])"
   ]
  },
  {
   "cell_type": "markdown",
   "metadata": {},
   "source": [
    "Лишние столбцы (первые столбцы для соотвествующих новых групп столбцов, во избежании dummy-ловушек) удалим позже."
   ]
  },
  {
   "cell_type": "markdown",
   "metadata": {
    "tags": []
   },
   "source": [
    "Теперь когда прямое преобразование произведено, нужно добавить столбцы стран которых не хватало в каждой из таблиц"
   ]
  },
  {
   "cell_type": "code",
   "execution_count": 41,
   "metadata": {},
   "outputs": [],
   "source": [
    "for c in countries_to_add_to_train:\n",
    "    df_train[f\"country_{c}\"] = 0\n",
    "\n",
    "for c in countries_to_add_to_test:    \n",
    "    df_test[f\"country_{c}\"] = 0\n"
   ]
  },
  {
   "cell_type": "markdown",
   "metadata": {},
   "source": [
    "Составим списки признаков для удобства их выбора"
   ]
  },
  {
   "cell_type": "code",
   "execution_count": 42,
   "metadata": {},
   "outputs": [],
   "source": [
    "features = [\"id\", # номер записи;\n",
    "            \"is_canceled\", # отмена заказа\n",
    "            \"lead_time\",   # количество дней между датой бронирования и датой прибытия    N\n",
    "            \"arrival_date_year\",  # год заезда                                            N \n",
    "            \"arrival_date_month\", #  месяц заезда                                         N \n",
    "            \"arrival_date_week_number\",  # неделя заезда                                  N \n",
    "            \"arrival_date_day_of_month\", # день заезда                                    N \n",
    "            \"stays_in_weekend_nights\",   # количество ночей в выходные дни                N\n",
    "            \"stays_in_week_nights\",      # количество ночей в будние дни                  N\n",
    "            \"adults\", #  количество взрослых постояльцев                                  N\n",
    "            \"children\", # количество детей от 3 до 14 лет                                 N\n",
    "            \"babies\",   # количество младенцев                                            N\n",
    "            \"meal\",     # опции заказа   SC / BB / HB / FB                                cat\n",
    "            \"country\",  # гражданство постояльца                                              cat\n",
    "            \"distribution_channel\", # канал дистрибуции заказа                                cat\n",
    "            \"is_repeated_guest\",    # признак того, что гость бронирует номер второй раз      N\n",
    "            \"previous_cancellations\",         # количество отменённых заказов у клиента       N\n",
    "            \"previous_bookings_not_canceled\", # количество подтверждённых заказов у клиента   N\n",
    "            \"reserved_room_type\",    # тип забронированной комнаты                            cat\n",
    "            \"booking_changes\",       #  количество изменений параметров заказа                N\n",
    "            \"days_in_waiting_list\",  # сколько дней заказ ожидал подтверждения                N\n",
    "            \"customer_type\",         #  тип заказчика: Contract / Group / Transient / Transient-party  cat\n",
    "            \"required_car_parking_spaces\", # необходимость места для автомобиля               N\n",
    "            \"total_of_special_requests\",   # количество специальных отметок                   N\n",
    "            \"total_nights\",                # общее количество ночей                           N\n",
    "            \"arrival_day_of_year\", # порядковое значение дня в году                           N\n",
    "            \"arrival_date\",        # дата заезда                                              datetime\n",
    "            \"departure_date\"]      # дата отъезда                                             datetime"
   ]
  },
  {
   "cell_type": "markdown",
   "metadata": {},
   "source": [
    "Числовые"
   ]
  },
  {
   "cell_type": "code",
   "execution_count": 43,
   "metadata": {},
   "outputs": [],
   "source": [
    "features_numeric = [\n",
    "            \"lead_time\",   # количество дней между датой бронирования и датой прибытия    \n",
    "            \"arrival_date_year\",  # год заезда                                             \n",
    "            \"arrival_date_month\", #  месяц заезда                                          \n",
    "            \"arrival_date_week_number\",  # неделя заезда                                   \n",
    "            \"arrival_date_day_of_month\", # день заезда                                     \n",
    "            \"stays_in_weekend_nights\",   # количество ночей в выходные дни                \n",
    "            \"stays_in_week_nights\",      # количество ночей в будние дни                  \n",
    "            \"adults\", #  количество взрослых постояльцев                                  \n",
    "            \"children\", # количество детей от 3 до 14 лет                                 \n",
    "            \"babies\",   # количество младенцев                                            \n",
    "            \"previous_cancellations\",         # количество отменённых заказов у клиента       \n",
    "            \"previous_bookings_not_canceled\", # количество подтверждённых заказов у клиента   \n",
    "            \"booking_changes\",       #  количество изменений параметров заказа                \n",
    "            \"days_in_waiting_list\",  # сколько дней заказ ожидал подтверждения                \n",
    "            \"required_car_parking_spaces\", # необходимость места для автомобиля               \n",
    "            \"total_of_special_requests\",   # количество специальных отметок                   \n",
    "            \"total_nights\"                 # общее количество ночей                           \n",
    "]"
   ]
  },
  {
   "cell_type": "markdown",
   "metadata": {},
   "source": [
    "Категориальные. Заметим что категориальные столбцы преобразованы функцией get_dummies, но этот список нам всё равно пригодится позже при анализе типового клиента, отказывающегося от брони"
   ]
  },
  {
   "cell_type": "code",
   "execution_count": 44,
   "metadata": {},
   "outputs": [],
   "source": [
    "features_categorial = [\n",
    "            \"meal\",     # опции заказа   SC / BB / HB / FB                               \n",
    "            \"country\",  # гражданство постояльца                                         \n",
    "            \"distribution_channel\", # канал дистрибуции заказа                           \n",
    "            \"is_repeated_guest\",    # признак того, что гость бронирует номер второй раз \n",
    "            \"reserved_room_type\",    # тип забронированной комнаты                       \n",
    "            \"customer_type\",         #  тип заказчика: Contract / Group / Transient / Transient-party \n",
    "]"
   ]
  },
  {
   "cell_type": "markdown",
   "metadata": {},
   "source": [
    "### Шаг 3. Формулировка ML-задачи на основе бизнес-задачи"
   ]
  },
  {
   "cell_type": "markdown",
   "metadata": {},
   "source": [
    "Прибыль отеля = сумма выручки со cдачи номеров - стоимость обслуживания"
   ]
  },
  {
   "cell_type": "markdown",
   "metadata": {},
   "source": [
    "Посчитаем величину прибыли отеля для тестового периода (2017 г.) без введения депозитов при бронировании."
   ]
  },
  {
   "cell_type": "markdown",
   "metadata": {},
   "source": [
    "Добавим функцию которая будет считать прибыль и расходы."
   ]
  },
  {
   "cell_type": "markdown",
   "metadata": {},
   "source": [
    "Функция будет принимать следующие параметры:<BR>\n",
    "- <code>order</code> - строка заказа (объект из таблиц обучения/теста)\n",
    "- <code>season_masks</code> - словарь, состоящий из четырех списков булевых значений, в каждом списке<BR>\n",
    "    содержится 365/366 значений. По одному списку на весну/лето/осень/зиму. <BR>\n",
    "    Если например взять список для весны, то для весенних дней будут значения True, а для остальных<BR>\n",
    "    будут значения False, аналогично для других сезонов\n",
    "- <code>C_PRICES_BASE</code> - словарь с ценами номеров\n",
    "- <code>C_ONETIME_SERVICE</code> - словарь с ценами на обслуживания (чистку) номеров\n",
    "- <code>C_SPRING_MULTIPLIER</code> (= 1.2 по умолчанию) - коэффициент увеличения цены номера для весенних дней\n",
    "- <code>C_SUMMER_MULTIPLIER</code> (= 1.4 по умолчанию) - коэффициент увеличения цены номера для летних дней<BR>\n",
    "<strike>- <code>key_field</code> (= 'is_canceled' по умолчаиню) - название столбца который будет указывать,\n",
    "    является ли бронь отмененной или нет. Можно использовать например столбец is_canceled (по-умолчанию)<BR>\n",
    "    а можно predicted, если мы хотим посчитать финансовые показатели не по реальным а по прогнозируемым значениям</strike>  <b>(правка 1)</b><BR>\n",
    "<strike>- <code>key_value</code> (= 1 по умолчанию) - какое значение столбца соответствует отмененной брони<BR>\n",
    "    по умолчанию 1 для отмененной брони, а 0 для реализованной брони</strike> <b> (правка 1)</b>\n",
    "- <code>use_predictions</code> (= False по умолчанию) - использовать ли столбец предсказаний или нет. <b>(добавлено)  (правка 1)</b>\n",
    "- <code>use_deposit</code> (= False по умолчанию) - добавлять ли в расчет депозит в 80% от стоимости номера за первые сутки для потенциально отмененных бронирований"
   ]
  },
  {
   "cell_type": "markdown",
   "metadata": {},
   "source": [
    "И возвращать список из следующих значений:"
   ]
  },
  {
   "cell_type": "markdown",
   "metadata": {},
   "source": [
    "- <code>profit</code> - прибыль от сдачи номера\n",
    "- <code>expences</code> - расходы по обслуживанию номера (и для сданных и для отмененных бронирований)\n",
    "- <code>number_cost</code> - выручка от сдачи номера\n",
    "- <code>order['is_canceled']</code> - реальный флаг отмены. Для удобства подсчета\n",
    "<strike>значение выбранного поля, указывающего на отмену либо реализацию брони (аналог key_value из параметров функции)</strike> <b>(правка 1)</b>"
   ]
  },
  {
   "cell_type": "markdown",
   "metadata": {},
   "source": [
    "Эту функцию будем через метод apply() вызывать для каждого объекта соответствующей таблицы"
   ]
  },
  {
   "cell_type": "code",
   "execution_count": 45,
   "metadata": {},
   "outputs": [],
   "source": [
    "def get_profit( order, \n",
    "                season_masks, \n",
    "                C_PRICES_BASE, \n",
    "                C_ONETIME_SERVICE,  \n",
    "                C_SPRING_MULTIPLIER=1.2, \n",
    "                C_SUMMER_MULTIPLIER=1.4, \n",
    "                use_predictions=False,\n",
    "                use_deposit = False      ):\n",
    "    room_price    = 0\n",
    "    service_price = 0\n",
    "    \n",
    "    # Смотрим базовую цену от сдачи номера за сутки (room_price)\n",
    "    # и цену обслуживания\n",
    "    \n",
    "    if order['reserved_room_type_A'] > 0:\n",
    "        room_price    = C_PRICES_BASE['A']\n",
    "        service_price = C_ONETIME_SERVICE['A']\n",
    "    elif order['reserved_room_type_B'] > 0:\n",
    "        room_price    = C_PRICES_BASE['B']\n",
    "        service_price = C_ONETIME_SERVICE['B']\n",
    "    elif order['reserved_room_type_C'] > 0:\n",
    "        room_price    = C_PRICES_BASE['C']\n",
    "        service_price = C_ONETIME_SERVICE['C']\n",
    "    elif order['reserved_room_type_D'] > 0:\n",
    "        room_price    = C_PRICES_BASE['D']\n",
    "        service_price = C_ONETIME_SERVICE['D']\n",
    "    elif order['reserved_room_type_E'] > 0:\n",
    "        room_price    = C_PRICES_BASE['E']\n",
    "        service_price = C_ONETIME_SERVICE['E']\n",
    "    elif order['reserved_room_type_F'] > 0:\n",
    "        room_price    = C_PRICES_BASE['F']\n",
    "        service_price = C_ONETIME_SERVICE['F']\n",
    "    elif order['reserved_room_type_G'] > 0:\n",
    "        room_price    = C_PRICES_BASE['G']\n",
    "        service_price = C_ONETIME_SERVICE['G']\n",
    "    \n",
    "    # По условию уборка осуществляется раз в два дня\n",
    "    # Исходя из этого посчитаем число уборок                         РАСЧЕТ ЧИСЛА ЧИСТОК ТУТ!\n",
    "    if order['total_nights'] < 2:\n",
    "        cleaning_counts = 1\n",
    "    else:\n",
    "        cleaning_counts = order['total_nights'] // 2\n",
    "\n",
    "    # выделим отдельно даты прибытия и отбытия в datetime-объекты\n",
    "    arrival   = pd.to_datetime(order['arrival_date'])\n",
    "    departure = pd.to_datetime(order['departure_date'])\n",
    "\n",
    "    spring_days = 0\n",
    "    summer_days = 0\n",
    "    other_days  = 0\n",
    "\n",
    "    # Будем считать число дней аренды отдельно по каждому году путем перемножения\n",
    "    # булевых масок сезонов на булевые маски арендуемых дней и потом подсчета числа дней\n",
    "    # выпадающих на каждый сезон с умножением на коэффициент сезона (1.2, 1.4)\n",
    "    \n",
    "    # Берем годы по порядку один за другим\n",
    "    for y in range(arrival.year, departure.year+1):\n",
    "        # Если високосный то добавляем день в начало года (весна, лето сместятся на день вправо)\n",
    "        visokosniy = pd.to_datetime(str(y)).is_leap_year\n",
    "        days_in_year = (366 if (pd.to_datetime(str(y)).is_leap_year == True) else 365)\n",
    "\n",
    "        # составляем булевую маску дней текущего года\n",
    "        if arrival.year < y: \n",
    "            if departure.year == y:\n",
    "                days = (departure-pd.to_datetime(str(y))).days+1\n",
    "                days_array = [True]*days + [False]*(days_in_year-days)        \n",
    "            elif departure.year > y:\n",
    "                days = days_in_year        \n",
    "                days_array = [True]*days\n",
    "        elif arrival.year == y:\n",
    "            if departure.year == y:\n",
    "                days = (departure-arrival).days\n",
    "                days_array = ([False] * arrival.day_of_year) + ([True]*days)\n",
    "                first_day  = ([False] * arrival.day_of_year) + ([True]) + ([False]*(days-1))\n",
    "            if departure.year > y:\n",
    "                days = days_in_year - arrival.day_of_year\n",
    "                days_array = ([False] * arrival.day_of_year) + [True]*days\n",
    "                first_day  = ([False] * arrival.day_of_year) + ([True]) + ([False]*(days-1))\n",
    "        days_array=pd.Series(days_array) # булевая маска текущего года\n",
    "        first_day =pd.Series(first_day)  # булевая маска первого дня аренды\n",
    "        \n",
    "        # Считаем число дней аренды, приходящихся на каждый из сезонов\n",
    "        if days_in_year == 365: \n",
    "            spring_days += (days_array * season_masks['spring']).sum()\n",
    "            summer_days += (days_array * season_masks['summer']).sum()\n",
    "            other_days  += (days_array * season_masks['other' ]).sum()\n",
    "        else:\n",
    "            spring_days += (days_array * season_masks['spring_visokos']).sum()\n",
    "            summer_days += (days_array * season_masks['summer_visokos']).sum()\n",
    "            other_days  += (days_array * season_masks['other_visokos' ]).sum()\n",
    "            \n",
    "    # умножаем дни по сезонам на сезонные коэффициенты и на цену номера\n",
    "    number_cost = ( other_days * room_price                        # осень, зима\n",
    "                 + spring_days * room_price * C_SPRING_MULTIPLIER  # весна\n",
    "                 + summer_days * room_price * C_SUMMER_MULTIPLIER  # лето\n",
    "    )\n",
    "    \n",
    "    # считаем стоимость аренды первого дня для использования этого значения при отменах брони\n",
    "    number_money_lost = (     \n",
    "        (room_price*first_day*season_masks['spring']).sum()\n",
    "       +(room_price*first_day*season_masks['summer']).sum()\n",
    "       +(room_price*first_day*season_masks['other'] ).sum()\n",
    "    )\n",
    "    # величина депозита     \n",
    "    deposit = 0.8 * (number_money_lost + service_price)\n",
    "    \n",
    "    # РАСЧЕТ ОПЕРАЦИОННЫХ РАСХОДОВ И ОПЕРАЦИОННОЙ ПРИБЫЛИ (переписано, правка 1)\n",
    "    # Используем предсказания или просто считаем прибыль/расходы?        \n",
    "    # Если используем предсказания:    \n",
    "    if use_predictions == True:\n",
    "        if order['predicted'] == 0:       # Предсказано что отмены не будет\n",
    "            if order['is_canceled'] == 0:     # Отмены и правда не было   \n",
    "                expences = (cleaning_counts + 1) * service_price # ДОБАВЛЕНО (по замечанию первой проверки) : + 1 чистка номера\n",
    "                profit   = number_cost - expences\n",
    "            else:                                  # предсказано что отмены не будет, но она была \n",
    "                expences = service_price + number_money_lost  # прямые расходы\n",
    "                profit   = 0\n",
    "        if order['predicted'] == 1:       # Предсказана отмена    \n",
    "            if order['is_canceled'] == 1:     # Отмена и правда состоялась\n",
    "                if use_deposit == True:           # Если считаем с депозитом\n",
    "                    expences = service_price + number_money_lost - deposit\n",
    "                    profit   = 0\n",
    "                else:\n",
    "                    expences = service_price + number_money_lost\n",
    "                    profit   = 0\n",
    "            else:           # Предсказана отмена, но на самом деле её не было, конверсия состоялась\n",
    "                expences = (cleaning_counts + 1) * service_price # ДОБАВЛЕНО (по замечанию первой проверки) : + 1 чистка номера\n",
    "                profit   = number_cost - expences\n",
    "    else: # Не пользуемся предсказаниями\n",
    "        if order['is_canceled'] == 0:     # Отмены не было\n",
    "            expences = (cleaning_counts + 1) * service_price # ДОБАВЛЕНО (по замечанию первой проверки) : + 1 чистка номера\n",
    "            profit   = number_cost - expences\n",
    "        else:                                  # предсказано что отмены не будет, но она была \n",
    "            expences = service_price + number_money_lost  # прямые расходы\n",
    "            profit   = 0                \n",
    "\n",
    "    # Возвращаем список с данными\n",
    "    return pd.Series([ profit, expences, number_cost, order['is_canceled'] ]) # order['key_value'] заменено на order['is_canceled'] (правка 1)\n"
   ]
  },
  {
   "cell_type": "markdown",
   "metadata": {},
   "source": [
    "С помощью добавленной функции посчитаем текущую прибыль по тестовой выборке. "
   ]
  },
  {
   "cell_type": "markdown",
   "metadata": {},
   "source": [
    "На выходе получаем небольшую табличку с финансовыми показателями, просуммировав которые мы видим суммарную прибыль и расходы"
   ]
  },
  {
   "cell_type": "code",
   "execution_count": 46,
   "metadata": {},
   "outputs": [],
   "source": [
    "# текст вызова изменен (правка 1)\n",
    "df_test_finances_without_deposit = df_test.apply(get_profit,axis=1,args=(\n",
    "        SEASON_MASKS,\n",
    "        ROOM_PRICES_BASE,\n",
    "        ROOM_SERVICE_ONE_TIME_COST,\n",
    "        PRICE_MULTIPLIER_SPRING,\n",
    "        PRICE_MULTIPLIER_SUMMER,\n",
    "        False,\n",
    "        False,))\n",
    "df_test_finances_without_deposit.columns=['profit','expences','number_cost','is_canceled']"
   ]
  },
  {
   "cell_type": "code",
   "execution_count": 47,
   "metadata": {},
   "outputs": [
    {
     "name": "stdout",
     "output_type": "stream",
     "text": [
      "Суммарная операционная прибыль по сдаче номеров на основе тестовой выборки: 33765580.0\n",
      "Поступлений по сданным номерам: 49190330.0\n",
      "Расходов, понесенных отелем из-за отмененных броней: 15424750.0\n",
      "(без использования системы прогнозирования отмены брони и без внесения депозитов)\n"
     ]
    }
   ],
   "source": [
    "total_profit_before_ML = (\n",
    "    df_test_finances_without_deposit['profit'].sum() \n",
    "    - (df_test_finances_without_deposit['expences']*(df_test_finances_without_deposit['is_canceled'])).sum()\n",
    ")\n",
    "\n",
    "print(f\"Суммарная операционная прибыль по сдаче номеров на основе тестовой выборки: {total_profit_before_ML}\")\n",
    "print(f\"Поступлений по сданным номерам: {df_test_finances_without_deposit['profit'].sum()}\")\n",
    "print(f\"Расходов, понесенных отелем из-за отмененных броней: {(df_test_finances_without_deposit['expences']*(df_test_finances_without_deposit['is_canceled'])).sum()}\")\n",
    "print(f\"(без использования системы прогнозирования отмены брони и без внесения депозитов)\")"
   ]
  },
  {
   "cell_type": "markdown",
   "metadata": {},
   "source": [
    "### Шаг 4. Разработка модели ML"
   ]
  },
  {
   "cell_type": "markdown",
   "metadata": {},
   "source": [
    "Выделим признаки, которыми НЕ будем пользоваться при обучении и предсказаниях с указанием причин, почему отказываемся. Вычтем эти признаки из общего числа и получим те которыми будем пользоваться."
   ]
  },
  {
   "cell_type": "code",
   "execution_count": 48,
   "metadata": {},
   "outputs": [],
   "source": [
    "features_to_drop = [\n",
    "            \"is_canceled\",         # целевой признак\n",
    "            \"id\",                  # не является статистически значимым\n",
    "            \"arrival_date_year\",   # при использовании модели на будущих годах значения предыдущих не пригодятся, отбрасываем\n",
    "            \"meal_BB\",             # отбрасываем первый из dummy-столбцов признака для избежания \"dummy-ловушки\"\n",
    "            \"country_USA\",                    # отбрасываем один из dummy-столбцов признака для избежания \"dummy-ловушки\"\n",
    "            \"distribution_channel_Corporate\", # отбрасываем первый из dummy-столбцов признака для избежания \"dummy-ловушки\"\n",
    "            \"reserved_room_type_A\",    # отбрасываем первый из dummy-столбцов признака для избежания \"dummy-ловушки\"\n",
    "            \"customer_type_Contract\",  # отбрасываем первый из dummy-столбцов признака для избежания \"dummy-ловушки\"\n",
    "            \"total_nights\",  # отбрасываем так как это поле представляет из себя сумму двух других столбцов\n",
    "            \"arrival_date\",  # отбрасываем так как сильна связь с аналогичными полями (тоже для избежания dummy-ловушки)\n",
    "            \"departure_date\",# отбрасываем так как тоже сильна связь с аналогичными полями (тоже для избежания dummy-ловушки)\n",
    "            \"arrival_day_of_year\" # отбрасываем так как тоже сильна связь с аналогичными полями (тоже для избежания dummy-ловушки)\n",
    "]\n",
    "\n",
    "features_columns = df_train.columns.difference(features_to_drop) # получаем разность признаков, то есть всё тто не исключили\n",
    "target_column    = 'is_canceled'"
   ]
  },
  {
   "cell_type": "markdown",
   "metadata": {},
   "source": [
    "А те признаки которыми будем пользоваться вынесем в таблички features, target, features_test и target_test для соответствующих выборок"
   ]
  },
  {
   "cell_type": "code",
   "execution_count": 49,
   "metadata": {},
   "outputs": [],
   "source": [
    "features = df_train[features_columns]\n",
    "target   = df_train[target_column   ]\n",
    "\n",
    "features_test = df_test[features_columns]\n",
    "target_test   = df_test[target_column   ]"
   ]
  },
  {
   "cell_type": "markdown",
   "metadata": {},
   "source": [
    "Также попробуем отмасштабировать числовые признаки. Составим список того что будем масштабировать"
   ]
  },
  {
   "cell_type": "code",
   "execution_count": 50,
   "metadata": {},
   "outputs": [],
   "source": [
    "features_to_scale = [\n",
    "            \"lead_time\",   # количество дней между датой бронирования и датой прибытия    \n",
    "            \"arrival_date_month\", #  месяц заезда                                          \n",
    "            \"arrival_date_week_number\",  # неделя заезда                                   \n",
    "            \"arrival_date_day_of_month\", # день заезда                                     \n",
    "            \"stays_in_weekend_nights\",   # количество ночей в выходные дни                \n",
    "            \"stays_in_week_nights\",      # количество ночей в будние дни                  \n",
    "            \"adults\", #  количество взрослых постояльцев                                  \n",
    "            \"children\", # количество детей от 3 до 14 лет                                 \n",
    "            \"babies\",   # количество младенцев                                            \n",
    "            \"previous_cancellations\",         # количество отменённых заказов у клиента    \n",
    "            \"previous_bookings_not_canceled\", # количество подтверждённых заказов у клиента\n",
    "            \"booking_changes\",       #  количество изменений параметров заказа \n",
    "            \"days_in_waiting_list\",  # сколько дней заказ ожидал подтверждения \n",
    "            \"required_car_parking_spaces\", # необходимость места для автомобиля\n",
    "            \"total_of_special_requests\"    # количество специальных отметок    \n",
    "]"
   ]
  },
  {
   "cell_type": "code",
   "execution_count": 51,
   "metadata": {},
   "outputs": [
    {
     "data": {
      "text/plain": [
       "MinMaxScaler()"
      ]
     },
     "execution_count": 51,
     "metadata": {},
     "output_type": "execute_result"
    }
   ],
   "source": [
    "mmscaler = MinMaxScaler()\n",
    "mmscaler.fit(features[features_to_scale])"
   ]
  },
  {
   "cell_type": "code",
   "execution_count": 52,
   "metadata": {},
   "outputs": [],
   "source": [
    "features[features_to_scale]      = mmscaler.transform(features[features_to_scale])\n",
    "features_test[features_to_scale] = mmscaler.transform(features_test[features_to_scale])"
   ]
  },
  {
   "cell_type": "markdown",
   "metadata": {},
   "source": [
    "Проверим, нужно ли сбалансировать классы"
   ]
  },
  {
   "cell_type": "code",
   "execution_count": 53,
   "metadata": {},
   "outputs": [
    {
     "data": {
      "text/plain": [
       "0    32638\n",
       "1    11122\n",
       "Name: is_canceled, dtype: int64"
      ]
     },
     "execution_count": 53,
     "metadata": {},
     "output_type": "execute_result"
    }
   ],
   "source": [
    "target.value_counts()"
   ]
  },
  {
   "cell_type": "markdown",
   "metadata": {},
   "source": [
    "Добавим функцию балансировки дисбаланса. Будем ее использовать позднее"
   ]
  },
  {
   "cell_type": "code",
   "execution_count": 54,
   "metadata": {},
   "outputs": [],
   "source": [
    "def upsample(features, target, repeat_zeros = 1, repeat_ones = 1, random_state_value =12345):\n",
    "    features_zeros = features[target == 0]\n",
    "    features_ones  = features[target == 1]\n",
    "    target_zeros = target[target == 0]\n",
    "    target_ones  = target[target == 1]\n",
    "\n",
    "    features_upsampled = pd.concat([features_zeros] * repeat_zeros + [features_ones] * repeat_ones)\n",
    "    target_upsampled   = pd.concat([target_zeros]   * repeat_zeros + [target_ones]   * repeat_ones)\n",
    "    \n",
    "    features_upsampled, target_upsampled = shuffle(\n",
    "        features_upsampled, target_upsampled, random_state = random_state_value)\n",
    "    \n",
    "    return features_upsampled, target_upsampled"
   ]
  },
  {
   "cell_type": "markdown",
   "metadata": {},
   "source": [
    "Дисбаланс не большой, но имеется"
   ]
  },
  {
   "cell_type": "code",
   "execution_count": 55,
   "metadata": {},
   "outputs": [],
   "source": [
    "# УБРАНО:\n",
    "# features_train, features_valid, target_train, target_valid = train_test_split(\n",
    "#                          features, target, test_size = 0.25, random_state = state)\n",
    "\n",
    "# ПОДПРАВЛЕНО:\n",
    "features_train = features\n",
    "target_train   = target"
   ]
  },
  {
   "cell_type": "markdown",
   "metadata": {},
   "source": [
    "<B>Выбор метрики</B><BR>\n",
    "Так как нам нужно стремиться к тому чтобы минимизировать ложно-отрицательные предсказания и максимизировать истинно положительные, в качестве метрики будем использовать Precision для класса 1 (метрика будет использоваться в ручной функции кросс-валидации ниже). Это позволит насколько возможно точно стремиться к точности предсказаний отмен броней и сокращать число ложно-отрицательных предсказаний. Вызов функции precision_score без параметров как раз отвечает нашим требованиям так как параметрами по умолчанию являются average = binary (предсказания для одного из двух классов) и pos_label = 1 (для класса 1)."
   ]
  },
  {
   "cell_type": "code",
   "execution_count": 57,
   "metadata": {},
   "outputs": [],
   "source": [
    "def my_cross_validation(model, features, target_train_values, cv=5, r_state=12345):\n",
    "\n",
    "    c_features = features.copy().reset_index(drop=True)\n",
    "    c_target   = target_train_values.copy().reset_index(drop=True)\n",
    "    \n",
    "    foldsize = len(target)//cv\n",
    "\n",
    "    features_tr_prev = 0\n",
    "    target_tr_prev   = 0\n",
    "    scores = []\n",
    "    for i in range(0, len(target), foldsize):\n",
    "        valid_indexes = c_features.index[i:i+foldsize]       # выделяем индеквы валидационного фолда\n",
    "\n",
    "        train_indexes = c_features.index.drop(valid_indexes) # выделяем индексы обучающей группы фолдов (удаляя из общей масса валидационные)\n",
    "\n",
    "        features_tr  = c_features.iloc[train_indexes]\n",
    "        target_tr    = c_target.iloc[train_indexes]\n",
    "        features_val = c_features.iloc[valid_indexes]\n",
    "        target_val   = c_target.iloc[valid_indexes]\n",
    "        \n",
    "        c_features_tr, c_target_tr = upsample(features_tr, target_tr, repeat_zeros = 1, repeat_ones = 3, random_state_value = r_state)\n",
    "\n",
    "        model.fit(c_features_tr, c_target_tr)\n",
    "        y_pred = model.predict(features_val)\n",
    "        \n",
    "        scores.append( precision_score(target_val, y_pred) )\n",
    "       \n",
    "    return scores"
   ]
  },
  {
   "cell_type": "markdown",
   "metadata": {},
   "source": [
    "#### Подбор гиперпараметров. Случайный лес"
   ]
  },
  {
   "cell_type": "markdown",
   "metadata": {},
   "source": [
    "Попробуем модель случайного леса"
   ]
  },
  {
   "cell_type": "markdown",
   "metadata": {},
   "source": [
    "Сделаем перебор гиперпараметров для случайного леса с помощью пакета optuna.<BR>\n",
    "В качестве метрики будем использовать auc roc."
   ]
  },
  {
   "cell_type": "code",
   "execution_count": 58,
   "metadata": {},
   "outputs": [],
   "source": [
    "def objective_rf(trial):\n",
    "    rf_max_depth    = trial.suggest_int(\"rf_max_depth\",   2, 12, step = 1, log=True)\n",
    "    rf_max_features = trial.suggest_int(\"rf_max_features\",30, 200, step = 1, log=True)\n",
    "    rf_estimators   = trial.suggest_int('rf_estimators',  30, 150,step = 1, log=True)\n",
    "    rf_min_samples_split = trial.suggest_int(\"rf_min_samples_split\",2,15, step = 1, log=True)\n",
    "    rf_min_samples_leaf  = trial.suggest_int(\"rf_min_samples_leaf\", 2,15, step = 1, log=True)\n",
    "\n",
    "    classifier_obj = RandomForestClassifier(\n",
    "        max_depth=rf_max_depth, \n",
    "        n_estimators=rf_estimators,\n",
    "        max_features = rf_max_features,\n",
    "        min_samples_split = rf_min_samples_split,\n",
    "        min_samples_leaf  = rf_min_samples_leaf\n",
    "    \n",
    "    )\n",
    "    \n",
    "    scores = my_cross_validation(classifier_obj,features_train,target_train,5)\n",
    "    myrate = pd.Series(scores).mean()\n",
    "\n",
    "    return myrate"
   ]
  },
  {
   "cell_type": "markdown",
   "metadata": {},
   "source": [
    "Блок далее закомментирован для экономии времени. Лучший результат проведенного расчета подгружен далее из переменной."
   ]
  },
  {
   "cell_type": "code",
   "execution_count": 59,
   "metadata": {},
   "outputs": [],
   "source": [
    "#study_rf = optuna.create_study(direction=\"maximize\")"
   ]
  },
  {
   "cell_type": "code",
   "execution_count": 60,
   "metadata": {},
   "outputs": [],
   "source": [
    "# start = time.time()\n",
    "# tqdm(study_rf.optimize(objective_rf, n_trials=2))\n",
    "\n",
    "# end = time.time()\n",
    "# duration = end - start\n",
    "# print ('\\n Перебор гиперпараметров занял %0.2f секунд (%0.1f минут / %0.1f часов)'%(duration, duration/60, duration/3600) )\n",
    "\n",
    "# print(\"\\n\\nЛучший виток : \\n\",study_rf.best_trial)\n",
    "\n",
    "# print(\"\\n\\nЛучшие параметры : \\n\",study_rf.best_params)"
   ]
  },
  {
   "cell_type": "code",
   "execution_count": 61,
   "metadata": {},
   "outputs": [
    {
     "data": {
      "text/plain": [
       "RandomForestClassifier(max_depth=11, max_features=37, min_samples_leaf=2,\n",
       "                       min_samples_split=4, n_estimators=104)"
      ]
     },
     "execution_count": 61,
     "metadata": {},
     "output_type": "execute_result"
    }
   ],
   "source": [
    "#best_features_rf = study_rf.best_params\n",
    "\n",
    "# precision = 0.3608094156485571\n",
    "best_features_rf = {'rf_max_depth': 11, 'rf_max_features': 37, 'rf_estimators': 104, 'rf_min_samples_split': 4, 'rf_min_samples_leaf': 2}\n",
    "\n",
    "model_rf = RandomForestClassifier(\n",
    "    max_depth    = best_features_rf['rf_max_depth'], \n",
    "    n_estimators = best_features_rf['rf_estimators'],\n",
    "    max_features = best_features_rf['rf_max_features'],\n",
    "    min_samples_leaf = best_features_rf['rf_min_samples_leaf'],\n",
    "    min_samples_split = best_features_rf['rf_min_samples_split'],   \n",
    ")\n",
    "model_rf.fit(features_train, target_train)"
   ]
  },
  {
   "cell_type": "markdown",
   "metadata": {},
   "source": [
    "#### Подбор гиперпараметров. Дерево решений"
   ]
  },
  {
   "cell_type": "code",
   "execution_count": 62,
   "metadata": {},
   "outputs": [],
   "source": [
    "def objective_dt(trial):\n",
    "    dt_max_depth    = trial.suggest_int(\"dt_max_depth\",   2, 10, step = 1, log=True)\n",
    "    dt_max_features = trial.suggest_int(\"dt_max_features\",2, 200, step = 1, log=True)\n",
    "    dt_min_samples_split = trial.suggest_int(\"dt_min_samples_split\",2,5, step = 1, log=True)\n",
    "    dt_min_samples_leaf  = trial.suggest_int(\"dt_min_samples_leaf\", 2,5, step = 1, log=True)\n",
    "\n",
    "    classifier_obj = DecisionTreeClassifier(\n",
    "        max_depth         = dt_max_depth, \n",
    "        max_features      = dt_max_features,\n",
    "        min_samples_split = dt_min_samples_split,\n",
    "        min_samples_leaf  = dt_min_samples_leaf\n",
    "    \n",
    "    )\n",
    "    \n",
    "    scores = my_cross_validation(classifier_obj,features_train,target_train,5)\n",
    "    myrate = pd.Series(scores).mean()\n",
    "\n",
    "    return myrate"
   ]
  },
  {
   "cell_type": "markdown",
   "metadata": {},
   "source": [
    "Блок далее закомментирован для экономии времени. Лучший результат проведенного расчета подгружен далее из переменной."
   ]
  },
  {
   "cell_type": "code",
   "execution_count": 63,
   "metadata": {},
   "outputs": [],
   "source": [
    "#study_dt = optuna.create_study(direction=\"maximize\")"
   ]
  },
  {
   "cell_type": "code",
   "execution_count": 64,
   "metadata": {},
   "outputs": [],
   "source": [
    "# start = time.time()\n",
    "\n",
    "\n",
    "# tqdm(study_dt.optimize(objective_dt, n_trials=15))\n",
    "\n",
    "# end = time.time()\n",
    "# duration = end - start\n",
    "# print ('\\n Перебор гиперпараметров занял %0.2f секунд (%0.1f минут / %0.1f часов)'%(duration, duration/60, duration/3600) )\n",
    "\n",
    "# print(\"\\n\\nЛучший виток : \\n\",study_dt.best_trial)\n",
    "\n",
    "# print(\"\\n\\nЛучшие параметры : \\n\",study_dt.best_params)"
   ]
  },
  {
   "cell_type": "code",
   "execution_count": 65,
   "metadata": {},
   "outputs": [
    {
     "data": {
      "text/plain": [
       "DecisionTreeClassifier(max_depth=6, max_features=98, min_samples_leaf=4,\n",
       "                       min_samples_split=5)"
      ]
     },
     "execution_count": 65,
     "metadata": {},
     "output_type": "execute_result"
    }
   ],
   "source": [
    "#best_features_dt = study_dt.best_params\n",
    "\n",
    "# precision = 0.34796353752831555\n",
    "best_features_dt = {'dt_max_depth': 6, 'dt_max_features': 98, 'dt_min_samples_split': 5, 'dt_min_samples_leaf': 4}\n",
    "\n",
    "\n",
    "model_dt = DecisionTreeClassifier(\n",
    "    max_depth    = best_features_dt['dt_max_depth'], \n",
    "    max_features = best_features_dt['dt_max_features'],\n",
    "    min_samples_leaf = best_features_dt['dt_min_samples_leaf'],\n",
    "    min_samples_split = best_features_dt['dt_min_samples_split'],   \n",
    ")\n",
    "\n",
    "model_dt.fit(features_train,target_train)"
   ]
  },
  {
   "cell_type": "markdown",
   "metadata": {},
   "source": [
    "#### Подбор гиперпараметров. Логистическая регрессия"
   ]
  },
  {
   "cell_type": "code",
   "execution_count": 66,
   "metadata": {},
   "outputs": [],
   "source": [
    "model_logreg = LogisticRegression(random_state=state,solver='lbfgs',max_iter=300)"
   ]
  },
  {
   "cell_type": "code",
   "execution_count": 67,
   "metadata": {},
   "outputs": [],
   "source": [
    "def objective_logreg(trial):\n",
    "    logreg_max_iter = trial.suggest_int(\"logreg_max_iter\", 250,1000, step = 1, log=True)\n",
    "    logreg_solver   = trial.suggest_categorical(\"logreg_solver\",[\"newton-cg\", \"lbfgs\", \"liblinear\", \"sag\", \"saga\"])\n",
    "    \n",
    "    classifier_obj = LogisticRegression(\n",
    "        max_iter = logreg_max_iter,\n",
    "        solver   = logreg_solver\n",
    "    )\n",
    "    \n",
    "    scores = my_cross_validation(classifier_obj,features_train,target_train,5)\n",
    "    myrate = pd.Series(scores).mean()\n",
    "\n",
    "    return myrate"
   ]
  },
  {
   "cell_type": "markdown",
   "metadata": {},
   "source": [
    "Блок далее закомментирован для экономии времени. Лучший результат проведенного расчета подгружен далее из переменной."
   ]
  },
  {
   "cell_type": "code",
   "execution_count": 68,
   "metadata": {},
   "outputs": [],
   "source": [
    "# study_lr = optuna.create_study(direction=\"maximize\")"
   ]
  },
  {
   "cell_type": "code",
   "execution_count": 69,
   "metadata": {},
   "outputs": [],
   "source": [
    "# start = time.time()\n",
    "\n",
    "\n",
    "# tqdm(study_lr.optimize(objective_logreg, n_trials=5))\n",
    "\n",
    "# end = time.time()\n",
    "# duration = end - start\n",
    "# print ('\\n Перебор гиперпараметров занял %0.2f секунд (%0.1f минут / %0.1f часов)'%(duration, duration/60, duration/3600) )\n",
    "\n",
    "# print(\"\\n\\nЛучший виток : \\n\",study_lr.best_trial)\n",
    "\n",
    "# print(\"\\n\\nЛучшие параметры : \\n\",study_lr.best_params)"
   ]
  },
  {
   "cell_type": "code",
   "execution_count": 70,
   "metadata": {},
   "outputs": [
    {
     "data": {
      "text/plain": [
       "LogisticRegression(max_iter=426, solver='sag')"
      ]
     },
     "execution_count": 70,
     "metadata": {},
     "output_type": "execute_result"
    }
   ],
   "source": [
    "#best_features_logreg = study_lr.best_params\n",
    "# precision = 0.35187474564358795\n",
    "best_features_logreg = {'logreg_max_iter': 426, 'logreg_solver': 'sag'}\n",
    "\n",
    "model_logreg = LogisticRegression(\n",
    "    max_iter = best_features_logreg['logreg_max_iter'],\n",
    "    solver   = best_features_logreg['logreg_solver']\n",
    ")\n",
    "model_logreg.fit(features_train,target_train)"
   ]
  },
  {
   "cell_type": "markdown",
   "metadata": {},
   "source": [
    "#### Вывод по выбору модели"
   ]
  },
  {
   "cell_type": "markdown",
   "metadata": {},
   "source": [
    "Наиболее точные показатели дает модель случайного леса. Воспользуемся ей для оценки разницы в прибыли."
   ]
  },
  {
   "cell_type": "markdown",
   "metadata": {},
   "source": [
    "Посчитаем метрику лучшей модели (случайного леса) на тестовых данных:"
   ]
  },
  {
   "cell_type": "code",
   "execution_count": 71,
   "metadata": {},
   "outputs": [
    {
     "name": "stdout",
     "output_type": "stream",
     "text": [
      "Значение метрики на тестовой выборке: 0.8555390457322106\n"
     ]
    }
   ],
   "source": [
    "predictions_rf = model_rf.predict(features_test)\n",
    "\n",
    "score = precision_score(target_test, predictions_rf)\n",
    "\n",
    "print(f\"Значение метрики на тестовой выборке: {score}\")"
   ]
  },
  {
   "cell_type": "markdown",
   "metadata": {},
   "source": [
    "#### Оценка разницы в прибыли при введении предсказательной системы"
   ]
  },
  {
   "cell_type": "markdown",
   "metadata": {},
   "source": [
    "Делаем предсказания и добавляем столбец предсказаний в табличку отдельным столбцом"
   ]
  },
  {
   "cell_type": "code",
   "execution_count": 72,
   "metadata": {},
   "outputs": [],
   "source": [
    "prediction = model_rf.predict(features_test)\n",
    "pred_serie = pd.Series(prediction,index=target_test.index)\n",
    "df_test_with_pred = df_test.copy()\n",
    "df_test_with_pred['predicted'] = pred_serie"
   ]
  },
  {
   "cell_type": "markdown",
   "metadata": {},
   "source": [
    "Вызываем ранее созданную функцию <code>get_profit()</code>, но при оценке отмены бронирований пользуемся не<BR>\n",
    "столбцом <code>is_canceled</code>, а столбцом <code>predicted</code>, так как считаем прибыль по предсказаниям. Также включаем в расчет использование депозитов (значение <code>True</code> в последнем аргументе функции get_profit)"
   ]
  },
  {
   "cell_type": "code",
   "execution_count": 73,
   "metadata": {},
   "outputs": [],
   "source": [
    "df_test_finances_with_deposit = df_test_with_pred.apply(get_profit,axis=1,args=(\n",
    "        SEASON_MASKS,\n",
    "        ROOM_PRICES_BASE,\n",
    "        ROOM_SERVICE_ONE_TIME_COST,\n",
    "        PRICE_MULTIPLIER_SPRING,\n",
    "        PRICE_MULTIPLIER_SUMMER,\n",
    "        True,\n",
    "        True,))\n",
    "df_test_finances_with_deposit.columns=['profit','expences','number_cost','predicted']"
   ]
  },
  {
   "cell_type": "markdown",
   "metadata": {},
   "source": [
    "Из предсказанной выручки по реализованным номерам вычитаем сумму операционных расходов <BR>\n",
    "по отмененным бронированиям. Заметим что второе слагаемое (за знаком минус) не равно нулю <BR>\n",
    "только для тех записей у которых бронь отменена (по прогнозу)."
   ]
  },
  {
   "cell_type": "code",
   "execution_count": 74,
   "metadata": {},
   "outputs": [
    {
     "name": "stdout",
     "output_type": "stream",
     "text": [
      "Суммарная операционная прибыль по сдаче номеров на основе тестовой выборки: 39187980.0\n",
      "Поступлений по сданным номерам: 49190330.0\n",
      "Расходов, понесенных отелей из-за отмененных броней: 10002350.0\n",
      "(при использовании системы прогнозирования отмены брони и с использованием депозитов)\n"
     ]
    }
   ],
   "source": [
    "total_profit_after_ML = (\n",
    "    df_test_finances_with_deposit['profit'].sum() \n",
    "    - (df_test_finances_with_deposit['expences']*(df_test_finances_with_deposit['predicted'])).sum()\n",
    ")\n",
    "\n",
    "print(f\"Суммарная операционная прибыль по сдаче номеров на основе тестовой выборки: {total_profit_after_ML}\")\n",
    "print(f\"Поступлений по сданным номерам: {df_test_finances_with_deposit['profit'].sum()}\")\n",
    "print(f\"Расходов, понесенных отелей из-за отмененных броней: {(df_test_finances_with_deposit['expences']*(df_test_finances_with_deposit['predicted'])).sum()}\")\n",
    "print(f\"(при использовании системы прогнозирования отмены брони и с использованием депозитов)\")"
   ]
  },
  {
   "cell_type": "markdown",
   "metadata": {},
   "source": [
    "И в конце концов посмотрим разницу между прогнозируемым доходом после введения системы прогнозирования и доходом без использования системы прогнозирования."
   ]
  },
  {
   "cell_type": "code",
   "execution_count": 75,
   "metadata": {},
   "outputs": [
    {
     "name": "stdout",
     "output_type": "stream",
     "text": [
      "Прогнозируемое увеличение операционной прибыли при введении депозитов и системы прогнозирования составит:\n",
      "5422400.0\n"
     ]
    }
   ],
   "source": [
    "profit_difference = total_profit_after_ML - total_profit_before_ML\n",
    "\n",
    "print(\"Прогнозируемое увеличение операционной прибыли при введении депозитов и системы прогнозирования составит:\")\n",
    "print(f\"{profit_difference}\")"
   ]
  },
  {
   "cell_type": "markdown",
   "metadata": {},
   "source": [
    "И ещё раз взглянем на цифры операционной прибыли и операционных расходов:"
   ]
  },
  {
   "cell_type": "code",
   "execution_count": 76,
   "metadata": {},
   "outputs": [
    {
     "data": {
      "text/plain": [
       "profit         49190330.0\n",
       "expences       31501300.0\n",
       "number_cost   109973540.0\n",
       "is_canceled       12591.0\n",
       "dtype: float64"
      ]
     },
     "execution_count": 76,
     "metadata": {},
     "output_type": "execute_result"
    }
   ],
   "source": [
    "df_test_finances_without_deposit.sum()"
   ]
  },
  {
   "cell_type": "code",
   "execution_count": 77,
   "metadata": {},
   "outputs": [
    {
     "data": {
      "text/plain": [
       "profit         49190330.0\n",
       "expences       26078900.0\n",
       "number_cost   109973540.0\n",
       "predicted         12591.0\n",
       "dtype: float64"
      ]
     },
     "execution_count": 77,
     "metadata": {},
     "output_type": "execute_result"
    }
   ],
   "source": [
    "df_test_finances_with_deposit.sum()"
   ]
  },
  {
   "cell_type": "markdown",
   "metadata": {
    "tags": []
   },
   "source": [
    "### Шаг 5. Опишите портрет «ненадёжного» клиента"
   ]
  },
  {
   "cell_type": "markdown",
   "metadata": {},
   "source": [
    "Для получения характерных черт клиента, который скорее всего отменит бронь, построим гистограммы характерных значений таблицы броней для тех заказов которые были отмены"
   ]
  },
  {
   "cell_type": "code",
   "execution_count": 78,
   "metadata": {},
   "outputs": [],
   "source": [
    "df_analyze_train = pd.read_csv(filepath+'hotel_train.csv')\n",
    "df_canceled = df_analyze_train.loc[ df_analyze_train['is_canceled'] == 1 ]"
   ]
  },
  {
   "cell_type": "code",
   "execution_count": 79,
   "metadata": {},
   "outputs": [
    {
     "name": "stdout",
     "output_type": "stream",
     "text": [
      "lead_time\n"
     ]
    },
    {
     "data": {
      "image/png": "[encoded data removed]",
      "text/plain": [
       "<Figure size 432x288 with 1 Axes>"
      ]
     },
     "metadata": {
      "needs_background": "light"
     },
     "output_type": "display_data"
    },
    {
     "name": "stdout",
     "output_type": "stream",
     "text": [
      "34.0     249\n",
      "0.0      242\n",
      "68.0     222\n",
      "37.0     222\n",
      "1.0      222\n",
      "277.0    214\n",
      "44.0     179\n",
      "12.0     168\n",
      "19.0     162\n",
      "56.0     160\n",
      "Name: lead_time, dtype: int64\n",
      "--------------------------------------------------------------------------------\n",
      "arrival_date_year\n"
     ]
    },
    {
     "data": {
      "image/png": "[encoded data removed]",
      "text/plain": [
       "<Figure size 432x288 with 1 Axes>"
      ]
     },
     "metadata": {
      "needs_background": "light"
     },
     "output_type": "display_data"
    },
    {
     "name": "stdout",
     "output_type": "stream",
     "text": [
      "2016    16852\n",
      "2015     7192\n",
      "Name: arrival_date_year, dtype: int64\n",
      "--------------------------------------------------------------------------------\n",
      "arrival_date_month\n"
     ]
    },
    {
     "data": {
      "image/png": "[encoded data removed]",
      "text/plain": [
       "<Figure size 432x288 with 1 Axes>"
      ]
     },
     "metadata": {
      "needs_background": "light"
     },
     "output_type": "display_data"
    },
    {
     "name": "stdout",
     "output_type": "stream",
     "text": [
      "October      3566\n",
      "September    3487\n",
      "August       2597\n",
      "July         2221\n",
      "June         1931\n",
      "December     1913\n",
      "April        1886\n",
      "November     1824\n",
      "May          1673\n",
      "March        1277\n",
      "Name: arrival_date_month, dtype: int64\n",
      "--------------------------------------------------------------------------------\n",
      "arrival_date_week_number\n"
     ]
    },
    {
     "data": {
      "image/png": "[encoded data removed]",
      "text/plain": [
       "<Figure size 432x288 with 1 Axes>"
      ]
     },
     "metadata": {
      "needs_background": "light"
     },
     "output_type": "display_data"
    },
    {
     "name": "stdout",
     "output_type": "stream",
     "text": [
      "42    983\n",
      "38    924\n",
      "41    878\n",
      "40    866\n",
      "39    846\n",
      "33    750\n",
      "37    745\n",
      "43    724\n",
      "25    687\n",
      "45    667\n",
      "Name: arrival_date_week_number, dtype: int64\n",
      "--------------------------------------------------------------------------------\n",
      "arrival_date_day_of_month\n"
     ]
    },
    {
     "data": {
      "image/png": "[encoded data removed]",
      "text/plain": [
       "<Figure size 432x288 with 1 Axes>"
      ]
     },
     "metadata": {
      "needs_background": "light"
     },
     "output_type": "display_data"
    },
    {
     "name": "stdout",
     "output_type": "stream",
     "text": [
      "17    1150\n",
      "5      984\n",
      "30     919\n",
      "7      911\n",
      "16     896\n",
      "24     891\n",
      "12     880\n",
      "8      879\n",
      "9      868\n",
      "26     845\n",
      "Name: arrival_date_day_of_month, dtype: int64\n",
      "--------------------------------------------------------------------------------\n",
      "stays_in_weekend_nights\n"
     ]
    },
    {
     "data": {
      "image/png": "[encoded data removed]",
      "text/plain": [
       "<Figure size 432x288 with 1 Axes>"
      ]
     },
     "metadata": {
      "needs_background": "light"
     },
     "output_type": "display_data"
    },
    {
     "name": "stdout",
     "output_type": "stream",
     "text": [
      "0    11203\n",
      "1     6404\n",
      "2     6291\n",
      "3       99\n",
      "4       47\n",
      "Name: stays_in_weekend_nights, dtype: int64\n",
      "--------------------------------------------------------------------------------\n",
      "stays_in_week_nights\n"
     ]
    },
    {
     "data": {
      "image/png": "[encoded data removed]",
      "text/plain": [
       "<Figure size 432x288 with 1 Axes>"
      ]
     },
     "metadata": {
      "needs_background": "light"
     },
     "output_type": "display_data"
    },
    {
     "name": "stdout",
     "output_type": "stream",
     "text": [
      "2    9002\n",
      "1    5820\n",
      "3    4375\n",
      "4    1788\n",
      "5    1698\n",
      "0    1135\n",
      "6     226\n",
      "Name: stays_in_week_nights, dtype: int64\n",
      "--------------------------------------------------------------------------------\n",
      "adults\n"
     ]
    },
    {
     "data": {
      "image/png": "[encoded data removed]",
      "text/plain": [
       "<Figure size 432x288 with 1 Axes>"
      ]
     },
     "metadata": {
      "needs_background": "light"
     },
     "output_type": "display_data"
    },
    {
     "name": "stdout",
     "output_type": "stream",
     "text": [
      "2.0    19112\n",
      "1.0     4018\n",
      "3.0      865\n",
      "0.0       48\n",
      "4.0        1\n",
      "Name: adults, dtype: int64\n",
      "--------------------------------------------------------------------------------\n",
      "children\n"
     ]
    },
    {
     "data": {
      "image/png": "[encoded data removed]",
      "text/plain": [
       "<Figure size 432x288 with 1 Axes>"
      ]
     },
     "metadata": {
      "needs_background": "light"
     },
     "output_type": "display_data"
    },
    {
     "name": "stdout",
     "output_type": "stream",
     "text": [
      "0.0    22930\n",
      "1.0      620\n",
      "2.0      488\n",
      "3.0        6\n",
      "Name: children, dtype: int64\n",
      "--------------------------------------------------------------------------------\n",
      "babies\n"
     ]
    },
    {
     "data": {
      "image/png": "[encoded data removed]",
      "text/plain": [
       "<Figure size 432x288 with 1 Axes>"
      ]
     },
     "metadata": {
      "needs_background": "light"
     },
     "output_type": "display_data"
    },
    {
     "name": "stdout",
     "output_type": "stream",
     "text": [
      "0.0    23962\n",
      "1.0       82\n",
      "Name: babies, dtype: int64\n",
      "--------------------------------------------------------------------------------\n",
      "previous_cancellations\n"
     ]
    },
    {
     "data": {
      "image/png": "[encoded data removed]",
      "text/plain": [
       "<Figure size 432x288 with 1 Axes>"
      ]
     },
     "metadata": {
      "needs_background": "light"
     },
     "output_type": "display_data"
    },
    {
     "name": "stdout",
     "output_type": "stream",
     "text": [
      "0     18648\n",
      "1      5232\n",
      "24       28\n",
      "2        23\n",
      "25       19\n",
      "26       18\n",
      "19       17\n",
      "3        16\n",
      "13       11\n",
      "14       11\n",
      "Name: previous_cancellations, dtype: int64\n",
      "--------------------------------------------------------------------------------\n",
      "previous_bookings_not_canceled\n"
     ]
    },
    {
     "data": {
      "image/png": "[encoded data removed]",
      "text/plain": [
       "<Figure size 432x288 with 1 Axes>"
      ]
     },
     "metadata": {
      "needs_background": "light"
     },
     "output_type": "display_data"
    },
    {
     "name": "stdout",
     "output_type": "stream",
     "text": [
      "0     23946\n",
      "1        35\n",
      "2        13\n",
      "3         9\n",
      "4         8\n",
      "25        8\n",
      "5         7\n",
      "6         3\n",
      "12        3\n",
      "8         2\n",
      "Name: previous_bookings_not_canceled, dtype: int64\n",
      "--------------------------------------------------------------------------------\n",
      "booking_changes\n"
     ]
    },
    {
     "data": {
      "image/png": "[encoded data removed]",
      "text/plain": [
       "<Figure size 432x288 with 1 Axes>"
      ]
     },
     "metadata": {
      "needs_background": "light"
     },
     "output_type": "display_data"
    },
    {
     "name": "stdout",
     "output_type": "stream",
     "text": [
      "0     22716\n",
      "1       904\n",
      "2       306\n",
      "3        61\n",
      "4        31\n",
      "5        10\n",
      "6         8\n",
      "7         2\n",
      "8         2\n",
      "16        1\n",
      "Name: booking_changes, dtype: int64\n",
      "--------------------------------------------------------------------------------\n",
      "days_in_waiting_list\n"
     ]
    },
    {
     "data": {
      "image/png": "[encoded data removed]",
      "text/plain": [
       "<Figure size 432x288 with 1 Axes>"
      ]
     },
     "metadata": {
      "needs_background": "light"
     },
     "output_type": "display_data"
    },
    {
     "name": "stdout",
     "output_type": "stream",
     "text": [
      "0     21925\n",
      "39      185\n",
      "31      125\n",
      "44      108\n",
      "35       93\n",
      "46       87\n",
      "69       73\n",
      "45       65\n",
      "41       63\n",
      "62       60\n",
      "Name: days_in_waiting_list, dtype: int64\n",
      "--------------------------------------------------------------------------------\n",
      "required_car_parking_spaces\n"
     ]
    },
    {
     "data": {
      "image/png": "[encoded data removed]",
      "text/plain": [
       "<Figure size 432x288 with 1 Axes>"
      ]
     },
     "metadata": {
      "needs_background": "light"
     },
     "output_type": "display_data"
    },
    {
     "name": "stdout",
     "output_type": "stream",
     "text": [
      "0    24044\n",
      "Name: required_car_parking_spaces, dtype: int64\n",
      "--------------------------------------------------------------------------------\n",
      "total_of_special_requests\n"
     ]
    },
    {
     "data": {
      "image/png": "[encoded data removed]",
      "text/plain": [
       "<Figure size 432x288 with 1 Axes>"
      ]
     },
     "metadata": {
      "needs_background": "light"
     },
     "output_type": "display_data"
    },
    {
     "name": "stdout",
     "output_type": "stream",
     "text": [
      "0    19501\n",
      "1     3074\n",
      "2     1253\n",
      "3      203\n",
      "4       13\n",
      "Name: total_of_special_requests, dtype: int64\n",
      "--------------------------------------------------------------------------------\n",
      "total_nights\n"
     ]
    },
    {
     "data": {
      "image/png": "[encoded data removed]",
      "text/plain": [
       "<Figure size 432x288 with 1 Axes>"
      ]
     },
     "metadata": {
      "needs_background": "light"
     },
     "output_type": "display_data"
    },
    {
     "name": "stdout",
     "output_type": "stream",
     "text": [
      "2     7577\n",
      "3     6290\n",
      "4     3372\n",
      "1     3102\n",
      "5     1342\n",
      "7     1227\n",
      "6      852\n",
      "8      183\n",
      "9       61\n",
      "10      38\n",
      "Name: total_nights, dtype: int64\n",
      "--------------------------------------------------------------------------------\n"
     ]
    }
   ],
   "source": [
    "for col in features_numeric:\n",
    "    print(col)\n",
    "    df_canceled[col].hist()    \n",
    "    plt.show()\n",
    "    print(df_canceled[col].value_counts().head(10))\n",
    "    print(\"--------------------------------------------------------------------------------\")\n"
   ]
  },
  {
   "cell_type": "code",
   "execution_count": 80,
   "metadata": {},
   "outputs": [
    {
     "name": "stdout",
     "output_type": "stream",
     "text": [
      "meal\n"
     ]
    },
    {
     "data": {
      "image/png": "[encoded data removed]",
      "text/plain": [
       "<Figure size 432x288 with 1 Axes>"
      ]
     },
     "metadata": {
      "needs_background": "light"
     },
     "output_type": "display_data"
    },
    {
     "name": "stdout",
     "output_type": "stream",
     "text": [
      "BB           18935\n",
      "HB            2808\n",
      "SC            1850\n",
      "FB             311\n",
      "SC             140\n",
      "Name: meal, dtype: int64\n",
      "--------------------------------------------------------------------------------\n",
      "country\n"
     ]
    },
    {
     "data": {
      "image/png": "[encoded data removed]",
      "text/plain": [
       "<Figure size 432x288 with 1 Axes>"
      ]
     },
     "metadata": {
      "needs_background": "light"
     },
     "output_type": "display_data"
    },
    {
     "name": "stdout",
     "output_type": "stream",
     "text": [
      "PRT    16604\n",
      "ESP     1081\n",
      "GBR      938\n",
      "FRA      876\n",
      "ITA      767\n",
      "DEU      541\n",
      "BRA      349\n",
      "IRL      313\n",
      "CHN      234\n",
      "BEL      208\n",
      "Name: country, dtype: int64\n",
      "--------------------------------------------------------------------------------\n",
      "distribution_channel\n"
     ]
    },
    {
     "data": {
      "image/png": "[encoded data removed]",
      "text/plain": [
       "<Figure size 432x288 with 1 Axes>"
      ]
     },
     "metadata": {
      "needs_background": "light"
     },
     "output_type": "display_data"
    },
    {
     "name": "stdout",
     "output_type": "stream",
     "text": [
      "TA/TO        22006\n",
      "Direct        1188\n",
      "Corporate      831\n",
      "GDS             19\n",
      "Name: distribution_channel, dtype: int64\n",
      "--------------------------------------------------------------------------------\n",
      "is_repeated_guest\n"
     ]
    },
    {
     "data": {
      "image/png": "[encoded data removed]",
      "text/plain": [
       "<Figure size 432x288 with 1 Axes>"
      ]
     },
     "metadata": {
      "needs_background": "light"
     },
     "output_type": "display_data"
    },
    {
     "name": "stdout",
     "output_type": "stream",
     "text": [
      "0    23597\n",
      "1      447\n",
      "Name: is_repeated_guest, dtype: int64\n",
      "--------------------------------------------------------------------------------\n",
      "reserved_room_type\n"
     ]
    },
    {
     "data": {
      "image/png": "[encoded data removed]",
      "text/plain": [
       "<Figure size 432x288 with 1 Axes>"
      ]
     },
     "metadata": {
      "needs_background": "light"
     },
     "output_type": "display_data"
    },
    {
     "name": "stdout",
     "output_type": "stream",
     "text": [
      "A                   19722\n",
      "D                    2871\n",
      "E                     608\n",
      "F                     348\n",
      "B                     261\n",
      "G                     191\n",
      "C                      43\n",
      "Name: reserved_room_type, dtype: int64\n",
      "--------------------------------------------------------------------------------\n",
      "customer_type\n"
     ]
    },
    {
     "data": {
      "image/png": "[encoded data removed]",
      "text/plain": [
       "<Figure size 432x288 with 1 Axes>"
      ]
     },
     "metadata": {
      "needs_background": "light"
     },
     "output_type": "display_data"
    },
    {
     "name": "stdout",
     "output_type": "stream",
     "text": [
      "Transient          18017\n",
      "Transient-Party     4913\n",
      "Contract            1090\n",
      "Group                 24\n",
      "Name: customer_type, dtype: int64\n",
      "--------------------------------------------------------------------------------\n"
     ]
    }
   ],
   "source": [
    "for col in features_categorial:\n",
    "    print(col)\n",
    "    df_canceled[col].hist()\n",
    "    plt.show()\n",
    "    print(df_canceled[col].value_counts().head(10))\n",
    "    print(\"--------------------------------------------------------------------------------\")"
   ]
  },
  {
   "cell_type": "markdown",
   "metadata": {},
   "source": [
    "Исходя из проведенного анализа, клиент который скорее всего отменит бронь выглядит следующим образом:<BR>\n",
    "- делает бронь на август-октябрь<BR>\n",
    "- на двух взрослых человек без детей<BR>\n",
    "- общее число ночей 2-3, из них 1-2 приходятся на будни<BR>\n",
    "- ранее бронь отменял один раз либо не отменял ни разу<BR>\n",
    "- не имеет ни одного ранее подтвержденного бронирования и ранее не обращался за услугами<BR>\n",
    "- в карточку бронирования изменений не вносилось<BR>\n",
    "- парковочные места не нужны<BR>\n",
    "- специальных отметок по клиенту не производилось<BR>\n",
    "- завтрак включен<BR>\n",
    "- страна клиента - Португалия<BR>\n",
    "- источник прихода клиента - TA/TO (вероятно Travel Agencies/Tour Operators)<BR>\n",
    "- желаемый класс номера - A (наилучший)<BR>\n",
    "- клиент путешествует без группы и не от юридического лица<BR>"
   ]
  },
  {
   "cell_type": "markdown",
   "metadata": {
    "tags": []
   },
   "source": [
    "### Шаг 6. Напишите общий вывод"
   ]
  },
  {
   "cell_type": "markdown",
   "metadata": {},
   "source": [
    "Расчет показывает что введение в работу модели предсказания для отмен бронирования <BR>\n",
    "на используемой выборке (январь-август 2017 года) по прогнозу дает сокращение расходов примерно на 5608720.00 условных денежных единиц что очень существенно превышает сумму вложений (400 тыс. у.е.), выделяемую для разработки и внедрения модели прогнозирования. Со временем наращивание статистики может улучшить модель прогнозирования что возможно приведет к ещё более точным предсказаниям и дальнейшему сокращению расходов.<BR>\n",
    "Наилучшей моделью для данной задачи показала себя логистическая регрессия, так как значение метрики recall, используемая для охвата отмен броней у неё оказалось наивысшим среди проверенных моделей.<BR>\n",
    "Для более точного прогноза стоило бы предоставить тестовую выборку не только с января по август, а за весь год по причине того что число отмен в конце лета и до октября выше чем в другие месяцы, а тестовая выборка не содержит данных за сентябрь и октябрь.\n",
    "Возможно что имело бы смысл брать депозит в размере 100% от стоимости хотя бы для какой-то части заказов которые имеют нибольшую вероятность отмены, например для тех в которых обозначен срок аренды в двое или трое суток и где бронирование делается за одни сутки или двое суток до даты приезда (одна из наиболее частых категорий по отмене броний), а клиент является жителем Португали."
   ]
  }
 ],
 "metadata": {
  "ExecuteTimeLog": [
   {
    "duration": 1730,
    "start_time": "2022-09-08T16:17:45.817Z"
   },
   {
    "duration": 8,
    "start_time": "2022-09-08T16:17:47.550Z"
   },
   {
    "duration": 17283,
    "start_time": "2022-09-08T16:17:47.560Z"
   },
   {
    "duration": 12907,
    "start_time": "2022-09-08T16:18:04.846Z"
   },
   {
    "duration": 5,
    "start_time": "2022-09-08T16:18:17.754Z"
   },
   {
    "duration": 10,
    "start_time": "2022-09-08T16:18:17.761Z"
   },
   {
    "duration": 8,
    "start_time": "2022-09-08T16:18:17.773Z"
   },
   {
    "duration": 6,
    "start_time": "2022-09-08T16:18:17.783Z"
   },
   {
    "duration": 6,
    "start_time": "2022-09-08T16:18:17.791Z"
   },
   {
    "duration": 10,
    "start_time": "2022-09-08T16:18:17.800Z"
   },
   {
    "duration": 585,
    "start_time": "2022-09-08T16:18:17.811Z"
   },
   {
    "duration": 30,
    "start_time": "2022-09-08T16:18:18.398Z"
   },
   {
    "duration": 27,
    "start_time": "2022-09-08T16:18:18.430Z"
   },
   {
    "duration": 47619,
    "start_time": "2022-09-08T16:18:18.459Z"
   },
   {
    "duration": 41898,
    "start_time": "2022-09-08T16:19:06.079Z"
   },
   {
    "duration": 4,
    "start_time": "2022-09-08T16:19:47.980Z"
   },
   {
    "duration": 806,
    "start_time": "2022-09-08T16:19:47.985Z"
   },
   {
    "duration": 10,
    "start_time": "2022-09-08T16:19:48.792Z"
   },
   {
    "duration": 6,
    "start_time": "2022-09-08T16:19:48.804Z"
   },
   {
    "duration": 32,
    "start_time": "2022-09-08T16:19:48.812Z"
   },
   {
    "duration": 4,
    "start_time": "2022-09-08T16:19:48.846Z"
   },
   {
    "duration": 28,
    "start_time": "2022-09-08T16:19:48.852Z"
   },
   {
    "duration": 16,
    "start_time": "2022-09-08T16:19:48.882Z"
   },
   {
    "duration": 11,
    "start_time": "2022-09-08T16:19:48.900Z"
   },
   {
    "duration": 6,
    "start_time": "2022-09-08T16:19:48.913Z"
   },
   {
    "duration": 14,
    "start_time": "2022-09-08T16:19:48.921Z"
   },
   {
    "duration": 1873,
    "start_time": "2022-09-08T16:19:48.937Z"
   },
   {
    "duration": 8796,
    "start_time": "2022-09-08T16:19:50.814Z"
   },
   {
    "duration": 13744,
    "start_time": "2022-09-08T16:19:59.612Z"
   },
   {
    "duration": 7,
    "start_time": "2022-09-08T16:20:13.358Z"
   },
   {
    "duration": 35,
    "start_time": "2022-09-08T16:20:13.366Z"
   },
   {
    "duration": 120,
    "start_time": "2022-09-08T16:20:13.403Z"
   },
   {
    "duration": 22,
    "start_time": "2022-09-08T16:20:13.525Z"
   },
   {
    "duration": 4,
    "start_time": "2022-09-08T16:20:13.549Z"
   },
   {
    "duration": 8,
    "start_time": "2022-09-08T16:20:13.555Z"
   },
   {
    "duration": 19,
    "start_time": "2022-09-08T16:20:13.564Z"
   },
   {
    "duration": 14,
    "start_time": "2022-09-08T16:20:13.584Z"
   },
   {
    "duration": 111190,
    "start_time": "2022-09-08T16:20:13.600Z"
   },
   {
    "duration": 7,
    "start_time": "2022-09-08T16:22:04.793Z"
   },
   {
    "duration": 20,
    "start_time": "2022-09-08T16:22:04.802Z"
   },
   {
    "duration": 68,
    "start_time": "2022-09-08T16:22:04.824Z"
   },
   {
    "duration": 4,
    "start_time": "2022-09-08T16:22:04.894Z"
   },
   {
    "duration": 22,
    "start_time": "2022-09-08T16:22:04.900Z"
   },
   {
    "duration": 275,
    "start_time": "2022-09-08T16:22:04.924Z"
   },
   {
    "duration": 9,
    "start_time": "2022-09-08T16:22:05.201Z"
   },
   {
    "duration": 44,
    "start_time": "2022-09-08T16:22:05.213Z"
   },
   {
    "duration": 204,
    "start_time": "2022-09-08T16:22:05.259Z"
   },
   {
    "duration": 59,
    "start_time": "2022-09-08T16:22:05.465Z"
   },
   {
    "duration": 3,
    "start_time": "2022-09-08T16:22:05.525Z"
   },
   {
    "duration": 9,
    "start_time": "2022-09-08T16:22:05.530Z"
   },
   {
    "duration": 9,
    "start_time": "2022-09-08T16:22:05.541Z"
   },
   {
    "duration": 37,
    "start_time": "2022-09-08T16:22:05.552Z"
   },
   {
    "duration": 34635,
    "start_time": "2022-09-08T16:22:05.591Z"
   },
   {
    "duration": 6,
    "start_time": "2022-09-08T16:22:40.228Z"
   },
   {
    "duration": 13,
    "start_time": "2022-09-08T16:22:40.236Z"
   },
   {
    "duration": 22,
    "start_time": "2022-09-08T16:22:40.251Z"
   },
   {
    "duration": 554,
    "start_time": "2022-09-08T16:22:40.275Z"
   },
   {
    "duration": 3,
    "start_time": "2022-09-08T16:22:40.831Z"
   },
   {
    "duration": 7,
    "start_time": "2022-09-08T16:22:40.835Z"
   },
   {
    "duration": 9,
    "start_time": "2022-09-08T16:22:40.844Z"
   },
   {
    "duration": 9,
    "start_time": "2022-09-08T16:22:40.855Z"
   },
   {
    "duration": 45314,
    "start_time": "2022-09-08T16:22:40.877Z"
   },
   {
    "duration": 97,
    "start_time": "2022-09-08T16:23:26.193Z"
   },
   {
    "duration": 36821,
    "start_time": "2022-09-08T16:23:26.292Z"
   },
   {
    "duration": 45986,
    "start_time": "2022-09-08T16:24:03.115Z"
   },
   {
    "duration": 175,
    "start_time": "2022-09-08T16:24:49.102Z"
   },
   {
    "duration": 113363,
    "start_time": "2022-09-08T16:24:49.278Z"
   },
   {
    "duration": 8,
    "start_time": "2022-09-08T16:26:42.643Z"
   },
   {
    "duration": 6,
    "start_time": "2022-09-08T16:26:42.653Z"
   },
   {
    "duration": 20,
    "start_time": "2022-09-08T16:26:42.661Z"
   },
   {
    "duration": 6,
    "start_time": "2022-09-08T16:26:42.683Z"
   },
   {
    "duration": 171,
    "start_time": "2022-09-08T16:26:42.691Z"
   },
   {
    "duration": 2403,
    "start_time": "2022-09-08T16:26:42.864Z"
   },
   {
    "duration": 2284,
    "start_time": "2022-09-08T16:26:45.269Z"
   },
   {
    "duration": 7,
    "start_time": "2022-09-14T00:59:06.803Z"
   },
   {
    "duration": 1371,
    "start_time": "2022-09-14T00:59:06.812Z"
   },
   {
    "duration": 6,
    "start_time": "2022-09-14T00:59:08.184Z"
   },
   {
    "duration": 14725,
    "start_time": "2022-09-14T00:59:08.191Z"
   },
   {
    "duration": 10676,
    "start_time": "2022-09-14T00:59:22.917Z"
   },
   {
    "duration": 5,
    "start_time": "2022-09-14T00:59:33.595Z"
   },
   {
    "duration": 6,
    "start_time": "2022-09-14T00:59:33.601Z"
   },
   {
    "duration": 7,
    "start_time": "2022-09-14T00:59:33.608Z"
   },
   {
    "duration": 4,
    "start_time": "2022-09-14T00:59:33.617Z"
   },
   {
    "duration": 4,
    "start_time": "2022-09-14T00:59:33.623Z"
   },
   {
    "duration": 8,
    "start_time": "2022-09-14T00:59:33.628Z"
   },
   {
    "duration": 581,
    "start_time": "2022-09-14T00:59:33.638Z"
   },
   {
    "duration": 21,
    "start_time": "2022-09-14T00:59:34.220Z"
   },
   {
    "duration": 15,
    "start_time": "2022-09-14T00:59:34.243Z"
   },
   {
    "duration": 2,
    "start_time": "2022-09-14T00:59:34.260Z"
   },
   {
    "duration": 9,
    "start_time": "2022-09-14T00:59:34.263Z"
   },
   {
    "duration": 59,
    "start_time": "2022-09-14T00:59:34.273Z"
   },
   {
    "duration": 69,
    "start_time": "2022-09-14T00:59:34.334Z"
   },
   {
    "duration": 12,
    "start_time": "2022-09-14T00:59:34.404Z"
   },
   {
    "duration": 18,
    "start_time": "2022-09-14T00:59:34.418Z"
   },
   {
    "duration": 10,
    "start_time": "2022-09-14T00:59:34.438Z"
   },
   {
    "duration": 11,
    "start_time": "2022-09-14T00:59:34.450Z"
   },
   {
    "duration": 10,
    "start_time": "2022-09-14T00:59:34.463Z"
   },
   {
    "duration": 27,
    "start_time": "2022-09-14T00:59:34.475Z"
   },
   {
    "duration": 386,
    "start_time": "2022-09-14T00:59:34.503Z"
   },
   {
    "duration": 10,
    "start_time": "2022-09-14T00:59:34.891Z"
   },
   {
    "duration": 8,
    "start_time": "2022-09-14T00:59:34.903Z"
   },
   {
    "duration": 25,
    "start_time": "2022-09-14T00:59:34.914Z"
   },
   {
    "duration": 3,
    "start_time": "2022-09-14T00:59:34.941Z"
   },
   {
    "duration": 10,
    "start_time": "2022-09-14T00:59:34.945Z"
   },
   {
    "duration": 11,
    "start_time": "2022-09-14T00:59:34.956Z"
   },
   {
    "duration": 6,
    "start_time": "2022-09-14T00:59:34.968Z"
   },
   {
    "duration": 27,
    "start_time": "2022-09-14T00:59:34.975Z"
   },
   {
    "duration": 16,
    "start_time": "2022-09-14T00:59:35.003Z"
   },
   {
    "duration": 1334,
    "start_time": "2022-09-14T00:59:35.021Z"
   },
   {
    "duration": 5576,
    "start_time": "2022-09-14T00:59:36.356Z"
   },
   {
    "duration": 9057,
    "start_time": "2022-09-14T00:59:41.933Z"
   },
   {
    "duration": 9,
    "start_time": "2022-09-14T00:59:50.992Z"
   },
   {
    "duration": 31,
    "start_time": "2022-09-14T00:59:51.003Z"
   },
   {
    "duration": 82,
    "start_time": "2022-09-14T00:59:51.035Z"
   },
   {
    "duration": 19,
    "start_time": "2022-09-14T00:59:51.118Z"
   },
   {
    "duration": 5,
    "start_time": "2022-09-14T00:59:51.138Z"
   },
   {
    "duration": 8,
    "start_time": "2022-09-14T00:59:51.145Z"
   },
   {
    "duration": 8,
    "start_time": "2022-09-14T00:59:51.154Z"
   },
   {
    "duration": 13,
    "start_time": "2022-09-14T00:59:51.164Z"
   },
   {
    "duration": 128127,
    "start_time": "2022-09-14T00:59:51.179Z"
   },
   {
    "duration": 6,
    "start_time": "2022-09-14T01:01:59.307Z"
   },
   {
    "duration": 9,
    "start_time": "2022-09-14T01:01:59.314Z"
   },
   {
    "duration": 39,
    "start_time": "2022-09-14T01:01:59.325Z"
   },
   {
    "duration": 3,
    "start_time": "2022-09-14T01:01:59.366Z"
   },
   {
    "duration": 14,
    "start_time": "2022-09-14T01:01:59.370Z"
   },
   {
    "duration": 206,
    "start_time": "2022-09-14T01:01:59.385Z"
   },
   {
    "duration": 9,
    "start_time": "2022-09-14T01:01:59.592Z"
   },
   {
    "duration": 4,
    "start_time": "2022-09-14T01:01:59.602Z"
   },
   {
    "duration": 28,
    "start_time": "2022-09-14T01:01:59.607Z"
   },
   {
    "duration": 6,
    "start_time": "2022-09-14T01:01:59.637Z"
   },
   {
    "duration": 8,
    "start_time": "2022-09-14T01:01:59.645Z"
   },
   {
    "duration": 8,
    "start_time": "2022-09-14T01:01:59.654Z"
   },
   {
    "duration": 7,
    "start_time": "2022-09-14T01:01:59.664Z"
   },
   {
    "duration": 5,
    "start_time": "2022-09-14T01:01:59.672Z"
   },
   {
    "duration": 5498,
    "start_time": "2022-09-14T01:01:59.679Z"
   },
   {
    "duration": 4,
    "start_time": "2022-09-14T01:02:05.178Z"
   },
   {
    "duration": 27,
    "start_time": "2022-09-14T01:02:05.184Z"
   },
   {
    "duration": 6,
    "start_time": "2022-09-14T01:02:05.213Z"
   },
   {
    "duration": 153,
    "start_time": "2022-09-14T01:02:05.221Z"
   },
   {
    "duration": 2,
    "start_time": "2022-09-14T01:02:05.376Z"
   },
   {
    "duration": 6,
    "start_time": "2022-09-14T01:02:05.379Z"
   },
   {
    "duration": 8,
    "start_time": "2022-09-14T01:02:05.386Z"
   },
   {
    "duration": 2,
    "start_time": "2022-09-14T01:02:05.400Z"
   },
   {
    "duration": 165,
    "start_time": "2022-09-14T01:02:05.403Z"
   },
   {
    "duration": 0,
    "start_time": "2022-09-14T01:02:05.569Z"
   },
   {
    "duration": 0,
    "start_time": "2022-09-14T01:02:05.570Z"
   },
   {
    "duration": 0,
    "start_time": "2022-09-14T01:02:05.571Z"
   },
   {
    "duration": 0,
    "start_time": "2022-09-14T01:02:05.572Z"
   },
   {
    "duration": 0,
    "start_time": "2022-09-14T01:02:05.573Z"
   },
   {
    "duration": 0,
    "start_time": "2022-09-14T01:02:05.574Z"
   },
   {
    "duration": 0,
    "start_time": "2022-09-14T01:02:05.575Z"
   },
   {
    "duration": 0,
    "start_time": "2022-09-14T01:02:05.576Z"
   },
   {
    "duration": 0,
    "start_time": "2022-09-14T01:02:05.577Z"
   },
   {
    "duration": 8,
    "start_time": "2022-09-14T11:48:14.611Z"
   },
   {
    "duration": 1671,
    "start_time": "2022-09-14T11:48:14.621Z"
   },
   {
    "duration": 7,
    "start_time": "2022-09-14T11:48:16.295Z"
   },
   {
    "duration": 17581,
    "start_time": "2022-09-14T11:48:16.304Z"
   },
   {
    "duration": 13632,
    "start_time": "2022-09-14T11:48:33.886Z"
   },
   {
    "duration": 5,
    "start_time": "2022-09-14T11:48:47.521Z"
   },
   {
    "duration": 23,
    "start_time": "2022-09-14T11:48:47.528Z"
   },
   {
    "duration": 7,
    "start_time": "2022-09-14T11:48:47.552Z"
   },
   {
    "duration": 16,
    "start_time": "2022-09-14T11:48:47.561Z"
   },
   {
    "duration": 23,
    "start_time": "2022-09-14T11:48:47.581Z"
   },
   {
    "duration": 13,
    "start_time": "2022-09-14T11:48:47.606Z"
   },
   {
    "duration": 534,
    "start_time": "2022-09-14T11:48:47.620Z"
   },
   {
    "duration": 27,
    "start_time": "2022-09-14T11:48:48.156Z"
   },
   {
    "duration": 20,
    "start_time": "2022-09-14T11:48:48.185Z"
   },
   {
    "duration": 14,
    "start_time": "2022-09-14T11:48:48.207Z"
   },
   {
    "duration": 9,
    "start_time": "2022-09-14T11:48:48.223Z"
   },
   {
    "duration": 68,
    "start_time": "2022-09-14T11:48:48.234Z"
   },
   {
    "duration": 72,
    "start_time": "2022-09-14T11:48:48.303Z"
   },
   {
    "duration": 9,
    "start_time": "2022-09-14T11:48:48.376Z"
   },
   {
    "duration": 22,
    "start_time": "2022-09-14T11:48:48.387Z"
   },
   {
    "duration": 12,
    "start_time": "2022-09-14T11:48:48.421Z"
   },
   {
    "duration": 14,
    "start_time": "2022-09-14T11:48:48.435Z"
   },
   {
    "duration": 13,
    "start_time": "2022-09-14T11:48:48.451Z"
   },
   {
    "duration": 4,
    "start_time": "2022-09-14T11:48:48.466Z"
   },
   {
    "duration": 475,
    "start_time": "2022-09-14T11:48:48.472Z"
   },
   {
    "duration": 12,
    "start_time": "2022-09-14T11:48:48.949Z"
   },
   {
    "duration": 11,
    "start_time": "2022-09-14T11:48:48.964Z"
   },
   {
    "duration": 46,
    "start_time": "2022-09-14T11:48:48.980Z"
   },
   {
    "duration": 6,
    "start_time": "2022-09-14T11:48:49.028Z"
   },
   {
    "duration": 20,
    "start_time": "2022-09-14T11:48:49.036Z"
   },
   {
    "duration": 20,
    "start_time": "2022-09-14T11:48:49.058Z"
   },
   {
    "duration": 15,
    "start_time": "2022-09-14T11:48:49.080Z"
   },
   {
    "duration": 27,
    "start_time": "2022-09-14T11:48:49.097Z"
   },
   {
    "duration": 19,
    "start_time": "2022-09-14T11:48:49.127Z"
   },
   {
    "duration": 1678,
    "start_time": "2022-09-14T11:48:49.148Z"
   },
   {
    "duration": 6743,
    "start_time": "2022-09-14T11:48:50.827Z"
   },
   {
    "duration": 10639,
    "start_time": "2022-09-14T11:48:57.572Z"
   },
   {
    "duration": 9,
    "start_time": "2022-09-14T11:49:08.212Z"
   },
   {
    "duration": 23,
    "start_time": "2022-09-14T11:49:08.223Z"
   },
   {
    "duration": 105,
    "start_time": "2022-09-14T11:49:08.248Z"
   },
   {
    "duration": 22,
    "start_time": "2022-09-14T11:49:08.355Z"
   },
   {
    "duration": 5,
    "start_time": "2022-09-14T11:49:08.379Z"
   },
   {
    "duration": 8,
    "start_time": "2022-09-14T11:49:08.385Z"
   },
   {
    "duration": 27,
    "start_time": "2022-09-14T11:49:08.394Z"
   },
   {
    "duration": 17,
    "start_time": "2022-09-14T11:49:08.422Z"
   },
   {
    "duration": 149348,
    "start_time": "2022-09-14T11:49:08.441Z"
   },
   {
    "duration": 8,
    "start_time": "2022-09-14T11:51:37.791Z"
   },
   {
    "duration": 10,
    "start_time": "2022-09-14T11:51:37.801Z"
   },
   {
    "duration": 39,
    "start_time": "2022-09-14T11:51:37.820Z"
   },
   {
    "duration": 4,
    "start_time": "2022-09-14T11:51:37.862Z"
   },
   {
    "duration": 37,
    "start_time": "2022-09-14T11:51:37.868Z"
   },
   {
    "duration": 221,
    "start_time": "2022-09-14T11:51:37.907Z"
   },
   {
    "duration": 6,
    "start_time": "2022-09-14T11:51:38.130Z"
   },
   {
    "duration": 6,
    "start_time": "2022-09-14T11:51:38.138Z"
   },
   {
    "duration": 10,
    "start_time": "2022-09-14T11:51:38.145Z"
   },
   {
    "duration": 7,
    "start_time": "2022-09-14T11:51:38.156Z"
   },
   {
    "duration": 8,
    "start_time": "2022-09-14T11:51:38.164Z"
   },
   {
    "duration": 10,
    "start_time": "2022-09-14T11:51:38.173Z"
   },
   {
    "duration": 7,
    "start_time": "2022-09-14T11:51:38.184Z"
   },
   {
    "duration": 16,
    "start_time": "2022-09-14T11:51:38.193Z"
   },
   {
    "duration": 6783,
    "start_time": "2022-09-14T11:51:38.211Z"
   },
   {
    "duration": 4,
    "start_time": "2022-09-14T11:51:44.996Z"
   },
   {
    "duration": 44,
    "start_time": "2022-09-14T11:51:45.002Z"
   },
   {
    "duration": 27,
    "start_time": "2022-09-14T11:51:45.048Z"
   },
   {
    "duration": 207,
    "start_time": "2022-09-14T11:51:45.076Z"
   },
   {
    "duration": 3,
    "start_time": "2022-09-14T11:51:45.285Z"
   },
   {
    "duration": 17,
    "start_time": "2022-09-14T11:51:45.289Z"
   },
   {
    "duration": 42,
    "start_time": "2022-09-14T11:51:45.307Z"
   },
   {
    "duration": 36,
    "start_time": "2022-09-14T11:51:45.351Z"
   },
   {
    "duration": 199,
    "start_time": "2022-09-14T11:51:45.388Z"
   },
   {
    "duration": 0,
    "start_time": "2022-09-14T11:51:45.588Z"
   },
   {
    "duration": 0,
    "start_time": "2022-09-14T11:51:45.589Z"
   },
   {
    "duration": 0,
    "start_time": "2022-09-14T11:51:45.590Z"
   },
   {
    "duration": 0,
    "start_time": "2022-09-14T11:51:45.591Z"
   },
   {
    "duration": 0,
    "start_time": "2022-09-14T11:51:45.593Z"
   },
   {
    "duration": 0,
    "start_time": "2022-09-14T11:51:45.594Z"
   },
   {
    "duration": 0,
    "start_time": "2022-09-14T11:51:45.595Z"
   },
   {
    "duration": 0,
    "start_time": "2022-09-14T11:51:45.596Z"
   },
   {
    "duration": 0,
    "start_time": "2022-09-14T11:51:45.597Z"
   },
   {
    "duration": 5,
    "start_time": "2022-09-14T12:32:14.671Z"
   },
   {
    "duration": 587504,
    "start_time": "2022-09-14T12:43:23.225Z"
   },
   {
    "duration": 87661,
    "start_time": "2022-09-14T13:05:48.469Z"
   },
   {
    "duration": 240129,
    "start_time": "2022-09-14T13:17:25.797Z"
   },
   {
    "duration": 86639,
    "start_time": "2022-09-14T13:24:50.385Z"
   },
   {
    "duration": 396858,
    "start_time": "2022-09-14T13:26:23.168Z"
   },
   {
    "duration": 2958,
    "start_time": "2022-09-14T13:39:41.368Z"
   },
   {
    "duration": 16,
    "start_time": "2022-09-14T13:52:37.824Z"
   },
   {
    "duration": 438,
    "start_time": "2022-09-14T13:52:44.672Z"
   },
   {
    "duration": 408,
    "start_time": "2022-09-14T13:54:03.862Z"
   },
   {
    "duration": 45,
    "start_time": "2022-09-14T13:57:57.373Z"
   },
   {
    "duration": 7,
    "start_time": "2022-09-14T14:04:52.763Z"
   },
   {
    "duration": 1811,
    "start_time": "2022-09-14T14:04:52.772Z"
   },
   {
    "duration": 7,
    "start_time": "2022-09-14T14:04:54.585Z"
   },
   {
    "duration": 610,
    "start_time": "2022-09-14T14:04:54.593Z"
   },
   {
    "duration": 285,
    "start_time": "2022-09-14T14:04:55.204Z"
   },
   {
    "duration": 4,
    "start_time": "2022-09-14T14:04:55.491Z"
   },
   {
    "duration": 11,
    "start_time": "2022-09-14T14:04:55.497Z"
   },
   {
    "duration": 10,
    "start_time": "2022-09-14T14:04:55.510Z"
   },
   {
    "duration": 3,
    "start_time": "2022-09-14T14:04:55.522Z"
   },
   {
    "duration": 4,
    "start_time": "2022-09-14T14:04:55.528Z"
   },
   {
    "duration": 9,
    "start_time": "2022-09-14T14:04:55.533Z"
   },
   {
    "duration": 215,
    "start_time": "2022-09-14T14:04:55.544Z"
   },
   {
    "duration": 24,
    "start_time": "2022-09-14T14:04:55.761Z"
   },
   {
    "duration": 35,
    "start_time": "2022-09-14T14:04:55.786Z"
   },
   {
    "duration": 3,
    "start_time": "2022-09-14T14:04:55.823Z"
   },
   {
    "duration": 35,
    "start_time": "2022-09-14T14:04:55.828Z"
   },
   {
    "duration": 106,
    "start_time": "2022-09-14T14:04:55.865Z"
   },
   {
    "duration": 75,
    "start_time": "2022-09-14T14:04:55.972Z"
   },
   {
    "duration": 9,
    "start_time": "2022-09-14T14:04:56.048Z"
   },
   {
    "duration": 21,
    "start_time": "2022-09-14T14:04:56.059Z"
   },
   {
    "duration": 30,
    "start_time": "2022-09-14T14:04:56.082Z"
   },
   {
    "duration": 16,
    "start_time": "2022-09-14T14:04:56.114Z"
   },
   {
    "duration": 28,
    "start_time": "2022-09-14T14:04:56.132Z"
   },
   {
    "duration": 32,
    "start_time": "2022-09-14T14:04:56.162Z"
   },
   {
    "duration": 467,
    "start_time": "2022-09-14T14:04:56.195Z"
   },
   {
    "duration": 9,
    "start_time": "2022-09-14T14:04:56.663Z"
   },
   {
    "duration": 25,
    "start_time": "2022-09-14T14:04:56.674Z"
   },
   {
    "duration": 53,
    "start_time": "2022-09-14T14:04:56.704Z"
   },
   {
    "duration": 7,
    "start_time": "2022-09-14T14:04:56.759Z"
   },
   {
    "duration": 30,
    "start_time": "2022-09-14T14:04:56.768Z"
   },
   {
    "duration": 23,
    "start_time": "2022-09-14T14:04:56.800Z"
   },
   {
    "duration": 20,
    "start_time": "2022-09-14T14:04:56.825Z"
   },
   {
    "duration": 24,
    "start_time": "2022-09-14T14:04:56.846Z"
   },
   {
    "duration": 47,
    "start_time": "2022-09-14T14:04:56.871Z"
   },
   {
    "duration": 1655,
    "start_time": "2022-09-14T14:04:56.920Z"
   },
   {
    "duration": 6794,
    "start_time": "2022-09-14T14:04:58.576Z"
   },
   {
    "duration": 11085,
    "start_time": "2022-09-14T14:05:05.372Z"
   },
   {
    "duration": 8,
    "start_time": "2022-09-14T14:05:16.458Z"
   },
   {
    "duration": 24,
    "start_time": "2022-09-14T14:05:16.468Z"
   },
   {
    "duration": 109,
    "start_time": "2022-09-14T14:05:16.494Z"
   },
   {
    "duration": 32,
    "start_time": "2022-09-14T14:05:16.605Z"
   },
   {
    "duration": 5,
    "start_time": "2022-09-14T14:05:16.639Z"
   },
   {
    "duration": 8,
    "start_time": "2022-09-14T14:05:16.646Z"
   },
   {
    "duration": 9,
    "start_time": "2022-09-14T14:05:16.656Z"
   },
   {
    "duration": 17,
    "start_time": "2022-09-14T14:05:16.667Z"
   },
   {
    "duration": 152680,
    "start_time": "2022-09-14T14:05:16.686Z"
   },
   {
    "duration": 7,
    "start_time": "2022-09-14T14:07:49.368Z"
   },
   {
    "duration": 35,
    "start_time": "2022-09-14T14:07:49.376Z"
   },
   {
    "duration": 55,
    "start_time": "2022-09-14T14:07:49.412Z"
   },
   {
    "duration": 4,
    "start_time": "2022-09-14T14:07:49.468Z"
   },
   {
    "duration": 49,
    "start_time": "2022-09-14T14:07:49.474Z"
   },
   {
    "duration": 239,
    "start_time": "2022-09-14T14:07:49.525Z"
   },
   {
    "duration": 5,
    "start_time": "2022-09-14T14:07:49.766Z"
   },
   {
    "duration": 19,
    "start_time": "2022-09-14T14:07:49.773Z"
   },
   {
    "duration": 24,
    "start_time": "2022-09-14T14:07:49.793Z"
   },
   {
    "duration": 14,
    "start_time": "2022-09-14T14:07:49.818Z"
   },
   {
    "duration": 16,
    "start_time": "2022-09-14T14:07:49.833Z"
   },
   {
    "duration": 25,
    "start_time": "2022-09-14T14:07:49.850Z"
   },
   {
    "duration": 25,
    "start_time": "2022-09-14T14:07:49.876Z"
   },
   {
    "duration": 16,
    "start_time": "2022-09-14T14:07:49.903Z"
   },
   {
    "duration": 6678,
    "start_time": "2022-09-14T14:07:49.921Z"
   },
   {
    "duration": 4,
    "start_time": "2022-09-14T14:07:56.601Z"
   },
   {
    "duration": 13,
    "start_time": "2022-09-14T14:07:56.607Z"
   },
   {
    "duration": 3,
    "start_time": "2022-09-14T14:07:56.622Z"
   },
   {
    "duration": 188,
    "start_time": "2022-09-14T14:07:56.627Z"
   },
   {
    "duration": 2,
    "start_time": "2022-09-14T14:07:56.820Z"
   },
   {
    "duration": 7,
    "start_time": "2022-09-14T14:07:56.824Z"
   },
   {
    "duration": 14,
    "start_time": "2022-09-14T14:07:56.833Z"
   },
   {
    "duration": 7,
    "start_time": "2022-09-14T14:07:56.848Z"
   },
   {
    "duration": 2664,
    "start_time": "2022-09-14T14:07:56.857Z"
   },
   {
    "duration": 422,
    "start_time": "2022-09-14T14:07:59.523Z"
   },
   {
    "duration": 422,
    "start_time": "2022-09-14T14:07:59.947Z"
   },
   {
    "duration": 154838,
    "start_time": "2022-09-14T14:08:00.371Z"
   },
   {
    "duration": 11,
    "start_time": "2022-09-14T14:10:35.211Z"
   },
   {
    "duration": 10,
    "start_time": "2022-09-14T14:10:35.224Z"
   },
   {
    "duration": 15,
    "start_time": "2022-09-14T14:10:35.235Z"
   },
   {
    "duration": 12,
    "start_time": "2022-09-14T14:10:35.252Z"
   },
   {
    "duration": 146,
    "start_time": "2022-09-14T14:10:35.266Z"
   },
   {
    "duration": 2508,
    "start_time": "2022-09-14T14:10:35.414Z"
   },
   {
    "duration": 2089,
    "start_time": "2022-09-14T14:10:37.924Z"
   },
   {
    "duration": 3,
    "start_time": "2022-09-14T14:24:22.249Z"
   },
   {
    "duration": 12,
    "start_time": "2022-09-14T14:24:37.426Z"
   },
   {
    "duration": 1544,
    "start_time": "2022-09-14T14:24:37.440Z"
   },
   {
    "duration": 8,
    "start_time": "2022-09-14T14:24:38.986Z"
   },
   {
    "duration": 680,
    "start_time": "2022-09-14T14:24:38.997Z"
   },
   {
    "duration": 295,
    "start_time": "2022-09-14T14:24:39.678Z"
   },
   {
    "duration": 4,
    "start_time": "2022-09-14T14:24:39.975Z"
   },
   {
    "duration": 9,
    "start_time": "2022-09-14T14:24:39.981Z"
   },
   {
    "duration": 6,
    "start_time": "2022-09-14T14:24:39.991Z"
   },
   {
    "duration": 6,
    "start_time": "2022-09-14T14:24:39.998Z"
   },
   {
    "duration": 15,
    "start_time": "2022-09-14T14:24:40.007Z"
   },
   {
    "duration": 23,
    "start_time": "2022-09-14T14:24:40.023Z"
   },
   {
    "duration": 254,
    "start_time": "2022-09-14T14:24:40.048Z"
   },
   {
    "duration": 26,
    "start_time": "2022-09-14T14:24:40.303Z"
   },
   {
    "duration": 25,
    "start_time": "2022-09-14T14:24:40.330Z"
   },
   {
    "duration": 7,
    "start_time": "2022-09-14T14:24:40.358Z"
   },
   {
    "duration": 5,
    "start_time": "2022-09-14T14:24:40.366Z"
   },
   {
    "duration": 88,
    "start_time": "2022-09-14T14:24:40.373Z"
   },
   {
    "duration": 76,
    "start_time": "2022-09-14T14:24:40.463Z"
   },
   {
    "duration": 10,
    "start_time": "2022-09-14T14:24:40.540Z"
   },
   {
    "duration": 30,
    "start_time": "2022-09-14T14:24:40.551Z"
   },
   {
    "duration": 9,
    "start_time": "2022-09-14T14:24:40.583Z"
   },
   {
    "duration": 12,
    "start_time": "2022-09-14T14:24:40.595Z"
   },
   {
    "duration": 23,
    "start_time": "2022-09-14T14:24:40.609Z"
   },
   {
    "duration": 4,
    "start_time": "2022-09-14T14:24:40.634Z"
   },
   {
    "duration": 466,
    "start_time": "2022-09-14T14:24:40.641Z"
   },
   {
    "duration": 15,
    "start_time": "2022-09-14T14:24:41.109Z"
   },
   {
    "duration": 24,
    "start_time": "2022-09-14T14:24:41.126Z"
   },
   {
    "duration": 55,
    "start_time": "2022-09-14T14:24:41.154Z"
   },
   {
    "duration": 4,
    "start_time": "2022-09-14T14:24:41.211Z"
   },
   {
    "duration": 20,
    "start_time": "2022-09-14T14:24:41.216Z"
   },
   {
    "duration": 28,
    "start_time": "2022-09-14T14:24:41.238Z"
   },
   {
    "duration": 10,
    "start_time": "2022-09-14T14:24:41.267Z"
   },
   {
    "duration": 24,
    "start_time": "2022-09-14T14:24:41.279Z"
   },
   {
    "duration": 15,
    "start_time": "2022-09-14T14:24:41.305Z"
   },
   {
    "duration": 1666,
    "start_time": "2022-09-14T14:24:41.322Z"
   },
   {
    "duration": 6911,
    "start_time": "2022-09-14T14:24:42.990Z"
   },
   {
    "duration": 11591,
    "start_time": "2022-09-14T14:24:49.902Z"
   },
   {
    "duration": 7,
    "start_time": "2022-09-14T14:25:01.494Z"
   },
   {
    "duration": 49,
    "start_time": "2022-09-14T14:25:01.503Z"
   },
   {
    "duration": 91,
    "start_time": "2022-09-14T14:25:01.554Z"
   },
   {
    "duration": 22,
    "start_time": "2022-09-14T14:25:01.647Z"
   },
   {
    "duration": 9,
    "start_time": "2022-09-14T14:25:01.671Z"
   },
   {
    "duration": 19,
    "start_time": "2022-09-14T14:25:01.682Z"
   },
   {
    "duration": 38,
    "start_time": "2022-09-14T14:25:01.702Z"
   },
   {
    "duration": 50,
    "start_time": "2022-09-14T14:25:01.742Z"
   },
   {
    "duration": 152645,
    "start_time": "2022-09-14T14:25:01.794Z"
   },
   {
    "duration": 7,
    "start_time": "2022-09-14T14:27:34.441Z"
   },
   {
    "duration": 11,
    "start_time": "2022-09-14T14:27:34.451Z"
   },
   {
    "duration": 45,
    "start_time": "2022-09-14T14:27:34.464Z"
   },
   {
    "duration": 10,
    "start_time": "2022-09-14T14:27:34.511Z"
   },
   {
    "duration": 24,
    "start_time": "2022-09-14T14:27:34.523Z"
   },
   {
    "duration": 215,
    "start_time": "2022-09-14T14:27:34.549Z"
   },
   {
    "duration": 5,
    "start_time": "2022-09-14T14:27:34.766Z"
   },
   {
    "duration": 7,
    "start_time": "2022-09-14T14:27:34.772Z"
   },
   {
    "duration": 8,
    "start_time": "2022-09-14T14:27:34.781Z"
   },
   {
    "duration": 16,
    "start_time": "2022-09-14T14:27:34.791Z"
   },
   {
    "duration": 11,
    "start_time": "2022-09-14T14:27:34.809Z"
   },
   {
    "duration": 8,
    "start_time": "2022-09-14T14:27:34.822Z"
   },
   {
    "duration": 9,
    "start_time": "2022-09-14T14:27:34.832Z"
   },
   {
    "duration": 7,
    "start_time": "2022-09-14T14:27:34.842Z"
   },
   {
    "duration": 6640,
    "start_time": "2022-09-14T14:27:34.851Z"
   },
   {
    "duration": 5,
    "start_time": "2022-09-14T14:27:41.494Z"
   },
   {
    "duration": 19,
    "start_time": "2022-09-14T14:27:41.501Z"
   },
   {
    "duration": 10,
    "start_time": "2022-09-14T14:27:41.521Z"
   },
   {
    "duration": 182,
    "start_time": "2022-09-14T14:27:41.533Z"
   },
   {
    "duration": 3,
    "start_time": "2022-09-14T14:27:41.717Z"
   },
   {
    "duration": 13,
    "start_time": "2022-09-14T14:27:41.722Z"
   },
   {
    "duration": 9,
    "start_time": "2022-09-14T14:27:41.737Z"
   },
   {
    "duration": 9,
    "start_time": "2022-09-14T14:27:41.748Z"
   },
   {
    "duration": 2508,
    "start_time": "2022-09-14T14:27:41.758Z"
   },
   {
    "duration": 429,
    "start_time": "2022-09-14T14:27:44.268Z"
   },
   {
    "duration": 405,
    "start_time": "2022-09-14T14:27:44.699Z"
   },
   {
    "duration": 154208,
    "start_time": "2022-09-14T14:27:45.105Z"
   },
   {
    "duration": 8,
    "start_time": "2022-09-14T14:30:19.315Z"
   },
   {
    "duration": 4,
    "start_time": "2022-09-14T14:30:19.325Z"
   },
   {
    "duration": 10,
    "start_time": "2022-09-14T14:30:19.331Z"
   },
   {
    "duration": 6,
    "start_time": "2022-09-14T14:30:19.342Z"
   },
   {
    "duration": 150,
    "start_time": "2022-09-14T14:30:19.350Z"
   },
   {
    "duration": 2418,
    "start_time": "2022-09-14T14:30:19.502Z"
   },
   {
    "duration": 2011,
    "start_time": "2022-09-14T14:30:21.922Z"
   },
   {
    "duration": 3,
    "start_time": "2022-09-14T14:30:23.934Z"
   },
   {
    "duration": 8,
    "start_time": "2022-09-15T09:14:07.186Z"
   },
   {
    "duration": 1405,
    "start_time": "2022-09-15T09:14:07.196Z"
   },
   {
    "duration": 6,
    "start_time": "2022-09-15T09:14:08.602Z"
   },
   {
    "duration": 680,
    "start_time": "2022-09-15T09:14:08.610Z"
   },
   {
    "duration": 261,
    "start_time": "2022-09-15T09:14:09.291Z"
   },
   {
    "duration": 5,
    "start_time": "2022-09-15T09:14:09.553Z"
   },
   {
    "duration": 10,
    "start_time": "2022-09-15T09:14:09.559Z"
   },
   {
    "duration": 7,
    "start_time": "2022-09-15T09:14:09.571Z"
   },
   {
    "duration": 5,
    "start_time": "2022-09-15T09:14:09.580Z"
   },
   {
    "duration": 5,
    "start_time": "2022-09-15T09:14:09.588Z"
   },
   {
    "duration": 18,
    "start_time": "2022-09-15T09:14:09.595Z"
   },
   {
    "duration": 214,
    "start_time": "2022-09-15T09:14:09.614Z"
   },
   {
    "duration": 25,
    "start_time": "2022-09-15T09:14:09.829Z"
   },
   {
    "duration": 18,
    "start_time": "2022-09-15T09:14:09.856Z"
   },
   {
    "duration": 5,
    "start_time": "2022-09-15T09:14:09.876Z"
   },
   {
    "duration": 18,
    "start_time": "2022-09-15T09:14:09.882Z"
   },
   {
    "duration": 67,
    "start_time": "2022-09-15T09:14:09.902Z"
   },
   {
    "duration": 78,
    "start_time": "2022-09-15T09:14:09.971Z"
   },
   {
    "duration": 9,
    "start_time": "2022-09-15T09:14:10.051Z"
   },
   {
    "duration": 14,
    "start_time": "2022-09-15T09:14:10.061Z"
   },
   {
    "duration": 24,
    "start_time": "2022-09-15T09:14:10.077Z"
   },
   {
    "duration": 10,
    "start_time": "2022-09-15T09:14:10.103Z"
   },
   {
    "duration": 10,
    "start_time": "2022-09-15T09:14:10.115Z"
   },
   {
    "duration": 4,
    "start_time": "2022-09-15T09:14:10.126Z"
   },
   {
    "duration": 416,
    "start_time": "2022-09-15T09:14:10.132Z"
   },
   {
    "duration": 7,
    "start_time": "2022-09-15T09:14:10.550Z"
   },
   {
    "duration": 6,
    "start_time": "2022-09-15T09:14:10.559Z"
   },
   {
    "duration": 38,
    "start_time": "2022-09-15T09:14:10.569Z"
   },
   {
    "duration": 3,
    "start_time": "2022-09-15T09:14:10.608Z"
   },
   {
    "duration": 18,
    "start_time": "2022-09-15T09:14:10.613Z"
   },
   {
    "duration": 18,
    "start_time": "2022-09-15T09:14:10.632Z"
   },
   {
    "duration": 14,
    "start_time": "2022-09-15T09:14:10.652Z"
   },
   {
    "duration": 12,
    "start_time": "2022-09-15T09:14:10.668Z"
   },
   {
    "duration": 18,
    "start_time": "2022-09-15T09:14:10.682Z"
   },
   {
    "duration": 1414,
    "start_time": "2022-09-15T09:14:10.702Z"
   },
   {
    "duration": 5754,
    "start_time": "2022-09-15T09:14:12.118Z"
   },
   {
    "duration": 9072,
    "start_time": "2022-09-15T09:14:17.874Z"
   },
   {
    "duration": 6,
    "start_time": "2022-09-15T09:14:26.947Z"
   },
   {
    "duration": 24,
    "start_time": "2022-09-15T09:14:26.954Z"
   },
   {
    "duration": 89,
    "start_time": "2022-09-15T09:14:26.980Z"
   },
   {
    "duration": 19,
    "start_time": "2022-09-15T09:14:27.071Z"
   },
   {
    "duration": 11,
    "start_time": "2022-09-15T09:14:27.091Z"
   },
   {
    "duration": 7,
    "start_time": "2022-09-15T09:14:27.104Z"
   },
   {
    "duration": 9,
    "start_time": "2022-09-15T09:14:27.112Z"
   },
   {
    "duration": 14,
    "start_time": "2022-09-15T09:14:27.122Z"
   },
   {
    "duration": 132686,
    "start_time": "2022-09-15T09:14:27.137Z"
   },
   {
    "duration": 6,
    "start_time": "2022-09-15T09:16:39.825Z"
   },
   {
    "duration": 13,
    "start_time": "2022-09-15T09:16:39.833Z"
   },
   {
    "duration": 36,
    "start_time": "2022-09-15T09:16:39.848Z"
   },
   {
    "duration": 3,
    "start_time": "2022-09-15T09:16:39.886Z"
   },
   {
    "duration": 20,
    "start_time": "2022-09-15T09:16:39.890Z"
   },
   {
    "duration": 194,
    "start_time": "2022-09-15T09:16:39.911Z"
   },
   {
    "duration": 5,
    "start_time": "2022-09-15T09:16:40.107Z"
   },
   {
    "duration": 6,
    "start_time": "2022-09-15T09:16:40.113Z"
   },
   {
    "duration": 7,
    "start_time": "2022-09-15T09:16:40.120Z"
   },
   {
    "duration": 6,
    "start_time": "2022-09-15T09:16:40.128Z"
   },
   {
    "duration": 6,
    "start_time": "2022-09-15T09:16:40.135Z"
   },
   {
    "duration": 8,
    "start_time": "2022-09-15T09:16:40.142Z"
   },
   {
    "duration": 7,
    "start_time": "2022-09-15T09:16:40.152Z"
   },
   {
    "duration": 5,
    "start_time": "2022-09-15T09:16:40.160Z"
   },
   {
    "duration": 5863,
    "start_time": "2022-09-15T09:16:40.167Z"
   },
   {
    "duration": 4,
    "start_time": "2022-09-15T09:16:46.032Z"
   },
   {
    "duration": 13,
    "start_time": "2022-09-15T09:16:46.038Z"
   },
   {
    "duration": 4,
    "start_time": "2022-09-15T09:16:46.054Z"
   },
   {
    "duration": 156,
    "start_time": "2022-09-15T09:16:46.060Z"
   },
   {
    "duration": 2,
    "start_time": "2022-09-15T09:16:46.218Z"
   },
   {
    "duration": 10,
    "start_time": "2022-09-15T09:16:46.222Z"
   },
   {
    "duration": 9,
    "start_time": "2022-09-15T09:16:46.233Z"
   },
   {
    "duration": 8,
    "start_time": "2022-09-15T09:16:46.243Z"
   },
   {
    "duration": 2241,
    "start_time": "2022-09-15T09:16:46.253Z"
   },
   {
    "duration": 335,
    "start_time": "2022-09-15T09:16:48.496Z"
   },
   {
    "duration": 346,
    "start_time": "2022-09-15T09:16:48.833Z"
   },
   {
    "duration": 134875,
    "start_time": "2022-09-15T09:16:49.181Z"
   },
   {
    "duration": 7,
    "start_time": "2022-09-15T09:19:04.058Z"
   },
   {
    "duration": 9,
    "start_time": "2022-09-15T09:19:04.066Z"
   },
   {
    "duration": 11,
    "start_time": "2022-09-15T09:19:04.077Z"
   },
   {
    "duration": 20,
    "start_time": "2022-09-15T09:19:04.089Z"
   },
   {
    "duration": 143,
    "start_time": "2022-09-15T09:19:04.110Z"
   },
   {
    "duration": 2147,
    "start_time": "2022-09-15T09:19:04.255Z"
   },
   {
    "duration": 1773,
    "start_time": "2022-09-15T09:19:06.403Z"
   }
  ],
  "kernelspec": {
   "display_name": "Python 3 (ipykernel)",
   "language": "python",
   "name": "python3"
  },
  "language_info": {
   "codemirror_mode": {
    "name": "ipython",
    "version": 3
   },
   "file_extension": ".py",
   "mimetype": "text/x-python",
   "name": "python",
   "nbconvert_exporter": "python",
   "pygments_lexer": "ipython3",
   "version": "3.9.18"
  },
  "toc": {
   "base_numbering": 1,
   "nav_menu": {},
   "number_sections": true,
   "sideBar": true,
   "skip_h1_title": true,
   "title_cell": "Table of Contents",
   "title_sidebar": "Contents",
   "toc_cell": false,
   "toc_position": {},
   "toc_section_display": true,
   "toc_window_display": true
  }
 },
 "nbformat": 4,
 "nbformat_minor": 4
}
