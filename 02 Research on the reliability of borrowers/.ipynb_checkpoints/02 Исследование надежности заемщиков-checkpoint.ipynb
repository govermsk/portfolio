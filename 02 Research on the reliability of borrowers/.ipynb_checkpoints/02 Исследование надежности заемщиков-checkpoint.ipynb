{
 "cells": [
  {
   "cell_type": "markdown",
   "id": "cb66df66",
   "metadata": {},
   "source": [
    "# Исследование надежности заемщиков."
   ]
  },
  {
   "cell_type": "markdown",
   "id": "886e2b39-7b9a-4d56-8f8f-10a33f993d1d",
   "metadata": {},
   "source": [
    "### Цели проекта\n",
    "Определить наличие зависимости факта своевременного погашения кредита от семейного положения клиента, количества детей, дохода и цели получения кредита.\n",
    "\n",
    "### Входные данные\n",
    "статистика о платежеспособности клиентов, сохраненная в CSV-файле data.csv\n",
    "\n",
    "Описания столбцов:\n",
    "- <code>children</code> — количество детей в семье\n",
    "- <code>days_employed</code> — общий трудовой стаж в днях\n",
    "- <code>dob_years</code> — возраст клиента в годах\n",
    "- <code>education</code> — уровень образования клиента\n",
    "- <code>education_id</code> — идентификатор уровня образования\n",
    "- <code>family_status</code> — семейное положение\n",
    "- <code>family_status_id</code> — идентификатор семейного положения\n",
    "- <code>gender</code> — пол клиента\n",
    "- <code>income_type</code> — тип занятости\n",
    "- <code>debt</code> — имел ли задолженность по возврату кредитов\n",
    "- <code>total_income</code> — ежемесячный доход\n",
    "- <code>purpose</code> — цель получения кредита"
   ]
  },
  {
   "cell_type": "markdown",
   "id": "d53df13b",
   "metadata": {},
   "source": [
    "### Шаг 1. Обзор данных"
   ]
  },
  {
   "cell_type": "markdown",
   "id": "2350aedf-f3c6-4264-b6c7-91c02aa5bab3",
   "metadata": {},
   "source": [
    "Сделаем загрузку данных из предоставленного CSV-файла. Пропишем путь к файлу в зависимости от машины. на которой выполняется анализ."
   ]
  },
  {
   "cell_type": "code",
   "execution_count": 4,
   "id": "09d4068d",
   "metadata": {},
   "outputs": [
    {
     "data": {
      "text/html": [
       "<div>\n",
       "<style scoped>\n",
       "    .dataframe tbody tr th:only-of-type {\n",
       "        vertical-align: middle;\n",
       "    }\n",
       "\n",
       "    .dataframe tbody tr th {\n",
       "        vertical-align: top;\n",
       "    }\n",
       "\n",
       "    .dataframe thead th {\n",
       "        text-align: right;\n",
       "    }\n",
       "</style>\n",
       "<table border=\"1\" class=\"dataframe\">\n",
       "  <thead>\n",
       "    <tr style=\"text-align: right;\">\n",
       "      <th></th>\n",
       "      <th>children</th>\n",
       "      <th>days_employed</th>\n",
       "      <th>dob_years</th>\n",
       "      <th>education</th>\n",
       "      <th>education_id</th>\n",
       "      <th>family_status</th>\n",
       "      <th>family_status_id</th>\n",
       "      <th>gender</th>\n",
       "      <th>income_type</th>\n",
       "      <th>debt</th>\n",
       "      <th>total_income</th>\n",
       "      <th>purpose</th>\n",
       "    </tr>\n",
       "  </thead>\n",
       "  <tbody>\n",
       "    <tr>\n",
       "      <th>10198</th>\n",
       "      <td>1</td>\n",
       "      <td>-3529.124720</td>\n",
       "      <td>44</td>\n",
       "      <td>среднее</td>\n",
       "      <td>1</td>\n",
       "      <td>женат / замужем</td>\n",
       "      <td>0</td>\n",
       "      <td>M</td>\n",
       "      <td>сотрудник</td>\n",
       "      <td>0</td>\n",
       "      <td>238021.474232</td>\n",
       "      <td>сделка с подержанным автомобилем</td>\n",
       "    </tr>\n",
       "    <tr>\n",
       "      <th>9842</th>\n",
       "      <td>0</td>\n",
       "      <td>-3311.544263</td>\n",
       "      <td>52</td>\n",
       "      <td>среднее</td>\n",
       "      <td>1</td>\n",
       "      <td>Не женат / не замужем</td>\n",
       "      <td>4</td>\n",
       "      <td>F</td>\n",
       "      <td>компаньон</td>\n",
       "      <td>0</td>\n",
       "      <td>220726.293490</td>\n",
       "      <td>недвижимость</td>\n",
       "    </tr>\n",
       "    <tr>\n",
       "      <th>14478</th>\n",
       "      <td>0</td>\n",
       "      <td>374787.012303</td>\n",
       "      <td>59</td>\n",
       "      <td>СРЕДНЕЕ</td>\n",
       "      <td>1</td>\n",
       "      <td>женат / замужем</td>\n",
       "      <td>0</td>\n",
       "      <td>F</td>\n",
       "      <td>пенсионер</td>\n",
       "      <td>0</td>\n",
       "      <td>168443.404013</td>\n",
       "      <td>строительство собственной недвижимости</td>\n",
       "    </tr>\n",
       "    <tr>\n",
       "      <th>4925</th>\n",
       "      <td>0</td>\n",
       "      <td>-116.428459</td>\n",
       "      <td>24</td>\n",
       "      <td>высшее</td>\n",
       "      <td>0</td>\n",
       "      <td>женат / замужем</td>\n",
       "      <td>0</td>\n",
       "      <td>F</td>\n",
       "      <td>компаньон</td>\n",
       "      <td>0</td>\n",
       "      <td>169037.592673</td>\n",
       "      <td>покупка жилья для семьи</td>\n",
       "    </tr>\n",
       "    <tr>\n",
       "      <th>5631</th>\n",
       "      <td>1</td>\n",
       "      <td>366945.348429</td>\n",
       "      <td>55</td>\n",
       "      <td>среднее</td>\n",
       "      <td>1</td>\n",
       "      <td>женат / замужем</td>\n",
       "      <td>0</td>\n",
       "      <td>M</td>\n",
       "      <td>пенсионер</td>\n",
       "      <td>0</td>\n",
       "      <td>217905.172639</td>\n",
       "      <td>высшее образование</td>\n",
       "    </tr>\n",
       "    <tr>\n",
       "      <th>4891</th>\n",
       "      <td>0</td>\n",
       "      <td>364541.558307</td>\n",
       "      <td>52</td>\n",
       "      <td>среднее</td>\n",
       "      <td>1</td>\n",
       "      <td>женат / замужем</td>\n",
       "      <td>0</td>\n",
       "      <td>F</td>\n",
       "      <td>пенсионер</td>\n",
       "      <td>0</td>\n",
       "      <td>228818.276605</td>\n",
       "      <td>сделка с подержанным автомобилем</td>\n",
       "    </tr>\n",
       "    <tr>\n",
       "      <th>9619</th>\n",
       "      <td>1</td>\n",
       "      <td>-1498.192818</td>\n",
       "      <td>29</td>\n",
       "      <td>среднее</td>\n",
       "      <td>1</td>\n",
       "      <td>Не женат / не замужем</td>\n",
       "      <td>4</td>\n",
       "      <td>F</td>\n",
       "      <td>компаньон</td>\n",
       "      <td>1</td>\n",
       "      <td>182228.757119</td>\n",
       "      <td>покупка жилой недвижимости</td>\n",
       "    </tr>\n",
       "  </tbody>\n",
       "</table>\n",
       "</div>"
      ],
      "text/plain": [
       "       children  days_employed  dob_years education  education_id  \\\n",
       "10198         1   -3529.124720         44   среднее             1   \n",
       "9842          0   -3311.544263         52   среднее             1   \n",
       "14478         0  374787.012303         59   СРЕДНЕЕ             1   \n",
       "4925          0    -116.428459         24    высшее             0   \n",
       "5631          1  366945.348429         55   среднее             1   \n",
       "4891          0  364541.558307         52   среднее             1   \n",
       "9619          1   -1498.192818         29   среднее             1   \n",
       "\n",
       "               family_status  family_status_id gender income_type  debt  \\\n",
       "10198        женат / замужем                 0      M   сотрудник     0   \n",
       "9842   Не женат / не замужем                 4      F   компаньон     0   \n",
       "14478        женат / замужем                 0      F   пенсионер     0   \n",
       "4925         женат / замужем                 0      F   компаньон     0   \n",
       "5631         женат / замужем                 0      M   пенсионер     0   \n",
       "4891         женат / замужем                 0      F   пенсионер     0   \n",
       "9619   Не женат / не замужем                 4      F   компаньон     1   \n",
       "\n",
       "        total_income                                 purpose  \n",
       "10198  238021.474232        сделка с подержанным автомобилем  \n",
       "9842   220726.293490                            недвижимость  \n",
       "14478  168443.404013  строительство собственной недвижимости  \n",
       "4925   169037.592673                 покупка жилья для семьи  \n",
       "5631   217905.172639                      высшее образование  \n",
       "4891   228818.276605        сделка с подержанным автомобилем  \n",
       "9619   182228.757119              покупка жилой недвижимости  "
      ]
     },
     "execution_count": 4,
     "metadata": {},
     "output_type": "execute_result"
    }
   ],
   "source": [
    "import pandas as pd\n",
    "import seaborn\n",
    "import math\n",
    "import re\n",
    "\n",
    "import platform\n",
    "host = platform.node()\n",
    "\n",
    "# На машинах исполнителя проекта файл с данными доступен через символический путь, \n",
    "# ссылающийса на папку на яндекс.диске, где расположен загружаемый файл. \n",
    "# В случае если хостом где выполняется анализ является какая-либо другая машина, \n",
    "# используем путь по умолчанию.\n",
    "if host in ['22varivoda','Gover-pc','MSI']:\n",
    "    filename = 'C:\\_YDsymlink\\Python\\datascience\\Projects\\Предобработка данных\\data.csv'\n",
    "else:\n",
    "    filename = '/datasets/data.csv'\n",
    "\n",
    "data_raw = pd.read_csv(filename)\n",
    "\n",
    "data_raw.sample(7)"
   ]
  },
  {
   "cell_type": "markdown",
   "id": "a33f88a6-d414-403c-b5aa-2b0c84cb90e0",
   "metadata": {},
   "source": [
    "Проверка общей информации по таблице:"
   ]
  },
  {
   "cell_type": "code",
   "execution_count": 5,
   "id": "2af824eb-5aea-42db-ac40-31f06bededb3",
   "metadata": {},
   "outputs": [
    {
     "name": "stdout",
     "output_type": "stream",
     "text": [
      "<class 'pandas.core.frame.DataFrame'>\n",
      "RangeIndex: 21525 entries, 0 to 21524\n",
      "Data columns (total 12 columns):\n",
      " #   Column            Non-Null Count  Dtype  \n",
      "---  ------            --------------  -----  \n",
      " 0   children          21525 non-null  int64  \n",
      " 1   days_employed     19351 non-null  float64\n",
      " 2   dob_years         21525 non-null  int64  \n",
      " 3   education         21525 non-null  object \n",
      " 4   education_id      21525 non-null  int64  \n",
      " 5   family_status     21525 non-null  object \n",
      " 6   family_status_id  21525 non-null  int64  \n",
      " 7   gender            21525 non-null  object \n",
      " 8   income_type       21525 non-null  object \n",
      " 9   debt              21525 non-null  int64  \n",
      " 10  total_income      19351 non-null  float64\n",
      " 11  purpose           21525 non-null  object \n",
      "dtypes: float64(2), int64(5), object(5)\n",
      "memory usage: 2.0+ MB\n"
     ]
    }
   ],
   "source": [
    "data_raw.info()"
   ]
  },
  {
   "cell_type": "markdown",
   "id": "b56b4fb8-ea6c-47f4-ba69-b5309f4615aa",
   "metadata": {},
   "source": [
    "Результат работы метода info() показывает что:\n",
    "- имеются пропуски в столбцах <strong>days_imployed</strong> и <strong>total_imcome</strong>, причем количество пропусков одинаковое\n"
   ]
  },
  {
   "cell_type": "markdown",
   "id": "a5f2ad58",
   "metadata": {},
   "source": [
    "### Шаг 2.1 Заполнение пропусков"
   ]
  },
  {
   "cell_type": "markdown",
   "id": "56893a4f-591e-451d-bc98-a45101619944",
   "metadata": {},
   "source": [
    "Посмотрим, как выглядят данные, в которых days_employed содержат пропуски"
   ]
  },
  {
   "cell_type": "code",
   "execution_count": 6,
   "id": "7f17d0a1",
   "metadata": {},
   "outputs": [
    {
     "data": {
      "text/html": [
       "<div>\n",
       "<style scoped>\n",
       "    .dataframe tbody tr th:only-of-type {\n",
       "        vertical-align: middle;\n",
       "    }\n",
       "\n",
       "    .dataframe tbody tr th {\n",
       "        vertical-align: top;\n",
       "    }\n",
       "\n",
       "    .dataframe thead th {\n",
       "        text-align: right;\n",
       "    }\n",
       "</style>\n",
       "<table border=\"1\" class=\"dataframe\">\n",
       "  <thead>\n",
       "    <tr style=\"text-align: right;\">\n",
       "      <th></th>\n",
       "      <th>children</th>\n",
       "      <th>days_employed</th>\n",
       "      <th>dob_years</th>\n",
       "      <th>education</th>\n",
       "      <th>education_id</th>\n",
       "      <th>family_status</th>\n",
       "      <th>family_status_id</th>\n",
       "      <th>gender</th>\n",
       "      <th>income_type</th>\n",
       "      <th>debt</th>\n",
       "      <th>total_income</th>\n",
       "      <th>purpose</th>\n",
       "    </tr>\n",
       "  </thead>\n",
       "  <tbody>\n",
       "    <tr>\n",
       "      <th>12</th>\n",
       "      <td>0</td>\n",
       "      <td>NaN</td>\n",
       "      <td>65</td>\n",
       "      <td>среднее</td>\n",
       "      <td>1</td>\n",
       "      <td>гражданский брак</td>\n",
       "      <td>1</td>\n",
       "      <td>M</td>\n",
       "      <td>пенсионер</td>\n",
       "      <td>0</td>\n",
       "      <td>NaN</td>\n",
       "      <td>сыграть свадьбу</td>\n",
       "    </tr>\n",
       "    <tr>\n",
       "      <th>26</th>\n",
       "      <td>0</td>\n",
       "      <td>NaN</td>\n",
       "      <td>41</td>\n",
       "      <td>среднее</td>\n",
       "      <td>1</td>\n",
       "      <td>женат / замужем</td>\n",
       "      <td>0</td>\n",
       "      <td>M</td>\n",
       "      <td>госслужащий</td>\n",
       "      <td>0</td>\n",
       "      <td>NaN</td>\n",
       "      <td>образование</td>\n",
       "    </tr>\n",
       "    <tr>\n",
       "      <th>29</th>\n",
       "      <td>0</td>\n",
       "      <td>NaN</td>\n",
       "      <td>63</td>\n",
       "      <td>среднее</td>\n",
       "      <td>1</td>\n",
       "      <td>Не женат / не замужем</td>\n",
       "      <td>4</td>\n",
       "      <td>F</td>\n",
       "      <td>пенсионер</td>\n",
       "      <td>0</td>\n",
       "      <td>NaN</td>\n",
       "      <td>строительство жилой недвижимости</td>\n",
       "    </tr>\n",
       "    <tr>\n",
       "      <th>41</th>\n",
       "      <td>0</td>\n",
       "      <td>NaN</td>\n",
       "      <td>50</td>\n",
       "      <td>среднее</td>\n",
       "      <td>1</td>\n",
       "      <td>женат / замужем</td>\n",
       "      <td>0</td>\n",
       "      <td>F</td>\n",
       "      <td>госслужащий</td>\n",
       "      <td>0</td>\n",
       "      <td>NaN</td>\n",
       "      <td>сделка с подержанным автомобилем</td>\n",
       "    </tr>\n",
       "    <tr>\n",
       "      <th>55</th>\n",
       "      <td>0</td>\n",
       "      <td>NaN</td>\n",
       "      <td>54</td>\n",
       "      <td>среднее</td>\n",
       "      <td>1</td>\n",
       "      <td>гражданский брак</td>\n",
       "      <td>1</td>\n",
       "      <td>F</td>\n",
       "      <td>пенсионер</td>\n",
       "      <td>1</td>\n",
       "      <td>NaN</td>\n",
       "      <td>сыграть свадьбу</td>\n",
       "    </tr>\n",
       "  </tbody>\n",
       "</table>\n",
       "</div>"
      ],
      "text/plain": [
       "    children  days_employed  dob_years education  education_id  \\\n",
       "12         0            NaN         65   среднее             1   \n",
       "26         0            NaN         41   среднее             1   \n",
       "29         0            NaN         63   среднее             1   \n",
       "41         0            NaN         50   среднее             1   \n",
       "55         0            NaN         54   среднее             1   \n",
       "\n",
       "            family_status  family_status_id gender  income_type  debt  \\\n",
       "12       гражданский брак                 1      M    пенсионер     0   \n",
       "26        женат / замужем                 0      M  госслужащий     0   \n",
       "29  Не женат / не замужем                 4      F    пенсионер     0   \n",
       "41        женат / замужем                 0      F  госслужащий     0   \n",
       "55       гражданский брак                 1      F    пенсионер     1   \n",
       "\n",
       "    total_income                           purpose  \n",
       "12           NaN                   сыграть свадьбу  \n",
       "26           NaN                       образование  \n",
       "29           NaN  строительство жилой недвижимости  \n",
       "41           NaN  сделка с подержанным автомобилем  \n",
       "55           NaN                   сыграть свадьбу  "
      ]
     },
     "execution_count": 6,
     "metadata": {},
     "output_type": "execute_result"
    }
   ],
   "source": [
    "data_raw.loc[ data_raw['days_employed'].isna() ].head(5)\n"
   ]
  },
  {
   "cell_type": "code",
   "execution_count": 7,
   "id": "46e64b02-7d28-4450-a0a1-73053fa95bb5",
   "metadata": {},
   "outputs": [
    {
     "data": {
      "text/plain": [
       "2174"
      ]
     },
     "execution_count": 7,
     "metadata": {},
     "output_type": "execute_result"
    }
   ],
   "source": [
    "data_raw.loc[ data_raw['days_employed'].isna() ]['purpose'].count()\n"
   ]
  },
  {
   "cell_type": "markdown",
   "id": "855724be-5058-497a-bf7d-c0cbc9c87e45",
   "metadata": {},
   "source": [
    "Пропуск в days_employed обнаруживается в 2174 строках\n",
    "\n",
    "Видно что в строках где days_employed содержит пропуск (NaN), total_income тоже содержит пустое значение (NaN).\n"
   ]
  },
  {
   "cell_type": "code",
   "execution_count": 8,
   "id": "fbb66af7-ea57-471e-b7ed-7ab8694b225a",
   "metadata": {},
   "outputs": [
    {
     "data": {
      "text/html": [
       "<div>\n",
       "<style scoped>\n",
       "    .dataframe tbody tr th:only-of-type {\n",
       "        vertical-align: middle;\n",
       "    }\n",
       "\n",
       "    .dataframe tbody tr th {\n",
       "        vertical-align: top;\n",
       "    }\n",
       "\n",
       "    .dataframe thead th {\n",
       "        text-align: right;\n",
       "    }\n",
       "</style>\n",
       "<table border=\"1\" class=\"dataframe\">\n",
       "  <thead>\n",
       "    <tr style=\"text-align: right;\">\n",
       "      <th></th>\n",
       "      <th>children</th>\n",
       "      <th>days_employed</th>\n",
       "      <th>dob_years</th>\n",
       "      <th>education</th>\n",
       "      <th>education_id</th>\n",
       "      <th>family_status</th>\n",
       "      <th>family_status_id</th>\n",
       "      <th>gender</th>\n",
       "      <th>income_type</th>\n",
       "      <th>debt</th>\n",
       "      <th>total_income</th>\n",
       "      <th>purpose</th>\n",
       "    </tr>\n",
       "  </thead>\n",
       "  <tbody>\n",
       "    <tr>\n",
       "      <th>12</th>\n",
       "      <td>0</td>\n",
       "      <td>NaN</td>\n",
       "      <td>65</td>\n",
       "      <td>среднее</td>\n",
       "      <td>1</td>\n",
       "      <td>гражданский брак</td>\n",
       "      <td>1</td>\n",
       "      <td>M</td>\n",
       "      <td>пенсионер</td>\n",
       "      <td>0</td>\n",
       "      <td>NaN</td>\n",
       "      <td>сыграть свадьбу</td>\n",
       "    </tr>\n",
       "    <tr>\n",
       "      <th>26</th>\n",
       "      <td>0</td>\n",
       "      <td>NaN</td>\n",
       "      <td>41</td>\n",
       "      <td>среднее</td>\n",
       "      <td>1</td>\n",
       "      <td>женат / замужем</td>\n",
       "      <td>0</td>\n",
       "      <td>M</td>\n",
       "      <td>госслужащий</td>\n",
       "      <td>0</td>\n",
       "      <td>NaN</td>\n",
       "      <td>образование</td>\n",
       "    </tr>\n",
       "    <tr>\n",
       "      <th>29</th>\n",
       "      <td>0</td>\n",
       "      <td>NaN</td>\n",
       "      <td>63</td>\n",
       "      <td>среднее</td>\n",
       "      <td>1</td>\n",
       "      <td>Не женат / не замужем</td>\n",
       "      <td>4</td>\n",
       "      <td>F</td>\n",
       "      <td>пенсионер</td>\n",
       "      <td>0</td>\n",
       "      <td>NaN</td>\n",
       "      <td>строительство жилой недвижимости</td>\n",
       "    </tr>\n",
       "    <tr>\n",
       "      <th>41</th>\n",
       "      <td>0</td>\n",
       "      <td>NaN</td>\n",
       "      <td>50</td>\n",
       "      <td>среднее</td>\n",
       "      <td>1</td>\n",
       "      <td>женат / замужем</td>\n",
       "      <td>0</td>\n",
       "      <td>F</td>\n",
       "      <td>госслужащий</td>\n",
       "      <td>0</td>\n",
       "      <td>NaN</td>\n",
       "      <td>сделка с подержанным автомобилем</td>\n",
       "    </tr>\n",
       "    <tr>\n",
       "      <th>55</th>\n",
       "      <td>0</td>\n",
       "      <td>NaN</td>\n",
       "      <td>54</td>\n",
       "      <td>среднее</td>\n",
       "      <td>1</td>\n",
       "      <td>гражданский брак</td>\n",
       "      <td>1</td>\n",
       "      <td>F</td>\n",
       "      <td>пенсионер</td>\n",
       "      <td>1</td>\n",
       "      <td>NaN</td>\n",
       "      <td>сыграть свадьбу</td>\n",
       "    </tr>\n",
       "    <tr>\n",
       "      <th>...</th>\n",
       "      <td>...</td>\n",
       "      <td>...</td>\n",
       "      <td>...</td>\n",
       "      <td>...</td>\n",
       "      <td>...</td>\n",
       "      <td>...</td>\n",
       "      <td>...</td>\n",
       "      <td>...</td>\n",
       "      <td>...</td>\n",
       "      <td>...</td>\n",
       "      <td>...</td>\n",
       "      <td>...</td>\n",
       "    </tr>\n",
       "    <tr>\n",
       "      <th>21489</th>\n",
       "      <td>2</td>\n",
       "      <td>NaN</td>\n",
       "      <td>47</td>\n",
       "      <td>Среднее</td>\n",
       "      <td>1</td>\n",
       "      <td>женат / замужем</td>\n",
       "      <td>0</td>\n",
       "      <td>M</td>\n",
       "      <td>компаньон</td>\n",
       "      <td>0</td>\n",
       "      <td>NaN</td>\n",
       "      <td>сделка с автомобилем</td>\n",
       "    </tr>\n",
       "    <tr>\n",
       "      <th>21495</th>\n",
       "      <td>1</td>\n",
       "      <td>NaN</td>\n",
       "      <td>50</td>\n",
       "      <td>среднее</td>\n",
       "      <td>1</td>\n",
       "      <td>гражданский брак</td>\n",
       "      <td>1</td>\n",
       "      <td>F</td>\n",
       "      <td>сотрудник</td>\n",
       "      <td>0</td>\n",
       "      <td>NaN</td>\n",
       "      <td>свадьба</td>\n",
       "    </tr>\n",
       "    <tr>\n",
       "      <th>21497</th>\n",
       "      <td>0</td>\n",
       "      <td>NaN</td>\n",
       "      <td>48</td>\n",
       "      <td>ВЫСШЕЕ</td>\n",
       "      <td>0</td>\n",
       "      <td>женат / замужем</td>\n",
       "      <td>0</td>\n",
       "      <td>F</td>\n",
       "      <td>компаньон</td>\n",
       "      <td>0</td>\n",
       "      <td>NaN</td>\n",
       "      <td>строительство недвижимости</td>\n",
       "    </tr>\n",
       "    <tr>\n",
       "      <th>21502</th>\n",
       "      <td>1</td>\n",
       "      <td>NaN</td>\n",
       "      <td>42</td>\n",
       "      <td>среднее</td>\n",
       "      <td>1</td>\n",
       "      <td>женат / замужем</td>\n",
       "      <td>0</td>\n",
       "      <td>F</td>\n",
       "      <td>сотрудник</td>\n",
       "      <td>0</td>\n",
       "      <td>NaN</td>\n",
       "      <td>строительство жилой недвижимости</td>\n",
       "    </tr>\n",
       "    <tr>\n",
       "      <th>21510</th>\n",
       "      <td>2</td>\n",
       "      <td>NaN</td>\n",
       "      <td>28</td>\n",
       "      <td>среднее</td>\n",
       "      <td>1</td>\n",
       "      <td>женат / замужем</td>\n",
       "      <td>0</td>\n",
       "      <td>F</td>\n",
       "      <td>сотрудник</td>\n",
       "      <td>0</td>\n",
       "      <td>NaN</td>\n",
       "      <td>приобретение автомобиля</td>\n",
       "    </tr>\n",
       "  </tbody>\n",
       "</table>\n",
       "<p>2174 rows × 12 columns</p>\n",
       "</div>"
      ],
      "text/plain": [
       "       children  days_employed  dob_years education  education_id  \\\n",
       "12            0            NaN         65   среднее             1   \n",
       "26            0            NaN         41   среднее             1   \n",
       "29            0            NaN         63   среднее             1   \n",
       "41            0            NaN         50   среднее             1   \n",
       "55            0            NaN         54   среднее             1   \n",
       "...         ...            ...        ...       ...           ...   \n",
       "21489         2            NaN         47   Среднее             1   \n",
       "21495         1            NaN         50   среднее             1   \n",
       "21497         0            NaN         48    ВЫСШЕЕ             0   \n",
       "21502         1            NaN         42   среднее             1   \n",
       "21510         2            NaN         28   среднее             1   \n",
       "\n",
       "               family_status  family_status_id gender  income_type  debt  \\\n",
       "12          гражданский брак                 1      M    пенсионер     0   \n",
       "26           женат / замужем                 0      M  госслужащий     0   \n",
       "29     Не женат / не замужем                 4      F    пенсионер     0   \n",
       "41           женат / замужем                 0      F  госслужащий     0   \n",
       "55          гражданский брак                 1      F    пенсионер     1   \n",
       "...                      ...               ...    ...          ...   ...   \n",
       "21489        женат / замужем                 0      M    компаньон     0   \n",
       "21495       гражданский брак                 1      F    сотрудник     0   \n",
       "21497        женат / замужем                 0      F    компаньон     0   \n",
       "21502        женат / замужем                 0      F    сотрудник     0   \n",
       "21510        женат / замужем                 0      F    сотрудник     0   \n",
       "\n",
       "       total_income                           purpose  \n",
       "12              NaN                   сыграть свадьбу  \n",
       "26              NaN                       образование  \n",
       "29              NaN  строительство жилой недвижимости  \n",
       "41              NaN  сделка с подержанным автомобилем  \n",
       "55              NaN                   сыграть свадьбу  \n",
       "...             ...                               ...  \n",
       "21489           NaN              сделка с автомобилем  \n",
       "21495           NaN                           свадьба  \n",
       "21497           NaN        строительство недвижимости  \n",
       "21502           NaN  строительство жилой недвижимости  \n",
       "21510           NaN           приобретение автомобиля  \n",
       "\n",
       "[2174 rows x 12 columns]"
      ]
     },
     "execution_count": 8,
     "metadata": {},
     "output_type": "execute_result"
    }
   ],
   "source": [
    "data_raw.loc[ (data_raw['days_employed'].isna()) & (data_raw['total_income'].isna()) ]"
   ]
  },
  {
   "cell_type": "code",
   "execution_count": 9,
   "id": "1113fa00-475d-4bc5-be08-5e83a67fd8da",
   "metadata": {},
   "outputs": [
    {
     "data": {
      "text/plain": [
       "2174"
      ]
     },
     "execution_count": 9,
     "metadata": {},
     "output_type": "execute_result"
    }
   ],
   "source": [
    "# Выделим строки с пропусками в отдельный образ для удобства подсчета\n",
    "missed_data_count = data_raw.loc[ (data_raw['days_employed'].isna()) & (data_raw['total_income'].isna()) ]['purpose'].count()\n",
    "missed_data_count"
   ]
  },
  {
   "cell_type": "code",
   "execution_count": 10,
   "id": "19201529-1d9a-4c7b-94d3-3fce1f2f33bb",
   "metadata": {},
   "outputs": [
    {
     "data": {
      "text/plain": [
       "10.099883855981417"
      ]
     },
     "execution_count": 10,
     "metadata": {},
     "output_type": "execute_result"
    }
   ],
   "source": [
    "missed_data_ratio = missed_data_count / data_raw.shape[0]\n",
    "missed_data_ratio * 100"
   ]
  },
  {
   "cell_type": "markdown",
   "id": "19de89bd-01a6-4e93-bccb-8438009b2e1f",
   "metadata": {},
   "source": [
    "Видно что пропуски в трудовом стаже и пропуски в данных о доходе имеются у одних и тех же клиентов. Возможно что эти клиенты не захотели указывать свой доход и трудовой стаж либо эти данные были утрачены при выгрузках/конвертациях по пути от анкеты клиента до передачи аналитикам.\n",
    "Доля клиентов с пропусками данных составляет примерно 10%, что является довольно ощутимой цифрой."
   ]
  },
  {
   "cell_type": "markdown",
   "id": "01d8d1c3-a85e-49db-bd54-11489cddb307",
   "metadata": {},
   "source": [
    "Отделим клиентов с указанным трудовым стажем для оценки разброса значений зарплат"
   ]
  },
  {
   "cell_type": "code",
   "execution_count": 11,
   "id": "8114b290-2328-4b1e-aebd-099c58b7cdc5",
   "metadata": {},
   "outputs": [],
   "source": [
    "data_employed = data_raw.loc[ data_raw['days_employed'].isna() != True ] "
   ]
  },
  {
   "cell_type": "code",
   "execution_count": 12,
   "id": "8026d351-caab-4d23-97f9-bedd6f25398b",
   "metadata": {},
   "outputs": [
    {
     "data": {
      "text/plain": [
       "<AxesSubplot:xlabel='dob_years', ylabel='days_employed'>"
      ]
     },
     "execution_count": 12,
     "metadata": {},
     "output_type": "execute_result"
    },
    {
     "data": {
      "image/png": "[encoded data removed]",
      "text/plain": [
       "<Figure size 432x288 with 1 Axes>"
      ]
     },
     "metadata": {
      "needs_background": "light"
     },
     "output_type": "display_data"
    }
   ],
   "source": [
    "seaborn.barplot(x=data_employed['dob_years'],y=data_employed['days_employed'])"
   ]
  },
  {
   "cell_type": "markdown",
   "id": "2deb4d63-328f-4ea1-b574-646a3d425537",
   "metadata": {},
   "source": [
    "Данные по стажу в зависимости от возраста имеют весьма странный вид (странными являются значения стаже возле нуля, и снижение стажа в правой части графика). Причину этого выясним позже. На данном же этапе отметим наличие разброса значений"
   ]
  },
  {
   "cell_type": "markdown",
   "id": "10b2639c-e14d-4a70-a413-6a28bb9a0ef9",
   "metadata": {},
   "source": [
    "Проверим аналогичным образом разброс значений доходов (построим график в зависимости от возраста)"
   ]
  },
  {
   "cell_type": "code",
   "execution_count": 13,
   "id": "158eec1c-582b-49d4-a815-f8c410b25982",
   "metadata": {},
   "outputs": [
    {
     "data": {
      "text/plain": [
       "<AxesSubplot:xlabel='dob_years', ylabel='total_income'>"
      ]
     },
     "execution_count": 13,
     "metadata": {},
     "output_type": "execute_result"
    },
    {
     "data": {
      "image/png": "[encoded data removed]",
      "text/plain": [
       "<Figure size 432x288 with 1 Axes>"
      ]
     },
     "metadata": {
      "needs_background": "light"
     },
     "output_type": "display_data"
    }
   ],
   "source": [
    "seaborn.scatterplot(x=data_employed['dob_years'],y=data_employed['total_income'])"
   ]
  },
  {
   "cell_type": "markdown",
   "id": "80216f3b-eaaa-4793-8c92-c2336cb8f95e",
   "metadata": {},
   "source": [
    "Виден существенный разброс значеий. Отдельные цифры сильно выходят за пределы общей массы."
   ]
  },
  {
   "cell_type": "markdown",
   "id": "9c1d7bc5-aeb4-4ade-bd5a-6bbccc4f6cc6",
   "metadata": {},
   "source": [
    "Разброс в обоих случаях обосновывает смысл заполнять пустующие ячейки медианными значениями."
   ]
  },
  {
   "cell_type": "markdown",
   "id": "8e275786-cf13-4f2d-848a-0f61a56c8ef6",
   "metadata": {},
   "source": [
    "Дополнительно отметим что на обоих графиках наблюдаются скопления значений при нулевом значении возраста клиента, с чем предстоит разобраться позднее."
   ]
  },
  {
   "cell_type": "markdown",
   "id": "223b7031-02d2-4f5f-bfb7-f087e8e5ccb7",
   "metadata": {},
   "source": [
    "Для начала заполним данные по стажу медианными значениями.\n",
    "Заполнение пустот и другие операции будем выполнять над копией таблицы (назовём её <code>data_filled</code>), чтобы в случае чего можно было свериться с оригинальной таблицей <code>data_raw</code>"
   ]
  },
  {
   "cell_type": "code",
   "execution_count": 14,
   "id": "db599b0b-01a7-41c8-ae65-1827b29c8075",
   "metadata": {},
   "outputs": [],
   "source": [
    "data_filled = data_raw.copy()"
   ]
  },
  {
   "cell_type": "code",
   "execution_count": 15,
   "id": "c3d3c05a-39fd-4f1d-9faa-47f6ee429f65",
   "metadata": {},
   "outputs": [
    {
     "name": "stdout",
     "output_type": "stream",
     "text": [
      "Медианное значение стажа: -1203.369528770489\n",
      "<class 'pandas.core.frame.DataFrame'>\n",
      "RangeIndex: 21525 entries, 0 to 21524\n",
      "Data columns (total 12 columns):\n",
      " #   Column            Non-Null Count  Dtype  \n",
      "---  ------            --------------  -----  \n",
      " 0   children          21525 non-null  int64  \n",
      " 1   days_employed     21525 non-null  float64\n",
      " 2   dob_years         21525 non-null  int64  \n",
      " 3   education         21525 non-null  object \n",
      " 4   education_id      21525 non-null  int64  \n",
      " 5   family_status     21525 non-null  object \n",
      " 6   family_status_id  21525 non-null  int64  \n",
      " 7   gender            21525 non-null  object \n",
      " 8   income_type       21525 non-null  object \n",
      " 9   debt              21525 non-null  int64  \n",
      " 10  total_income      19351 non-null  float64\n",
      " 11  purpose           21525 non-null  object \n",
      "dtypes: float64(2), int64(5), object(5)\n",
      "memory usage: 2.0+ MB\n",
      "Стаж min/median/max: -18388.949900568383 / -1203.369528770489 / 401755.40047533\n"
     ]
    }
   ],
   "source": [
    "print(f\"Медианное значение стажа: {data_filled['days_employed'].median()}\")\n",
    "\n",
    "data_filled.loc[ data_filled['days_employed'].isna(),'days_employed'] = data_filled['days_employed'].fillna(data_raw['days_employed'].median())\n",
    "\n",
    "data_filled.info()\n",
    "print(f\"Стаж min/median/max: {data_raw['days_employed'].min()} / {data_raw['days_employed'].median()} / {data_raw['days_employed'].max()}\")"
   ]
  },
  {
   "cell_type": "markdown",
   "id": "eb1ab87d-159c-4273-aa65-cba19f83a0a8",
   "metadata": {},
   "source": [
    "#### total_income - ежемесячный доход"
   ]
  },
  {
   "cell_type": "markdown",
   "id": "c07644f3-718c-4ef8-9076-19d8429c90c1",
   "metadata": {},
   "source": [
    "Можно было бы заполнить значения дохода медианным значением, однако же доход \n",
    "может сильно зависеть от возраста и образования, попробуем взять не просто медианное\n",
    "значение, а медианное значение в пределах подгрупп<BR>\n",
    "Группы по возрасту:\n",
    "- 18-25 лет\n",
    "- 26-35 лет\n",
    "- 36-45 лет\n",
    "- 46-55 лет\n",
    "- 55+ лет"
   ]
  },
  {
   "cell_type": "markdown",
   "id": "f767d731-5906-4b0d-85c8-62a4c9c72da8",
   "metadata": {},
   "source": [
    "Группы по образованию будем брать из столбца <code>education_id</code>"
   ]
  },
  {
   "cell_type": "code",
   "execution_count": 16,
   "id": "54ecc387-9d9f-4c02-ba8e-9c78138ee72a",
   "metadata": {},
   "outputs": [],
   "source": [
    "def age_group(age):\n",
    "    if 18 <= age <=25:\n",
    "        return 'age18-25'\n",
    "    if 26 <= age <=35:\n",
    "        return 'age26-35'\n",
    "    if 36 <= age <=45:\n",
    "        return 'age35-45'\n",
    "    if 46 <= age <=55:\n",
    "        return 'age46-55'\n",
    "    if age > 55:\n",
    "        return 'age55+'\n",
    "    return 'age_unaccepted'\n",
    "\n",
    "data_filled['age_group'] = data_filled['dob_years'].apply(age_group)"
   ]
  },
  {
   "cell_type": "markdown",
   "id": "fe93f3ef-166a-454e-9cc6-e622e93bd39e",
   "metadata": {},
   "source": [
    "Заполним значения по группам соответствующими медианами"
   ]
  },
  {
   "cell_type": "code",
   "execution_count": 17,
   "id": "2e1e9f7d-0ee1-4feb-b4d9-4d6a436593af",
   "metadata": {},
   "outputs": [],
   "source": [
    "# Получим сгруппированную табличку медианных значений дохода по группам возраста и образования\n",
    "income_median_values = data_filled.loc[ data_filled['dob_years'].isna() == False ].groupby(['age_group','education_id'])['total_income'].median()\n",
    "\n",
    "# Функция, которая будет возвращать нужное медианное значение дохода\n",
    "def get_income_median_value(row, median_values):\n",
    "    for age_group, education_id in median_values.index:\n",
    "        if row['age_group'] == age_group and row['education_id'] == education_id:\n",
    "            return median_values[ (age_group,education_id) ] \n",
    "    return 0 # предполагаем что до возврата нуля дело не дойдёт, так как имеются значения\n",
    "             # для всех вариантов. Возврат нуля пишем для красоты, как заглушку\n",
    "\n",
    "# С помощью метода apply() заполняем пустующие ячейки медианными значения дохода для соответствующих подгрупп\n",
    "# возраста/образования\n",
    "data_filled.loc[ data_filled['total_income'].isna(),'total_income' ] = data_filled.loc[ data_filled['total_income'].isna() ].apply(get_income_median_value, axis=1, args=(income_median_values,))\n"
   ]
  },
  {
   "cell_type": "markdown",
   "id": "90957430",
   "metadata": {},
   "source": [
    "### Шаг 2.2 Проверка данных на аномалии и исправления."
   ]
  },
  {
   "cell_type": "markdown",
   "id": "167a672b-085f-4970-9412-4fe6f767e5a6",
   "metadata": {},
   "source": [
    "#### days_employed - число дней стажа"
   ]
  },
  {
   "cell_type": "markdown",
   "id": "31a736ad-c398-4002-9242-0f099c0254df",
   "metadata": {},
   "source": [
    "В столбце <code>days_employed</code> ранее были замечены отрицательные значения, что довольно странно. Посмотрим, сколько таких значений"
   ]
  },
  {
   "cell_type": "code",
   "execution_count": 18,
   "id": "df05ec5b",
   "metadata": {},
   "outputs": [
    {
     "name": "stdout",
     "output_type": "stream",
     "text": [
      "Значений с со стажем ниже нуля: 18080\n",
      "Значений с со стажем больше нуля: 3445\n",
      "Значений с со стажем равным нулю: 0\n",
      "Отношение числа записей со значением стажа ниже нуля по отношению\n",
      "к числу записей со стажем выше нуля: 5.248185776487663\n"
     ]
    }
   ],
   "source": [
    "# Выборка записей со значением стажа выше нуля и ниже нуля\n",
    "data_plus  = data_filled.loc[ data_filled['days_employed'] > 0].copy()\n",
    "data_minus = data_filled.loc[ data_filled['days_employed'] < 0].copy()\n",
    "\n",
    "# Число записей со стажем ниже нуля, выше нуля и с нулевым значением стажа\n",
    "data_employed_minus = data_minus['days_employed'].count()\n",
    "data_employed_plus  = data_plus['days_employed'].count()\n",
    "data_employed_zero  = data_filled.loc[ data_filled['days_employed'] == 0,'days_employed' ].count()\n",
    "\n",
    "print(f'Значений с со стажем ниже нуля: {data_employed_minus}')\n",
    "print(f'Значений с со стажем больше нуля: {data_employed_plus}')\n",
    "print(f'Значений с со стажем равным нулю: {data_employed_zero}')\n",
    "\n",
    "print(\"Отношение числа записей со значением стажа ниже нуля по отношению\")\n",
    "print(f'к числу записей со стажем выше нуля: {data_employed_minus/data_employed_plus}')"
   ]
  },
  {
   "cell_type": "code",
   "execution_count": 19,
   "id": "5dafaf4e-b9aa-4599-976c-ee7326ba4e93",
   "metadata": {},
   "outputs": [
    {
     "data": {
      "text/plain": [
       "365004.3099162686"
      ]
     },
     "execution_count": 19,
     "metadata": {},
     "output_type": "execute_result"
    }
   ],
   "source": [
    "data_filled.loc[ data_filled['days_employed'] > 0, 'days_employed' ].mean()"
   ]
  },
  {
   "cell_type": "code",
   "execution_count": 20,
   "id": "3cf74b9a-b92e-41d8-9b63-ad2a3ca292d8",
   "metadata": {},
   "outputs": [
    {
     "data": {
      "text/plain": [
       "-2214.7785824071443"
      ]
     },
     "execution_count": 20,
     "metadata": {},
     "output_type": "execute_result"
    }
   ],
   "source": [
    "data_filled.loc[ data_filled['days_employed'] < 0, 'days_employed' ].mean()"
   ]
  },
  {
   "cell_type": "markdown",
   "id": "f315002a-2834-42c3-aec8-0cde27341754",
   "metadata": {},
   "source": [
    "Получается что отрицательных значений в пять раз больше чем положительных. При этом среднее значение на порядки отличается. Посмотрим, есть ли какая-то связь между значениями стажа и другими столбцами, например с возрастом"
   ]
  },
  {
   "cell_type": "code",
   "execution_count": 21,
   "id": "5e320ebd-438f-4021-83f5-5c85951cec4d",
   "metadata": {},
   "outputs": [
    {
     "data": {
      "text/plain": [
       "<AxesSubplot:xlabel='dob_years', ylabel='days_employed'>"
      ]
     },
     "execution_count": 21,
     "metadata": {},
     "output_type": "execute_result"
    },
    {
     "data": {
      "image/png": "[encoded data removed]",
      "text/plain": [
       "<Figure size 432x288 with 1 Axes>"
      ]
     },
     "metadata": {
      "needs_background": "light"
     },
     "output_type": "display_data"
    }
   ],
   "source": [
    "# Для строк с отрицательным стажем\n",
    "seaborn.barplot(x= data_minus['dob_years'] ,y=data_minus['days_employed' ])\n"
   ]
  },
  {
   "cell_type": "code",
   "execution_count": 22,
   "id": "1db3cc00-8d2f-4bc3-b63c-90c961cb0f51",
   "metadata": {},
   "outputs": [
    {
     "data": {
      "text/plain": [
       "<AxesSubplot:xlabel='dob_years', ylabel='days_employed'>"
      ]
     },
     "execution_count": 22,
     "metadata": {},
     "output_type": "execute_result"
    },
    {
     "data": {
      "image/png": "[encoded data removed]",
      "text/plain": [
       "<Figure size 432x288 with 1 Axes>"
      ]
     },
     "metadata": {
      "needs_background": "light"
     },
     "output_type": "display_data"
    }
   ],
   "source": [
    "# Для строк с положительным стажем\n",
    "seaborn.barplot(x= data_plus['dob_years'] ,y=data_plus['days_employed' ])\n"
   ]
  },
  {
   "cell_type": "markdown",
   "id": "bc6418e9-7a8d-4a04-a5ed-fcfff9ff0768",
   "metadata": {},
   "source": [
    "Попробуем данные с отрицательными значениями сделать положительными, \n",
    "а из данных с положительными значениями вычесть минимальное значение"
   ]
  },
  {
   "cell_type": "code",
   "execution_count": 23,
   "id": "e47c982d-4c72-4c5d-9ebf-dab7f0b87f50",
   "metadata": {},
   "outputs": [
    {
     "data": {
      "text/plain": [
       "<AxesSubplot:xlabel='dob_years', ylabel='days_employed'>"
      ]
     },
     "execution_count": 23,
     "metadata": {},
     "output_type": "execute_result"
    },
    {
     "data": {
      "image/png": "[encoded data removed]",
      "text/plain": [
       "<Figure size 432x288 with 1 Axes>"
      ]
     },
     "metadata": {
      "needs_background": "light"
     },
     "output_type": "display_data"
    }
   ],
   "source": [
    "# \"отрицательные\" значения по модулю\n",
    "# Для строк с отрицательным стажем\n",
    "data_minus.loc[:,'days_employed'] = data_minus['days_employed'].abs()\n",
    "seaborn.barplot(x= data_minus['dob_years'] ,y= data_minus['days_employed' ])\n"
   ]
  },
  {
   "cell_type": "code",
   "execution_count": 24,
   "id": "905aa138-7d53-4645-ba32-3de5c7f3637c",
   "metadata": {},
   "outputs": [
    {
     "data": {
      "text/plain": [
       "<AxesSubplot:xlabel='dob_years', ylabel='days_employed'>"
      ]
     },
     "execution_count": 24,
     "metadata": {},
     "output_type": "execute_result"
    },
    {
     "data": {
      "image/png": "[encoded data removed]",
      "text/plain": [
       "<Figure size 432x288 with 1 Axes>"
      ]
     },
     "metadata": {
      "needs_background": "light"
     },
     "output_type": "display_data"
    }
   ],
   "source": [
    "# \"положительные\" значения с вычитом минимального\n",
    "data_plus.loc[:,'days_employed'] =data_plus['days_employed'] - data_plus['days_employed'].min()\n",
    "seaborn.barplot(x= data_plus['dob_years'] ,y= data_plus['days_employed' ])"
   ]
  },
  {
   "cell_type": "markdown",
   "id": "06958a50-1b55-4d01-85fb-bc4107b65f51",
   "metadata": {},
   "source": [
    "Судя по виду графика, хотя и есть некоторая тенденция к росту стажа в зависимости от возраста, но всё равно наблюдается дикий разброс значений. Вероятнее всего была какая-то ошибка выгрузки данных по этому столбцу.\n",
    "Попробуем посмотреть на этот столбец стажа в разрезе пола и вида дохода"
   ]
  },
  {
   "cell_type": "code",
   "execution_count": 25,
   "id": "45134946-0245-44f4-981a-81779b11b3fe",
   "metadata": {},
   "outputs": [
    {
     "data": {
      "text/plain": [
       "gender\n",
       "F    2807\n",
       "M     638\n",
       "Name: gender, dtype: int64"
      ]
     },
     "execution_count": 25,
     "metadata": {},
     "output_type": "execute_result"
    }
   ],
   "source": [
    "# Положительные значения стажа в зависимости от пола\n",
    "data_plus.groupby('gender')['gender'].count()"
   ]
  },
  {
   "cell_type": "code",
   "execution_count": 26,
   "id": "dfe9989e-3082-4e1c-a31e-8e04668ef9e5",
   "metadata": {},
   "outputs": [
    {
     "data": {
      "text/plain": [
       "gender\n",
       "F      11429\n",
       "M       6650\n",
       "XNA        1\n",
       "Name: gender, dtype: int64"
      ]
     },
     "execution_count": 26,
     "metadata": {},
     "output_type": "execute_result"
    }
   ],
   "source": [
    "# Отрицательные значения стажа в зависимости от пола\n",
    "data_minus.groupby('gender')['gender'].count()"
   ]
  },
  {
   "cell_type": "code",
   "execution_count": 27,
   "id": "b0709654-5f65-488b-bab1-ac4c1894c663",
   "metadata": {},
   "outputs": [
    {
     "data": {
      "text/plain": [
       "income_type\n",
       "безработный       2\n",
       "пенсионер      3443\n",
       "Name: income_type, dtype: int64"
      ]
     },
     "execution_count": 27,
     "metadata": {},
     "output_type": "execute_result"
    }
   ],
   "source": [
    "# Положительные значения стажа в зависимости от типа дохода\n",
    "data_plus.groupby('income_type')['income_type'].count()"
   ]
  },
  {
   "cell_type": "code",
   "execution_count": 28,
   "id": "f250aa11-26d6-44ab-b475-9d88da6ecf47",
   "metadata": {},
   "outputs": [
    {
     "data": {
      "text/plain": [
       "income_type\n",
       "в декрете              1\n",
       "госслужащий         1459\n",
       "компаньон           5085\n",
       "пенсионер            413\n",
       "предприниматель        2\n",
       "сотрудник          11119\n",
       "студент                1\n",
       "Name: income_type, dtype: int64"
      ]
     },
     "execution_count": 28,
     "metadata": {},
     "output_type": "execute_result"
    }
   ],
   "source": [
    "# Отрицательные значения стажа в зависимости от типа дохода\n",
    "data_minus.groupby('income_type')['income_type'].count()"
   ]
  },
  {
   "cell_type": "markdown",
   "id": "dc155fd7-118b-41e1-a946-c9506373d02b",
   "metadata": {},
   "source": [
    "Похоже что положительные значения относятся в основном к пенсионерам, возможно что имела места ошибка учета стажа в базе данных для клиентов-пенсионеров, либо если данные получали с помощью запроса в пенсионный фонд была ошибка при конвертации/подгрузке данных.\n",
    "Что же касается отрицательных значений то они выглядят реалистичными, а минус мог возникнуть например если использовали формулу подсчета стажа вида <code>стаж = сегодняшняя_дата - дата_начала_трудовой_деятельности</code>, могли в формуле перепутать даты и вычитать вот так: <code>стаж = дата_начала_трудовой_деятельности - сегодняшняя_дата</code>"
   ]
  },
  {
   "cell_type": "code",
   "execution_count": 29,
   "id": "24cedab0-4dbc-4bd1-843b-3bb0daa5190a",
   "metadata": {},
   "outputs": [
    {
     "data": {
      "text/html": [
       "<div>\n",
       "<style scoped>\n",
       "    .dataframe tbody tr th:only-of-type {\n",
       "        vertical-align: middle;\n",
       "    }\n",
       "\n",
       "    .dataframe tbody tr th {\n",
       "        vertical-align: top;\n",
       "    }\n",
       "\n",
       "    .dataframe thead th {\n",
       "        text-align: right;\n",
       "    }\n",
       "</style>\n",
       "<table border=\"1\" class=\"dataframe\">\n",
       "  <thead>\n",
       "    <tr style=\"text-align: right;\">\n",
       "      <th></th>\n",
       "      <th>children</th>\n",
       "      <th>days_employed</th>\n",
       "      <th>dob_years</th>\n",
       "      <th>education</th>\n",
       "      <th>education_id</th>\n",
       "      <th>family_status</th>\n",
       "      <th>family_status_id</th>\n",
       "      <th>gender</th>\n",
       "      <th>income_type</th>\n",
       "      <th>debt</th>\n",
       "      <th>total_income</th>\n",
       "      <th>purpose</th>\n",
       "      <th>age_group</th>\n",
       "    </tr>\n",
       "  </thead>\n",
       "  <tbody>\n",
       "    <tr>\n",
       "      <th>0</th>\n",
       "      <td>1</td>\n",
       "      <td>-8437.673028</td>\n",
       "      <td>42</td>\n",
       "      <td>высшее</td>\n",
       "      <td>0</td>\n",
       "      <td>женат / замужем</td>\n",
       "      <td>0</td>\n",
       "      <td>F</td>\n",
       "      <td>сотрудник</td>\n",
       "      <td>0</td>\n",
       "      <td>253875.639453</td>\n",
       "      <td>покупка жилья</td>\n",
       "      <td>age35-45</td>\n",
       "    </tr>\n",
       "    <tr>\n",
       "      <th>1</th>\n",
       "      <td>1</td>\n",
       "      <td>-4024.803754</td>\n",
       "      <td>36</td>\n",
       "      <td>среднее</td>\n",
       "      <td>1</td>\n",
       "      <td>женат / замужем</td>\n",
       "      <td>0</td>\n",
       "      <td>F</td>\n",
       "      <td>сотрудник</td>\n",
       "      <td>0</td>\n",
       "      <td>112080.014102</td>\n",
       "      <td>приобретение автомобиля</td>\n",
       "      <td>age35-45</td>\n",
       "    </tr>\n",
       "    <tr>\n",
       "      <th>2</th>\n",
       "      <td>0</td>\n",
       "      <td>-5623.422610</td>\n",
       "      <td>33</td>\n",
       "      <td>Среднее</td>\n",
       "      <td>1</td>\n",
       "      <td>женат / замужем</td>\n",
       "      <td>0</td>\n",
       "      <td>M</td>\n",
       "      <td>сотрудник</td>\n",
       "      <td>0</td>\n",
       "      <td>145885.952297</td>\n",
       "      <td>покупка жилья</td>\n",
       "      <td>age26-35</td>\n",
       "    </tr>\n",
       "    <tr>\n",
       "      <th>3</th>\n",
       "      <td>3</td>\n",
       "      <td>-4124.747207</td>\n",
       "      <td>32</td>\n",
       "      <td>среднее</td>\n",
       "      <td>1</td>\n",
       "      <td>женат / замужем</td>\n",
       "      <td>0</td>\n",
       "      <td>M</td>\n",
       "      <td>сотрудник</td>\n",
       "      <td>0</td>\n",
       "      <td>267628.550329</td>\n",
       "      <td>дополнительное образование</td>\n",
       "      <td>age26-35</td>\n",
       "    </tr>\n",
       "    <tr>\n",
       "      <th>5</th>\n",
       "      <td>0</td>\n",
       "      <td>-926.185831</td>\n",
       "      <td>27</td>\n",
       "      <td>высшее</td>\n",
       "      <td>0</td>\n",
       "      <td>гражданский брак</td>\n",
       "      <td>1</td>\n",
       "      <td>M</td>\n",
       "      <td>компаньон</td>\n",
       "      <td>0</td>\n",
       "      <td>255763.565419</td>\n",
       "      <td>покупка жилья</td>\n",
       "      <td>age26-35</td>\n",
       "    </tr>\n",
       "    <tr>\n",
       "      <th>...</th>\n",
       "      <td>...</td>\n",
       "      <td>...</td>\n",
       "      <td>...</td>\n",
       "      <td>...</td>\n",
       "      <td>...</td>\n",
       "      <td>...</td>\n",
       "      <td>...</td>\n",
       "      <td>...</td>\n",
       "      <td>...</td>\n",
       "      <td>...</td>\n",
       "      <td>...</td>\n",
       "      <td>...</td>\n",
       "      <td>...</td>\n",
       "    </tr>\n",
       "    <tr>\n",
       "      <th>21519</th>\n",
       "      <td>1</td>\n",
       "      <td>-2351.431934</td>\n",
       "      <td>37</td>\n",
       "      <td>ученая степень</td>\n",
       "      <td>4</td>\n",
       "      <td>в разводе</td>\n",
       "      <td>3</td>\n",
       "      <td>M</td>\n",
       "      <td>сотрудник</td>\n",
       "      <td>0</td>\n",
       "      <td>115949.039788</td>\n",
       "      <td>покупка коммерческой недвижимости</td>\n",
       "      <td>age35-45</td>\n",
       "    </tr>\n",
       "    <tr>\n",
       "      <th>21520</th>\n",
       "      <td>1</td>\n",
       "      <td>-4529.316663</td>\n",
       "      <td>43</td>\n",
       "      <td>среднее</td>\n",
       "      <td>1</td>\n",
       "      <td>гражданский брак</td>\n",
       "      <td>1</td>\n",
       "      <td>F</td>\n",
       "      <td>компаньон</td>\n",
       "      <td>0</td>\n",
       "      <td>224791.862382</td>\n",
       "      <td>операции с жильем</td>\n",
       "      <td>age35-45</td>\n",
       "    </tr>\n",
       "    <tr>\n",
       "      <th>21522</th>\n",
       "      <td>1</td>\n",
       "      <td>-2113.346888</td>\n",
       "      <td>38</td>\n",
       "      <td>среднее</td>\n",
       "      <td>1</td>\n",
       "      <td>гражданский брак</td>\n",
       "      <td>1</td>\n",
       "      <td>M</td>\n",
       "      <td>сотрудник</td>\n",
       "      <td>1</td>\n",
       "      <td>89672.561153</td>\n",
       "      <td>недвижимость</td>\n",
       "      <td>age35-45</td>\n",
       "    </tr>\n",
       "    <tr>\n",
       "      <th>21523</th>\n",
       "      <td>3</td>\n",
       "      <td>-3112.481705</td>\n",
       "      <td>38</td>\n",
       "      <td>среднее</td>\n",
       "      <td>1</td>\n",
       "      <td>женат / замужем</td>\n",
       "      <td>0</td>\n",
       "      <td>M</td>\n",
       "      <td>сотрудник</td>\n",
       "      <td>1</td>\n",
       "      <td>244093.050500</td>\n",
       "      <td>на покупку своего автомобиля</td>\n",
       "      <td>age35-45</td>\n",
       "    </tr>\n",
       "    <tr>\n",
       "      <th>21524</th>\n",
       "      <td>2</td>\n",
       "      <td>-1984.507589</td>\n",
       "      <td>40</td>\n",
       "      <td>среднее</td>\n",
       "      <td>1</td>\n",
       "      <td>женат / замужем</td>\n",
       "      <td>0</td>\n",
       "      <td>F</td>\n",
       "      <td>сотрудник</td>\n",
       "      <td>0</td>\n",
       "      <td>82047.418899</td>\n",
       "      <td>на покупку автомобиля</td>\n",
       "      <td>age35-45</td>\n",
       "    </tr>\n",
       "  </tbody>\n",
       "</table>\n",
       "<p>18080 rows × 13 columns</p>\n",
       "</div>"
      ],
      "text/plain": [
       "       children  days_employed  dob_years       education  education_id  \\\n",
       "0             1   -8437.673028         42          высшее             0   \n",
       "1             1   -4024.803754         36         среднее             1   \n",
       "2             0   -5623.422610         33         Среднее             1   \n",
       "3             3   -4124.747207         32         среднее             1   \n",
       "5             0    -926.185831         27          высшее             0   \n",
       "...         ...            ...        ...             ...           ...   \n",
       "21519         1   -2351.431934         37  ученая степень             4   \n",
       "21520         1   -4529.316663         43         среднее             1   \n",
       "21522         1   -2113.346888         38         среднее             1   \n",
       "21523         3   -3112.481705         38         среднее             1   \n",
       "21524         2   -1984.507589         40         среднее             1   \n",
       "\n",
       "          family_status  family_status_id gender income_type  debt  \\\n",
       "0       женат / замужем                 0      F   сотрудник     0   \n",
       "1       женат / замужем                 0      F   сотрудник     0   \n",
       "2       женат / замужем                 0      M   сотрудник     0   \n",
       "3       женат / замужем                 0      M   сотрудник     0   \n",
       "5      гражданский брак                 1      M   компаньон     0   \n",
       "...                 ...               ...    ...         ...   ...   \n",
       "21519         в разводе                 3      M   сотрудник     0   \n",
       "21520  гражданский брак                 1      F   компаньон     0   \n",
       "21522  гражданский брак                 1      M   сотрудник     1   \n",
       "21523   женат / замужем                 0      M   сотрудник     1   \n",
       "21524   женат / замужем                 0      F   сотрудник     0   \n",
       "\n",
       "        total_income                            purpose age_group  \n",
       "0      253875.639453                      покупка жилья  age35-45  \n",
       "1      112080.014102            приобретение автомобиля  age35-45  \n",
       "2      145885.952297                      покупка жилья  age26-35  \n",
       "3      267628.550329         дополнительное образование  age26-35  \n",
       "5      255763.565419                      покупка жилья  age26-35  \n",
       "...              ...                                ...       ...  \n",
       "21519  115949.039788  покупка коммерческой недвижимости  age35-45  \n",
       "21520  224791.862382                  операции с жильем  age35-45  \n",
       "21522   89672.561153                       недвижимость  age35-45  \n",
       "21523  244093.050500       на покупку своего автомобиля  age35-45  \n",
       "21524   82047.418899              на покупку автомобиля  age35-45  \n",
       "\n",
       "[18080 rows x 13 columns]"
      ]
     },
     "execution_count": 29,
     "metadata": {},
     "output_type": "execute_result"
    }
   ],
   "source": [
    "data_filled.loc[data_filled['days_employed'] < 0 ]"
   ]
  },
  {
   "cell_type": "markdown",
   "id": "396df633-04cc-456b-a836-3dc74b307dbe",
   "metadata": {},
   "source": [
    "Заменим значения для отрицательных ячеек на положительные, а положительные не будем трогать, \n",
    "так как нет возможности выяснить подробности, как их интерпретировать"
   ]
  },
  {
   "cell_type": "code",
   "execution_count": 30,
   "id": "4e2908f3-e1d3-41a4-b399-9f45911d02b5",
   "metadata": {},
   "outputs": [],
   "source": [
    "data_filled.loc[data_filled['days_employed'] < 0, 'days_employed' ] = data_filled.loc[ data_filled['days_employed'] < 0,'days_employed' ].abs()"
   ]
  },
  {
   "cell_type": "markdown",
   "id": "568bad66-c78e-4824-bf5b-401131eedd8f",
   "metadata": {},
   "source": [
    "#### children - число детей"
   ]
  },
  {
   "cell_type": "markdown",
   "id": "2d4165dd-830c-4820-bea1-ee66a6e92f9d",
   "metadata": {},
   "source": [
    "Посмотрим, какие варианты значений по числу детей есть с таблице"
   ]
  },
  {
   "cell_type": "code",
   "execution_count": 31,
   "id": "fc71c956-4796-46dc-9816-b4f70e0950e6",
   "metadata": {},
   "outputs": [
    {
     "data": {
      "text/plain": [
       " 0     14149\n",
       " 1      4818\n",
       " 2      2055\n",
       " 3       330\n",
       " 20       76\n",
       "-1        47\n",
       " 4        41\n",
       " 5         9\n",
       "Name: children, dtype: int64"
      ]
     },
     "execution_count": 31,
     "metadata": {},
     "output_type": "execute_result"
    }
   ],
   "source": [
    "data_filled['children'].value_counts()"
   ]
  },
  {
   "cell_type": "code",
   "execution_count": 32,
   "id": "630602ba-a48a-44f9-865f-e4835b41b60c",
   "metadata": {},
   "outputs": [
    {
     "data": {
      "text/plain": [
       "0.0035307781649245064"
      ]
     },
     "execution_count": 32,
     "metadata": {},
     "output_type": "execute_result"
    }
   ],
   "source": [
    "data_filled.loc[ data_filled['children'] >=20, 'children' ].count() / data_filled[ 'children' ].count()"
   ]
  },
  {
   "cell_type": "markdown",
   "id": "a08d452d-5b2a-4820-9f1b-2adea2e366e1",
   "metadata": {},
   "source": [
    "С данными по детям в целом всё нормально, хотя есть несколько значений с невероятным числом в 20 детей, а также некоторое число записей с числом детей -1 (минус один). "
   ]
  },
  {
   "cell_type": "markdown",
   "id": "4548b029-d960-44e1-9eff-fe1d813a14c7",
   "metadata": {},
   "source": [
    "Заменим записи с двадцатью детьми на наиболее часто встречающееся значение - ноль.<BR>\n",
    "А записи с минус одним ребёнком на плюс одного. Вероятно в анкетах был указан дефис, а при переносе анкет \n",
    "кто-то из сотрудников на автомате ввел вместо дефиза минус:"
   ]
  },
  {
   "cell_type": "code",
   "execution_count": 33,
   "id": "abe0da12-b9a2-4e93-8da0-616507d2600e",
   "metadata": {},
   "outputs": [],
   "source": [
    "data_filled.loc[ data_filled['children'] >=20, 'children' ] = 0\n",
    "data_filled.loc[ data_filled['children'] ==-1, 'children' ] = 1"
   ]
  },
  {
   "cell_type": "markdown",
   "id": "abf9530f-9348-4b7d-9e82-f1563dddba9c",
   "metadata": {},
   "source": [
    "#### dob_years - возраст клиента"
   ]
  },
  {
   "cell_type": "markdown",
   "id": "1cc07792-ba6e-427e-bc7c-3d8758d88408",
   "metadata": {},
   "source": [
    "Проверим значения в столбце возраста. Исходим из предположения что заявки на кредиты принимаются у \n",
    "совершеннолетних граждан в возрасте от 18 до 100 лет. Значит значения возраста за пределами этого диапазона\n",
    "будем считать ошибкой."
   ]
  },
  {
   "cell_type": "code",
   "execution_count": 34,
   "id": "ea296f2a-57fa-4463-9e8f-d4c39d346803",
   "metadata": {},
   "outputs": [
    {
     "data": {
      "text/plain": [
       "realistic                 21424\n",
       "not realistic, age = 0      101\n",
       "Name: dob_years, dtype: int64"
      ]
     },
     "execution_count": 34,
     "metadata": {},
     "output_type": "execute_result"
    }
   ],
   "source": [
    "data_filled[\"dob_years\"].apply(lambda age: [f\"not realistic, age = {age}\",\"realistic\"][ 18 < age < 100 ]).value_counts()"
   ]
  },
  {
   "cell_type": "markdown",
   "id": "498b4450-b8e0-49ff-b74b-a9c0929fe7d1",
   "metadata": {},
   "source": [
    "Есть некорректные значения возраста, при этом во всех таких строках возраст равен нулю. Так как количество таких строк мало и  возраст не является критическим параметром, влияющим на исход задачи - оставляем как есть."
   ]
  },
  {
   "cell_type": "markdown",
   "id": "5b72eb60-5bdb-4857-8191-cc3804833b09",
   "metadata": {},
   "source": [
    "#### education и education_id - образование"
   ]
  },
  {
   "cell_type": "code",
   "execution_count": 35,
   "id": "51db2075-6804-4575-90e6-458530f4f1b3",
   "metadata": {},
   "outputs": [
    {
     "data": {
      "text/plain": [
       "среднее                13750\n",
       "высшее                  4718\n",
       "СРЕДНЕЕ                  772\n",
       "Среднее                  711\n",
       "неоконченное высшее      668\n",
       "ВЫСШЕЕ                   274\n",
       "Высшее                   268\n",
       "начальное                250\n",
       "Неоконченное высшее       47\n",
       "НЕОКОНЧЕННОЕ ВЫСШЕЕ       29\n",
       "НАЧАЛЬНОЕ                 17\n",
       "Начальное                 15\n",
       "ученая степень             4\n",
       "Ученая степень             1\n",
       "УЧЕНАЯ СТЕПЕНЬ             1\n",
       "Name: education, dtype: int64"
      ]
     },
     "execution_count": 35,
     "metadata": {},
     "output_type": "execute_result"
    }
   ],
   "source": [
    "data_filled['education'].value_counts()"
   ]
  },
  {
   "cell_type": "code",
   "execution_count": 36,
   "id": "7585718d-4078-4b19-b3db-858b506a76dc",
   "metadata": {},
   "outputs": [
    {
     "data": {
      "text/plain": [
       "1    15233\n",
       "0     5260\n",
       "2      744\n",
       "3      282\n",
       "4        6\n",
       "Name: education_id, dtype: int64"
      ]
     },
     "execution_count": 36,
     "metadata": {},
     "output_type": "execute_result"
    }
   ],
   "source": [
    "data_filled['education_id'].value_counts()"
   ]
  },
  {
   "cell_type": "markdown",
   "id": "5f6bd98f-4b89-4b58-8620-cb855f5625ba",
   "metadata": {},
   "source": [
    "Указанные категории в делятся на:\n",
    "- начальное\n",
    "- среднее\n",
    "- высшее\n",
    "- неоконченное высшее\n",
    "- ученая степень\n",
    "\n",
    "Избавимся от повторяющихся записей, отличающихся только регистром"
   ]
  },
  {
   "cell_type": "code",
   "execution_count": 37,
   "id": "e26d603c-e636-4cf7-a498-ada5d35a81c4",
   "metadata": {},
   "outputs": [
    {
     "data": {
      "text/plain": [
       "среднее                15233\n",
       "высшее                  5260\n",
       "неоконченное высшее      744\n",
       "начальное                282\n",
       "ученая степень             6\n",
       "Name: education, dtype: int64"
      ]
     },
     "execution_count": 37,
     "metadata": {},
     "output_type": "execute_result"
    }
   ],
   "source": [
    "data_filled.loc[:,'education'] = data_filled['education'].str.lower()\n",
    "data_filled['education'].value_counts()"
   ]
  },
  {
   "cell_type": "markdown",
   "id": "8794e655-c554-40ea-bac8-9c719ea2ad54",
   "metadata": {},
   "source": [
    "#### family_status"
   ]
  },
  {
   "cell_type": "code",
   "execution_count": 38,
   "id": "728dfb7a-94a0-408a-95eb-beda851c8476",
   "metadata": {},
   "outputs": [
    {
     "data": {
      "text/plain": [
       "женат / замужем          12380\n",
       "гражданский брак          4177\n",
       "Не женат / не замужем     2813\n",
       "в разводе                 1195\n",
       "вдовец / вдова             960\n",
       "Name: family_status, dtype: int64"
      ]
     },
     "execution_count": 38,
     "metadata": {},
     "output_type": "execute_result"
    }
   ],
   "source": [
    "data_filled['family_status'].value_counts()"
   ]
  },
  {
   "cell_type": "code",
   "execution_count": 39,
   "id": "25d201ab-bff6-46cf-b95f-f351c36ca9c6",
   "metadata": {},
   "outputs": [
    {
     "data": {
      "text/plain": [
       "0    12380\n",
       "1     4177\n",
       "4     2813\n",
       "3     1195\n",
       "2      960\n",
       "Name: family_status_id, dtype: int64"
      ]
     },
     "execution_count": 39,
     "metadata": {},
     "output_type": "execute_result"
    }
   ],
   "source": [
    "data_filled['family_status_id'].value_counts()"
   ]
  },
  {
   "cell_type": "markdown",
   "id": "d6487803-c56e-42be-90e4-ec14e497d307",
   "metadata": {},
   "source": [
    "Аномальных значений для столбцов семейного статуса не обнаружено"
   ]
  },
  {
   "cell_type": "markdown",
   "id": "d95ce6a6-fa95-4405-a5cf-b5f49f6ac3c5",
   "metadata": {},
   "source": [
    "#### gender - пол клиента"
   ]
  },
  {
   "cell_type": "code",
   "execution_count": 40,
   "id": "b48b35ab-9157-40d8-ab36-3ef13404afd3",
   "metadata": {},
   "outputs": [
    {
     "data": {
      "text/plain": [
       "F      14236\n",
       "M       7288\n",
       "XNA        1\n",
       "Name: gender, dtype: int64"
      ]
     },
     "execution_count": 40,
     "metadata": {},
     "output_type": "execute_result"
    }
   ],
   "source": [
    "data_filled['gender'].value_counts()"
   ]
  },
  {
   "cell_type": "markdown",
   "id": "eaaa5d0d-8de1-4e92-aff9-74198833d8f7",
   "metadata": {},
   "source": [
    "За исключением одного значения остальные указаны корректно (мужчина M, либо женщина F). Заменим ошибочное на unknown"
   ]
  },
  {
   "cell_type": "code",
   "execution_count": 41,
   "id": "6dcfe216-e786-4d94-a47b-dcdc98d32af7",
   "metadata": {},
   "outputs": [
    {
     "data": {
      "text/plain": [
       "F          14236\n",
       "M           7288\n",
       "unknown        1\n",
       "Name: gender, dtype: int64"
      ]
     },
     "execution_count": 41,
     "metadata": {},
     "output_type": "execute_result"
    }
   ],
   "source": [
    "data_filled.loc[ (data_filled['gender'] == 'XNA'), 'gender'] = 'unknown'\n",
    "data_filled['gender'].value_counts()"
   ]
  },
  {
   "cell_type": "markdown",
   "id": "e99c6c0d-a995-4229-b49b-23820acb6c9a",
   "metadata": {},
   "source": [
    "#### debt - наличие задолженности по возврату кредита"
   ]
  },
  {
   "cell_type": "code",
   "execution_count": 42,
   "id": "9269431e-6f52-4104-bf66-8d472096d9b8",
   "metadata": {},
   "outputs": [
    {
     "data": {
      "text/plain": [
       "0    19784\n",
       "1     1741\n",
       "Name: debt, dtype: int64"
      ]
     },
     "execution_count": 42,
     "metadata": {},
     "output_type": "execute_result"
    }
   ],
   "source": [
    "data_filled['debt'].value_counts()"
   ]
  },
  {
   "cell_type": "markdown",
   "id": "99692b65-6179-4519-9158-bc7c6ae8270d",
   "metadata": {},
   "source": [
    "С данным столбцом проблем не обнаружено"
   ]
  },
  {
   "cell_type": "markdown",
   "id": "5f9d413f-4e5d-4606-a910-ed41041db60c",
   "metadata": {},
   "source": [
    "#### total_income - ежемесячный доход"
   ]
  },
  {
   "cell_type": "code",
   "execution_count": 43,
   "id": "e740731c-1c60-4579-a573-f334738c8680",
   "metadata": {},
   "outputs": [
    {
     "data": {
      "text/plain": [
       "143784.939634    391\n",
       "123918.314653    374\n",
       "136446.558557    371\n",
       "140704.009565    317\n",
       "174966.645007    178\n",
       "                ... \n",
       "94270.049769       1\n",
       "68166.012050       1\n",
       "124357.256315      1\n",
       "111976.479710      1\n",
       "189255.286637      1\n",
       "Name: total_income, Length: 19361, dtype: int64"
      ]
     },
     "execution_count": 43,
     "metadata": {},
     "output_type": "execute_result"
    }
   ],
   "source": [
    "data_filled['total_income'].value_counts()"
   ]
  },
  {
   "cell_type": "markdown",
   "id": "99fb82b3-9531-407e-aaa1-e79643f9e5ee",
   "metadata": {},
   "source": [
    "Обработка этого столбца не требуется. Повторяющиеся значения являются следствием произведенной ранее замены пустых ячеек."
   ]
  },
  {
   "cell_type": "markdown",
   "id": "4fe4c79a-3864-496b-ba77-99fc8547ed2d",
   "metadata": {},
   "source": [
    "#### purpose - цель получения кредита"
   ]
  },
  {
   "cell_type": "code",
   "execution_count": 44,
   "id": "c864ce40-ef09-4194-aaa6-3f3c74653870",
   "metadata": {},
   "outputs": [
    {
     "data": {
      "text/plain": [
       "свадьба                                   797\n",
       "на проведение свадьбы                     777\n",
       "сыграть свадьбу                           774\n",
       "операции с недвижимостью                  676\n",
       "покупка коммерческой недвижимости         664\n",
       "покупка жилья для сдачи                   653\n",
       "операции с жильем                         653\n",
       "операции с коммерческой недвижимостью     651\n",
       "жилье                                     647\n",
       "покупка жилья                             647\n",
       "покупка жилья для семьи                   641\n",
       "строительство собственной недвижимости    635\n",
       "недвижимость                              634\n",
       "операции со своей недвижимостью           630\n",
       "строительство жилой недвижимости          626\n",
       "покупка недвижимости                      624\n",
       "строительство недвижимости                620\n",
       "покупка своего жилья                      620\n",
       "ремонт жилью                              612\n",
       "покупка жилой недвижимости                607\n",
       "на покупку своего автомобиля              505\n",
       "заняться высшим образованием              496\n",
       "автомобиль                                495\n",
       "сделка с подержанным автомобилем          489\n",
       "свой автомобиль                           480\n",
       "на покупку подержанного автомобиля        479\n",
       "автомобили                                478\n",
       "на покупку автомобиля                     472\n",
       "дополнительное образование                462\n",
       "приобретение автомобиля                   462\n",
       "сделка с автомобилем                      455\n",
       "высшее образование                        453\n",
       "образование                               447\n",
       "получение дополнительного образования     447\n",
       "получение образования                     443\n",
       "профильное образование                    436\n",
       "получение высшего образования             426\n",
       "заняться образованием                     412\n",
       "Name: purpose, dtype: int64"
      ]
     },
     "execution_count": 44,
     "metadata": {},
     "output_type": "execute_result"
    }
   ],
   "source": [
    "data_filled['purpose'].value_counts()"
   ]
  },
  {
   "cell_type": "markdown",
   "id": "aaefcfcb-828d-4468-9efb-ab651a420a71",
   "metadata": {},
   "source": [
    "Аномальных значений нет, разве что потребуется упростить унифицировать цели в рамках простых категорий. Это будет сделано на следующих этапах."
   ]
  },
  {
   "cell_type": "markdown",
   "id": "71f60272",
   "metadata": {},
   "source": [
    "### Шаг 2.3. Изменение типов данных."
   ]
  },
  {
   "cell_type": "markdown",
   "id": "df825949-72d3-4a57-8dd2-06549b8a50c0",
   "metadata": {},
   "source": [
    "Ещё раз посмотрим базовую информацию по датафрейму."
   ]
  },
  {
   "cell_type": "code",
   "execution_count": 45,
   "id": "954b01e8-097e-437d-9ce4-051edf1c24c9",
   "metadata": {},
   "outputs": [
    {
     "data": {
      "text/html": [
       "<div>\n",
       "<style scoped>\n",
       "    .dataframe tbody tr th:only-of-type {\n",
       "        vertical-align: middle;\n",
       "    }\n",
       "\n",
       "    .dataframe tbody tr th {\n",
       "        vertical-align: top;\n",
       "    }\n",
       "\n",
       "    .dataframe thead th {\n",
       "        text-align: right;\n",
       "    }\n",
       "</style>\n",
       "<table border=\"1\" class=\"dataframe\">\n",
       "  <thead>\n",
       "    <tr style=\"text-align: right;\">\n",
       "      <th></th>\n",
       "      <th>children</th>\n",
       "      <th>days_employed</th>\n",
       "      <th>dob_years</th>\n",
       "      <th>education</th>\n",
       "      <th>education_id</th>\n",
       "      <th>family_status</th>\n",
       "      <th>family_status_id</th>\n",
       "      <th>gender</th>\n",
       "      <th>income_type</th>\n",
       "      <th>debt</th>\n",
       "      <th>total_income</th>\n",
       "      <th>purpose</th>\n",
       "      <th>age_group</th>\n",
       "    </tr>\n",
       "  </thead>\n",
       "  <tbody>\n",
       "    <tr>\n",
       "      <th>20379</th>\n",
       "      <td>0</td>\n",
       "      <td>356817.60737</td>\n",
       "      <td>67</td>\n",
       "      <td>среднее</td>\n",
       "      <td>1</td>\n",
       "      <td>Не женат / не замужем</td>\n",
       "      <td>4</td>\n",
       "      <td>F</td>\n",
       "      <td>пенсионер</td>\n",
       "      <td>0</td>\n",
       "      <td>43153.949412</td>\n",
       "      <td>покупка жилья для сдачи</td>\n",
       "      <td>age55+</td>\n",
       "    </tr>\n",
       "  </tbody>\n",
       "</table>\n",
       "</div>"
      ],
      "text/plain": [
       "       children  days_employed  dob_years education  education_id  \\\n",
       "20379         0   356817.60737         67   среднее             1   \n",
       "\n",
       "               family_status  family_status_id gender income_type  debt  \\\n",
       "20379  Не женат / не замужем                 4      F   пенсионер     0   \n",
       "\n",
       "       total_income                  purpose age_group  \n",
       "20379  43153.949412  покупка жилья для сдачи    age55+  "
      ]
     },
     "execution_count": 45,
     "metadata": {},
     "output_type": "execute_result"
    }
   ],
   "source": [
    "data_filled.sample(1)"
   ]
  },
  {
   "cell_type": "code",
   "execution_count": 46,
   "id": "736c9835-df3e-4acc-af11-9f726faa102d",
   "metadata": {},
   "outputs": [
    {
     "name": "stdout",
     "output_type": "stream",
     "text": [
      "<class 'pandas.core.frame.DataFrame'>\n",
      "RangeIndex: 21525 entries, 0 to 21524\n",
      "Data columns (total 13 columns):\n",
      " #   Column            Non-Null Count  Dtype  \n",
      "---  ------            --------------  -----  \n",
      " 0   children          21525 non-null  int64  \n",
      " 1   days_employed     21525 non-null  float64\n",
      " 2   dob_years         21525 non-null  int64  \n",
      " 3   education         21525 non-null  object \n",
      " 4   education_id      21525 non-null  int64  \n",
      " 5   family_status     21525 non-null  object \n",
      " 6   family_status_id  21525 non-null  int64  \n",
      " 7   gender            21525 non-null  object \n",
      " 8   income_type       21525 non-null  object \n",
      " 9   debt              21525 non-null  int64  \n",
      " 10  total_income      21525 non-null  float64\n",
      " 11  purpose           21525 non-null  object \n",
      " 12  age_group         21525 non-null  object \n",
      "dtypes: float64(2), int64(5), object(6)\n",
      "memory usage: 2.1+ MB\n"
     ]
    }
   ],
   "source": [
    "data_filled.info()"
   ]
  },
  {
   "cell_type": "markdown",
   "id": "ec34c986-a502-4b59-9067-6fcdd8978b52",
   "metadata": {},
   "source": [
    "Нужно заменить типы данных для некоторых столбцов:<BR>\n",
    "<code>days_employed</code>. Меняем тип float на int, так как дни не должны быть дробными<BR>\n",
    "<code>total_income</code>. Меняем тип float на int, так как дробная часть не представляет интереса"
   ]
  },
  {
   "cell_type": "code",
   "execution_count": 47,
   "id": "dbb49c90-0ebb-452a-a1be-5f9ff9ca961a",
   "metadata": {},
   "outputs": [],
   "source": [
    "data_filled['days_employed'] = data_filled['days_employed'].astype('int')\n",
    "data_filled['total_income'] = data_filled['total_income'].astype('int')"
   ]
  },
  {
   "cell_type": "markdown",
   "id": "18066f82",
   "metadata": {},
   "source": [
    "### Шаг 2.4. Удаление дубликатов."
   ]
  },
  {
   "cell_type": "markdown",
   "id": "f04cde07-10cb-45f1-9694-ee81b838a89f",
   "metadata": {},
   "source": [
    "#### Поиск и обработка <u>явных</u> дубликатов"
   ]
  },
  {
   "cell_type": "code",
   "execution_count": 48,
   "id": "9574fd9d",
   "metadata": {},
   "outputs": [
    {
     "data": {
      "text/html": [
       "<div>\n",
       "<style scoped>\n",
       "    .dataframe tbody tr th:only-of-type {\n",
       "        vertical-align: middle;\n",
       "    }\n",
       "\n",
       "    .dataframe tbody tr th {\n",
       "        vertical-align: top;\n",
       "    }\n",
       "\n",
       "    .dataframe thead th {\n",
       "        text-align: right;\n",
       "    }\n",
       "</style>\n",
       "<table border=\"1\" class=\"dataframe\">\n",
       "  <thead>\n",
       "    <tr style=\"text-align: right;\">\n",
       "      <th></th>\n",
       "      <th>children</th>\n",
       "      <th>days_employed</th>\n",
       "      <th>dob_years</th>\n",
       "      <th>education</th>\n",
       "      <th>education_id</th>\n",
       "      <th>family_status</th>\n",
       "      <th>family_status_id</th>\n",
       "      <th>gender</th>\n",
       "      <th>income_type</th>\n",
       "      <th>debt</th>\n",
       "      <th>total_income</th>\n",
       "      <th>purpose</th>\n",
       "      <th>age_group</th>\n",
       "    </tr>\n",
       "  </thead>\n",
       "  <tbody>\n",
       "    <tr>\n",
       "      <th>20297</th>\n",
       "      <td>1</td>\n",
       "      <td>1203</td>\n",
       "      <td>23</td>\n",
       "      <td>среднее</td>\n",
       "      <td>1</td>\n",
       "      <td>гражданский брак</td>\n",
       "      <td>1</td>\n",
       "      <td>F</td>\n",
       "      <td>сотрудник</td>\n",
       "      <td>0</td>\n",
       "      <td>128240</td>\n",
       "      <td>сыграть свадьбу</td>\n",
       "      <td>age18-25</td>\n",
       "    </tr>\n",
       "    <tr>\n",
       "      <th>19321</th>\n",
       "      <td>0</td>\n",
       "      <td>1203</td>\n",
       "      <td>23</td>\n",
       "      <td>среднее</td>\n",
       "      <td>1</td>\n",
       "      <td>Не женат / не замужем</td>\n",
       "      <td>4</td>\n",
       "      <td>F</td>\n",
       "      <td>сотрудник</td>\n",
       "      <td>0</td>\n",
       "      <td>128240</td>\n",
       "      <td>сделка с подержанным автомобилем</td>\n",
       "      <td>age18-25</td>\n",
       "    </tr>\n",
       "    <tr>\n",
       "      <th>18328</th>\n",
       "      <td>0</td>\n",
       "      <td>1203</td>\n",
       "      <td>29</td>\n",
       "      <td>высшее</td>\n",
       "      <td>0</td>\n",
       "      <td>женат / замужем</td>\n",
       "      <td>0</td>\n",
       "      <td>M</td>\n",
       "      <td>сотрудник</td>\n",
       "      <td>0</td>\n",
       "      <td>174966</td>\n",
       "      <td>покупка жилой недвижимости</td>\n",
       "      <td>age26-35</td>\n",
       "    </tr>\n",
       "    <tr>\n",
       "      <th>6312</th>\n",
       "      <td>0</td>\n",
       "      <td>1203</td>\n",
       "      <td>30</td>\n",
       "      <td>среднее</td>\n",
       "      <td>1</td>\n",
       "      <td>женат / замужем</td>\n",
       "      <td>0</td>\n",
       "      <td>M</td>\n",
       "      <td>сотрудник</td>\n",
       "      <td>0</td>\n",
       "      <td>140704</td>\n",
       "      <td>строительство жилой недвижимости</td>\n",
       "      <td>age26-35</td>\n",
       "    </tr>\n",
       "    <tr>\n",
       "      <th>18349</th>\n",
       "      <td>1</td>\n",
       "      <td>1203</td>\n",
       "      <td>30</td>\n",
       "      <td>высшее</td>\n",
       "      <td>0</td>\n",
       "      <td>женат / замужем</td>\n",
       "      <td>0</td>\n",
       "      <td>F</td>\n",
       "      <td>госслужащий</td>\n",
       "      <td>0</td>\n",
       "      <td>174966</td>\n",
       "      <td>покупка жилья для семьи</td>\n",
       "      <td>age26-35</td>\n",
       "    </tr>\n",
       "    <tr>\n",
       "      <th>21281</th>\n",
       "      <td>1</td>\n",
       "      <td>1203</td>\n",
       "      <td>30</td>\n",
       "      <td>высшее</td>\n",
       "      <td>0</td>\n",
       "      <td>женат / замужем</td>\n",
       "      <td>0</td>\n",
       "      <td>F</td>\n",
       "      <td>сотрудник</td>\n",
       "      <td>0</td>\n",
       "      <td>174966</td>\n",
       "      <td>покупка коммерческой недвижимости</td>\n",
       "      <td>age26-35</td>\n",
       "    </tr>\n",
       "    <tr>\n",
       "      <th>13878</th>\n",
       "      <td>1</td>\n",
       "      <td>1203</td>\n",
       "      <td>31</td>\n",
       "      <td>среднее</td>\n",
       "      <td>1</td>\n",
       "      <td>женат / замужем</td>\n",
       "      <td>0</td>\n",
       "      <td>F</td>\n",
       "      <td>компаньон</td>\n",
       "      <td>0</td>\n",
       "      <td>140704</td>\n",
       "      <td>покупка жилья</td>\n",
       "      <td>age26-35</td>\n",
       "    </tr>\n",
       "    <tr>\n",
       "      <th>16904</th>\n",
       "      <td>1</td>\n",
       "      <td>1203</td>\n",
       "      <td>32</td>\n",
       "      <td>высшее</td>\n",
       "      <td>0</td>\n",
       "      <td>женат / замужем</td>\n",
       "      <td>0</td>\n",
       "      <td>F</td>\n",
       "      <td>сотрудник</td>\n",
       "      <td>0</td>\n",
       "      <td>174966</td>\n",
       "      <td>на покупку подержанного автомобиля</td>\n",
       "      <td>age26-35</td>\n",
       "    </tr>\n",
       "    <tr>\n",
       "      <th>9238</th>\n",
       "      <td>2</td>\n",
       "      <td>1203</td>\n",
       "      <td>34</td>\n",
       "      <td>среднее</td>\n",
       "      <td>1</td>\n",
       "      <td>женат / замужем</td>\n",
       "      <td>0</td>\n",
       "      <td>F</td>\n",
       "      <td>сотрудник</td>\n",
       "      <td>0</td>\n",
       "      <td>140704</td>\n",
       "      <td>покупка жилья для сдачи</td>\n",
       "      <td>age26-35</td>\n",
       "    </tr>\n",
       "    <tr>\n",
       "      <th>4182</th>\n",
       "      <td>1</td>\n",
       "      <td>1203</td>\n",
       "      <td>34</td>\n",
       "      <td>высшее</td>\n",
       "      <td>0</td>\n",
       "      <td>гражданский брак</td>\n",
       "      <td>1</td>\n",
       "      <td>F</td>\n",
       "      <td>сотрудник</td>\n",
       "      <td>0</td>\n",
       "      <td>174966</td>\n",
       "      <td>свадьба</td>\n",
       "      <td>age26-35</td>\n",
       "    </tr>\n",
       "  </tbody>\n",
       "</table>\n",
       "</div>"
      ],
      "text/plain": [
       "       children  days_employed  dob_years education  education_id  \\\n",
       "20297         1           1203         23   среднее             1   \n",
       "19321         0           1203         23   среднее             1   \n",
       "18328         0           1203         29    высшее             0   \n",
       "6312          0           1203         30   среднее             1   \n",
       "18349         1           1203         30    высшее             0   \n",
       "21281         1           1203         30    высшее             0   \n",
       "13878         1           1203         31   среднее             1   \n",
       "16904         1           1203         32    высшее             0   \n",
       "9238          2           1203         34   среднее             1   \n",
       "4182          1           1203         34    высшее             0   \n",
       "\n",
       "               family_status  family_status_id gender  income_type  debt  \\\n",
       "20297       гражданский брак                 1      F    сотрудник     0   \n",
       "19321  Не женат / не замужем                 4      F    сотрудник     0   \n",
       "18328        женат / замужем                 0      M    сотрудник     0   \n",
       "6312         женат / замужем                 0      M    сотрудник     0   \n",
       "18349        женат / замужем                 0      F  госслужащий     0   \n",
       "21281        женат / замужем                 0      F    сотрудник     0   \n",
       "13878        женат / замужем                 0      F    компаньон     0   \n",
       "16904        женат / замужем                 0      F    сотрудник     0   \n",
       "9238         женат / замужем                 0      F    сотрудник     0   \n",
       "4182        гражданский брак                 1      F    сотрудник     0   \n",
       "\n",
       "       total_income                             purpose age_group  \n",
       "20297        128240                     сыграть свадьбу  age18-25  \n",
       "19321        128240    сделка с подержанным автомобилем  age18-25  \n",
       "18328        174966          покупка жилой недвижимости  age26-35  \n",
       "6312         140704    строительство жилой недвижимости  age26-35  \n",
       "18349        174966             покупка жилья для семьи  age26-35  \n",
       "21281        174966   покупка коммерческой недвижимости  age26-35  \n",
       "13878        140704                       покупка жилья  age26-35  \n",
       "16904        174966  на покупку подержанного автомобиля  age26-35  \n",
       "9238         140704             покупка жилья для сдачи  age26-35  \n",
       "4182         174966                             свадьба  age26-35  "
      ]
     },
     "execution_count": 48,
     "metadata": {},
     "output_type": "execute_result"
    }
   ],
   "source": [
    "data_filled.loc[ data_filled.duplicated() == True ].sort_values(by=['dob_years','total_income','family_status_id']).head(10)"
   ]
  },
  {
   "cell_type": "markdown",
   "id": "2d008ff8-57c9-4b10-896b-b960cb8b6d75",
   "metadata": {},
   "source": [
    "Судя по выгрузке данные, запрашиваемые как дубликаты на самом деле отличаются друг от друга. Так что не стоит ничего удалять"
   ]
  },
  {
   "cell_type": "markdown",
   "id": "0ad53483",
   "metadata": {},
   "source": [
    "### Шаг 2.5. Формирование дополнительных датафреймов словарей, декомпозиция исходного датафрейма."
   ]
  },
  {
   "cell_type": "markdown",
   "id": "5e00b264-7504-4062-a2f6-ac9de820d0ec",
   "metadata": {},
   "source": [
    "Выделим образование и семейное положение в отдельные таблицы"
   ]
  },
  {
   "cell_type": "code",
   "execution_count": 49,
   "id": "e86d649b-f224-4e97-bcaf-d4bd6a80a483",
   "metadata": {},
   "outputs": [],
   "source": [
    "data_education_dict     = data_filled[['education','education_id']].drop_duplicates().reset_index(drop=True)\n",
    "data_family_status_dict = data_filled[['family_status','family_status_id']].drop_duplicates().reset_index(drop=True)\n"
   ]
  },
  {
   "cell_type": "markdown",
   "id": "1927e94e-c8fc-4d3c-9766-24e2d2edfa1f",
   "metadata": {},
   "source": [
    "Удалим текстовые столбцы из оригинальной таблицы <code>data_filled</code>, оставив только индексы. Это позволит уменьшить расход памяти и увеличить скорость работы операций с таблицей."
   ]
  },
  {
   "cell_type": "code",
   "execution_count": 50,
   "id": "27a578bc-515d-4fd5-ac6b-c603bf30e672",
   "metadata": {},
   "outputs": [],
   "source": [
    "data_filled = data_filled.drop(columns=['family_status','education'])"
   ]
  },
  {
   "cell_type": "markdown",
   "id": "0a98a383",
   "metadata": {},
   "source": [
    "### Шаг 2.6. Категоризация дохода."
   ]
  },
  {
   "cell_type": "markdown",
   "id": "23cbcec3-dda7-4fba-bd58-02b549c72339",
   "metadata": {},
   "source": [
    "Запишем метод <code>get_income_category</code>, применив который к таблице мы сможем получить столбец <code>total_income_category</code>,<BR>\n",
    "позволяющий группировать клиентов по группам дохода"
   ]
  },
  {
   "cell_type": "code",
   "execution_count": 51,
   "id": "6d5c28b8-396f-424b-8d73-946e8a5ea2a6",
   "metadata": {},
   "outputs": [],
   "source": [
    "def get_income_category(income_value):\n",
    "    if    0 <= income_value <= 30000:\n",
    "        return 'E'\n",
    "    if 30000 < income_value <= 50000:\n",
    "        return 'D'\n",
    "    if 50000 < income_value <= 200000:\n",
    "        return 'C'\n",
    "    if 200000< income_value <= 1000000:\n",
    "        return 'B'\n",
    "    if income_value > 1000000:\n",
    "        return 'A'\n",
    "    return 'error'"
   ]
  },
  {
   "cell_type": "code",
   "execution_count": 52,
   "id": "3d1f01d9-14c8-4435-b3cb-cf0b6048b87a",
   "metadata": {},
   "outputs": [],
   "source": [
    "data_filled['total_income_category'] = data_filled['total_income'].apply(get_income_category)"
   ]
  },
  {
   "cell_type": "markdown",
   "id": "7b2e79ce",
   "metadata": {},
   "source": [
    "### Шаг 2.7. Категоризация целей кредита."
   ]
  },
  {
   "cell_type": "markdown",
   "id": "1685c018-4b04-43bf-8bd8-4987e9958328",
   "metadata": {},
   "source": [
    "Добавим функцию, выдающую категорию целей на основе значения цели <code>purpose</code> из таблицы"
   ]
  },
  {
   "cell_type": "code",
   "execution_count": 53,
   "id": "ff50ca41",
   "metadata": {},
   "outputs": [],
   "source": [
    "def get_purpose_category(purpose):\n",
    "    # Автомобиль\n",
    "    if  re.search('автомо',purpose) or \\\n",
    "        re.search('машин',purpose)  or \\\n",
    "        re.search('транспорт.*средств',purpose):\n",
    "        return 'операции с автомобилем'\n",
    "    \n",
    "    # Недвижимость\n",
    "    if  re.search('жиль',purpose) or \\\n",
    "        re.search('недвиж',purpose):\n",
    "        return 'операции с недвижимостью'\n",
    "    \n",
    "    # Свадьба\n",
    "    if  re.search('свадьб',purpose) or \\\n",
    "        re.search('свадеб',purpose) or \\\n",
    "        re.search('женить',purpose):\n",
    "        return 'проведение свадьбы'    \n",
    "    \n",
    "    # Образование\n",
    "    if  re.search('образов',purpose):\n",
    "        return 'получение образования'\n",
    "    \n",
    "    # на случай ошибки или плохой фильтрации\n",
    "    return 'error'"
   ]
  },
  {
   "cell_type": "markdown",
   "id": "a22d2c86-36a4-41e4-b298-38ef6546e2e7",
   "metadata": {},
   "source": [
    "Применим функцию к таблице для получения нового столбца <code>purpose_category</code>"
   ]
  },
  {
   "cell_type": "code",
   "execution_count": 54,
   "id": "cea69d13-3645-42ac-93cc-6564af94918a",
   "metadata": {},
   "outputs": [],
   "source": [
    "data_filled['purpose_category'] = data_filled['purpose'].apply(get_purpose_category)"
   ]
  },
  {
   "cell_type": "markdown",
   "id": "406b9e7b-0798-4081-aa64-873d6901f4a0",
   "metadata": {},
   "source": [
    "Проверим корректность результата"
   ]
  },
  {
   "cell_type": "code",
   "execution_count": 55,
   "id": "e9081cd3-eb47-433b-8479-34018098e188",
   "metadata": {},
   "outputs": [
    {
     "data": {
      "text/plain": [
       "операции с недвижимостью    10840\n",
       "операции с автомобилем       4315\n",
       "получение образования        4022\n",
       "проведение свадьбы           2348\n",
       "Name: purpose_category, dtype: int64"
      ]
     },
     "execution_count": 55,
     "metadata": {},
     "output_type": "execute_result"
    }
   ],
   "source": [
    "data_filled['purpose_category'].value_counts()"
   ]
  },
  {
   "cell_type": "markdown",
   "id": "1f885b25",
   "metadata": {},
   "source": [
    "### Ответы на вопросы."
   ]
  },
  {
   "cell_type": "markdown",
   "id": "e3782f75",
   "metadata": {},
   "source": [
    "##### Вопрос 1:"
   ]
  },
  {
   "cell_type": "markdown",
   "id": "ea05f5df",
   "metadata": {},
   "source": [
    "Есть ли зависимость между количеством детей и возвратом кредита в срок?"
   ]
  },
  {
   "cell_type": "markdown",
   "id": "ef1b77ac-c86b-49cf-908a-983196c4228f",
   "metadata": {},
   "source": [
    "Расчет:"
   ]
  },
  {
   "cell_type": "markdown",
   "id": "f05dea39-62ec-4e59-be32-e17255d07e43",
   "metadata": {},
   "source": [
    "Посчитаем число своевременных и несвоевременных погашений с помощью сводной таблицы и выведем её"
   ]
  },
  {
   "cell_type": "code",
   "execution_count": 56,
   "id": "8c9bf254-c3bc-48e4-b5a5-f913ae3fed3d",
   "metadata": {},
   "outputs": [
    {
     "data": {
      "text/html": [
       "<div>\n",
       "<style scoped>\n",
       "    .dataframe tbody tr th:only-of-type {\n",
       "        vertical-align: middle;\n",
       "    }\n",
       "\n",
       "    .dataframe tbody tr th {\n",
       "        vertical-align: top;\n",
       "    }\n",
       "\n",
       "    .dataframe thead th {\n",
       "        text-align: right;\n",
       "    }\n",
       "</style>\n",
       "<table border=\"1\" class=\"dataframe\">\n",
       "  <thead>\n",
       "    <tr style=\"text-align: right;\">\n",
       "      <th>debt</th>\n",
       "      <th>no_debts</th>\n",
       "      <th>debts</th>\n",
       "      <th>children</th>\n",
       "      <th>debt_ratio</th>\n",
       "      <th>debt_percentage</th>\n",
       "    </tr>\n",
       "    <tr>\n",
       "      <th>children</th>\n",
       "      <th></th>\n",
       "      <th></th>\n",
       "      <th></th>\n",
       "      <th></th>\n",
       "      <th></th>\n",
       "    </tr>\n",
       "  </thead>\n",
       "  <tbody>\n",
       "    <tr>\n",
       "      <th>5</th>\n",
       "      <td>9.0</td>\n",
       "      <td>0.0</td>\n",
       "      <td>5</td>\n",
       "      <td>inf</td>\n",
       "      <td>0.00</td>\n",
       "    </tr>\n",
       "    <tr>\n",
       "      <th>0</th>\n",
       "      <td>13154.0</td>\n",
       "      <td>1071.0</td>\n",
       "      <td>0</td>\n",
       "      <td>12.281979</td>\n",
       "      <td>7.53</td>\n",
       "    </tr>\n",
       "    <tr>\n",
       "      <th>3</th>\n",
       "      <td>303.0</td>\n",
       "      <td>27.0</td>\n",
       "      <td>3</td>\n",
       "      <td>11.222222</td>\n",
       "      <td>8.18</td>\n",
       "    </tr>\n",
       "    <tr>\n",
       "      <th>1</th>\n",
       "      <td>4420.0</td>\n",
       "      <td>445.0</td>\n",
       "      <td>1</td>\n",
       "      <td>9.932584</td>\n",
       "      <td>9.15</td>\n",
       "    </tr>\n",
       "    <tr>\n",
       "      <th>2</th>\n",
       "      <td>1861.0</td>\n",
       "      <td>194.0</td>\n",
       "      <td>2</td>\n",
       "      <td>9.592784</td>\n",
       "      <td>9.44</td>\n",
       "    </tr>\n",
       "    <tr>\n",
       "      <th>4</th>\n",
       "      <td>37.0</td>\n",
       "      <td>4.0</td>\n",
       "      <td>4</td>\n",
       "      <td>9.250000</td>\n",
       "      <td>9.76</td>\n",
       "    </tr>\n",
       "  </tbody>\n",
       "</table>\n",
       "</div>"
      ],
      "text/plain": [
       "debt      no_debts   debts  children  debt_ratio  debt_percentage\n",
       "children                                                         \n",
       "5              9.0     0.0         5         inf             0.00\n",
       "0          13154.0  1071.0         0   12.281979             7.53\n",
       "3            303.0    27.0         3   11.222222             8.18\n",
       "1           4420.0   445.0         1    9.932584             9.15\n",
       "2           1861.0   194.0         2    9.592784             9.44\n",
       "4             37.0     4.0         4    9.250000             9.76"
      ]
     },
     "execution_count": 56,
     "metadata": {},
     "output_type": "execute_result"
    }
   ],
   "source": [
    "# Сводная таблица:\n",
    "data_pivot_children = data_filled.pivot_table(index   = 'children',   \\\n",
    "                                              columns = 'debt',        \\\n",
    "                                              values  = 'dob_years',   \\\n",
    "                                              aggfunc = 'count').fillna(0)\n",
    "\n",
    "#Переименуем столбцы\n",
    "data_pivot_children = data_pivot_children.rename(columns={0:'no_debts',1:'debts'})\n",
    "\n",
    "# Добавим новый столбец, равный индексу. А в индексе у нас число детей\n",
    "data_pivot_children['children'] = data_pivot_children.index\n",
    "\n",
    "# Отношение числа клиентов с задолженностями по отношению к числу без задолженностей при текущем числе детей\n",
    "data_pivot_children['debt_ratio'] = data_pivot_children['no_debts'] / data_pivot_children['debts']\n",
    "\n",
    "# Процент числа клиентов с задолженностями при указанном числе детей\n",
    "data_pivot_children['debt_percentage'] = round(100* data_pivot_children['debts']       \\\n",
    "                                               / (  data_pivot_children['no_debts'] + data_pivot_children['debts']), 2)\n",
    "\n",
    "data_pivot_children.sort_values(by='debt_percentage')"
   ]
  },
  {
   "cell_type": "markdown",
   "id": "c337cb62-6751-4380-92d1-55e98ddfb8a8",
   "metadata": {},
   "source": [
    "Результат показывает что отсутствие детей в целом скорее говорит о более вероятной просрочке кредита. Результат с 5 детьми не рассматриваем так как при имеющейся статистике не было задолженностей у клиентов с этим числом детей."
   ]
  },
  {
   "cell_type": "code",
   "execution_count": 57,
   "id": "2e6f8e0e-d916-4b4f-b609-f1e3afbc141b",
   "metadata": {},
   "outputs": [],
   "source": [
    "no_debts_no_children, debts_no_children = data_pivot_children.loc[ data_pivot_children['children'] == 0,'no_debts'].sum(), \\\n",
    "                                          data_pivot_children.loc[ data_pivot_children['children'] == 0,'debts'].sum()\n",
    "no_debts_children,    debts_children    = data_pivot_children.loc[ data_pivot_children['children'] >  0,'no_debts'].sum(), \\\n",
    "                                          data_pivot_children.loc[ data_pivot_children['children'] >  0,'debts'].sum()"
   ]
  },
  {
   "cell_type": "code",
   "execution_count": 58,
   "id": "66c60ae5-9d0a-4168-abfc-a188e20a209d",
   "metadata": {},
   "outputs": [
    {
     "name": "stdout",
     "output_type": "stream",
     "text": [
      "Процент просрочек у бездетных клиентов: 7.53%\n",
      "Процент просрочек у клиентов с детьми: 9.18%\n"
     ]
    }
   ],
   "source": [
    "print(f\"Процент просрочек у бездетных клиентов: {debts_no_children / (debts_no_children + no_debts_no_children):.2%}\")\n",
    "print(f\"Процент просрочек у клиентов с детьми: {debts_children / (debts_children + no_debts_children):.2%}\")"
   ]
  },
  {
   "cell_type": "markdown",
   "id": "02ac021a-3d81-4bd1-bf89-c5c4670232fc",
   "metadata": {},
   "source": [
    "##### Ответ 1:"
   ]
  },
  {
   "cell_type": "markdown",
   "id": "196ffbea-a14d-4d5c-8d84-0d34ac2a6f41",
   "metadata": {},
   "source": [
    "Вывод: наличие детей немного увеличивает вероятность несвоевременного возврата. Примерно на 1.65%."
   ]
  },
  {
   "cell_type": "markdown",
   "id": "a4aeb76e-2fe1-4c44-ae12-fba9cde36283",
   "metadata": {},
   "source": [
    "##### Вопрос 2:"
   ]
  },
  {
   "cell_type": "markdown",
   "id": "a61f77a7-cb48-4f8b-993c-634ac4e7a612",
   "metadata": {},
   "source": [
    "Есть ли зависимость между семейным положением и возвратом кредита в срок?"
   ]
  },
  {
   "cell_type": "markdown",
   "id": "f6248ef8-6271-4003-8597-144f3711e333",
   "metadata": {},
   "source": [
    "Расчет:"
   ]
  },
  {
   "cell_type": "code",
   "execution_count": 59,
   "id": "9ce99771-5f07-40a6-8a09-b9547fbe5899",
   "metadata": {},
   "outputs": [
    {
     "data": {
      "text/html": [
       "<div>\n",
       "<style scoped>\n",
       "    .dataframe tbody tr th:only-of-type {\n",
       "        vertical-align: middle;\n",
       "    }\n",
       "\n",
       "    .dataframe tbody tr th {\n",
       "        vertical-align: top;\n",
       "    }\n",
       "\n",
       "    .dataframe thead th {\n",
       "        text-align: right;\n",
       "    }\n",
       "</style>\n",
       "<table border=\"1\" class=\"dataframe\">\n",
       "  <thead>\n",
       "    <tr style=\"text-align: right;\">\n",
       "      <th></th>\n",
       "      <th>no_debt</th>\n",
       "      <th>debt</th>\n",
       "      <th>family_status</th>\n",
       "      <th>debt_percentage</th>\n",
       "    </tr>\n",
       "  </thead>\n",
       "  <tbody>\n",
       "    <tr>\n",
       "      <th>2</th>\n",
       "      <td>897</td>\n",
       "      <td>63</td>\n",
       "      <td>вдовец / вдова</td>\n",
       "      <td>6.56</td>\n",
       "    </tr>\n",
       "    <tr>\n",
       "      <th>3</th>\n",
       "      <td>1110</td>\n",
       "      <td>85</td>\n",
       "      <td>в разводе</td>\n",
       "      <td>7.11</td>\n",
       "    </tr>\n",
       "    <tr>\n",
       "      <th>0</th>\n",
       "      <td>11449</td>\n",
       "      <td>931</td>\n",
       "      <td>женат / замужем</td>\n",
       "      <td>7.52</td>\n",
       "    </tr>\n",
       "    <tr>\n",
       "      <th>1</th>\n",
       "      <td>3789</td>\n",
       "      <td>388</td>\n",
       "      <td>гражданский брак</td>\n",
       "      <td>9.29</td>\n",
       "    </tr>\n",
       "    <tr>\n",
       "      <th>4</th>\n",
       "      <td>2539</td>\n",
       "      <td>274</td>\n",
       "      <td>Не женат / не замужем</td>\n",
       "      <td>9.74</td>\n",
       "    </tr>\n",
       "  </tbody>\n",
       "</table>\n",
       "</div>"
      ],
      "text/plain": [
       "   no_debt  debt          family_status  debt_percentage\n",
       "2      897    63         вдовец / вдова             6.56\n",
       "3     1110    85              в разводе             7.11\n",
       "0    11449   931        женат / замужем             7.52\n",
       "1     3789   388       гражданский брак             9.29\n",
       "4     2539   274  Не женат / не замужем             9.74"
      ]
     },
     "execution_count": 59,
     "metadata": {},
     "output_type": "execute_result"
    }
   ],
   "source": [
    "# Сделаем сводную табличку зависимости задолженностей от семейного статуса\n",
    "d_pivot_family_status = data_filled.pivot_table(index   = 'family_status_id', \\\n",
    "                                                columns = 'debt',             \\\n",
    "                                                values  = 'dob_years',        \\\n",
    "                                                aggfunc = 'count')\n",
    "\n",
    "d_pivot_family_status['family_status_id'] = d_pivot_family_status.index # Вынесем ID статуса из индекса в столбец\n",
    "d_pivot_family_status = d_pivot_family_status.reset_index(drop=True)\n",
    "\n",
    "# Для наглядности переименуем индикатор наличия задолженности\n",
    "d_pivot_family_status = d_pivot_family_status.rename(columns={0:'no_debt',1:'debt'}) \n",
    "\n",
    "# Для наглядности подгрузим наименования семейных статусов из созданной ранее таблички\n",
    "d_pivot_family_status = d_pivot_family_status.merge(data_family_status_dict,on='family_status_id',how='left')\n",
    "\n",
    "# Уберём столбец с идентификатором семейного статуса. Для наглядного представления таблицы он уже не нужен\n",
    "d_pivot_family_status = d_pivot_family_status.drop(columns='family_status_id')\n",
    "\n",
    "# Посчитаем процентное соотношение клиентов с задолженнсотями в подгруппе семейного статуса\n",
    "d_pivot_family_status['debt_percentage'] = round(100*d_pivot_family_status['debt'] / (d_pivot_family_status['debt']+d_pivot_family_status['no_debt']),2)\n",
    "\n",
    "# Отсортируем по росту задолженности и посмотрим что получилось\n",
    "d_pivot_family_status.sort_values(by='debt_percentage')\n"
   ]
  },
  {
   "cell_type": "markdown",
   "id": "4da3dab8-c9a5-406a-a483-3d842ba0978d",
   "metadata": {},
   "source": [
    "##### Ответ 2:"
   ]
  },
  {
   "cell_type": "markdown",
   "id": "eddbf813-ed53-46d3-900f-ec4374505b57",
   "metadata": {},
   "source": [
    "Вывод: Есть зависимость между семейным статусом и несвоевременными уплатами кредитов. Если клиент не вступал в брак то вероятность несвоевременной оплаты кредита выше на 2.22% чем у тех кто в данный момент состоит в браке.\n",
    "Наименьший процент проблемных кредитов у вдовец/вдовцов и у разведённых."
   ]
  },
  {
   "cell_type": "markdown",
   "id": "4ae60fce-0c2c-4b80-88b9-7be6b4890d95",
   "metadata": {},
   "source": [
    "##### Вопрос 3:"
   ]
  },
  {
   "cell_type": "markdown",
   "id": "1cce0e3a-8c6a-4df7-9bf4-b46b262f320e",
   "metadata": {},
   "source": [
    "Есть ли зависимость между уровнем дохода и возвратом кредита в срок?"
   ]
  },
  {
   "cell_type": "markdown",
   "id": "256574b3-6297-4938-b3ea-93fe06f9d69c",
   "metadata": {},
   "source": [
    "Расчет:"
   ]
  },
  {
   "cell_type": "code",
   "execution_count": 60,
   "id": "d912ecd7-f86f-449c-a190-1ab611a61624",
   "metadata": {},
   "outputs": [
    {
     "data": {
      "text/html": [
       "<div>\n",
       "<style scoped>\n",
       "    .dataframe tbody tr th:only-of-type {\n",
       "        vertical-align: middle;\n",
       "    }\n",
       "\n",
       "    .dataframe tbody tr th {\n",
       "        vertical-align: top;\n",
       "    }\n",
       "\n",
       "    .dataframe thead th {\n",
       "        text-align: right;\n",
       "    }\n",
       "</style>\n",
       "<table border=\"1\" class=\"dataframe\">\n",
       "  <thead>\n",
       "    <tr style=\"text-align: right;\">\n",
       "      <th></th>\n",
       "      <th>no_debt</th>\n",
       "      <th>debt</th>\n",
       "      <th>income_category</th>\n",
       "      <th>income_range</th>\n",
       "      <th>debt_percentage</th>\n",
       "    </tr>\n",
       "  </thead>\n",
       "  <tbody>\n",
       "    <tr>\n",
       "      <th>3</th>\n",
       "      <td>329</td>\n",
       "      <td>21</td>\n",
       "      <td>D</td>\n",
       "      <td>30001-50000</td>\n",
       "      <td>6.00</td>\n",
       "    </tr>\n",
       "    <tr>\n",
       "      <th>1</th>\n",
       "      <td>4685</td>\n",
       "      <td>356</td>\n",
       "      <td>B</td>\n",
       "      <td>200001-1000000</td>\n",
       "      <td>7.06</td>\n",
       "    </tr>\n",
       "    <tr>\n",
       "      <th>0</th>\n",
       "      <td>23</td>\n",
       "      <td>2</td>\n",
       "      <td>A</td>\n",
       "      <td>1000000+</td>\n",
       "      <td>8.00</td>\n",
       "    </tr>\n",
       "    <tr>\n",
       "      <th>2</th>\n",
       "      <td>14727</td>\n",
       "      <td>1360</td>\n",
       "      <td>C</td>\n",
       "      <td>50001-200000</td>\n",
       "      <td>8.45</td>\n",
       "    </tr>\n",
       "    <tr>\n",
       "      <th>4</th>\n",
       "      <td>20</td>\n",
       "      <td>2</td>\n",
       "      <td>E</td>\n",
       "      <td>0-30000</td>\n",
       "      <td>9.09</td>\n",
       "    </tr>\n",
       "  </tbody>\n",
       "</table>\n",
       "</div>"
      ],
      "text/plain": [
       "   no_debt  debt income_category    income_range  debt_percentage\n",
       "3      329    21               D     30001-50000             6.00\n",
       "1     4685   356               B  200001-1000000             7.06\n",
       "0       23     2               A        1000000+             8.00\n",
       "2    14727  1360               C    50001-200000             8.45\n",
       "4       20     2               E         0-30000             9.09"
      ]
     },
     "execution_count": 60,
     "metadata": {},
     "output_type": "execute_result"
    }
   ],
   "source": [
    "# Сделаем небольшой словарик по доходам для наглядности\n",
    "income_categories_df = pd.DataFrame(data={'income_category':['E','D','C','B','A'], \\\n",
    "                                          'income_range'   :['0-30000',            \\\n",
    "                                                             '30001-50000',        \\\n",
    "                                                             '50001-200000',       \\\n",
    "                                                             '200001-1000000',     \\\n",
    "                                                             '1000000+'] } )\n",
    "\n",
    "# Построим сводную табличку\n",
    "d_pivot_income = data_filled.pivot_table(index='total_income_category',columns='debt',values='dob_years',aggfunc='count')\n",
    "\n",
    "# \"Облагородим\" табличку для увеличения наглядности и добавим процент клиентов с несвоевременной оплатой\n",
    "d_pivot_income = d_pivot_income.rename(columns={0:'no_debt',1:'debt'})\n",
    "d_pivot_income['income_category'] = d_pivot_income.index # Выносим категории дохода в отдельный столбец из индекса\n",
    "d_pivot_income = d_pivot_income.reset_index(drop=True)   # Индекс удаляем\n",
    "d_pivot_income = d_pivot_income.merge(income_categories_df,on='income_category',how='left')\n",
    "d_pivot_income['debt_percentage'] = round(100*d_pivot_income['debt'] / (d_pivot_income['debt']+d_pivot_income['no_debt']),2)\n",
    "\n",
    "# Отсортируем по проценту проблемных кредитов и посмотрим на результат\n",
    "d_pivot_income.sort_values(by='debt_percentage')\n"
   ]
  },
  {
   "cell_type": "markdown",
   "id": "454e60f2-240d-409f-bcad-5ac26ea4111f",
   "metadata": {},
   "source": [
    "##### Ответ 3:"
   ]
  },
  {
   "cell_type": "markdown",
   "id": "3adc8eb1-cdf7-4a1d-853c-896d5e0f4fb3",
   "metadata": {},
   "source": [
    "Табличка с результатами показывает что наиболее \"безопасная\" в плане своевременного погашения\n",
    "кредитов группа - люди с доходами от 30 до 50 тыс.руб., а наиболее рискованная - с доходами до 30 тыс.руб. в месяц. Однако сложно назвать выборку полноценно репрезентативной для оценки рисков по группам A и E, так как число кредитов в этих подгруппах очень мало по отношению к общей массе.\n"
   ]
  },
  {
   "cell_type": "markdown",
   "id": "d06f5c54-320f-40f3-a62e-70cba2ece303",
   "metadata": {},
   "source": [
    "##### Вопрос 4:"
   ]
  },
  {
   "cell_type": "markdown",
   "id": "276e3f6e-7625-43cd-b98d-4ded13a8b08f",
   "metadata": {},
   "source": [
    "Как разные цели кредита влияют на его возврат в срок?"
   ]
  },
  {
   "cell_type": "markdown",
   "id": "f69f9bee-d420-4bb6-ac2a-7989078e573f",
   "metadata": {},
   "source": [
    "Расчет:"
   ]
  },
  {
   "cell_type": "code",
   "execution_count": 61,
   "id": "96ae8f17-5164-4ff4-a4ee-d18562b91bdf",
   "metadata": {},
   "outputs": [
    {
     "data": {
      "text/html": [
       "<div>\n",
       "<style scoped>\n",
       "    .dataframe tbody tr th:only-of-type {\n",
       "        vertical-align: middle;\n",
       "    }\n",
       "\n",
       "    .dataframe tbody tr th {\n",
       "        vertical-align: top;\n",
       "    }\n",
       "\n",
       "    .dataframe thead th {\n",
       "        text-align: right;\n",
       "    }\n",
       "</style>\n",
       "<table border=\"1\" class=\"dataframe\">\n",
       "  <thead>\n",
       "    <tr style=\"text-align: right;\">\n",
       "      <th>debt</th>\n",
       "      <th>no_debt</th>\n",
       "      <th>debt</th>\n",
       "      <th>debt_percentage</th>\n",
       "    </tr>\n",
       "    <tr>\n",
       "      <th>purpose_category</th>\n",
       "      <th></th>\n",
       "      <th></th>\n",
       "      <th></th>\n",
       "    </tr>\n",
       "  </thead>\n",
       "  <tbody>\n",
       "    <tr>\n",
       "      <th>операции с недвижимостью</th>\n",
       "      <td>10058</td>\n",
       "      <td>782</td>\n",
       "      <td>7.21</td>\n",
       "    </tr>\n",
       "    <tr>\n",
       "      <th>проведение свадьбы</th>\n",
       "      <td>2162</td>\n",
       "      <td>186</td>\n",
       "      <td>7.92</td>\n",
       "    </tr>\n",
       "    <tr>\n",
       "      <th>получение образования</th>\n",
       "      <td>3652</td>\n",
       "      <td>370</td>\n",
       "      <td>9.20</td>\n",
       "    </tr>\n",
       "    <tr>\n",
       "      <th>операции с автомобилем</th>\n",
       "      <td>3912</td>\n",
       "      <td>403</td>\n",
       "      <td>9.34</td>\n",
       "    </tr>\n",
       "  </tbody>\n",
       "</table>\n",
       "</div>"
      ],
      "text/plain": [
       "debt                      no_debt  debt  debt_percentage\n",
       "purpose_category                                        \n",
       "операции с недвижимостью    10058   782             7.21\n",
       "проведение свадьбы           2162   186             7.92\n",
       "получение образования        3652   370             9.20\n",
       "операции с автомобилем       3912   403             9.34"
      ]
     },
     "execution_count": 61,
     "metadata": {},
     "output_type": "execute_result"
    }
   ],
   "source": [
    "# Построим сводную табличку\n",
    "d_pivot_purpose = data_filled.pivot_table(index='purpose_category',columns='debt',values='dob_years',aggfunc='count')\n",
    "d_pivot_purpose = d_pivot_purpose.rename(columns={0:'no_debt',1:'debt'})\n",
    "\n",
    "# Добавим столбец с процентами\n",
    "d_pivot_purpose['debt_percentage'] = round(  100*d_pivot_purpose['debt']/(d_pivot_purpose['debt']+d_pivot_purpose['no_debt']), 2)\n",
    "\n",
    "# Упорядочим по процентам невозврата и посмотрим на результат\n",
    "d_pivot_purpose.sort_values(by='debt_percentage')"
   ]
  },
  {
   "cell_type": "markdown",
   "id": "5350964a-12cb-49e6-82c3-2c4ac7b8afca",
   "metadata": {},
   "source": [
    "##### Ответ 4:"
   ]
  },
  {
   "cell_type": "markdown",
   "id": "3fcf26dd-d1df-4f99-93a3-fd9c34726ed8",
   "metadata": {},
   "source": [
    "Вывод: наиболее безопасными с точки зрения возврата кредита (на основе имеющейся выборки) являются кредиты, выдаваемые на операции с недвижимостью.<BR>Наименее безопасными - автокредиты."
   ]
  },
  {
   "cell_type": "markdown",
   "id": "3605cd44",
   "metadata": {},
   "source": [
    "## Общий вывод:"
   ]
  },
  {
   "cell_type": "markdown",
   "id": "8872f778",
   "metadata": {},
   "source": [
    "На основе предоставленной выборки обнаружена связь перечисленных в гипотезе факторов, влияющих на своевременное погашение кредитов, а именно:<BR>\n",
    "- наличие детей\n",
    "- общий доход\n",
    "- семейное положение\n",
    "- цель получения кредита"
   ]
  },
  {
   "cell_type": "markdown",
   "id": "cbb3f80a-f6ee-4cb5-a0b8-7e0d0f866ced",
   "metadata": {},
   "source": [
    "В среднем каждый из факторов статистически связан с влиянием на вероятность своевременного погашения кредита примерно на 2 - 3%."
   ]
  },
  {
   "cell_type": "markdown",
   "id": "421e5e9d-9b9e-4ea1-babf-28dbfb7a5109",
   "metadata": {},
   "source": [
    "Наиболее безопасные с точки зрения возврата кредита - кредиты, выдаваемые: <BR>\n",
    "- на операции с недвижимостью\n",
    "- клиентам с доходом между 30 и 50 тысячами рублей в месяц\n",
    "- клиентам, не имеющим детей\n",
    "- клиентам, являющимся вдовами/вдовцами, либо находящимся в разводе"
   ]
  },
  {
   "cell_type": "markdown",
   "id": "c7143ebc-ceb6-4fab-87d4-758a28e5523a",
   "metadata": {},
   "source": [
    "Более \"рискованными\" являются кредиты, выдаваемыме:<BR>\n",
    "- клиентам с доходами до 30 тыс. руб. в месяц\n",
    "- на операции, связанные с автомобилями\n",
    "- клиентам у которых есть четверо детей\n",
    "- клиентам которые ещё не вышли замуж / не женились)"
   ]
  }
 ],
 "metadata": {
  "ExecuteTimeLog": [
   {
    "duration": 1627,
    "start_time": "2022-04-28T12:56:33.970Z"
   },
   {
    "duration": 21,
    "start_time": "2022-04-28T12:56:35.600Z"
   },
   {
    "duration": 20,
    "start_time": "2022-04-28T12:56:35.623Z"
   },
   {
    "duration": 43,
    "start_time": "2022-04-28T12:56:35.646Z"
   },
   {
    "duration": 33,
    "start_time": "2022-04-28T12:56:35.692Z"
   },
   {
    "duration": 8,
    "start_time": "2022-04-28T12:56:35.728Z"
   },
   {
    "duration": 8,
    "start_time": "2022-04-28T12:56:35.738Z"
   },
   {
    "duration": 43,
    "start_time": "2022-04-28T12:56:35.749Z"
   },
   {
    "duration": 3364,
    "start_time": "2022-04-28T12:56:35.796Z"
   },
   {
    "duration": 280,
    "start_time": "2022-04-28T12:56:39.164Z"
   },
   {
    "duration": 5,
    "start_time": "2022-04-28T12:56:39.446Z"
   },
   {
    "duration": 55,
    "start_time": "2022-04-28T12:56:39.453Z"
   },
   {
    "duration": 16,
    "start_time": "2022-04-28T12:56:39.510Z"
   },
   {
    "duration": 288,
    "start_time": "2022-04-28T12:56:39.528Z"
   },
   {
    "duration": 15,
    "start_time": "2022-04-28T12:56:39.818Z"
   },
   {
    "duration": 6,
    "start_time": "2022-04-28T12:56:39.836Z"
   },
   {
    "duration": 7,
    "start_time": "2022-04-28T12:56:39.844Z"
   },
   {
    "duration": 3323,
    "start_time": "2022-04-28T12:56:39.883Z"
   },
   {
    "duration": 2286,
    "start_time": "2022-04-28T12:56:43.208Z"
   },
   {
    "duration": 3356,
    "start_time": "2022-04-28T12:56:45.496Z"
   },
   {
    "duration": 2294,
    "start_time": "2022-04-28T12:56:48.855Z"
   },
   {
    "duration": 11,
    "start_time": "2022-04-28T12:56:51.152Z"
   },
   {
    "duration": 12,
    "start_time": "2022-04-28T12:56:51.190Z"
   },
   {
    "duration": 11,
    "start_time": "2022-04-28T12:56:51.205Z"
   },
   {
    "duration": 13,
    "start_time": "2022-04-28T12:56:51.219Z"
   },
   {
    "duration": 66,
    "start_time": "2022-04-28T12:56:51.234Z"
   },
   {
    "duration": 7,
    "start_time": "2022-04-28T12:56:51.302Z"
   },
   {
    "duration": 7,
    "start_time": "2022-04-28T12:56:51.314Z"
   },
   {
    "duration": 10,
    "start_time": "2022-04-28T12:56:51.323Z"
   },
   {
    "duration": 9,
    "start_time": "2022-04-28T12:56:51.335Z"
   },
   {
    "duration": 60,
    "start_time": "2022-04-28T12:56:51.346Z"
   },
   {
    "duration": 10,
    "start_time": "2022-04-28T12:56:51.407Z"
   },
   {
    "duration": 16,
    "start_time": "2022-04-28T12:56:51.418Z"
   },
   {
    "duration": 55,
    "start_time": "2022-04-28T12:56:51.436Z"
   },
   {
    "duration": 10,
    "start_time": "2022-04-28T12:56:51.493Z"
   },
   {
    "duration": 9,
    "start_time": "2022-04-28T12:56:51.505Z"
   },
   {
    "duration": 10,
    "start_time": "2022-04-28T12:56:51.516Z"
   },
   {
    "duration": 17,
    "start_time": "2022-04-28T12:56:51.528Z"
   },
   {
    "duration": 41,
    "start_time": "2022-04-28T12:56:51.547Z"
   },
   {
    "duration": 9,
    "start_time": "2022-04-28T12:56:51.590Z"
   },
   {
    "duration": 10,
    "start_time": "2022-04-28T12:56:51.609Z"
   },
   {
    "duration": 23,
    "start_time": "2022-04-28T12:56:51.621Z"
   },
   {
    "duration": 56,
    "start_time": "2022-04-28T12:56:51.646Z"
   },
   {
    "duration": 5,
    "start_time": "2022-04-28T12:56:51.704Z"
   },
   {
    "duration": 53,
    "start_time": "2022-04-28T12:56:51.712Z"
   },
   {
    "duration": 35,
    "start_time": "2022-04-28T12:56:51.767Z"
   },
   {
    "duration": 6,
    "start_time": "2022-04-28T12:56:51.804Z"
   },
   {
    "duration": 11,
    "start_time": "2022-04-28T12:56:51.812Z"
   },
   {
    "duration": 18,
    "start_time": "2022-04-28T12:56:51.825Z"
   },
   {
    "duration": 14,
    "start_time": "2022-04-28T12:56:51.845Z"
   },
   {
    "duration": 140,
    "start_time": "2022-04-28T12:56:51.861Z"
   },
   {
    "duration": 13,
    "start_time": "2022-04-28T12:56:52.004Z"
   },
   {
    "duration": 77,
    "start_time": "2022-04-28T12:56:52.020Z"
   },
   {
    "duration": 9,
    "start_time": "2022-04-28T12:56:52.100Z"
   },
   {
    "duration": 14,
    "start_time": "2022-04-28T12:56:52.112Z"
   },
   {
    "duration": 61,
    "start_time": "2022-04-28T12:56:52.128Z"
   },
   {
    "duration": 41,
    "start_time": "2022-04-28T12:56:52.190Z"
   },
   {
    "duration": 52,
    "start_time": "2022-04-28T12:56:52.234Z"
   },
   {
    "duration": 2108,
    "start_time": "2022-04-28T15:01:20.284Z"
   },
   {
    "duration": 33,
    "start_time": "2022-04-28T15:01:22.395Z"
   },
   {
    "duration": 19,
    "start_time": "2022-04-28T15:01:22.430Z"
   },
   {
    "duration": 13,
    "start_time": "2022-04-28T15:01:22.451Z"
   },
   {
    "duration": 20,
    "start_time": "2022-04-28T15:01:22.467Z"
   },
   {
    "duration": 34,
    "start_time": "2022-04-28T15:01:22.489Z"
   },
   {
    "duration": 5,
    "start_time": "2022-04-28T15:01:22.525Z"
   },
   {
    "duration": 12,
    "start_time": "2022-04-28T15:01:22.532Z"
   },
   {
    "duration": 1845,
    "start_time": "2022-04-28T15:01:22.546Z"
   },
   {
    "duration": 166,
    "start_time": "2022-04-28T15:01:24.393Z"
   },
   {
    "duration": 4,
    "start_time": "2022-04-28T15:01:24.561Z"
   },
   {
    "duration": 25,
    "start_time": "2022-04-28T15:01:24.566Z"
   },
   {
    "duration": 10,
    "start_time": "2022-04-28T15:01:24.593Z"
   },
   {
    "duration": 149,
    "start_time": "2022-04-28T15:01:24.624Z"
   },
   {
    "duration": 12,
    "start_time": "2022-04-28T15:01:24.775Z"
   },
   {
    "duration": 6,
    "start_time": "2022-04-28T15:01:24.789Z"
   },
   {
    "duration": 27,
    "start_time": "2022-04-28T15:01:24.796Z"
   },
   {
    "duration": 2809,
    "start_time": "2022-04-28T15:01:24.825Z"
   },
   {
    "duration": 1943,
    "start_time": "2022-04-28T15:01:27.636Z"
   },
   {
    "duration": 2904,
    "start_time": "2022-04-28T15:01:29.581Z"
   },
   {
    "duration": 1250,
    "start_time": "2022-04-28T15:01:32.487Z"
   },
   {
    "duration": 7,
    "start_time": "2022-04-28T15:01:33.739Z"
   },
   {
    "duration": 9,
    "start_time": "2022-04-28T15:01:33.748Z"
   },
   {
    "duration": 5,
    "start_time": "2022-04-28T15:01:33.759Z"
   },
   {
    "duration": 8,
    "start_time": "2022-04-28T15:01:33.766Z"
   },
   {
    "duration": 54,
    "start_time": "2022-04-28T15:01:33.775Z"
   },
   {
    "duration": 6,
    "start_time": "2022-04-28T15:01:33.830Z"
   },
   {
    "duration": 6,
    "start_time": "2022-04-28T15:01:33.837Z"
   },
   {
    "duration": 5,
    "start_time": "2022-04-28T15:01:33.844Z"
   },
   {
    "duration": 5,
    "start_time": "2022-04-28T15:01:33.851Z"
   },
   {
    "duration": 21,
    "start_time": "2022-04-28T15:01:33.857Z"
   },
   {
    "duration": 7,
    "start_time": "2022-04-28T15:01:33.880Z"
   },
   {
    "duration": 35,
    "start_time": "2022-04-28T15:01:33.888Z"
   },
   {
    "duration": 16,
    "start_time": "2022-04-28T15:01:33.925Z"
   },
   {
    "duration": 7,
    "start_time": "2022-04-28T15:01:33.942Z"
   },
   {
    "duration": 8,
    "start_time": "2022-04-28T15:01:33.951Z"
   },
   {
    "duration": 10,
    "start_time": "2022-04-28T15:01:33.960Z"
   },
   {
    "duration": 12,
    "start_time": "2022-04-28T15:01:33.972Z"
   },
   {
    "duration": 14,
    "start_time": "2022-04-28T15:01:33.986Z"
   },
   {
    "duration": 22,
    "start_time": "2022-04-28T15:01:34.002Z"
   },
   {
    "duration": 13,
    "start_time": "2022-04-28T15:01:34.028Z"
   },
   {
    "duration": 17,
    "start_time": "2022-04-28T15:01:34.042Z"
   },
   {
    "duration": 18,
    "start_time": "2022-04-28T15:01:34.061Z"
   },
   {
    "duration": 4,
    "start_time": "2022-04-28T15:01:34.081Z"
   },
   {
    "duration": 56,
    "start_time": "2022-04-28T15:01:34.087Z"
   },
   {
    "duration": 11,
    "start_time": "2022-04-28T15:01:34.145Z"
   },
   {
    "duration": 3,
    "start_time": "2022-04-28T15:01:34.158Z"
   },
   {
    "duration": 4,
    "start_time": "2022-04-28T15:01:34.163Z"
   },
   {
    "duration": 14,
    "start_time": "2022-04-28T15:01:34.169Z"
   },
   {
    "duration": 4,
    "start_time": "2022-04-28T15:01:34.185Z"
   },
   {
    "duration": 93,
    "start_time": "2022-04-28T15:01:34.191Z"
   },
   {
    "duration": 8,
    "start_time": "2022-04-28T15:01:34.285Z"
   },
   {
    "duration": 36,
    "start_time": "2022-04-28T15:01:34.294Z"
   },
   {
    "duration": 5,
    "start_time": "2022-04-28T15:01:34.332Z"
   },
   {
    "duration": 6,
    "start_time": "2022-04-28T15:01:34.339Z"
   },
   {
    "duration": 27,
    "start_time": "2022-04-28T15:01:34.346Z"
   },
   {
    "duration": 24,
    "start_time": "2022-04-28T15:01:34.375Z"
   },
   {
    "duration": 40,
    "start_time": "2022-04-28T15:01:34.400Z"
   },
   {
    "duration": 7,
    "start_time": "2022-04-28T15:10:06.632Z"
   },
   {
    "duration": 7,
    "start_time": "2022-04-28T15:10:19.734Z"
   },
   {
    "duration": 27,
    "start_time": "2022-04-28T15:14:57.911Z"
   },
   {
    "duration": 29,
    "start_time": "2022-04-28T15:16:07.777Z"
   },
   {
    "duration": 9,
    "start_time": "2022-04-28T15:17:34.199Z"
   },
   {
    "duration": 809,
    "start_time": "2022-05-05T12:05:03.177Z"
   },
   {
    "duration": 52,
    "start_time": "2022-05-05T12:06:16.449Z"
   },
   {
    "duration": 1304,
    "start_time": "2022-05-05T12:08:18.400Z"
   },
   {
    "duration": 517,
    "start_time": "2022-05-05T13:54:57.614Z"
   },
   {
    "duration": 6,
    "start_time": "2022-05-05T15:35:34.904Z"
   },
   {
    "duration": 9,
    "start_time": "2022-05-05T15:36:14.009Z"
   },
   {
    "duration": 22,
    "start_time": "2022-05-05T15:36:17.016Z"
   },
   {
    "duration": 32,
    "start_time": "2022-05-05T15:36:26.688Z"
   },
   {
    "duration": 5,
    "start_time": "2022-05-05T15:36:28.696Z"
   },
   {
    "duration": 6,
    "start_time": "2022-05-05T15:36:54.640Z"
   },
   {
    "duration": 94,
    "start_time": "2022-05-05T15:47:54.313Z"
   },
   {
    "duration": 461,
    "start_time": "2022-05-06T14:59:22.644Z"
   },
   {
    "duration": 4,
    "start_time": "2022-05-06T14:59:23.107Z"
   },
   {
    "duration": 5,
    "start_time": "2022-05-06T14:59:23.112Z"
   },
   {
    "duration": 840,
    "start_time": "2022-05-06T14:59:23.118Z"
   },
   {
    "duration": 14,
    "start_time": "2022-05-06T14:59:23.960Z"
   },
   {
    "duration": 18,
    "start_time": "2022-05-06T14:59:23.975Z"
   },
   {
    "duration": 5,
    "start_time": "2022-05-06T14:59:23.995Z"
   },
   {
    "duration": 19,
    "start_time": "2022-05-06T14:59:24.001Z"
   },
   {
    "duration": 6,
    "start_time": "2022-05-06T14:59:24.021Z"
   },
   {
    "duration": 7,
    "start_time": "2022-05-06T14:59:24.028Z"
   },
   {
    "duration": 6,
    "start_time": "2022-05-06T14:59:24.036Z"
   },
   {
    "duration": 1803,
    "start_time": "2022-05-06T14:59:24.044Z"
   },
   {
    "duration": 175,
    "start_time": "2022-05-06T14:59:25.849Z"
   },
   {
    "duration": 4,
    "start_time": "2022-05-06T14:59:26.027Z"
   },
   {
    "duration": 21,
    "start_time": "2022-05-06T14:59:26.032Z"
   },
   {
    "duration": 8,
    "start_time": "2022-05-06T14:59:26.055Z"
   },
   {
    "duration": 169,
    "start_time": "2022-05-06T14:59:26.065Z"
   },
   {
    "duration": 12,
    "start_time": "2022-05-06T14:59:26.235Z"
   },
   {
    "duration": 5,
    "start_time": "2022-05-06T14:59:26.249Z"
   },
   {
    "duration": 5,
    "start_time": "2022-05-06T14:59:26.255Z"
   },
   {
    "duration": 1883,
    "start_time": "2022-05-06T14:59:26.262Z"
   },
   {
    "duration": 1266,
    "start_time": "2022-05-06T14:59:28.147Z"
   },
   {
    "duration": 1973,
    "start_time": "2022-05-06T14:59:29.415Z"
   },
   {
    "duration": 1330,
    "start_time": "2022-05-06T14:59:31.392Z"
   },
   {
    "duration": 6,
    "start_time": "2022-05-06T14:59:32.724Z"
   },
   {
    "duration": 9,
    "start_time": "2022-05-06T14:59:32.731Z"
   },
   {
    "duration": 6,
    "start_time": "2022-05-06T14:59:32.741Z"
   },
   {
    "duration": 10,
    "start_time": "2022-05-06T14:59:32.748Z"
   },
   {
    "duration": 55,
    "start_time": "2022-05-06T14:59:32.760Z"
   },
   {
    "duration": 5,
    "start_time": "2022-05-06T14:59:32.816Z"
   },
   {
    "duration": 6,
    "start_time": "2022-05-06T14:59:32.823Z"
   },
   {
    "duration": 5,
    "start_time": "2022-05-06T14:59:32.830Z"
   },
   {
    "duration": 9,
    "start_time": "2022-05-06T14:59:32.836Z"
   },
   {
    "duration": 15,
    "start_time": "2022-05-06T14:59:32.847Z"
   },
   {
    "duration": 32,
    "start_time": "2022-05-06T14:59:32.864Z"
   },
   {
    "duration": 18,
    "start_time": "2022-05-06T14:59:32.899Z"
   },
   {
    "duration": 17,
    "start_time": "2022-05-06T14:59:32.919Z"
   },
   {
    "duration": 6,
    "start_time": "2022-05-06T14:59:32.938Z"
   },
   {
    "duration": 9,
    "start_time": "2022-05-06T14:59:32.946Z"
   },
   {
    "duration": 11,
    "start_time": "2022-05-06T14:59:32.957Z"
   },
   {
    "duration": 28,
    "start_time": "2022-05-06T14:59:32.972Z"
   },
   {
    "duration": 6,
    "start_time": "2022-05-06T14:59:33.003Z"
   },
   {
    "duration": 23,
    "start_time": "2022-05-06T14:59:33.011Z"
   },
   {
    "duration": 14,
    "start_time": "2022-05-06T14:59:33.036Z"
   },
   {
    "duration": 17,
    "start_time": "2022-05-06T14:59:33.052Z"
   },
   {
    "duration": 21,
    "start_time": "2022-05-06T14:59:33.071Z"
   },
   {
    "duration": 6,
    "start_time": "2022-05-06T14:59:33.094Z"
   },
   {
    "duration": 42,
    "start_time": "2022-05-06T14:59:33.102Z"
   },
   {
    "duration": 13,
    "start_time": "2022-05-06T14:59:33.146Z"
   },
   {
    "duration": 47,
    "start_time": "2022-05-06T14:59:33.160Z"
   },
   {
    "duration": 11,
    "start_time": "2022-05-06T14:59:33.209Z"
   },
   {
    "duration": 13,
    "start_time": "2022-05-06T14:59:33.222Z"
   },
   {
    "duration": 4,
    "start_time": "2022-05-06T14:59:33.236Z"
   },
   {
    "duration": 77,
    "start_time": "2022-05-06T14:59:33.242Z"
   },
   {
    "duration": 7,
    "start_time": "2022-05-06T14:59:33.321Z"
   },
   {
    "duration": 26,
    "start_time": "2022-05-06T14:59:33.329Z"
   },
   {
    "duration": 5,
    "start_time": "2022-05-06T14:59:33.356Z"
   },
   {
    "duration": 7,
    "start_time": "2022-05-06T14:59:33.363Z"
   },
   {
    "duration": 45,
    "start_time": "2022-05-06T14:59:33.372Z"
   },
   {
    "duration": 25,
    "start_time": "2022-05-06T14:59:33.419Z"
   },
   {
    "duration": 18,
    "start_time": "2022-05-06T14:59:33.446Z"
   },
   {
    "duration": 4,
    "start_time": "2022-05-06T15:03:22.943Z"
   },
   {
    "duration": 6,
    "start_time": "2022-05-06T15:03:26.165Z"
   }
  ],
  "kernelspec": {
   "display_name": "Python 3 (ipykernel)",
   "language": "python",
   "name": "python3"
  },
  "language_info": {
   "codemirror_mode": {
    "name": "ipython",
    "version": 3
   },
   "file_extension": ".py",
   "mimetype": "text/x-python",
   "name": "python",
   "nbconvert_exporter": "python",
   "pygments_lexer": "ipython3",
   "version": "3.9.16"
  },
  "toc": {
   "base_numbering": 1,
   "nav_menu": {},
   "number_sections": true,
   "sideBar": true,
   "skip_h1_title": true,
   "title_cell": "Table of Contents",
   "title_sidebar": "Contents",
   "toc_cell": false,
   "toc_position": {},
   "toc_section_display": true,
   "toc_window_display": false
  }
 },
 "nbformat": 4,
 "nbformat_minor": 5
}
