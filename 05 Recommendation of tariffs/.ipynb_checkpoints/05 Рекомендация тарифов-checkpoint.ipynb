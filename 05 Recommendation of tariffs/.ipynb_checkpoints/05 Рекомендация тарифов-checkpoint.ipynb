{
 "cells": [
  {
   "cell_type": "markdown",
   "metadata": {},
   "source": [
    "# Рекомендация тарифов"
   ]
  },
  {
   "cell_type": "markdown",
   "metadata": {},
   "source": [
    "В вашем распоряжении данные о поведении клиентов, которые уже перешли на эти тарифы (из проекта курса «Статистический анализ данных»). Нужно построить модель для задачи классификации, которая выберет подходящий тариф. Предобработка данных не понадобится — вы её уже сделали.\n",
    "\n",
    "Постройте модель с максимально большим значением *accuracy*. Чтобы сдать проект успешно, нужно довести долю правильных ответов по крайней мере до 0.75. Проверьте *accuracy* на тестовой выборке самостоятельно."
   ]
  },
  {
   "cell_type": "markdown",
   "metadata": {},
   "source": [
    "## Откройте и изучите файл"
   ]
  },
  {
   "cell_type": "code",
   "execution_count": 4,
   "metadata": {},
   "outputs": [],
   "source": [
    "import pandas as pd\n",
    "import platform\n",
    "\n",
    "from sklearn.tree import DecisionTreeClassifier\n",
    "from sklearn.ensemble import RandomForestClassifier\n",
    "from sklearn.linear_model import LogisticRegression \n",
    "from sklearn.model_selection import train_test_split\n",
    "from sklearn.metrics import accuracy_score\n",
    "from random import randint"
   ]
  },
  {
   "cell_type": "code",
   "execution_count": 5,
   "metadata": {},
   "outputs": [],
   "source": [
    "# На машинах исполнителя проекта файл с данными доступен через символический путь, \n",
    "# ссылающийса на папку на яндекс.диске, где расположен загружаемый файл. \n",
    "# В случае если хостом где выполняется анализ является какая-либо другая машина, \n",
    "# используем путь по умолчанию.\n",
    "try:    \n",
    "    host = platform.node()\n",
    "    if host in ['22varivoda','Gover-pc','MSI']:\n",
    "        filepath    = 'C:/_YDsymlink/Python/datascience/Projects/10 - Введение в машинное обучение/users_behavior.csv'\n",
    "    else:\n",
    "        filepath    = '/datasets/users_behavior.csv'\n",
    "except:\n",
    "    print(\"Не удалось подгрузить данные\")"
   ]
  },
  {
   "cell_type": "code",
   "execution_count": 6,
   "metadata": {},
   "outputs": [],
   "source": [
    "df = pd.read_csv(filepath)"
   ]
  },
  {
   "cell_type": "markdown",
   "metadata": {},
   "source": [
    "Посмотрим на образец исходных данных"
   ]
  },
  {
   "cell_type": "code",
   "execution_count": 7,
   "metadata": {},
   "outputs": [
    {
     "data": {
      "text/html": [
       "<div>\n",
       "<style scoped>\n",
       "    .dataframe tbody tr th:only-of-type {\n",
       "        vertical-align: middle;\n",
       "    }\n",
       "\n",
       "    .dataframe tbody tr th {\n",
       "        vertical-align: top;\n",
       "    }\n",
       "\n",
       "    .dataframe thead th {\n",
       "        text-align: right;\n",
       "    }\n",
       "</style>\n",
       "<table border=\"1\" class=\"dataframe\">\n",
       "  <thead>\n",
       "    <tr style=\"text-align: right;\">\n",
       "      <th></th>\n",
       "      <th>calls</th>\n",
       "      <th>minutes</th>\n",
       "      <th>messages</th>\n",
       "      <th>mb_used</th>\n",
       "      <th>is_ultra</th>\n",
       "    </tr>\n",
       "  </thead>\n",
       "  <tbody>\n",
       "    <tr>\n",
       "      <th>1698</th>\n",
       "      <td>26.0</td>\n",
       "      <td>149.13</td>\n",
       "      <td>23.0</td>\n",
       "      <td>17022.64</td>\n",
       "      <td>0</td>\n",
       "    </tr>\n",
       "    <tr>\n",
       "      <th>264</th>\n",
       "      <td>0.0</td>\n",
       "      <td>0.00</td>\n",
       "      <td>21.0</td>\n",
       "      <td>19559.55</td>\n",
       "      <td>0</td>\n",
       "    </tr>\n",
       "    <tr>\n",
       "      <th>841</th>\n",
       "      <td>59.0</td>\n",
       "      <td>371.10</td>\n",
       "      <td>0.0</td>\n",
       "      <td>14647.95</td>\n",
       "      <td>0</td>\n",
       "    </tr>\n",
       "    <tr>\n",
       "      <th>1281</th>\n",
       "      <td>148.0</td>\n",
       "      <td>1115.64</td>\n",
       "      <td>41.0</td>\n",
       "      <td>25465.40</td>\n",
       "      <td>1</td>\n",
       "    </tr>\n",
       "    <tr>\n",
       "      <th>3155</th>\n",
       "      <td>64.0</td>\n",
       "      <td>431.79</td>\n",
       "      <td>14.0</td>\n",
       "      <td>14675.42</td>\n",
       "      <td>0</td>\n",
       "    </tr>\n",
       "    <tr>\n",
       "      <th>3149</th>\n",
       "      <td>78.0</td>\n",
       "      <td>503.55</td>\n",
       "      <td>57.0</td>\n",
       "      <td>15258.51</td>\n",
       "      <td>0</td>\n",
       "    </tr>\n",
       "    <tr>\n",
       "      <th>1790</th>\n",
       "      <td>32.0</td>\n",
       "      <td>220.55</td>\n",
       "      <td>140.0</td>\n",
       "      <td>10349.31</td>\n",
       "      <td>1</td>\n",
       "    </tr>\n",
       "    <tr>\n",
       "      <th>379</th>\n",
       "      <td>51.0</td>\n",
       "      <td>426.24</td>\n",
       "      <td>112.0</td>\n",
       "      <td>5661.23</td>\n",
       "      <td>0</td>\n",
       "    </tr>\n",
       "    <tr>\n",
       "      <th>2275</th>\n",
       "      <td>58.0</td>\n",
       "      <td>395.81</td>\n",
       "      <td>77.0</td>\n",
       "      <td>25859.09</td>\n",
       "      <td>0</td>\n",
       "    </tr>\n",
       "    <tr>\n",
       "      <th>272</th>\n",
       "      <td>69.0</td>\n",
       "      <td>564.01</td>\n",
       "      <td>26.0</td>\n",
       "      <td>15656.78</td>\n",
       "      <td>0</td>\n",
       "    </tr>\n",
       "  </tbody>\n",
       "</table>\n",
       "</div>"
      ],
      "text/plain": [
       "      calls  minutes  messages   mb_used  is_ultra\n",
       "1698   26.0   149.13      23.0  17022.64         0\n",
       "264     0.0     0.00      21.0  19559.55         0\n",
       "841    59.0   371.10       0.0  14647.95         0\n",
       "1281  148.0  1115.64      41.0  25465.40         1\n",
       "3155   64.0   431.79      14.0  14675.42         0\n",
       "3149   78.0   503.55      57.0  15258.51         0\n",
       "1790   32.0   220.55     140.0  10349.31         1\n",
       "379    51.0   426.24     112.0   5661.23         0\n",
       "2275   58.0   395.81      77.0  25859.09         0\n",
       "272    69.0   564.01      26.0  15656.78         0"
      ]
     },
     "execution_count": 7,
     "metadata": {},
     "output_type": "execute_result"
    }
   ],
   "source": [
    "df.sample(10)"
   ]
  },
  {
   "cell_type": "markdown",
   "metadata": {},
   "source": [
    "## Разбейте данные на выборки"
   ]
  },
  {
   "cell_type": "markdown",
   "metadata": {},
   "source": [
    "Фиксированный гиперпараметр: random_state = 777"
   ]
  },
  {
   "cell_type": "code",
   "execution_count": 8,
   "metadata": {},
   "outputs": [],
   "source": [
    "const_random_state = 777"
   ]
  },
  {
   "cell_type": "markdown",
   "metadata": {},
   "source": [
    "Поделим датасет на три выборки: обучающая 60%, валидационная 20%, тестовая 20% (пропорция 3/1/1)."
   ]
  },
  {
   "cell_type": "code",
   "execution_count": 9,
   "metadata": {},
   "outputs": [],
   "source": [
    "df_train, df_valid_and_test = train_test_split(df, train_size=0.60, random_state = const_random_state)\n",
    "df_valid, df_test = train_test_split(df_valid_and_test, train_size = 0.5)\n",
    "\n",
    "# Разбиваем выборки на признаки\n",
    "features_train = df_train.drop(columns='is_ultra')\n",
    "target_train   = df_train['is_ultra']\n",
    "\n",
    "features_valid = df_valid.drop(columns='is_ultra')\n",
    "target_valid   = df_valid['is_ultra']\n",
    "\n",
    "features_test  = df_test.drop(columns='is_ultra')\n",
    "target_test    = df_test['is_ultra']"
   ]
  },
  {
   "cell_type": "markdown",
   "metadata": {},
   "source": [
    "Проверка на результат разбиения:"
   ]
  },
  {
   "cell_type": "code",
   "execution_count": 12,
   "metadata": {},
   "outputs": [
    {
     "name": "stdout",
     "output_type": "stream",
     "text": [
      "features_train содержит записи для 1928 объектов, что составляет 59.99% от изначального количества\n",
      "target_train содержит записи для 1928 объектов, что составляет 59.99% от изначального количества\n",
      "features_valid содержит записи для 643 объектов, что составляет 20.01% от изначального количества\n",
      "target_valid содержит записи для 643 объектов, что составляет 20.01% от изначального количества\n",
      "features_test содержит записи для 643 объектов, что составляет 20.01% от изначального количества\n",
      "target_test содержит записи для 643 объектов, что составляет 20.01% от изначального количества\n"
     ]
    }
   ],
   "source": [
    "print(f\"features_train содержит записи для {len(features_train)} объектов, что составляет {len(features_train)/len(df):.2%} от изначального количества\")\n",
    "print(f\"target_train содержит записи для {len(target_train)} объектов, что составляет {len(target_train)/len(df):.2%} от изначального количества\")\n",
    "print(f\"features_valid содержит записи для {len(features_valid)} объектов, что составляет {len(features_valid)/len(df):.2%} от изначального количества\")\n",
    "print(f\"target_valid содержит записи для {len(target_valid)} объектов, что составляет {len(target_valid)/len(df):.2%} от изначального количества\")\n",
    "print(f\"features_test содержит записи для {len(features_test)} объектов, что составляет {len(features_test)/len(df):.2%} от изначального количества\")\n",
    "print(f\"target_test содержит записи для {len(target_test)} объектов, что составляет {len(target_test)/len(df):.2%} от изначального количества\")"
   ]
  },
  {
   "cell_type": "markdown",
   "metadata": {},
   "source": [
    "## Исследуйте модели"
   ]
  },
  {
   "cell_type": "markdown",
   "metadata": {},
   "source": [
    "Будем пробовать разные модели обучения в следующем порядке: дерево, лес, логистическая регрессия.<BR>\n",
    "Для каждой модели будем менять в цикле гиперпараметры и считать для них точность предсказаний. Наиболее удачные наборы гипераметров сохраним в отдельные переменные."
   ]
  },
  {
   "cell_type": "markdown",
   "metadata": {},
   "source": [
    "### Дерево"
   ]
  },
  {
   "cell_type": "markdown",
   "metadata": {},
   "source": [
    "Диапазоны гиперпараметров:<BR>\n",
    "- max_depth - от 1 до 10\n",
    "- min_samples_split от 2 до 6\n",
    "- min_samples_split от 1 до 5"
   ]
  },
  {
   "cell_type": "code",
   "execution_count": null,
   "metadata": {},
   "outputs": [],
   "source": [
    "tree_best_depth = 0\n",
    "tree_best_leaf_samples = 0\n",
    "tree_best_split_samples = 0\n",
    "tree_best_accuracy = 0\n",
    "accuracy = 0"
   ]
  },
  {
   "cell_type": "code",
   "execution_count": null,
   "metadata": {},
   "outputs": [],
   "source": [
    "for depth in range(1,11):\n",
    "    for split_samples in range(2,7):\n",
    "        for leaf_samples in range(1,6):\n",
    "            # Инициализируем модель            \n",
    "            model = DecisionTreeClassifier(\n",
    "                max_depth = depth,\n",
    "                min_samples_split = split_samples,\n",
    "                min_samples_leaf  = leaf_samples,\n",
    "                random_state = const_random_state\n",
    "            )\n",
    "            \n",
    "            # Обучаем\n",
    "            model.fit(features_train, target_train)\n",
    "            \n",
    "            # Проверяем на валидационной выборке\n",
    "            predictions_tree_valid = model.predict(features_valid)\n",
    "            \n",
    "            # Проводим оценку точности\n",
    "            accuracy = accuracy_score(target_valid, predictions_tree_valid)\n",
    "            \n",
    "            if accuracy > tree_best_accuracy:\n",
    "                tree_best_accuracy = accuracy\n",
    "                tree_best_depth = depth\n",
    "                tree_best_split_samples = split_samples                \n",
    "                tree_best_leaf_samples  = leaf_samples \n",
    "                tree_best_model = model\n",
    "\n",
    "print(f'Алгорим \"Дерево\" (при random_state={const_random_state}):')\n",
    "print(f'   Наилучшая максимальная глубина: {tree_best_depth}')\n",
    "print(f'   Наилучшее значение min_samples_split: {tree_best_split_samples}')\n",
    "print(f'   Наилучшая значение min_samples_leaf: {tree_best_leaf_samples}')\n",
    "print(f'   Точность: {tree_best_accuracy:.2f}')"
   ]
  },
  {
   "cell_type": "markdown",
   "metadata": {},
   "source": [
    "### Лес"
   ]
  },
  {
   "cell_type": "markdown",
   "metadata": {},
   "source": [
    "Диапазоны гиперпараметров:\n",
    "\n",
    "- max_depth - от 1 до 10\n",
    "- n_estimators - от 10 до 200 с шагом 10\n",
    "- min_samples_split от 2 до 6\n",
    "- min_samples_split от 1 до 5"
   ]
  },
  {
   "cell_type": "code",
   "execution_count": null,
   "metadata": {},
   "outputs": [],
   "source": [
    "forest_best_depth = 0\n",
    "forest_best_n_estimators = 0\n",
    "forest_best_leaf_samples = 0\n",
    "forest_best_split_samples = 0\n",
    "forest_best_accuracy = 0\n",
    "accuracy = 0"
   ]
  },
  {
   "cell_type": "markdown",
   "metadata": {},
   "source": [
    "Запускаем длительный процесс выбора гиперпараметров (около 10-15 минут). Жертвуем временем на поиск эффективных параметров обучения для получения наилучшего результата"
   ]
  },
  {
   "cell_type": "markdown",
   "metadata": {},
   "source": [
    "Закомментируем оригинальные строки с перебором гиперпараметров чтобы не тратить много времени  на отработку циклов. Оставляю \"иммитацию\" с тем параметром который в итоге получился, чтобы всё отработало быстро."
   ]
  },
  {
   "cell_type": "code",
   "execution_count": null,
   "metadata": {},
   "outputs": [],
   "source": [
    "# ИММИТАЦИЯ\n",
    "for depth in range(10,11):\n",
    "    for n_est in range(50,51,10):\n",
    "        for split_samples in range(2,3):\n",
    "            for leaf_samples in range(3,4):\n",
    "                \n",
    "                # Инициализируем модель            \n",
    "                model = RandomForestClassifier(\n",
    "                            max_depth = depth,\n",
    "                            n_estimators = n_est,\n",
    "                            min_samples_split = split_samples,\n",
    "                            min_samples_leaf = leaf_samples,\n",
    "                            random_state = const_random_state\n",
    "                        )\n",
    "            \n",
    "                # Обучаем модель\n",
    "                model.fit(features_train, target_train)\n",
    "            \n",
    "                # Предсказываем по валидационному набору данных\n",
    "                predictions_forest_valid = model.predict(features_valid)\n",
    "            \n",
    "                # Проводим оценку\n",
    "                accuracy = accuracy_score(target_valid, predictions_forest_valid)\n",
    "            \n",
    "                if accuracy > forest_best_accuracy:\n",
    "                    forest_best_accuracy = accuracy\n",
    "                    forest_best_depth = depth\n",
    "                    forest_best_n_estimators = n_est\n",
    "                    forest_best_split_samples = split_samples\n",
    "                    forest_best_leaf_samples  = leaf_samples            \n",
    "                    forest_best_model = model\n",
    "\n",
    "print(f'Алгорим \"Лес\" (при random_state={const_random_state}):')\n",
    "print(f'   Наилучшая максимальная глубина: {forest_best_depth}')\n",
    "print(f'   Наилучшее число деревьев (n_estimators): {forest_best_n_estimators}')\n",
    "print(f'   Наилучшее значение min_samples_split: {forest_best_split_samples}')\n",
    "print(f'   Наилучшая значение min_samples_leaf: {forest_best_leaf_samples}')\n",
    "print(f'   Точность: {forest_best_accuracy:.2f}')"
   ]
  },
  {
   "cell_type": "markdown",
   "metadata": {},
   "source": [
    "### Логистическая регрессия"
   ]
  },
  {
   "cell_type": "markdown",
   "metadata": {},
   "source": [
    "Диапазоны гиперпараметров:\n",
    "\n",
    "- max_iter - от 80 до 200"
   ]
  },
  {
   "cell_type": "code",
   "execution_count": null,
   "metadata": {},
   "outputs": [],
   "source": [
    "log_reg_max_iter = 0\n",
    "log_reg_best_accuracy = 0\n",
    "accuracy = 0"
   ]
  },
  {
   "cell_type": "code",
   "execution_count": null,
   "metadata": {},
   "outputs": [],
   "source": [
    "for m_iter in range(80,200):\n",
    "    # Инициализируем модель\n",
    "    model = LogisticRegression(\n",
    "        max_iter = m_iter, \n",
    "        solver = 'lbfgs',\n",
    "        random_state = const_random_state)\n",
    "    \n",
    "    # Обучаем модель\n",
    "    model.fit(features_train,target_train)\n",
    "    \n",
    "    # Предсказываем целевой признак\n",
    "    predictions_log_reg = model.predict(features_valid)\n",
    "    \n",
    "    # Проверяем точность предсказаний, сравниваем с точностью при других значениях итераций\n",
    "    accuracy = model.score(features_valid, target_valid)\n",
    "    \n",
    "    if accuracy > log_reg_best_accuracy:\n",
    "        log_reg_best_accuracy = accuracy\n",
    "        log_reg_max_iter = m_iter\n",
    "        log_reg_best_model = model\n",
    "\n",
    "print(f'Алгорим \"Логистическая регрессия\" (при random_state={const_random_state}):')\n",
    "print(f'   Наилучшее количество итераций: {log_reg_max_iter}')\n",
    "print(f'   Точность: {log_reg_best_accuracy:.2f}') "
   ]
  },
  {
   "cell_type": "markdown",
   "metadata": {},
   "source": [
    "## Проверьте модель на тестовой выборке"
   ]
  },
  {
   "cell_type": "markdown",
   "metadata": {},
   "source": [
    "Ещё раз подводим итоги сравнения моделей:"
   ]
  },
  {
   "cell_type": "code",
   "execution_count": null,
   "metadata": {},
   "outputs": [],
   "source": [
    "print(f'Лучшее значение точности по модели \"Дерево решений\" {tree_best_accuracy:.2f}')\n",
    "print(f'Лучшее значение точности по модели \"Случайный лес\" {forest_best_accuracy:.2f}')\n",
    "print(f'Лучшее значение точности по модели \"Логистическая регрессия\" {log_reg_best_accuracy:.2f}')"
   ]
  },
  {
   "cell_type": "markdown",
   "metadata": {},
   "source": [
    "Делаем проверку с помощью тестовой выборки"
   ]
  },
  {
   "cell_type": "code",
   "execution_count": null,
   "metadata": {},
   "outputs": [],
   "source": [
    "tree_predict_test   = tree_best_model.predict(features_test)\n",
    "forest_predict_test = forest_best_model.predict(features_test)\n",
    "log_reg_predict_test= log_reg_best_model.predict(features_test)\n",
    "\n",
    "tree_test_accuracy_value   = accuracy_score(target_test, tree_predict_test   )\n",
    "forest_test_accuracy_value = accuracy_score(target_test, forest_predict_test )\n",
    "log_reg_accuracy_value     = accuracy_score(target_test, log_reg_predict_test)"
   ]
  },
  {
   "cell_type": "code",
   "execution_count": null,
   "metadata": {},
   "outputs": [],
   "source": [
    "print(f'Точность модели \"Дерево решений\" на тестовой выборке {tree_test_accuracy_value:.2f}')\n",
    "print(f'Точность модели \"Случайный лес\" на тестовой выборке {forest_test_accuracy_value:.2f}')\n",
    "print(f'Точность модели \"Логистическая регрессия\" на тестовой выборке {log_reg_accuracy_value:.2f}')"
   ]
  },
  {
   "cell_type": "markdown",
   "metadata": {},
   "source": [
    "<b>Вывод:</b><BR>\n",
    "Модель \"Случайный лес\" с гиперпараметрами: <BR>\n",
    "<code><BR>Максимальная глубина (max_depth): 10\n",
    "Число деревьев (n_estimators): 50\n",
    "min_samples_split: 2\n",
    "min_samples_leaf: 3\n",
    "</code><BR>\n",
    "является предпочтительной так как дает наибольшую точность предсказаний (около 79-81%). Эта точность достигнута результатом перебора всех перечисленных гиперпараметров в помощью циклов. Процесс перебора довольно длительный (по сравнению с моделями \"дерево решений\" и \"логистическая регрессия\", около 10-15 минут), однако дает б<b><i>о</b></i>льшую точность предсказаний.\n",
    "На втором месте стоит \"решающее дерево\". Его точность немного уступает \"случайному лесу\", но не сильно."
   ]
  },
  {
   "cell_type": "markdown",
   "metadata": {},
   "source": [
    "## (бонус) Проверьте модели на адекватность"
   ]
  },
  {
   "cell_type": "markdown",
   "metadata": {},
   "source": [
    "Создадим модель, дающую на выходе случайные значения 0 и 1. Значения будут генерироваться функцией random_model, принимающей на вход датасет из признаков и возвращающей Series, содержащий число записей, соответствующее числу числу строк в полученном датасете признаков."
   ]
  },
  {
   "cell_type": "code",
   "execution_count": null,
   "metadata": {},
   "outputs": [],
   "source": [
    "def random_model(features):\n",
    "    random_set = []\n",
    "    for i in range(0,len(features)):\n",
    "        random_set.append(randint(0,1))\n",
    "    return pd.Series(random_set,index=features.index)"
   ]
  },
  {
   "cell_type": "code",
   "execution_count": null,
   "metadata": {},
   "outputs": [],
   "source": [
    "predictions_random = random_model(features_test)\n",
    "\n",
    "accuracy_random = accuracy_score(predictions_random,target_test)"
   ]
  },
  {
   "cell_type": "markdown",
   "metadata": {},
   "source": [
    "Сравнение точностей проверенных (на тестовой выборке) моделей:"
   ]
  },
  {
   "cell_type": "code",
   "execution_count": null,
   "metadata": {},
   "outputs": [],
   "source": [
    "print(f'Модель \"Решающее дерево\": {tree_test_accuracy_value:.2f}')\n",
    "print(f'Модель \"Случайный лес\": {forest_test_accuracy_value:.2f}')\n",
    "print(f'Модель \"Логистическая регрессия\": {log_reg_accuracy_value:.2f}')\n",
    "print(f'\"Случайная\" модель: {accuracy_random:.2f}')"
   ]
  },
  {
   "cell_type": "markdown",
   "metadata": {},
   "source": [
    "<b>Вывод</b>"
   ]
  },
  {
   "cell_type": "markdown",
   "metadata": {},
   "source": [
    "Все проверенные модели существенно превосходят по точности \"случайную\" модель, показывая неплохие результаты."
   ]
  }
 ],
 "metadata": {
  "ExecuteTimeLog": [
   {
    "duration": 1094,
    "start_time": "2022-06-30T22:29:28.184Z"
   },
   {
    "duration": 5,
    "start_time": "2022-06-30T22:29:29.280Z"
   },
   {
    "duration": 2,
    "start_time": "2022-06-30T22:29:32.666Z"
   },
   {
    "duration": 4,
    "start_time": "2022-06-30T22:30:56.858Z"
   },
   {
    "duration": 85,
    "start_time": "2022-06-30T22:30:59.073Z"
   },
   {
    "duration": 5,
    "start_time": "2022-06-30T22:31:07.345Z"
   },
   {
    "duration": 4,
    "start_time": "2022-06-30T22:31:56.560Z"
   },
   {
    "duration": 126,
    "start_time": "2022-06-30T22:32:00.621Z"
   },
   {
    "duration": 21,
    "start_time": "2022-06-30T22:32:01.877Z"
   },
   {
    "duration": 6,
    "start_time": "2022-06-30T22:32:25.853Z"
   },
   {
    "duration": 11,
    "start_time": "2022-06-30T22:35:13.509Z"
   },
   {
    "duration": 8,
    "start_time": "2022-07-01T17:47:47.894Z"
   },
   {
    "duration": 3,
    "start_time": "2022-07-01T17:57:35.999Z"
   },
   {
    "duration": 3,
    "start_time": "2022-07-01T17:57:41.745Z"
   },
   {
    "duration": 59,
    "start_time": "2022-07-01T17:57:42.997Z"
   },
   {
    "duration": 1261,
    "start_time": "2022-07-01T17:58:09.745Z"
   },
   {
    "duration": 4,
    "start_time": "2022-07-01T17:58:11.008Z"
   },
   {
    "duration": 61,
    "start_time": "2022-07-01T17:58:11.694Z"
   },
   {
    "duration": 19,
    "start_time": "2022-07-01T17:58:12.084Z"
   },
   {
    "duration": 11,
    "start_time": "2022-07-01T17:58:14.997Z"
   },
   {
    "duration": 3,
    "start_time": "2022-07-01T17:58:16.541Z"
   },
   {
    "duration": 3,
    "start_time": "2022-07-01T17:58:19.496Z"
   },
   {
    "duration": 75,
    "start_time": "2022-07-01T17:58:21.102Z"
   },
   {
    "duration": 2,
    "start_time": "2022-07-01T18:00:10.216Z"
   },
   {
    "duration": 19,
    "start_time": "2022-07-01T18:00:10.711Z"
   },
   {
    "duration": 5,
    "start_time": "2022-07-01T18:01:12.232Z"
   },
   {
    "duration": 16,
    "start_time": "2022-07-01T18:01:15.792Z"
   },
   {
    "duration": 7,
    "start_time": "2022-07-01T18:01:28.693Z"
   },
   {
    "duration": 3,
    "start_time": "2022-07-01T18:01:31.755Z"
   },
   {
    "duration": 18,
    "start_time": "2022-07-01T18:01:35.401Z"
   },
   {
    "duration": 3,
    "start_time": "2022-07-01T18:03:08.143Z"
   },
   {
    "duration": 3,
    "start_time": "2022-07-01T18:03:18.589Z"
   },
   {
    "duration": 3,
    "start_time": "2022-07-01T18:03:19.367Z"
   },
   {
    "duration": 30,
    "start_time": "2022-07-01T18:03:20.119Z"
   },
   {
    "duration": 11,
    "start_time": "2022-07-01T18:03:20.611Z"
   },
   {
    "duration": 3,
    "start_time": "2022-07-01T18:03:22.194Z"
   },
   {
    "duration": 54,
    "start_time": "2022-07-01T18:03:23.091Z"
   },
   {
    "duration": 8,
    "start_time": "2022-07-01T18:04:14.395Z"
   },
   {
    "duration": 3,
    "start_time": "2022-07-01T18:04:23.657Z"
   },
   {
    "duration": 18,
    "start_time": "2022-07-01T18:04:26.766Z"
   },
   {
    "duration": 20,
    "start_time": "2022-07-01T18:05:01.836Z"
   },
   {
    "duration": 3,
    "start_time": "2022-07-01T18:08:27.996Z"
   },
   {
    "duration": 15,
    "start_time": "2022-07-01T18:11:05.986Z"
   },
   {
    "duration": 3,
    "start_time": "2022-07-01T18:11:22.987Z"
   },
   {
    "duration": 1619,
    "start_time": "2022-07-01T18:11:23.398Z"
   },
   {
    "duration": 8,
    "start_time": "2022-07-01T18:11:50.883Z"
   },
   {
    "duration": 1556,
    "start_time": "2022-07-01T18:12:02.786Z"
   },
   {
    "duration": 1651,
    "start_time": "2022-07-01T18:12:19.298Z"
   },
   {
    "duration": 1516,
    "start_time": "2022-07-01T18:13:08.884Z"
   },
   {
    "duration": 1870,
    "start_time": "2022-07-01T18:42:15.593Z"
   },
   {
    "duration": 11,
    "start_time": "2022-07-01T18:43:09.357Z"
   },
   {
    "duration": 6,
    "start_time": "2022-07-01T18:44:42.210Z"
   },
   {
    "duration": 12,
    "start_time": "2022-07-01T18:44:46.448Z"
   },
   {
    "duration": 6,
    "start_time": "2022-07-01T18:44:51.862Z"
   },
   {
    "duration": 2026,
    "start_time": "2022-07-01T18:45:00.410Z"
   },
   {
    "duration": 1671,
    "start_time": "2022-07-01T18:45:09.143Z"
   },
   {
    "duration": 3,
    "start_time": "2022-07-01T18:45:19.623Z"
   },
   {
    "duration": 9,
    "start_time": "2022-07-01T18:45:21.391Z"
   },
   {
    "duration": 3,
    "start_time": "2022-07-01T18:45:23.664Z"
   },
   {
    "duration": 1610,
    "start_time": "2022-07-01T18:45:24.346Z"
   },
   {
    "duration": 3,
    "start_time": "2022-07-01T18:45:35.887Z"
   },
   {
    "duration": 1632,
    "start_time": "2022-07-01T18:45:36.487Z"
   },
   {
    "duration": 1216,
    "start_time": "2022-07-01T18:45:53.993Z"
   },
   {
    "duration": 4,
    "start_time": "2022-07-01T18:45:55.211Z"
   },
   {
    "duration": 54,
    "start_time": "2022-07-01T18:45:55.216Z"
   },
   {
    "duration": 20,
    "start_time": "2022-07-01T18:45:55.271Z"
   },
   {
    "duration": 22,
    "start_time": "2022-07-01T18:45:55.295Z"
   },
   {
    "duration": 40,
    "start_time": "2022-07-01T18:45:55.319Z"
   },
   {
    "duration": 4,
    "start_time": "2022-07-01T18:45:55.361Z"
   },
   {
    "duration": 1679,
    "start_time": "2022-07-01T18:45:55.367Z"
   },
   {
    "duration": 9,
    "start_time": "2022-07-01T18:45:57.052Z"
   },
   {
    "duration": 10,
    "start_time": "2022-07-01T18:45:57.065Z"
   },
   {
    "duration": 3,
    "start_time": "2022-07-01T18:46:06.947Z"
   },
   {
    "duration": 3,
    "start_time": "2022-07-01T18:56:19.246Z"
   },
   {
    "duration": 4,
    "start_time": "2022-07-01T18:56:19.784Z"
   },
   {
    "duration": 22,
    "start_time": "2022-07-01T18:56:20.368Z"
   },
   {
    "duration": 18,
    "start_time": "2022-07-01T18:56:20.841Z"
   },
   {
    "duration": 6,
    "start_time": "2022-07-01T18:56:22.823Z"
   },
   {
    "duration": 14,
    "start_time": "2022-07-01T18:56:23.615Z"
   },
   {
    "duration": 4,
    "start_time": "2022-07-01T18:56:25.896Z"
   },
   {
    "duration": 1563,
    "start_time": "2022-07-01T18:56:27.296Z"
   },
   {
    "duration": 3,
    "start_time": "2022-07-01T18:56:30.950Z"
   },
   {
    "duration": 3,
    "start_time": "2022-07-01T18:56:35.679Z"
   },
   {
    "duration": 65,
    "start_time": "2022-07-01T18:56:39.245Z"
   },
   {
    "duration": 1186894,
    "start_time": "2022-07-01T18:57:19.807Z"
   },
   {
    "duration": 7,
    "start_time": "2022-07-01T19:19:36.177Z"
   },
   {
    "duration": 3,
    "start_time": "2022-07-01T22:04:11.563Z"
   },
   {
    "duration": 110,
    "start_time": "2022-07-01T22:04:12.234Z"
   },
   {
    "duration": 9,
    "start_time": "2022-07-01T22:04:35.865Z"
   },
   {
    "duration": 4,
    "start_time": "2022-07-01T22:05:06.672Z"
   },
   {
    "duration": 9,
    "start_time": "2022-07-01T22:05:11.895Z"
   },
   {
    "duration": 186,
    "start_time": "2022-07-01T22:05:27.264Z"
   },
   {
    "duration": 3,
    "start_time": "2022-07-01T22:05:32.182Z"
   },
   {
    "duration": 913,
    "start_time": "2022-07-01T22:05:53.997Z"
   },
   {
    "duration": 1379,
    "start_time": "2022-07-01T22:06:12.622Z"
   },
   {
    "duration": 2,
    "start_time": "2022-07-01T22:06:23.947Z"
   },
   {
    "duration": 1372,
    "start_time": "2022-07-01T22:06:24.487Z"
   },
   {
    "duration": 5021,
    "start_time": "2022-07-01T22:06:56.028Z"
   },
   {
    "duration": 2387,
    "start_time": "2022-07-01T22:07:03.602Z"
   },
   {
    "duration": 1204,
    "start_time": "2022-07-01T22:07:39.073Z"
   },
   {
    "duration": 938,
    "start_time": "2022-07-01T22:07:43.586Z"
   },
   {
    "duration": 5,
    "start_time": "2022-07-01T22:07:47.602Z"
   },
   {
    "duration": 4,
    "start_time": "2022-07-01T22:07:51.544Z"
   },
   {
    "duration": 5,
    "start_time": "2022-07-01T22:07:51.786Z"
   },
   {
    "duration": 3,
    "start_time": "2022-07-01T22:07:59.200Z"
   },
   {
    "duration": 234,
    "start_time": "2022-07-01T22:07:59.624Z"
   },
   {
    "duration": 57,
    "start_time": "2022-07-01T22:09:44.678Z"
   },
   {
    "duration": 3,
    "start_time": "2022-07-01T22:09:55.304Z"
   },
   {
    "duration": 3,
    "start_time": "2022-07-01T22:10:05.627Z"
   },
   {
    "duration": 236,
    "start_time": "2022-07-01T22:10:06.125Z"
   },
   {
    "duration": 3,
    "start_time": "2022-07-01T22:10:21.010Z"
   },
   {
    "duration": 3,
    "start_time": "2022-07-01T22:10:22.937Z"
   },
   {
    "duration": 3,
    "start_time": "2022-07-01T22:11:32.361Z"
   },
   {
    "duration": 212,
    "start_time": "2022-07-01T22:11:32.913Z"
   },
   {
    "duration": 43,
    "start_time": "2022-07-01T22:11:47.410Z"
   },
   {
    "duration": 62,
    "start_time": "2022-07-01T22:12:05.640Z"
   },
   {
    "duration": 3768,
    "start_time": "2022-07-01T22:12:16.160Z"
   },
   {
    "duration": 11574,
    "start_time": "2022-07-01T22:12:51.397Z"
   },
   {
    "duration": 42,
    "start_time": "2022-07-01T22:13:43.788Z"
   },
   {
    "duration": 11900,
    "start_time": "2022-07-01T22:14:55.865Z"
   },
   {
    "duration": 2554,
    "start_time": "2022-07-01T22:15:27.007Z"
   },
   {
    "duration": 2884,
    "start_time": "2022-07-01T22:15:36.910Z"
   },
   {
    "duration": 3,
    "start_time": "2022-07-01T22:15:43.765Z"
   },
   {
    "duration": 2827,
    "start_time": "2022-07-01T22:15:45.423Z"
   },
   {
    "duration": 2,
    "start_time": "2022-07-01T22:15:54.093Z"
   },
   {
    "duration": 3103,
    "start_time": "2022-07-01T22:15:54.422Z"
   },
   {
    "duration": 946,
    "start_time": "2022-07-02T13:06:41.184Z"
   },
   {
    "duration": 4,
    "start_time": "2022-07-02T13:06:42.132Z"
   },
   {
    "duration": 46,
    "start_time": "2022-07-02T13:06:42.137Z"
   },
   {
    "duration": 16,
    "start_time": "2022-07-02T13:06:42.185Z"
   },
   {
    "duration": 2,
    "start_time": "2022-07-02T13:06:42.203Z"
   },
   {
    "duration": 11,
    "start_time": "2022-07-02T13:06:42.206Z"
   },
   {
    "duration": 2,
    "start_time": "2022-07-02T13:06:42.219Z"
   },
   {
    "duration": 1301,
    "start_time": "2022-07-02T13:06:42.222Z"
   },
   {
    "duration": 2,
    "start_time": "2022-07-02T13:06:43.525Z"
   },
   {
    "duration": 7,
    "start_time": "2022-07-02T13:06:43.528Z"
   },
   {
    "duration": 1040363,
    "start_time": "2022-07-02T13:06:43.536Z"
   },
   {
    "duration": 3,
    "start_time": "2022-07-02T13:24:03.901Z"
   },
   {
    "duration": 7,
    "start_time": "2022-07-02T13:24:03.905Z"
   },
   {
    "duration": 2955,
    "start_time": "2022-07-02T13:24:03.914Z"
   },
   {
    "duration": 2,
    "start_time": "2022-07-02T13:24:06.873Z"
   },
   {
    "duration": 151,
    "start_time": "2022-07-02T13:47:04.187Z"
   },
   {
    "duration": 4,
    "start_time": "2022-07-02T13:50:33.487Z"
   },
   {
    "duration": 89,
    "start_time": "2022-07-02T13:56:15.120Z"
   },
   {
    "duration": 1070,
    "start_time": "2022-07-02T13:56:26.497Z"
   },
   {
    "duration": 4,
    "start_time": "2022-07-02T13:56:27.570Z"
   },
   {
    "duration": 22,
    "start_time": "2022-07-02T13:56:27.576Z"
   },
   {
    "duration": 20,
    "start_time": "2022-07-02T13:56:27.600Z"
   },
   {
    "duration": 2,
    "start_time": "2022-07-02T13:56:27.623Z"
   },
   {
    "duration": 25,
    "start_time": "2022-07-02T13:56:27.627Z"
   },
   {
    "duration": 3,
    "start_time": "2022-07-02T13:56:27.654Z"
   },
   {
    "duration": 1479,
    "start_time": "2022-07-02T13:56:27.658Z"
   },
   {
    "duration": 3,
    "start_time": "2022-07-02T13:56:29.139Z"
   },
   {
    "duration": 4,
    "start_time": "2022-07-02T13:56:29.150Z"
   },
   {
    "duration": 183,
    "start_time": "2022-07-02T13:56:29.156Z"
   },
   {
    "duration": 3,
    "start_time": "2022-07-02T13:56:29.341Z"
   },
   {
    "duration": 7,
    "start_time": "2022-07-02T13:56:29.346Z"
   },
   {
    "duration": 3027,
    "start_time": "2022-07-02T13:56:29.356Z"
   },
   {
    "duration": 4,
    "start_time": "2022-07-02T13:56:32.385Z"
   },
   {
    "duration": 9,
    "start_time": "2022-07-02T13:56:32.390Z"
   },
   {
    "duration": 113,
    "start_time": "2022-07-02T13:56:32.401Z"
   },
   {
    "duration": 21,
    "start_time": "2022-07-02T13:57:20.196Z"
   },
   {
    "duration": 4,
    "start_time": "2022-07-02T14:01:59.655Z"
   },
   {
    "duration": 22,
    "start_time": "2022-07-02T14:02:02.152Z"
   },
   {
    "duration": 4,
    "start_time": "2022-07-02T14:02:31.738Z"
   },
   {
    "duration": 24,
    "start_time": "2022-07-02T14:02:32.793Z"
   },
   {
    "duration": 4,
    "start_time": "2022-07-02T14:02:33.873Z"
   },
   {
    "duration": 3,
    "start_time": "2022-07-02T15:04:41.515Z"
   },
   {
    "duration": 13,
    "start_time": "2022-07-02T15:05:07.386Z"
   },
   {
    "duration": 4,
    "start_time": "2022-07-02T15:06:27.829Z"
   },
   {
    "duration": 3,
    "start_time": "2022-07-02T15:06:33.335Z"
   },
   {
    "duration": 14,
    "start_time": "2022-07-02T15:06:34.520Z"
   },
   {
    "duration": 4,
    "start_time": "2022-07-02T15:06:44.184Z"
   },
   {
    "duration": 8,
    "start_time": "2022-07-02T15:06:50.366Z"
   },
   {
    "duration": 14,
    "start_time": "2022-07-02T15:06:51.029Z"
   },
   {
    "duration": 3,
    "start_time": "2022-07-02T15:07:14.973Z"
   },
   {
    "duration": 8,
    "start_time": "2022-07-02T15:07:16.445Z"
   },
   {
    "duration": 4,
    "start_time": "2022-07-02T15:07:34.301Z"
   },
   {
    "duration": 4,
    "start_time": "2022-07-02T15:08:30.923Z"
   },
   {
    "duration": 72,
    "start_time": "2022-07-02T15:12:44.632Z"
   },
   {
    "duration": 6,
    "start_time": "2022-07-02T15:13:23.057Z"
   },
   {
    "duration": 5,
    "start_time": "2022-07-02T15:13:54.909Z"
   },
   {
    "duration": 3,
    "start_time": "2022-07-02T15:14:12.414Z"
   },
   {
    "duration": 6,
    "start_time": "2022-07-02T15:51:01.696Z"
   },
   {
    "duration": 5,
    "start_time": "2022-07-02T15:53:08.253Z"
   },
   {
    "duration": 5,
    "start_time": "2022-07-02T15:53:21.639Z"
   },
   {
    "duration": 4,
    "start_time": "2022-07-02T15:53:30.790Z"
   },
   {
    "duration": 5,
    "start_time": "2022-07-02T15:53:41.893Z"
   },
   {
    "duration": 5,
    "start_time": "2022-07-02T15:53:46.021Z"
   },
   {
    "duration": 1880,
    "start_time": "2022-07-03T07:35:50.536Z"
   },
   {
    "duration": 3,
    "start_time": "2022-07-03T07:35:52.418Z"
   },
   {
    "duration": 31,
    "start_time": "2022-07-03T07:35:52.423Z"
   },
   {
    "duration": 17,
    "start_time": "2022-07-03T07:35:52.456Z"
   },
   {
    "duration": 3,
    "start_time": "2022-07-03T07:35:52.475Z"
   },
   {
    "duration": 9,
    "start_time": "2022-07-03T07:35:52.479Z"
   },
   {
    "duration": 3,
    "start_time": "2022-07-03T07:35:52.489Z"
   },
   {
    "duration": 1396,
    "start_time": "2022-07-03T07:35:52.494Z"
   },
   {
    "duration": 3,
    "start_time": "2022-07-03T07:35:53.891Z"
   },
   {
    "duration": 169,
    "start_time": "2022-07-03T07:35:53.896Z"
   },
   {
    "duration": 3,
    "start_time": "2022-07-03T07:35:54.067Z"
   },
   {
    "duration": 2966,
    "start_time": "2022-07-03T07:35:54.071Z"
   },
   {
    "duration": 3,
    "start_time": "2022-07-03T07:35:57.038Z"
   },
   {
    "duration": 17,
    "start_time": "2022-07-03T07:35:57.042Z"
   },
   {
    "duration": 3,
    "start_time": "2022-07-03T07:35:57.060Z"
   },
   {
    "duration": 6,
    "start_time": "2022-07-03T07:35:57.064Z"
   },
   {
    "duration": 5,
    "start_time": "2022-07-03T07:35:57.071Z"
   },
   {
    "duration": 5,
    "start_time": "2022-07-03T07:35:57.078Z"
   },
   {
    "duration": 3,
    "start_time": "2022-07-03T07:36:19.492Z"
   },
   {
    "duration": 27,
    "start_time": "2022-07-03T07:36:21.236Z"
   },
   {
    "duration": 12,
    "start_time": "2022-07-03T07:36:22.104Z"
   },
   {
    "duration": 3,
    "start_time": "2022-07-03T07:36:24.274Z"
   },
   {
    "duration": 3,
    "start_time": "2022-07-03T07:36:28.204Z"
   },
   {
    "duration": 3,
    "start_time": "2022-07-03T07:36:31.653Z"
   },
   {
    "duration": 154,
    "start_time": "2022-07-03T07:36:33.420Z"
   },
   {
    "duration": 2,
    "start_time": "2022-07-03T07:36:34.745Z"
   },
   {
    "duration": 3006,
    "start_time": "2022-07-03T07:36:35.192Z"
   },
   {
    "duration": 4,
    "start_time": "2022-07-03T07:36:38.200Z"
   },
   {
    "duration": 3,
    "start_time": "2022-07-03T07:36:38.705Z"
   },
   {
    "duration": 4,
    "start_time": "2022-07-03T07:36:41.792Z"
   },
   {
    "duration": 4,
    "start_time": "2022-07-03T07:36:42.689Z"
   },
   {
    "duration": 47,
    "start_time": "2022-07-03T10:40:54.806Z"
   },
   {
    "duration": 1186,
    "start_time": "2022-07-03T10:41:00.417Z"
   },
   {
    "duration": 4,
    "start_time": "2022-07-03T10:41:01.606Z"
   },
   {
    "duration": 71,
    "start_time": "2022-07-03T10:41:01.613Z"
   },
   {
    "duration": 21,
    "start_time": "2022-07-03T10:41:01.686Z"
   },
   {
    "duration": 123,
    "start_time": "2022-07-03T10:41:01.709Z"
   },
   {
    "duration": 0,
    "start_time": "2022-07-03T10:41:01.834Z"
   },
   {
    "duration": 0,
    "start_time": "2022-07-03T10:41:01.835Z"
   },
   {
    "duration": 0,
    "start_time": "2022-07-03T10:41:01.837Z"
   },
   {
    "duration": 0,
    "start_time": "2022-07-03T10:41:01.838Z"
   },
   {
    "duration": 0,
    "start_time": "2022-07-03T10:41:01.839Z"
   },
   {
    "duration": 0,
    "start_time": "2022-07-03T10:41:01.841Z"
   },
   {
    "duration": 0,
    "start_time": "2022-07-03T10:41:01.842Z"
   },
   {
    "duration": 0,
    "start_time": "2022-07-03T10:41:01.843Z"
   },
   {
    "duration": 0,
    "start_time": "2022-07-03T10:41:01.844Z"
   },
   {
    "duration": 0,
    "start_time": "2022-07-03T10:41:01.845Z"
   },
   {
    "duration": 0,
    "start_time": "2022-07-03T10:41:01.846Z"
   },
   {
    "duration": 0,
    "start_time": "2022-07-03T10:41:01.848Z"
   },
   {
    "duration": 0,
    "start_time": "2022-07-03T10:41:01.849Z"
   },
   {
    "duration": 0,
    "start_time": "2022-07-03T10:41:01.850Z"
   },
   {
    "duration": 12,
    "start_time": "2022-07-03T10:41:34.407Z"
   },
   {
    "duration": 5,
    "start_time": "2022-07-03T10:42:13.034Z"
   },
   {
    "duration": 106,
    "start_time": "2022-07-04T14:40:40.981Z"
   },
   {
    "duration": 40,
    "start_time": "2022-07-04T14:54:39.700Z"
   },
   {
    "duration": 8,
    "start_time": "2022-07-04T14:54:47.615Z"
   },
   {
    "duration": 1076,
    "start_time": "2022-07-04T14:54:54.065Z"
   },
   {
    "duration": 3,
    "start_time": "2022-07-04T14:54:55.143Z"
   },
   {
    "duration": 128,
    "start_time": "2022-07-04T14:54:56.297Z"
   },
   {
    "duration": 19,
    "start_time": "2022-07-04T14:54:57.144Z"
   },
   {
    "duration": 2,
    "start_time": "2022-07-04T14:55:00.178Z"
   },
   {
    "duration": 8,
    "start_time": "2022-07-04T14:55:00.873Z"
   },
   {
    "duration": 5,
    "start_time": "2022-07-04T14:55:04.337Z"
   },
   {
    "duration": 5,
    "start_time": "2022-07-04T14:55:36.072Z"
   },
   {
    "duration": 5,
    "start_time": "2022-07-04T14:56:07.881Z"
   },
   {
    "duration": 78,
    "start_time": "2022-07-04T14:56:27.167Z"
   },
   {
    "duration": 113,
    "start_time": "2022-07-04T16:35:38.327Z"
   }
  ],
  "kernelspec": {
   "display_name": "Python 3 (ipykernel)",
   "language": "python",
   "name": "python3"
  },
  "language_info": {
   "codemirror_mode": {
    "name": "ipython",
    "version": 3
   },
   "file_extension": ".py",
   "mimetype": "text/x-python",
   "name": "python",
   "nbconvert_exporter": "python",
   "pygments_lexer": "ipython3",
   "version": "3.9.18"
  },
  "toc": {
   "base_numbering": 1,
   "nav_menu": {},
   "number_sections": true,
   "sideBar": true,
   "skip_h1_title": true,
   "title_cell": "Table of Contents",
   "title_sidebar": "Contents",
   "toc_cell": false,
   "toc_position": {},
   "toc_section_display": true,
   "toc_window_display": false
  }
 },
 "nbformat": 4,
 "nbformat_minor": 4
}
