{
 "cells": [
  {
   "cell_type": "markdown",
   "metadata": {
    "id": "E0vqbgi9ay0H"
   },
   "source": [
    "# Яндекс.Музыка"
   ]
  },
  {
   "cell_type": "markdown",
   "metadata": {
    "id": "VUC88oWjTJw2"
   },
   "source": [
    "Сравнение Москвы и Петербурга окружено мифами. Например:\n",
    " * Москва — мегаполис, подчинённый жёсткому ритму рабочей недели;\n",
    " * Петербург — культурная столица, со своими вкусами.\n",
    "\n",
    "На данных Яндекс.Музыки вы сравните поведение пользователей двух столиц.\n",
    "\n",
    "**Цель исследования** — проверьте три гипотезы:\n",
    "1. Активность пользователей зависит от дня недели. Причём в Москве и Петербурге это проявляется по-разному.\n",
    "2. В понедельник утром в Москве преобладают одни жанры, а в Петербурге — другие. Так же и вечером пятницы преобладают разные жанры — в зависимости от города. \n",
    "3. Москва и Петербург предпочитают разные жанры музыки. В Москве чаще слушают поп-музыку, в Петербурге — русский рэп.\n",
    "\n",
    "**Ход исследования**\n",
    "\n",
    "Данные о поведении пользователей вы получите из файла `yandex_music_project.csv`. О качестве данных ничего не известно. Поэтому перед проверкой гипотез понадобится обзор данных. \n",
    "\n",
    "Вы проверите данные на ошибки и оцените их влияние на исследование. Затем, на этапе предобработки вы поищете возможность исправить самые критичные ошибки данных.\n",
    " \n",
    "Таким образом, исследование пройдёт в три этапа:\n",
    " 1. Обзор данных.\n",
    " 2. Предобработка данных.\n",
    " 3. Проверка гипотез.\n",
    "\n"
   ]
  },
  {
   "cell_type": "markdown",
   "metadata": {
    "id": "Ml1hmfXC_Zcs"
   },
   "source": [
    "## Обзор данных\n",
    "\n",
    "Составьте первое представление о данных Яндекс.Музыки.\n",
    "\n",
    "\n"
   ]
  },
  {
   "cell_type": "markdown",
   "metadata": {
    "id": "57eAOGIz_Zcs"
   },
   "source": [
    "Основной инструмент аналитика — `pandas`. Импортируйте эту библиотеку."
   ]
  },
  {
   "cell_type": "code",
   "execution_count": 2,
   "metadata": {
    "id": "AXN7PHPN_Zcs"
   },
   "outputs": [],
   "source": [
    "# импорт библиотеки pandas и seaborn\n",
    "import pandas as pd\n",
    "import seaborn"
   ]
  },
  {
   "cell_type": "markdown",
   "metadata": {
    "id": "SG23P8tt_Zcs"
   },
   "source": [
    "Прочитайте файл `yandex_music_project.csv` из папки `/datasets` и сохраните его в переменной `df`:"
   ]
  },
  {
   "cell_type": "code",
   "execution_count": 3,
   "metadata": {
    "id": "fFVu7vqh_Zct"
   },
   "outputs": [],
   "source": [
    "# чтение файла с данными и сохранение в df\n",
    "df = pd.read_csv('/datasets/yandex_music_project.csv')"
   ]
  },
  {
   "cell_type": "markdown",
   "metadata": {
    "id": "rDoOMd3uTqnZ"
   },
   "source": [
    "Выведите на экран первые десять строк таблицы:"
   ]
  },
  {
   "cell_type": "code",
   "execution_count": 5,
   "metadata": {
    "id": "oWTVX3gW_Zct"
   },
   "outputs": [
    {
     "data": {
      "text/html": [
       "<div>\n",
       "<style scoped>\n",
       "    .dataframe tbody tr th:only-of-type {\n",
       "        vertical-align: middle;\n",
       "    }\n",
       "\n",
       "    .dataframe tbody tr th {\n",
       "        vertical-align: top;\n",
       "    }\n",
       "\n",
       "    .dataframe thead th {\n",
       "        text-align: right;\n",
       "    }\n",
       "</style>\n",
       "<table border=\"1\" class=\"dataframe\">\n",
       "  <thead>\n",
       "    <tr style=\"text-align: right;\">\n",
       "      <th></th>\n",
       "      <th>userID</th>\n",
       "      <th>Track</th>\n",
       "      <th>artist</th>\n",
       "      <th>genre</th>\n",
       "      <th>City</th>\n",
       "      <th>time</th>\n",
       "      <th>Day</th>\n",
       "    </tr>\n",
       "  </thead>\n",
       "  <tbody>\n",
       "    <tr>\n",
       "      <th>0</th>\n",
       "      <td>FFB692EC</td>\n",
       "      <td>Kamigata To Boots</td>\n",
       "      <td>The Mass Missile</td>\n",
       "      <td>rock</td>\n",
       "      <td>Saint-Petersburg</td>\n",
       "      <td>20:28:33</td>\n",
       "      <td>Wednesday</td>\n",
       "    </tr>\n",
       "    <tr>\n",
       "      <th>1</th>\n",
       "      <td>55204538</td>\n",
       "      <td>Delayed Because of Accident</td>\n",
       "      <td>Andreas Rönnberg</td>\n",
       "      <td>rock</td>\n",
       "      <td>Moscow</td>\n",
       "      <td>14:07:09</td>\n",
       "      <td>Friday</td>\n",
       "    </tr>\n",
       "    <tr>\n",
       "      <th>2</th>\n",
       "      <td>20EC38</td>\n",
       "      <td>Funiculì funiculà</td>\n",
       "      <td>Mario Lanza</td>\n",
       "      <td>pop</td>\n",
       "      <td>Saint-Petersburg</td>\n",
       "      <td>20:58:07</td>\n",
       "      <td>Wednesday</td>\n",
       "    </tr>\n",
       "    <tr>\n",
       "      <th>3</th>\n",
       "      <td>A3DD03C9</td>\n",
       "      <td>Dragons in the Sunset</td>\n",
       "      <td>Fire + Ice</td>\n",
       "      <td>folk</td>\n",
       "      <td>Saint-Petersburg</td>\n",
       "      <td>08:37:09</td>\n",
       "      <td>Monday</td>\n",
       "    </tr>\n",
       "    <tr>\n",
       "      <th>4</th>\n",
       "      <td>E2DC1FAE</td>\n",
       "      <td>Soul People</td>\n",
       "      <td>Space Echo</td>\n",
       "      <td>dance</td>\n",
       "      <td>Moscow</td>\n",
       "      <td>08:34:34</td>\n",
       "      <td>Monday</td>\n",
       "    </tr>\n",
       "    <tr>\n",
       "      <th>5</th>\n",
       "      <td>842029A1</td>\n",
       "      <td>Преданная</td>\n",
       "      <td>IMPERVTOR</td>\n",
       "      <td>rusrap</td>\n",
       "      <td>Saint-Petersburg</td>\n",
       "      <td>13:09:41</td>\n",
       "      <td>Friday</td>\n",
       "    </tr>\n",
       "    <tr>\n",
       "      <th>6</th>\n",
       "      <td>4CB90AA5</td>\n",
       "      <td>True</td>\n",
       "      <td>Roman Messer</td>\n",
       "      <td>dance</td>\n",
       "      <td>Moscow</td>\n",
       "      <td>13:00:07</td>\n",
       "      <td>Wednesday</td>\n",
       "    </tr>\n",
       "    <tr>\n",
       "      <th>7</th>\n",
       "      <td>F03E1C1F</td>\n",
       "      <td>Feeling This Way</td>\n",
       "      <td>Polina Griffith</td>\n",
       "      <td>dance</td>\n",
       "      <td>Moscow</td>\n",
       "      <td>20:47:49</td>\n",
       "      <td>Wednesday</td>\n",
       "    </tr>\n",
       "    <tr>\n",
       "      <th>8</th>\n",
       "      <td>8FA1D3BE</td>\n",
       "      <td>И вновь продолжается бой</td>\n",
       "      <td>NaN</td>\n",
       "      <td>ruspop</td>\n",
       "      <td>Moscow</td>\n",
       "      <td>09:17:40</td>\n",
       "      <td>Friday</td>\n",
       "    </tr>\n",
       "    <tr>\n",
       "      <th>9</th>\n",
       "      <td>E772D5C0</td>\n",
       "      <td>Pessimist</td>\n",
       "      <td>NaN</td>\n",
       "      <td>dance</td>\n",
       "      <td>Saint-Petersburg</td>\n",
       "      <td>21:20:49</td>\n",
       "      <td>Wednesday</td>\n",
       "    </tr>\n",
       "  </tbody>\n",
       "</table>\n",
       "</div>"
      ],
      "text/plain": [
       "     userID                        Track            artist   genre  \\\n",
       "0  FFB692EC            Kamigata To Boots  The Mass Missile    rock   \n",
       "1  55204538  Delayed Because of Accident  Andreas Rönnberg    rock   \n",
       "2    20EC38            Funiculì funiculà       Mario Lanza     pop   \n",
       "3  A3DD03C9        Dragons in the Sunset        Fire + Ice    folk   \n",
       "4  E2DC1FAE                  Soul People        Space Echo   dance   \n",
       "5  842029A1                    Преданная         IMPERVTOR  rusrap   \n",
       "6  4CB90AA5                         True      Roman Messer   dance   \n",
       "7  F03E1C1F             Feeling This Way   Polina Griffith   dance   \n",
       "8  8FA1D3BE     И вновь продолжается бой               NaN  ruspop   \n",
       "9  E772D5C0                    Pessimist               NaN   dance   \n",
       "\n",
       "             City        time        Day  \n",
       "0  Saint-Petersburg  20:28:33  Wednesday  \n",
       "1            Moscow  14:07:09     Friday  \n",
       "2  Saint-Petersburg  20:58:07  Wednesday  \n",
       "3  Saint-Petersburg  08:37:09     Monday  \n",
       "4            Moscow  08:34:34     Monday  \n",
       "5  Saint-Petersburg  13:09:41     Friday  \n",
       "6            Moscow  13:00:07  Wednesday  \n",
       "7            Moscow  20:47:49  Wednesday  \n",
       "8            Moscow  09:17:40     Friday  \n",
       "9  Saint-Petersburg  21:20:49  Wednesday  "
      ]
     },
     "execution_count": 5,
     "metadata": {},
     "output_type": "execute_result"
    }
   ],
   "source": [
    "# получение первых 10 строк таблицы df\n",
    "df.head(10)"
   ]
  },
  {
   "cell_type": "markdown",
   "metadata": {
    "id": "EO73Kwic_Zct"
   },
   "source": [
    "Одной командой получить общую информацию о таблице:"
   ]
  },
  {
   "cell_type": "code",
   "execution_count": 8,
   "metadata": {
    "id": "DSf2kIb-_Zct"
   },
   "outputs": [
    {
     "name": "stdout",
     "output_type": "stream",
     "text": [
      "<class 'pandas.core.frame.DataFrame'>\n",
      "RangeIndex: 65079 entries, 0 to 65078\n",
      "Data columns (total 7 columns):\n",
      " #   Column    Non-Null Count  Dtype \n",
      "---  ------    --------------  ----- \n",
      " 0     userID  65079 non-null  object\n",
      " 1   Track     63848 non-null  object\n",
      " 2   artist    57876 non-null  object\n",
      " 3   genre     63881 non-null  object\n",
      " 4     City    65079 non-null  object\n",
      " 5   time      65079 non-null  object\n",
      " 6   Day       65079 non-null  object\n",
      "dtypes: object(7)\n",
      "memory usage: 3.5+ MB\n"
     ]
    }
   ],
   "source": [
    "# получение общей информации о данных в таблице df\n",
    "df.info()"
   ]
  },
  {
   "cell_type": "markdown",
   "metadata": {
    "id": "TaQ2Iwbr_Zct"
   },
   "source": [
    "Итак, в таблице семь столбцов. Тип данных во всех столбцах — `object`.\n",
    "\n",
    "Согласно документации к данным:\n",
    "* `userID` — идентификатор пользователя;\n",
    "* `Track` — название трека;  \n",
    "* `artist` — имя исполнителя;\n",
    "* `genre` — название жанра;\n",
    "* `City` — город пользователя;\n",
    "* `time` — время начала прослушивания;\n",
    "* `Day` — день недели.\n",
    "\n",
    "В названиях колонок видны три нарушения стиля:\n",
    "1. Строчные буквы сочетаются с прописными.\n",
    "2. Встречаются пробелы.\n",
    "3. Не соблюдается \"змеиный регистр\" в наименовании столбца с идентификатором пользователя\n",
    "\n",
    "\n",
    "\n",
    "Количество значений в столбцах различается. Значит, в данных есть пропущенные значения.\n"
   ]
  },
  {
   "cell_type": "markdown",
   "metadata": {
    "id": "MCB6-dXG_Zct"
   },
   "source": [
    "**Выводы**\n",
    "\n",
    "В каждой строке таблицы — данные о прослушанном треке. Часть колонок описывает саму композицию: название, исполнителя и жанр. Остальные данные рассказывают о пользователе: из какого он города, когда он слушал музыку. \n",
    "\n",
    "Предварительно можно утверждать, что, данных достаточно для проверки гипотез. Но встречаются пропуски в данных, а в названиях колонок — расхождения с хорошим стилем.\n",
    "\n",
    "Чтобы двигаться дальше, нужно устранить проблемы в данных."
   ]
  },
  {
   "cell_type": "markdown",
   "metadata": {
    "id": "SjYF6Ub9_Zct"
   },
   "source": [
    "## Предобработка данных\n",
    "Исправьте стиль в заголовках столбцов, исключите пропуски. Затем проверьте данные на дубликаты."
   ]
  },
  {
   "cell_type": "markdown",
   "metadata": {
    "id": "dIaKXr29_Zct"
   },
   "source": [
    "### Стиль заголовков\n",
    "Выведите на экран названия столбцов:"
   ]
  },
  {
   "cell_type": "code",
   "execution_count": 23,
   "metadata": {
    "id": "oKOTdF_Q_Zct"
   },
   "outputs": [
    {
     "data": {
      "text/plain": [
       "['  userID', 'Track', 'artist', 'genre', '  City  ', 'time', 'Day']"
      ]
     },
     "execution_count": 23,
     "metadata": {},
     "output_type": "execute_result"
    }
   ],
   "source": [
    "# перечень названий столбцов таблицы df\n",
    "list(df.columns)"
   ]
  },
  {
   "cell_type": "markdown",
   "metadata": {
    "id": "zj5534cv_Zct"
   },
   "source": [
    "Приведите названия в соответствие с хорошим стилем:\n",
    "* несколько слов в названии запишите в «змеином_регистре»,\n",
    "* все символы сделайте строчными,\n",
    "* устраните пробелы.\n",
    "\n",
    "Для этого переименуйте колонки так:\n",
    "* `'  userID'` → `'user_id'`;\n",
    "* `'Track'` → `'track'`;\n",
    "* `'  City  '` → `'city'`;\n",
    "* `'Day'` → `'day'`."
   ]
  },
  {
   "cell_type": "code",
   "execution_count": 28,
   "metadata": {
    "id": "ISlFqs5y_Zct"
   },
   "outputs": [],
   "source": [
    "# переименование столбцов\n",
    "df = df.rename( columns={'  userID':'user_id','Track':'track','  City  ':'city','Day':'day'}  )"
   ]
  },
  {
   "cell_type": "markdown",
   "metadata": {
    "id": "1dqbh00J_Zct"
   },
   "source": [
    "Проверьте результат. Для этого ещё раз выведите на экран названия столбцов:"
   ]
  },
  {
   "cell_type": "code",
   "execution_count": 29,
   "metadata": {
    "id": "d4NOAmTW_Zct"
   },
   "outputs": [
    {
     "data": {
      "text/plain": [
       "['user_id', 'track', 'artist', 'genre', 'city', 'time', 'day']"
      ]
     },
     "execution_count": 29,
     "metadata": {},
     "output_type": "execute_result"
    }
   ],
   "source": [
    "# проверка результатов - перечень названий столбцов\n",
    "list(df.columns)"
   ]
  },
  {
   "cell_type": "markdown",
   "metadata": {
    "id": "5ISfbcfY_Zct"
   },
   "source": [
    "### Пропуски значений\n",
    "Сначала посчитайте, сколько в таблице пропущенных значений. Для этого достаточно двух методов `pandas`:"
   ]
  },
  {
   "cell_type": "code",
   "execution_count": 45,
   "metadata": {
    "id": "RskX29qr_Zct"
   },
   "outputs": [
    {
     "data": {
      "text/plain": [
       "user_id    0\n",
       "track      0\n",
       "artist     0\n",
       "genre      0\n",
       "city       0\n",
       "time       0\n",
       "day        0\n",
       "dtype: int64"
      ]
     },
     "execution_count": 45,
     "metadata": {},
     "output_type": "execute_result"
    }
   ],
   "source": [
    "# подсчёт пропусков\n",
    "df.isna().sum()"
   ]
  },
  {
   "cell_type": "markdown",
   "metadata": {
    "id": "qubhgnlO_Zct"
   },
   "source": [
    "Не все пропущенные значения влияют на исследование. Так в `track` и `artist` пропуски не важны для вашей работы. Достаточно заменить их явными обозначениями.\n",
    "\n",
    "Но пропуски в `genre` могут помешать сравнению музыкальных вкусов в Москве и Санкт-Петербурге. На практике было бы правильно установить причину пропусков и восстановить данные. Такой возможности нет в учебном проекте. Придётся:\n",
    "* заполнить и эти пропуски явными обозначениями,\n",
    "* оценить, насколько они повредят расчётам. "
   ]
  },
  {
   "cell_type": "markdown",
   "metadata": {
    "id": "fSv2laPA_Zct"
   },
   "source": [
    "Замените пропущенные значения в столбцах `track`, `artist` и `genre` на строку `'unknown'`. Для этого создайте список `columns_to_replace`, переберите его элементы циклом `for` и для каждого столбца выполните замену пропущенных значений:"
   ]
  },
  {
   "cell_type": "code",
   "execution_count": 46,
   "metadata": {
    "id": "KplB5qWs_Zct"
   },
   "outputs": [],
   "source": [
    "# перебор названий столбцов в цикле и замена пропущенных значений на 'unknown'\n",
    "columns_to_replace = ['artist','track','genre']\n",
    "for column in columns_to_replace:\n",
    "    df[column] = df[column].fillna('unknown')"
   ]
  },
  {
   "cell_type": "markdown",
   "metadata": {
    "id": "Ilsm-MZo_Zct"
   },
   "source": [
    "Убедитесь, что в таблице не осталось пропусков. Для этого ещё раз посчитайте пропущенные значения."
   ]
  },
  {
   "cell_type": "code",
   "execution_count": 47,
   "metadata": {
    "id": "Tq4nYRX4_Zct"
   },
   "outputs": [
    {
     "data": {
      "text/plain": [
       "user_id    0\n",
       "track      0\n",
       "artist     0\n",
       "genre      0\n",
       "city       0\n",
       "time       0\n",
       "day        0\n",
       "dtype: int64"
      ]
     },
     "execution_count": 47,
     "metadata": {},
     "output_type": "execute_result"
    }
   ],
   "source": [
    "# подсчёт пропусков\n",
    "df.isna().sum()"
   ]
  },
  {
   "cell_type": "markdown",
   "metadata": {
    "id": "BWKRtBJ3_Zct"
   },
   "source": [
    "### Дубликаты\n",
    "Посчитайте явные дубликаты в таблице одной командой:"
   ]
  },
  {
   "cell_type": "code",
   "execution_count": 48,
   "metadata": {
    "id": "36eES_S0_Zct"
   },
   "outputs": [
    {
     "data": {
      "text/plain": [
       "0"
      ]
     },
     "execution_count": 48,
     "metadata": {},
     "output_type": "execute_result"
    }
   ],
   "source": [
    "# подсчёт явных дубликатов\n",
    "df.duplicated().sum()"
   ]
  },
  {
   "cell_type": "markdown",
   "metadata": {
    "id": "Ot25h6XR_Zct"
   },
   "source": [
    "Вызовите специальный метод `pandas`, чтобы удалить явные дубликаты:"
   ]
  },
  {
   "cell_type": "code",
   "execution_count": 49,
   "metadata": {
    "id": "exFHq6tt_Zct"
   },
   "outputs": [],
   "source": [
    "# удаление явных дубликатов (с удалением старых индексов и формированием новых)\n",
    "df = df.drop_duplicates().reset_index(drop=True)"
   ]
  },
  {
   "cell_type": "markdown",
   "metadata": {
    "id": "Im2YwBEG_Zct"
   },
   "source": [
    "Ещё раз посчитайте явные дубликаты в таблице — убедитесь, что полностью от них избавились:"
   ]
  },
  {
   "cell_type": "code",
   "execution_count": 50,
   "metadata": {
    "id": "-8PuNWQ0_Zct"
   },
   "outputs": [
    {
     "data": {
      "text/plain": [
       "0"
      ]
     },
     "execution_count": 50,
     "metadata": {},
     "output_type": "execute_result"
    }
   ],
   "source": [
    "# проверка на отсутствие дубликатов\n",
    "df.duplicated().sum()"
   ]
  },
  {
   "cell_type": "markdown",
   "metadata": {
    "id": "QlFBsxAr_Zct"
   },
   "source": [
    "Теперь избавьтесь от неявных дубликатов в колонке `genre`. Например, название одного и того же жанра может быть записано немного по-разному. Такие ошибки тоже повлияют на результат исследования."
   ]
  },
  {
   "cell_type": "markdown",
   "metadata": {
    "id": "eSjWwsOh_Zct"
   },
   "source": [
    "Выведите на экран список уникальных названий жанров, отсортированный в алфавитном порядке. Для этого:\n",
    "* извлеките нужный столбец датафрейма, \n",
    "* примените к нему метод сортировки,\n",
    "* для отсортированного столбца вызовите метод, который вернёт уникальные значения из столбца."
   ]
  },
  {
   "cell_type": "code",
   "execution_count": 51,
   "metadata": {
    "id": "JIUcqzZN_Zct"
   },
   "outputs": [
    {
     "data": {
      "text/plain": [
       "array(['acid', 'acoustic', 'action', 'adult', 'africa', 'afrikaans',\n",
       "       'alternative', 'alternativepunk', 'ambient', 'americana',\n",
       "       'animated', 'anime', 'arabesk', 'arabic', 'arena',\n",
       "       'argentinetango', 'art', 'audiobook', 'author', 'avantgarde',\n",
       "       'axé', 'baile', 'balkan', 'beats', 'bigroom', 'black', 'bluegrass',\n",
       "       'blues', 'bollywood', 'bossa', 'brazilian', 'breakbeat', 'breaks',\n",
       "       'broadway', 'cantautori', 'cantopop', 'canzone', 'caribbean',\n",
       "       'caucasian', 'celtic', 'chamber', 'chanson', 'children', 'chill',\n",
       "       'chinese', 'choral', 'christian', 'christmas', 'classical',\n",
       "       'classicmetal', 'club', 'colombian', 'comedy', 'conjazz',\n",
       "       'contemporary', 'country', 'cuban', 'dance', 'dancehall',\n",
       "       'dancepop', 'dark', 'death', 'deep', 'deutschrock', 'deutschspr',\n",
       "       'dirty', 'disco', 'dnb', 'documentary', 'downbeat', 'downtempo',\n",
       "       'drum', 'dub', 'dubstep', 'eastern', 'easy', 'electronic',\n",
       "       'electropop', 'emo', 'entehno', 'epicmetal', 'estrada', 'ethnic',\n",
       "       'eurofolk', 'european', 'experimental', 'extrememetal', 'fado',\n",
       "       'fairytail', 'film', 'fitness', 'flamenco', 'folk', 'folklore',\n",
       "       'folkmetal', 'folkrock', 'folktronica', 'forró', 'frankreich',\n",
       "       'französisch', 'french', 'funk', 'future', 'gangsta', 'garage',\n",
       "       'german', 'ghazal', 'gitarre', 'glitch', 'gospel', 'gothic',\n",
       "       'grime', 'grunge', 'gypsy', 'handsup', \"hard'n'heavy\", 'hardcore',\n",
       "       'hardstyle', 'hardtechno', 'hip', 'hip-hop', 'hiphop',\n",
       "       'historisch', 'holiday', 'hop', 'horror', 'house', 'hymn', 'idm',\n",
       "       'independent', 'indian', 'indie', 'indipop', 'industrial',\n",
       "       'inspirational', 'instrumental', 'international', 'irish', 'jam',\n",
       "       'japanese', 'jazz', 'jewish', 'jpop', 'jungle', 'k-pop',\n",
       "       'karadeniz', 'karaoke', 'kayokyoku', 'korean', 'laiko', 'latin',\n",
       "       'latino', 'leftfield', 'local', 'lounge', 'loungeelectronic',\n",
       "       'lovers', 'malaysian', 'mandopop', 'marschmusik', 'meditative',\n",
       "       'mediterranean', 'melodic', 'metal', 'metalcore', 'mexican',\n",
       "       'middle', 'minimal', 'miscellaneous', 'modern', 'mood', 'mpb',\n",
       "       'muslim', 'native', 'neoklassik', 'neue', 'new', 'newage',\n",
       "       'newwave', 'nu', 'nujazz', 'numetal', 'oceania', 'old', 'opera',\n",
       "       'orchestral', 'other', 'piano', 'podcasts', 'pop', 'popdance',\n",
       "       'popelectronic', 'popeurodance', 'poprussian', 'post',\n",
       "       'posthardcore', 'postrock', 'power', 'progmetal', 'progressive',\n",
       "       'psychedelic', 'punjabi', 'punk', 'quebecois', 'ragga', 'ram',\n",
       "       'rancheras', 'rap', 'rave', 'reggae', 'reggaeton', 'regional',\n",
       "       'relax', 'religious', 'retro', 'rhythm', 'rnb', 'rnr', 'rock',\n",
       "       'rockabilly', 'rockalternative', 'rockindie', 'rockother',\n",
       "       'romance', 'roots', 'ruspop', 'rusrap', 'rusrock', 'russian',\n",
       "       'salsa', 'samba', 'scenic', 'schlager', 'self', 'sertanejo',\n",
       "       'shanson', 'shoegazing', 'showtunes', 'singer', 'ska', 'skarock',\n",
       "       'slow', 'smooth', 'soft', 'soul', 'soulful', 'sound', 'soundtrack',\n",
       "       'southern', 'specialty', 'speech', 'spiritual', 'sport',\n",
       "       'stonerrock', 'surf', 'swing', 'synthpop', 'synthrock',\n",
       "       'sängerportrait', 'tango', 'tanzorchester', 'taraftar', 'tatar',\n",
       "       'tech', 'techno', 'teen', 'thrash', 'top', 'traditional',\n",
       "       'tradjazz', 'trance', 'tribal', 'trip', 'triphop', 'tropical',\n",
       "       'türk', 'türkçe', 'ukrrock', 'unknown', 'urban', 'uzbek',\n",
       "       'variété', 'vi', 'videogame', 'vocal', 'western', 'world',\n",
       "       'worldbeat', 'ïîï', 'электроника'], dtype=object)"
      ]
     },
     "execution_count": 51,
     "metadata": {},
     "output_type": "execute_result"
    }
   ],
   "source": [
    "# Просмотр уникальных названий жанров\n",
    "df['genre'].sort_values().unique()\n"
   ]
  },
  {
   "cell_type": "markdown",
   "metadata": {
    "id": "qej-Qmuo_Zct"
   },
   "source": [
    "Просмотрите список и найдите неявные дубликаты названия `hiphop`. Это могут быть названия с ошибками или альтернативные названия того же жанра.\n",
    "\n",
    "Вы увидите следующие неявные дубликаты:\n",
    "* *hip*,\n",
    "* *hop*,\n",
    "* *hip-hop*.\n",
    "\n",
    "Чтобы очистить от них таблицу, напишите функцию `replace_wrong_genres()` с двумя параметрами: \n",
    "* `wrong_genres` — список дубликатов,\n",
    "* `correct_genre` — строка с правильным значением.\n",
    "\n",
    "Функция должна исправить колонку `genre` в таблице `df`: заменить каждое значение из списка `wrong_genres` на значение из `correct_genre`."
   ]
  },
  {
   "cell_type": "code",
   "execution_count": 52,
   "metadata": {
    "id": "ErNDkmns_Zct"
   },
   "outputs": [],
   "source": [
    "# Функция для замены неявных дубликатов\n",
    "\n",
    "def replace_wrong_genres(correct_genre, wrong_genres):\n",
    "    for wrong in wrong_genres:\n",
    "        df['genre'] = df['genre'].replace(wrong, correct_genre)\n"
   ]
  },
  {
   "cell_type": "markdown",
   "metadata": {
    "id": "aDoBJxbA_Zct"
   },
   "source": [
    "Вызовите `replace_wrong_genres()` и передайте ей такие аргументы, чтобы она устранила неявные дубликаты: вместо `hip`, `hop` и `hip-hop` в таблице должно быть значение `hiphop`:"
   ]
  },
  {
   "cell_type": "code",
   "execution_count": 53,
   "metadata": {
    "id": "YN5i2hpmSo09"
   },
   "outputs": [],
   "source": [
    "# Устранение неявных дубликатов\n",
    "\n",
    "# Помимо указанных в задании, мной были обнаружены следующие неявные дубликаты жанров:\n",
    "# argentinetango -> tango\n",
    "# электроника -> electronic\n",
    "# afrikaans -> africa\n",
    "# latino -> latin\n",
    "\n",
    "# первый аргумент - правильное название жанра\n",
    "# второй аргумент - список значений, которые нужно заменить\n",
    "replace_wrong_genres('hiphop',['hip','hop','hip-hop'])\n",
    "replace_wrong_genres('tango',['argentinetango'])\n",
    "replace_wrong_genres('electronics',['электроника'])\n",
    "replace_wrong_genres('africa',['afrikaans'])\n",
    "replace_wrong_genres('latin',['latino'])\n"
   ]
  },
  {
   "cell_type": "markdown",
   "metadata": {
    "id": "zQKF16_RG15m"
   },
   "source": [
    "Проверьте, что заменили неправильные названия:\n",
    "\n",
    "*   hip\n",
    "*   hop\n",
    "*   hip-hop\n",
    "\n",
    "Выведите отсортированный список уникальных значений столбца `genre`:"
   ]
  },
  {
   "cell_type": "code",
   "execution_count": 54,
   "metadata": {
    "id": "wvixALnFG15m"
   },
   "outputs": [
    {
     "data": {
      "text/plain": [
       "array(['acid', 'acoustic', 'action', 'adult', 'africa', 'alternative',\n",
       "       'alternativepunk', 'ambient', 'americana', 'animated', 'anime',\n",
       "       'arabesk', 'arabic', 'arena', 'art', 'audiobook', 'author',\n",
       "       'avantgarde', 'axé', 'baile', 'balkan', 'beats', 'bigroom',\n",
       "       'black', 'bluegrass', 'blues', 'bollywood', 'bossa', 'brazilian',\n",
       "       'breakbeat', 'breaks', 'broadway', 'cantautori', 'cantopop',\n",
       "       'canzone', 'caribbean', 'caucasian', 'celtic', 'chamber',\n",
       "       'chanson', 'children', 'chill', 'chinese', 'choral', 'christian',\n",
       "       'christmas', 'classical', 'classicmetal', 'club', 'colombian',\n",
       "       'comedy', 'conjazz', 'contemporary', 'country', 'cuban', 'dance',\n",
       "       'dancehall', 'dancepop', 'dark', 'death', 'deep', 'deutschrock',\n",
       "       'deutschspr', 'dirty', 'disco', 'dnb', 'documentary', 'downbeat',\n",
       "       'downtempo', 'drum', 'dub', 'dubstep', 'eastern', 'easy',\n",
       "       'electronic', 'electronics', 'electropop', 'emo', 'entehno',\n",
       "       'epicmetal', 'estrada', 'ethnic', 'eurofolk', 'european',\n",
       "       'experimental', 'extrememetal', 'fado', 'fairytail', 'film',\n",
       "       'fitness', 'flamenco', 'folk', 'folklore', 'folkmetal', 'folkrock',\n",
       "       'folktronica', 'forró', 'frankreich', 'französisch', 'french',\n",
       "       'funk', 'future', 'gangsta', 'garage', 'german', 'ghazal',\n",
       "       'gitarre', 'glitch', 'gospel', 'gothic', 'grime', 'grunge',\n",
       "       'gypsy', 'handsup', \"hard'n'heavy\", 'hardcore', 'hardstyle',\n",
       "       'hardtechno', 'hiphop', 'historisch', 'holiday', 'horror', 'house',\n",
       "       'hymn', 'idm', 'independent', 'indian', 'indie', 'indipop',\n",
       "       'industrial', 'inspirational', 'instrumental', 'international',\n",
       "       'irish', 'jam', 'japanese', 'jazz', 'jewish', 'jpop', 'jungle',\n",
       "       'k-pop', 'karadeniz', 'karaoke', 'kayokyoku', 'korean', 'laiko',\n",
       "       'latin', 'leftfield', 'local', 'lounge', 'loungeelectronic',\n",
       "       'lovers', 'malaysian', 'mandopop', 'marschmusik', 'meditative',\n",
       "       'mediterranean', 'melodic', 'metal', 'metalcore', 'mexican',\n",
       "       'middle', 'minimal', 'miscellaneous', 'modern', 'mood', 'mpb',\n",
       "       'muslim', 'native', 'neoklassik', 'neue', 'new', 'newage',\n",
       "       'newwave', 'nu', 'nujazz', 'numetal', 'oceania', 'old', 'opera',\n",
       "       'orchestral', 'other', 'piano', 'podcasts', 'pop', 'popdance',\n",
       "       'popelectronic', 'popeurodance', 'poprussian', 'post',\n",
       "       'posthardcore', 'postrock', 'power', 'progmetal', 'progressive',\n",
       "       'psychedelic', 'punjabi', 'punk', 'quebecois', 'ragga', 'ram',\n",
       "       'rancheras', 'rap', 'rave', 'reggae', 'reggaeton', 'regional',\n",
       "       'relax', 'religious', 'retro', 'rhythm', 'rnb', 'rnr', 'rock',\n",
       "       'rockabilly', 'rockalternative', 'rockindie', 'rockother',\n",
       "       'romance', 'roots', 'ruspop', 'rusrap', 'rusrock', 'russian',\n",
       "       'salsa', 'samba', 'scenic', 'schlager', 'self', 'sertanejo',\n",
       "       'shanson', 'shoegazing', 'showtunes', 'singer', 'ska', 'skarock',\n",
       "       'slow', 'smooth', 'soft', 'soul', 'soulful', 'sound', 'soundtrack',\n",
       "       'southern', 'specialty', 'speech', 'spiritual', 'sport',\n",
       "       'stonerrock', 'surf', 'swing', 'synthpop', 'synthrock',\n",
       "       'sängerportrait', 'tango', 'tanzorchester', 'taraftar', 'tatar',\n",
       "       'tech', 'techno', 'teen', 'thrash', 'top', 'traditional',\n",
       "       'tradjazz', 'trance', 'tribal', 'trip', 'triphop', 'tropical',\n",
       "       'türk', 'türkçe', 'ukrrock', 'unknown', 'urban', 'uzbek',\n",
       "       'variété', 'vi', 'videogame', 'vocal', 'western', 'world',\n",
       "       'worldbeat', 'ïîï'], dtype=object)"
      ]
     },
     "execution_count": 54,
     "metadata": {},
     "output_type": "execute_result"
    }
   ],
   "source": [
    "# Проверка на неявные дубликаты\n",
    "df['genre'].sort_values().unique()"
   ]
  },
  {
   "cell_type": "markdown",
   "metadata": {
    "id": "jz6a9-7HQUDd"
   },
   "source": [
    "**Выводы**\n",
    "\n",
    "Предобработка обнаружила три проблемы в данных:\n",
    "\n",
    "- нарушения в стиле заголовков,\n",
    "- пропущенные значения,\n",
    "- дубликаты — явные и неявные.\n",
    "\n",
    "Вы исправили заголовки, чтобы упростить работу с таблицей. Без дубликатов исследование станет более точным.\n",
    "\n",
    "Пропущенные значения вы заменили на `'unknown'`. Ещё предстоит увидеть, не повредят ли исследованию пропуски в колонке `genre`.\n",
    "\n",
    "Теперь можно перейти к проверке гипотез. "
   ]
  },
  {
   "cell_type": "markdown",
   "metadata": {
    "id": "WttZHXH0SqKk"
   },
   "source": [
    "## Проверка гипотез"
   ]
  },
  {
   "cell_type": "markdown",
   "metadata": {
    "id": "Im936VVi_Zcu"
   },
   "source": [
    "### Сравнение поведения пользователей двух столиц"
   ]
  },
  {
   "cell_type": "markdown",
   "metadata": {
    "id": "nwt_MuaL_Zcu"
   },
   "source": [
    "Первая гипотеза утверждает, что пользователи по-разному слушают музыку в Москве и Санкт-Петербурге. Проверьте это предположение по данным о трёх днях недели — понедельнике, среде и пятнице. Для этого:\n",
    "\n",
    "* Разделите пользователей Москвы и Санкт-Петербурга\n",
    "* Сравните, сколько треков послушала каждая группа пользователей в понедельник, среду и пятницу.\n"
   ]
  },
  {
   "cell_type": "markdown",
   "metadata": {
    "id": "8Dw_YMmT_Zcu"
   },
   "source": [
    "Для тренировки сначала выполните каждый из расчётов по отдельности. \n",
    "\n",
    "Оцените активность пользователей в каждом городе. Сгруппируйте данные по городу и посчитайте прослушивания в каждой группе.\n",
    "\n"
   ]
  },
  {
   "cell_type": "code",
   "execution_count": 55,
   "metadata": {
    "id": "0_Qs96oh_Zcu"
   },
   "outputs": [
    {
     "name": "stdout",
     "output_type": "stream",
     "text": [
      "Число прослушиваний за неделю в Москве: 42741\n",
      "Число прослушиваний за неделю в Санкт-Петербурге: 18512\n"
     ]
    }
   ],
   "source": [
    "# Подсчёт прослушиваний в каждом городе\n",
    "activity_moscow           = df.sort_values(by='city').groupby('city')['day'].count()[0]\n",
    "activity_saint_petersburg = df.sort_values(by='city').groupby('city')['day'].count()[1]\n",
    "print(f\"Число прослушиваний за неделю в Москве: {activity_moscow}\")\n",
    "print(f\"Число прослушиваний за неделю в Санкт-Петербурге: {activity_saint_petersburg}\")"
   ]
  },
  {
   "cell_type": "markdown",
   "metadata": {
    "id": "dzli3w8o_Zcu"
   },
   "source": [
    "В Москве прослушиваний больше, чем в Петербурге. Из этого не следует, что московские пользователи чаще слушают музыку. Просто самих пользователей в Москве больше.\n",
    "\n",
    "Теперь сгруппируйте данные по дню недели и подсчитайте прослушивания в понедельник, среду и пятницу. Учтите, что в данных есть информация о прослушиваниях только за эти дни.\n"
   ]
  },
  {
   "cell_type": "code",
   "execution_count": 76,
   "metadata": {
    "id": "uZMKjiJz_Zcu"
   },
   "outputs": [
    {
     "name": "stdout",
     "output_type": "stream",
     "text": [
      "Friday 21840\n",
      "Monday 21354\n",
      "Wednesday 18059\n"
     ]
    }
   ],
   "source": [
    "# Подсчёт прослушиваний в каждый из трёх дней\n",
    "for k,v in df.groupby('day')['user_id'].count().items():\n",
    "    print(k,v)"
   ]
  },
  {
   "cell_type": "markdown",
   "metadata": {
    "id": "cC2tNrlL_Zcu"
   },
   "source": [
    "В среднем пользователи из двух городов менее активны по средам. Но картина может измениться, если рассмотреть каждый город в отдельности."
   ]
  },
  {
   "cell_type": "markdown",
   "metadata": {
    "id": "POzs8bGa_Zcu"
   },
   "source": [
    "Вы видели, как работает группировка по городу и по дням недели. Теперь напишите функцию, которая объединит два эти расчёта.\n",
    "\n",
    "Создайте функцию `number_tracks()`, которая посчитает прослушивания для заданного дня и города. Ей понадобятся два параметра:\n",
    "* день недели,\n",
    "* название города.\n",
    "\n",
    "В функции сохраните в переменную строки исходной таблицы, у которых значение:\n",
    "  * в колонке `day` равно параметру `day`,\n",
    "  * в колонке `city` равно параметру `city`.\n",
    "\n",
    "Для этого примените последовательную фильтрацию с логической индексацией.\n",
    "\n",
    "Затем посчитайте значения в столбце `user_id` получившейся таблицы. Результат сохраните в новую переменную. Верните эту переменную из функции."
   ]
  },
  {
   "cell_type": "code",
   "execution_count": 77,
   "metadata": {
    "id": "Nz3GdQB1_Zcu"
   },
   "outputs": [],
   "source": [
    "# <создание функции number_tracks()>\n",
    "# Объявляется функция с двумя параметрами: day, city.\n",
    "# В переменной track_list сохраняются те строки таблицы df, для которых \n",
    "# значение в столбце 'day' равно параметру day и одновременно значение\n",
    "# в столбце 'city' равно параметру city (используйте последовательную фильтрацию\n",
    "# с помощью логической индексации).\n",
    "# В переменной track_list_count сохраняется число значений столбца 'user_id',\n",
    "# рассчитанное методом count() для таблицы track_list.\n",
    "# Функция возвращает число - значение track_list_count.\n",
    "\n",
    "# Функция для подсчёта прослушиваний для конкретного города и дня.\n",
    "# С помощью последовательной фильтрации с логической индексацией она \n",
    "# сначала получит из исходной таблицы строки с нужным днём,\n",
    "# затем из результата отфильтрует строки с нужным городом,\n",
    "# методом count() посчитает количество значений в колонке user_id. \n",
    "# Это количество функция вернёт в качестве результата\n",
    "\n",
    "def number_tracks(tracks_src, day, city):\n",
    "    track_list = tracks_src.loc[ tracks_src.loc[:,'day' ] == day ]\n",
    "    track_list = track_list.loc[ track_list.loc[:,'city'] == city]\n",
    "    return track_list['user_id'].count()"
   ]
  },
  {
   "cell_type": "markdown",
   "metadata": {
    "id": "ytf7xFrFJQ2r"
   },
   "source": [
    "Вызовите `number_tracks()` шесть раз, меняя значение параметров — так, чтобы получить данные для каждого города в каждый из трёх дней."
   ]
  },
  {
   "cell_type": "code",
   "execution_count": 78,
   "metadata": {
    "id": "rJcRATNQ_Zcu"
   },
   "outputs": [],
   "source": [
    "# количество прослушиваний в Москве по понедельникам\n",
    "listenings_moscow_monday = number_tracks(df, 'Monday','Moscow')"
   ]
  },
  {
   "cell_type": "code",
   "execution_count": 79,
   "metadata": {
    "id": "hq_ncZ5T_Zcu"
   },
   "outputs": [],
   "source": [
    "# количество прослушиваний в Санкт-Петербурге по понедельникам\n",
    "listenings_saint_petersburg_monday = number_tracks(df, 'Monday','Saint-Petersburg')"
   ]
  },
  {
   "cell_type": "code",
   "execution_count": 80,
   "metadata": {
    "id": "_NTy2VPU_Zcu"
   },
   "outputs": [],
   "source": [
    "# количество прослушиваний в Москве по средам\n",
    "listenings_moscow_wednesday = number_tracks(df, 'Wednesday','Moscow')"
   ]
  },
  {
   "cell_type": "code",
   "execution_count": 81,
   "metadata": {
    "id": "j2y3TAwo_Zcu"
   },
   "outputs": [],
   "source": [
    "# количество прослушиваний в Санкт-Петербурге по средам\n",
    "listenings_saint_petersburg_wednesday = number_tracks(df, 'Wednesday','Saint-Petersburg')"
   ]
  },
  {
   "cell_type": "code",
   "execution_count": 82,
   "metadata": {
    "id": "vYDw5u_K_Zcu"
   },
   "outputs": [],
   "source": [
    "# количество прослушиваний в Москве по пятницам\n",
    "listenings_moscow_friday = number_tracks(df, 'Friday','Moscow')"
   ]
  },
  {
   "cell_type": "code",
   "execution_count": 83,
   "metadata": {
    "id": "8_yzFtW3_Zcu"
   },
   "outputs": [],
   "source": [
    "# количество прослушиваний в Санкт-Петербурге по пятницам\n",
    "listenings_saint_petersburg_friday = number_tracks(df, 'Friday','Saint-Petersburg')"
   ]
  },
  {
   "cell_type": "markdown",
   "metadata": {
    "id": "7QXffbO-_Zcu"
   },
   "source": [
    "Создайте c помощью конструктора `pd.DataFrame` таблицу, где\n",
    "* названия колонок — `['city', 'monday', 'wednesday', 'friday']`;\n",
    "* данные — результаты, которые вы получили с помощью `number_tracks`."
   ]
  },
  {
   "cell_type": "code",
   "execution_count": 86,
   "metadata": {
    "id": "APAcLpOr_Zcu"
   },
   "outputs": [
    {
     "data": {
      "text/html": [
       "<div>\n",
       "<style scoped>\n",
       "    .dataframe tbody tr th:only-of-type {\n",
       "        vertical-align: middle;\n",
       "    }\n",
       "\n",
       "    .dataframe tbody tr th {\n",
       "        vertical-align: top;\n",
       "    }\n",
       "\n",
       "    .dataframe thead th {\n",
       "        text-align: right;\n",
       "    }\n",
       "</style>\n",
       "<table border=\"1\" class=\"dataframe\">\n",
       "  <thead>\n",
       "    <tr style=\"text-align: right;\">\n",
       "      <th></th>\n",
       "      <th>city</th>\n",
       "      <th>monday</th>\n",
       "      <th>wednesday</th>\n",
       "      <th>friday</th>\n",
       "    </tr>\n",
       "  </thead>\n",
       "  <tbody>\n",
       "    <tr>\n",
       "      <th>0</th>\n",
       "      <td>Moscow</td>\n",
       "      <td>15740</td>\n",
       "      <td>11056</td>\n",
       "      <td>15945</td>\n",
       "    </tr>\n",
       "    <tr>\n",
       "      <th>1</th>\n",
       "      <td>Saint-Petersburg</td>\n",
       "      <td>5614</td>\n",
       "      <td>7003</td>\n",
       "      <td>5895</td>\n",
       "    </tr>\n",
       "  </tbody>\n",
       "</table>\n",
       "</div>"
      ],
      "text/plain": [
       "               city  monday  wednesday  friday\n",
       "0            Moscow   15740      11056   15945\n",
       "1  Saint-Petersburg    5614       7003    5895"
      ]
     },
     "execution_count": 86,
     "metadata": {},
     "output_type": "execute_result"
    }
   ],
   "source": [
    "# Таблица с результатами\n",
    "columns = ['city', 'monday', 'wednesday', 'friday']\n",
    "data = [\n",
    "    ['Moscow',\n",
    "    listenings_moscow_monday,\n",
    "    listenings_moscow_wednesday,\n",
    "    listenings_moscow_friday],\n",
    "    ['Saint-Petersburg',\n",
    "    listenings_saint_petersburg_monday,\n",
    "    listenings_saint_petersburg_wednesday,\n",
    "    listenings_saint_petersburg_friday]\n",
    "]\n",
    "\n",
    "city_listenings_per_days = pd.DataFrame(data = data, columns = columns)\n",
    "\n",
    "city_listenings_per_days"
   ]
  },
  {
   "cell_type": "code",
   "execution_count": 88,
   "metadata": {},
   "outputs": [
    {
     "name": "stdout",
     "output_type": "stream",
     "text": [
      "График активности по Москве по дням недели\n"
     ]
    },
    {
     "data": {
      "text/plain": [
       "<AxesSubplot:>"
      ]
     },
     "execution_count": 88,
     "metadata": {},
     "output_type": "execute_result"
    },
    {
     "data": {
      "image/png": "[encoded data removed]",
      "text/plain": [
       "<Figure size 432x288 with 1 Axes>"
      ]
     },
     "metadata": {
      "needs_background": "light"
     },
     "output_type": "display_data"
    }
   ],
   "source": [
    "# График активности по Москве\n",
    "print(\"График активности по Москве по дням недели\")\n",
    "seaborn.barplot(x=columns[1:],y=[listenings_moscow_monday,\n",
    "    listenings_moscow_wednesday,\n",
    "    listenings_moscow_friday])"
   ]
  },
  {
   "cell_type": "code",
   "execution_count": 89,
   "metadata": {},
   "outputs": [
    {
     "name": "stdout",
     "output_type": "stream",
     "text": [
      "График активности по Санкт-Петербургу по дням недели\n"
     ]
    },
    {
     "data": {
      "text/plain": [
       "<AxesSubplot:>"
      ]
     },
     "execution_count": 89,
     "metadata": {},
     "output_type": "execute_result"
    },
    {
     "data": {
      "image/png": "[encoded data removed]",
      "text/plain": [
       "<Figure size 432x288 with 1 Axes>"
      ]
     },
     "metadata": {
      "needs_background": "light"
     },
     "output_type": "display_data"
    }
   ],
   "source": [
    "# График активности по Санкт-Петербургу\n",
    "print(\"График активности по Санкт-Петербургу по дням недели\")\n",
    "seaborn.barplot(x=columns[1:], y=[listenings_saint_petersburg_monday,\n",
    "    listenings_saint_petersburg_wednesday,\n",
    "    listenings_saint_petersburg_friday])"
   ]
  },
  {
   "cell_type": "markdown",
   "metadata": {
    "id": "-EgPIHYu_Zcu"
   },
   "source": [
    "**Выводы**\n",
    "\n",
    "Данные показывают разницу поведения пользователей:\n",
    "\n",
    "- В Москве пик прослушиваний приходится на понедельник и пятницу, а в среду заметен спад.\n",
    "- В Петербурге, наоборот, больше слушают музыку по средам. Активность в понедельник и пятницу здесь почти в равной мере уступает среде.\n",
    "\n",
    "Значит, данные говорят в пользу первой гипотезы."
   ]
  },
  {
   "cell_type": "markdown",
   "metadata": {
    "id": "atZAxtq4_Zcu"
   },
   "source": [
    "### Музыка в начале и в конце недели"
   ]
  },
  {
   "cell_type": "markdown",
   "metadata": {
    "id": "eXrQqXFH_Zcu"
   },
   "source": [
    "Согласно второй гипотезе, утром в понедельник в Москве преобладают одни жанры, а в Петербурге — другие. Так же и вечером пятницы преобладают разные жанры — в зависимости от города."
   ]
  },
  {
   "cell_type": "markdown",
   "metadata": {
    "id": "S8UcW6Hw_Zcu"
   },
   "source": [
    "Сохраните таблицы с данными в две переменные:\n",
    "* по Москве — в `moscow_general`;\n",
    "* по Санкт-Петербургу — в `spb_general`."
   ]
  },
  {
   "cell_type": "code",
   "execution_count": 90,
   "metadata": {
    "id": "qeaFfM_P_Zcu"
   },
   "outputs": [],
   "source": [
    "# получение таблицы moscow_general из тех строк таблицы df, \n",
    "# для которых значение в столбце 'city' равно 'Moscow'\n",
    "moscow_general = df.loc [ df.loc[:,'city'] == 'Moscow']"
   ]
  },
  {
   "cell_type": "code",
   "execution_count": 91,
   "metadata": {
    "id": "ORaVRKto_Zcu"
   },
   "outputs": [],
   "source": [
    "# получение таблицы spb_general из тех строк таблицы df,\n",
    "# для которых значение в столбце 'city' равно 'Saint-Petersburg'\n",
    "spb_general    = df.loc [ df.loc[:,'city'] == 'Saint-Petersburg']"
   ]
  },
  {
   "cell_type": "markdown",
   "metadata": {
    "id": "MEJV-CX2_Zcu"
   },
   "source": [
    "Создайте функцию `genre_weekday()` с четырьмя параметрами:\n",
    "* таблица (датафрейм) с данными,\n",
    "* день недели,\n",
    "* начальная временная метка в формате 'hh:mm', \n",
    "* последняя временная метка в формате 'hh:mm'.\n",
    "\n",
    "Функция должна вернуть информацию о топ-10 жанров тех треков, которые прослушивали в указанный день, в промежутке между двумя отметками времени."
   ]
  },
  {
   "cell_type": "code",
   "execution_count": 92,
   "metadata": {
    "id": "laJT9BYl_Zcu"
   },
   "outputs": [],
   "source": [
    "# Объявление функции genre_weekday() с параметрами table, day, time1, time2,\n",
    "# которая возвращает информацию о самых популярных жанрах в указанный день в\n",
    "# заданное время:\n",
    "# 1) в переменную genre_df сохраняются те строки переданного датафрейма table, для\n",
    "#    которых одновременно:\n",
    "#    - значение в столбце day равно значению аргумента day\n",
    "#    - значение в столбце time больше значения аргумента time1\n",
    "#    - значение в столбце time меньше значения аргумента time2\n",
    "#    Используйте последовательную фильтрацию с помощью логической индексации.\n",
    "# 2) сгруппировать датафрейм genre_df по столбцу genre, взять один из его\n",
    "#    столбцов и посчитать методом count() количество записей для каждого из\n",
    "#    присутствующих жанров, получившийся Series записать в переменную\n",
    "#    genre_df_count\n",
    "# 3) отсортировать genre_df_count по убыванию встречаемости и сохранить\n",
    "#    в переменную genre_df_sorted\n",
    "# 4) вернуть Series из 10 первых значений genre_df_sorted, это будут топ-10\n",
    "#    популярных жанров (в указанный день, в заданное время)\n",
    "\n",
    "def genre_weekday(table, day, time1, time2):\n",
    "    genre_df =    table.loc[ table.loc[:,'day'] == day ]\n",
    "    genre_df = genre_df.loc[ genre_df.loc[:,'time'] > time1 ]\n",
    "    genre_df = genre_df.loc[ genre_df.loc[:,'time'] < time2 ]\n",
    "    \n",
    "    genre_df_count = genre_df.groupby('genre')['user_id'].count()\n",
    "    genre_df_sorted = genre_df_count.sort_values(ascending=False)\n",
    "    \n",
    "    return genre_df_sorted[:10]"
   ]
  },
  {
   "cell_type": "markdown",
   "metadata": {
    "id": "la2s2_PF_Zcu"
   },
   "source": [
    "Cравните результаты функции `genre_weekday()` для Москвы и Санкт-Петербурга в понедельник утром (с 7:00 до 11:00) и в пятницу вечером (с 17:00 до 23:00):"
   ]
  },
  {
   "cell_type": "code",
   "execution_count": 93,
   "metadata": {
    "id": "yz7itPUQ_Zcu"
   },
   "outputs": [
    {
     "data": {
      "text/plain": [
       "<AxesSubplot:ylabel='genre'>"
      ]
     },
     "execution_count": 93,
     "metadata": {},
     "output_type": "execute_result"
    },
    {
     "data": {
      "image/png": "[encoded data removed]",
      "text/plain": [
       "<Figure size 432x288 with 1 Axes>"
      ]
     },
     "metadata": {
      "needs_background": "light"
     },
     "output_type": "display_data"
    }
   ],
   "source": [
    "# вызов функции для утра понедельника в Москве (вместо df — таблица moscow_general)\n",
    "# объекты, хранящие время, являются строками и сравниваются как строки\n",
    "# пример вызова: genre_weekday(moscow_general, 'Monday', '07:00', '11:00')\n",
    "genre_data = genre_weekday( moscow_general, 'Monday', '07:00', '11:00')\n",
    "seaborn.barplot(x=genre_data.values, y=genre_data.index)\n"
   ]
  },
  {
   "cell_type": "code",
   "execution_count": 94,
   "metadata": {
    "id": "kwUcHPdy_Zcu"
   },
   "outputs": [
    {
     "data": {
      "text/plain": [
       "<AxesSubplot:ylabel='genre'>"
      ]
     },
     "execution_count": 94,
     "metadata": {},
     "output_type": "execute_result"
    },
    {
     "data": {
      "image/png": "[encoded data removed]",
      "text/plain": [
       "<Figure size 432x288 with 1 Axes>"
      ]
     },
     "metadata": {
      "needs_background": "light"
     },
     "output_type": "display_data"
    }
   ],
   "source": [
    "# вызов функции для утра понедельника в Петербурге (вместо df — таблица spb_general)\n",
    "genre_data = genre_weekday( spb_general, 'Monday', '07:00', '11:00')\n",
    "seaborn.barplot(x=genre_data.values, y=genre_data.index)"
   ]
  },
  {
   "cell_type": "code",
   "execution_count": 95,
   "metadata": {
    "id": "EzXVRE1o_Zcu"
   },
   "outputs": [
    {
     "data": {
      "text/plain": [
       "<AxesSubplot:ylabel='genre'>"
      ]
     },
     "execution_count": 95,
     "metadata": {},
     "output_type": "execute_result"
    },
    {
     "data": {
      "image/png": "[encoded data removed]",
      "text/plain": [
       "<Figure size 432x288 with 1 Axes>"
      ]
     },
     "metadata": {
      "needs_background": "light"
     },
     "output_type": "display_data"
    }
   ],
   "source": [
    "# вызов функции для вечера пятницы в Москве\n",
    "genre_data = genre_weekday( moscow_general, 'Friday', '17:00', '23:00')\n",
    "seaborn.barplot(x=genre_data.values, y=genre_data.index)"
   ]
  },
  {
   "cell_type": "code",
   "execution_count": 96,
   "metadata": {
    "id": "JZaEKu5v_Zcu"
   },
   "outputs": [
    {
     "data": {
      "text/plain": [
       "<AxesSubplot:ylabel='genre'>"
      ]
     },
     "execution_count": 96,
     "metadata": {},
     "output_type": "execute_result"
    },
    {
     "data": {
      "image/png": "[encoded data removed]",
      "text/plain": [
       "<Figure size 432x288 with 1 Axes>"
      ]
     },
     "metadata": {
      "needs_background": "light"
     },
     "output_type": "display_data"
    }
   ],
   "source": [
    "# вызов функции для вечера пятницы в Петербурге\n",
    "genre_data = genre_weekday( spb_general, 'Friday', '17:00', '23:00')\n",
    "seaborn.barplot(x=genre_data.values, y=genre_data.index)"
   ]
  },
  {
   "cell_type": "markdown",
   "metadata": {
    "id": "wrCe4MNX_Zcu"
   },
   "source": [
    "**Выводы**\n",
    "\n",
    "Если сравнить топ-10 жанров в понедельник утром, можно сделать такие выводы:\n",
    "\n",
    "1. В Москве и Петербурге слушают похожую музыку. Единственное отличие — в московский рейтинг вошёл жанр “world”, а в петербургский — джаз и классика.\n",
    "\n",
    "2. В Москве пропущенных значений оказалось так много, что значение `'unknown'` заняло десятое место среди самых популярных жанров. Значит, пропущенные значения занимают существенную долю в данных и угрожают достоверности исследования.\n",
    "\n",
    "Вечер пятницы не меняет эту картину. Некоторые жанры поднимаются немного выше, другие спускаются, но в целом топ-10 остаётся тем же самым.\n",
    "\n",
    "Таким образом, вторая гипотеза подтвердилась лишь частично:\n",
    "* Пользователи слушают похожую музыку в начале недели и в конце.\n",
    "* Разница между Москвой и Петербургом не слишком выражена. В Москве чаще слушают русскую популярную музыку, в Петербурге — джаз.\n",
    "\n",
    "Однако пропуски в данных ставят под сомнение этот результат. В Москве их так много, что рейтинг топ-10 мог бы выглядеть иначе, если бы не утерянные  данные о жанрах."
   ]
  },
  {
   "cell_type": "markdown",
   "metadata": {
    "id": "JolODAqr_Zcu"
   },
   "source": [
    "### Жанровые предпочтения в Москве и Петербурге\n",
    "\n",
    "Гипотеза: Петербург — столица рэпа, музыку этого жанра там слушают чаще, чем в Москве.  А Москва — город контрастов, в котором, тем не менее, преобладает поп-музыка."
   ]
  },
  {
   "cell_type": "markdown",
   "metadata": {
    "id": "DlegSvaT_Zcu"
   },
   "source": [
    "Сгруппируйте таблицу `moscow_general` по жанру и посчитайте прослушивания треков каждого жанра методом `count()`. Затем отсортируйте результат в порядке убывания и сохраните его в таблице `moscow_genres`."
   ]
  },
  {
   "cell_type": "code",
   "execution_count": 97,
   "metadata": {
    "id": "r19lIPke_Zcu"
   },
   "outputs": [],
   "source": [
    "# одной строкой: группировка таблицы moscow_general по столбцу 'genre', \n",
    "# подсчёт числа значений 'genre' в этой группировке методом count(), \n",
    "# сортировка получившегося Series в порядке убывания и сохранение в moscow_genres\n",
    "\n",
    "moscow_genres = moscow_general.groupby('genre')['user_id'].count().sort_values(ascending=False)"
   ]
  },
  {
   "cell_type": "markdown",
   "metadata": {
    "id": "6kMuomxTiIr8"
   },
   "source": [
    "Выведите на экран первые десять строк `moscow_genres`:"
   ]
  },
  {
   "cell_type": "code",
   "execution_count": 98,
   "metadata": {
    "id": "WhCSooF8_Zcv"
   },
   "outputs": [
    {
     "data": {
      "text/plain": [
       "<AxesSubplot:ylabel='genre'>"
      ]
     },
     "execution_count": 98,
     "metadata": {},
     "output_type": "execute_result"
    },
    {
     "data": {
      "image/png": "[encoded data removed]",
      "text/plain": [
       "<Figure size 432x288 with 1 Axes>"
      ]
     },
     "metadata": {
      "needs_background": "light"
     },
     "output_type": "display_data"
    }
   ],
   "source": [
    "# просмотр первых 10 строк moscow_genres\n",
    "seaborn.barplot(x=moscow_genres[:10].values,y=moscow_genres[:10].index)"
   ]
  },
  {
   "cell_type": "markdown",
   "metadata": {
    "id": "cnPG2vnN_Zcv"
   },
   "source": [
    "Теперь повторите то же и для Петербурга.\n",
    "\n",
    "Сгруппируйте таблицу `spb_general` по жанру. Посчитайте прослушивания треков каждого жанра. Результат отсортируйте в порядке убывания и сохраните в таблице `spb_genres`:\n"
   ]
  },
  {
   "cell_type": "code",
   "execution_count": 99,
   "metadata": {
    "id": "gluLIpE7_Zcv"
   },
   "outputs": [],
   "source": [
    "# одной строкой: группировка таблицы spb_general по столбцу 'genre', \n",
    "# подсчёт числа значений 'genre' в этой группировке методом count(), \n",
    "# сортировка получившегося Series в порядке убывания и сохранение в spb_genres\n",
    "spb_genres = spb_general.groupby('genre')['user_id'].count().sort_values(ascending=False)"
   ]
  },
  {
   "cell_type": "markdown",
   "metadata": {
    "id": "5Doha_ODgyQ8"
   },
   "source": [
    "Выведите на экран первые десять строк `spb_genres`:"
   ]
  },
  {
   "cell_type": "code",
   "execution_count": 100,
   "metadata": {
    "id": "uaGJHjVU_Zcv"
   },
   "outputs": [
    {
     "data": {
      "text/plain": [
       "<AxesSubplot:ylabel='genre'>"
      ]
     },
     "execution_count": 100,
     "metadata": {},
     "output_type": "execute_result"
    },
    {
     "data": {
      "image/png": "[encoded data removed]",
      "text/plain": [
       "<Figure size 432x288 with 1 Axes>"
      ]
     },
     "metadata": {
      "needs_background": "light"
     },
     "output_type": "display_data"
    }
   ],
   "source": [
    "# просмотр первых 10 строк spb_genres\n",
    "seaborn.barplot(x=spb_genres[:10].values,y=spb_genres[:10].index)"
   ]
  },
  {
   "cell_type": "markdown",
   "metadata": {
    "id": "RY51YJYu_Zcv"
   },
   "source": [
    "**Выводы**"
   ]
  },
  {
   "cell_type": "markdown",
   "metadata": {
    "id": "nVhnJEm__Zcv"
   },
   "source": [
    "Гипотеза частично подтвердилась:\n",
    "* Поп-музыка — самый популярный жанр в Москве, как и предполагала гипотеза. Более того, в топ-10 жанров встречается близкий жанр — русская популярная музыка.\n",
    "* Вопреки ожиданиям, рэп одинаково популярен в Москве и Петербурге. \n"
   ]
  },
  {
   "cell_type": "markdown",
   "metadata": {
    "id": "ykKQ0N65_Zcv"
   },
   "source": [
    "## Итоги исследования"
   ]
  },
  {
   "cell_type": "markdown",
   "metadata": {
    "id": "tjUwbHb3_Zcv"
   },
   "source": [
    "Вы проверили три гипотезы и установили:\n",
    "\n",
    "1. День недели по-разному влияет на активность пользователей в Москве и Петербурге. \n",
    "\n",
    "Первая гипотеза полностью подтвердилась.\n",
    "\n",
    "2. Музыкальные предпочтения не сильно меняются в течение недели — будь то Москва или Петербург. Небольшие различия заметны в начале недели, по понедельникам:\n",
    "* в Москве слушают музыку жанра “world”,\n",
    "* в Петербурге — джаз и классику.\n",
    "\n",
    "Таким образом, вторая гипотеза подтвердилась лишь отчасти. Этот результат мог оказаться иным, если бы не пропуски в данных.\n",
    "\n",
    "3. Во вкусах пользователей Москвы и Петербурга больше общего чем различий. Вопреки ожиданиям, предпочтения жанров в Петербурге напоминают московские.\n",
    "\n",
    "Третья гипотеза не подтвердилась. Если различия в предпочтениях и существуют, на основной массе пользователей они незаметны.\n",
    "\n",
    "**На практике исследования содержат проверки статистических гипотез.**\n",
    "Из данных одного сервиса не всегда можно сделать вывод о всех жителях города.\n",
    "Проверки статистических гипотез покажут, насколько они достоверны, исходя из имеющихся данных. \n",
    "С методами проверок гипотез вы ещё познакомитесь в следующих темах."
   ]
  }
 ],
 "metadata": {
  "ExecuteTimeLog": [
   {
    "duration": 458,
    "start_time": "2022-03-26T19:01:40.092Z"
   },
   {
    "duration": 135,
    "start_time": "2022-03-26T19:01:42.797Z"
   },
   {
    "duration": 18,
    "start_time": "2022-03-26T19:01:45.411Z"
   },
   {
    "duration": 36,
    "start_time": "2022-03-26T19:04:41.457Z"
   },
   {
    "duration": 2,
    "start_time": "2022-03-26T19:14:27.083Z"
   },
   {
    "duration": 4,
    "start_time": "2022-03-26T19:14:38.574Z"
   },
   {
    "duration": 3,
    "start_time": "2022-03-26T19:14:59.376Z"
   },
   {
    "duration": 12,
    "start_time": "2022-03-26T19:19:25.403Z"
   },
   {
    "duration": 4,
    "start_time": "2022-03-26T19:19:35.484Z"
   },
   {
    "duration": 12,
    "start_time": "2022-03-26T19:20:08.746Z"
   },
   {
    "duration": 4,
    "start_time": "2022-03-26T19:20:12.091Z"
   },
   {
    "duration": 2640,
    "start_time": "2022-03-26T19:34:34.823Z"
   },
   {
    "duration": 42,
    "start_time": "2022-03-26T19:35:12.889Z"
   },
   {
    "duration": 12,
    "start_time": "2022-03-26T19:35:28.214Z"
   },
   {
    "duration": 19,
    "start_time": "2022-03-26T19:35:44.556Z"
   },
   {
    "duration": 42,
    "start_time": "2022-03-26T19:36:03.804Z"
   },
   {
    "duration": 37,
    "start_time": "2022-03-26T19:39:21.150Z"
   },
   {
    "duration": 40,
    "start_time": "2022-03-26T19:39:40.670Z"
   },
   {
    "duration": 32,
    "start_time": "2022-03-26T19:57:01.461Z"
   },
   {
    "duration": 16,
    "start_time": "2022-03-26T19:59:39.945Z"
   },
   {
    "duration": 24,
    "start_time": "2022-03-26T19:59:54.209Z"
   },
   {
    "duration": 10,
    "start_time": "2022-03-26T20:00:54.629Z"
   },
   {
    "duration": 64,
    "start_time": "2022-03-26T20:01:16.714Z"
   },
   {
    "duration": 100,
    "start_time": "2022-03-26T20:01:37.835Z"
   },
   {
    "duration": 66,
    "start_time": "2022-03-26T20:07:00.504Z"
   },
   {
    "duration": 60,
    "start_time": "2022-03-26T20:07:05.510Z"
   },
   {
    "duration": 70,
    "start_time": "2022-03-26T20:07:19.827Z"
   },
   {
    "duration": 67,
    "start_time": "2022-03-26T20:07:26.741Z"
   },
   {
    "duration": 69,
    "start_time": "2022-03-26T20:07:41.524Z"
   },
   {
    "duration": 65,
    "start_time": "2022-03-26T20:08:37.580Z"
   },
   {
    "duration": 64,
    "start_time": "2022-03-26T20:09:03.641Z"
   },
   {
    "duration": 71,
    "start_time": "2022-03-26T20:10:26.846Z"
   },
   {
    "duration": 60,
    "start_time": "2022-03-26T20:10:31.510Z"
   },
   {
    "duration": 7,
    "start_time": "2022-03-26T20:10:50.853Z"
   },
   {
    "duration": 10,
    "start_time": "2022-03-26T20:10:59.964Z"
   },
   {
    "duration": 11,
    "start_time": "2022-03-26T20:11:37.676Z"
   },
   {
    "duration": 13,
    "start_time": "2022-03-26T20:12:03.363Z"
   },
   {
    "duration": 39,
    "start_time": "2022-03-26T20:12:29.171Z"
   },
   {
    "duration": 5,
    "start_time": "2022-03-26T20:20:02.432Z"
   },
   {
    "duration": 16,
    "start_time": "2022-03-26T20:23:12.648Z"
   },
   {
    "duration": 15,
    "start_time": "2022-03-26T20:23:45.151Z"
   },
   {
    "duration": 44,
    "start_time": "2022-03-26T20:24:07.437Z"
   },
   {
    "duration": 40,
    "start_time": "2022-03-26T20:24:20.628Z"
   },
   {
    "duration": 24,
    "start_time": "2022-03-26T20:27:20.094Z"
   },
   {
    "duration": 46,
    "start_time": "2022-03-26T20:27:22.734Z"
   },
   {
    "duration": 42,
    "start_time": "2022-03-26T20:28:17.842Z"
   },
   {
    "duration": 17,
    "start_time": "2022-03-26T20:28:20.508Z"
   },
   {
    "duration": 38,
    "start_time": "2022-03-26T20:28:22.403Z"
   },
   {
    "duration": 11,
    "start_time": "2022-03-26T22:46:33.211Z"
   },
   {
    "duration": 9,
    "start_time": "2022-03-26T22:48:17.503Z"
   },
   {
    "duration": 36,
    "start_time": "2022-03-26T22:48:31.905Z"
   },
   {
    "duration": 10,
    "start_time": "2022-03-26T22:49:00.750Z"
   },
   {
    "duration": 17,
    "start_time": "2022-03-26T22:50:51.802Z"
   },
   {
    "duration": 21,
    "start_time": "2022-03-26T22:51:16.186Z"
   },
   {
    "duration": 93,
    "start_time": "2022-03-26T22:52:05.625Z"
   },
   {
    "duration": 101,
    "start_time": "2022-03-26T22:52:14.199Z"
   },
   {
    "duration": 101,
    "start_time": "2022-03-26T22:52:20.200Z"
   },
   {
    "duration": 87,
    "start_time": "2022-03-26T22:52:24.246Z"
   },
   {
    "duration": 100,
    "start_time": "2022-03-26T22:53:31.748Z"
   },
   {
    "duration": 95,
    "start_time": "2022-03-26T22:53:47.829Z"
   },
   {
    "duration": 102,
    "start_time": "2022-03-26T22:54:03.155Z"
   },
   {
    "duration": 100,
    "start_time": "2022-03-26T22:54:12.019Z"
   },
   {
    "duration": 4,
    "start_time": "2022-03-26T22:55:40.662Z"
   },
   {
    "duration": 4,
    "start_time": "2022-03-26T22:56:36.412Z"
   },
   {
    "duration": 82,
    "start_time": "2022-03-26T22:56:44.539Z"
   },
   {
    "duration": 4,
    "start_time": "2022-03-26T22:56:47.061Z"
   },
   {
    "duration": 9,
    "start_time": "2022-03-26T22:58:01.554Z"
   },
   {
    "duration": 33,
    "start_time": "2022-03-26T22:58:05.265Z"
   },
   {
    "duration": 70,
    "start_time": "2022-03-27T18:01:31.676Z"
   },
   {
    "duration": 6,
    "start_time": "2022-03-27T18:01:38.865Z"
   },
   {
    "duration": 8,
    "start_time": "2022-03-27T18:01:40.360Z"
   },
   {
    "duration": 11,
    "start_time": "2022-03-27T18:01:48.686Z"
   },
   {
    "duration": 862,
    "start_time": "2022-03-27T18:02:02.759Z"
   },
   {
    "duration": 279,
    "start_time": "2022-03-27T18:02:03.625Z"
   },
   {
    "duration": 31,
    "start_time": "2022-03-27T18:02:03.907Z"
   },
   {
    "duration": 56,
    "start_time": "2022-03-27T18:02:03.940Z"
   },
   {
    "duration": 4,
    "start_time": "2022-03-27T18:02:03.999Z"
   },
   {
    "duration": 18,
    "start_time": "2022-03-27T18:02:04.006Z"
   },
   {
    "duration": 42,
    "start_time": "2022-03-27T18:02:04.026Z"
   },
   {
    "duration": 38,
    "start_time": "2022-03-27T18:02:04.071Z"
   },
   {
    "duration": 23,
    "start_time": "2022-03-27T18:02:04.112Z"
   },
   {
    "duration": 53,
    "start_time": "2022-03-27T18:02:04.137Z"
   },
   {
    "duration": 120,
    "start_time": "2022-03-27T18:02:04.193Z"
   },
   {
    "duration": 122,
    "start_time": "2022-03-27T18:02:04.315Z"
   },
   {
    "duration": 92,
    "start_time": "2022-03-27T18:02:04.439Z"
   },
   {
    "duration": 54,
    "start_time": "2022-03-27T18:02:04.536Z"
   },
   {
    "duration": 5,
    "start_time": "2022-03-27T18:02:04.593Z"
   },
   {
    "duration": 29,
    "start_time": "2022-03-27T18:02:04.600Z"
   },
   {
    "duration": 83,
    "start_time": "2022-03-27T18:02:04.631Z"
   },
   {
    "duration": 129,
    "start_time": "2022-03-27T18:02:04.716Z"
   },
   {
    "duration": 52,
    "start_time": "2022-03-27T18:02:04.848Z"
   },
   {
    "duration": 5,
    "start_time": "2022-03-27T18:02:04.902Z"
   },
   {
    "duration": 24,
    "start_time": "2022-03-27T18:02:04.910Z"
   },
   {
    "duration": 46,
    "start_time": "2022-03-27T18:02:04.936Z"
   },
   {
    "duration": 20,
    "start_time": "2022-03-27T18:02:04.984Z"
   },
   {
    "duration": 18,
    "start_time": "2022-03-27T18:02:05.006Z"
   },
   {
    "duration": 52,
    "start_time": "2022-03-27T18:02:05.027Z"
   },
   {
    "duration": 16,
    "start_time": "2022-03-27T18:02:05.082Z"
   },
   {
    "duration": 4,
    "start_time": "2022-03-27T18:02:05.100Z"
   },
   {
    "duration": 7,
    "start_time": "2022-03-27T18:02:05.106Z"
   },
   {
    "duration": 6,
    "start_time": "2022-03-27T18:02:05.115Z"
   },
   {
    "duration": 44,
    "start_time": "2022-03-27T18:02:05.123Z"
   },
   {
    "duration": 6,
    "start_time": "2022-03-27T18:02:05.170Z"
   },
   {
    "duration": 5,
    "start_time": "2022-03-27T18:02:05.179Z"
   },
   {
    "duration": 6,
    "start_time": "2022-03-27T18:02:05.186Z"
   },
   {
    "duration": 8,
    "start_time": "2022-03-27T18:02:05.194Z"
   },
   {
    "duration": 5,
    "start_time": "2022-03-27T18:02:05.204Z"
   },
   {
    "duration": 6,
    "start_time": "2022-03-27T18:02:05.211Z"
   },
   {
    "duration": 6,
    "start_time": "2022-03-27T18:02:05.219Z"
   },
   {
    "duration": 10,
    "start_time": "2022-03-27T18:02:05.227Z"
   },
   {
    "duration": 183,
    "start_time": "2022-03-27T18:07:18.737Z"
   },
   {
    "duration": 27,
    "start_time": "2022-03-27T18:07:38.269Z"
   },
   {
    "duration": 25,
    "start_time": "2022-03-27T18:07:38.716Z"
   },
   {
    "duration": 21,
    "start_time": "2022-03-27T18:07:39.011Z"
   },
   {
    "duration": 17,
    "start_time": "2022-03-27T18:07:39.268Z"
   },
   {
    "duration": 20,
    "start_time": "2022-03-27T18:07:39.571Z"
   },
   {
    "duration": 18,
    "start_time": "2022-03-27T18:07:39.883Z"
   },
   {
    "duration": 14,
    "start_time": "2022-03-27T18:09:54.311Z"
   },
   {
    "duration": 11,
    "start_time": "2022-03-27T18:10:19.292Z"
   },
   {
    "duration": 7,
    "start_time": "2022-03-27T18:12:28.198Z"
   },
   {
    "duration": 7,
    "start_time": "2022-03-27T18:12:35.816Z"
   },
   {
    "duration": 12,
    "start_time": "2022-03-27T18:12:54.215Z"
   },
   {
    "duration": 6,
    "start_time": "2022-03-27T18:14:00.797Z"
   },
   {
    "duration": 21,
    "start_time": "2022-03-27T18:14:01.644Z"
   },
   {
    "duration": 23,
    "start_time": "2022-03-27T18:14:02.108Z"
   },
   {
    "duration": 27,
    "start_time": "2022-03-27T18:14:02.524Z"
   },
   {
    "duration": 27,
    "start_time": "2022-03-27T18:14:02.876Z"
   },
   {
    "duration": 30,
    "start_time": "2022-03-27T18:14:03.115Z"
   },
   {
    "duration": 27,
    "start_time": "2022-03-27T18:14:03.347Z"
   },
   {
    "duration": 18,
    "start_time": "2022-03-27T18:14:04.713Z"
   },
   {
    "duration": 54,
    "start_time": "2022-03-27T21:27:51.448Z"
   },
   {
    "duration": 485,
    "start_time": "2022-03-27T21:28:05.613Z"
   },
   {
    "duration": 186,
    "start_time": "2022-03-27T21:28:06.100Z"
   },
   {
    "duration": 18,
    "start_time": "2022-03-27T21:28:06.288Z"
   },
   {
    "duration": 44,
    "start_time": "2022-03-27T21:28:06.308Z"
   },
   {
    "duration": 4,
    "start_time": "2022-03-27T21:28:06.355Z"
   },
   {
    "duration": 19,
    "start_time": "2022-03-27T21:28:06.361Z"
   },
   {
    "duration": 6,
    "start_time": "2022-03-27T21:28:06.382Z"
   },
   {
    "duration": 64,
    "start_time": "2022-03-27T21:28:06.389Z"
   },
   {
    "duration": 23,
    "start_time": "2022-03-27T21:28:06.456Z"
   },
   {
    "duration": 27,
    "start_time": "2022-03-27T21:28:06.481Z"
   },
   {
    "duration": 94,
    "start_time": "2022-03-27T21:28:06.509Z"
   },
   {
    "duration": 103,
    "start_time": "2022-03-27T21:28:06.605Z"
   },
   {
    "duration": 74,
    "start_time": "2022-03-27T21:28:06.710Z"
   },
   {
    "duration": 58,
    "start_time": "2022-03-27T21:28:06.789Z"
   },
   {
    "duration": 3,
    "start_time": "2022-03-27T21:28:06.849Z"
   },
   {
    "duration": 24,
    "start_time": "2022-03-27T21:28:06.854Z"
   },
   {
    "duration": 59,
    "start_time": "2022-03-27T21:28:06.880Z"
   },
   {
    "duration": 137,
    "start_time": "2022-03-27T21:28:06.941Z"
   },
   {
    "duration": 61,
    "start_time": "2022-03-27T21:28:07.080Z"
   },
   {
    "duration": 6,
    "start_time": "2022-03-27T21:28:07.143Z"
   },
   {
    "duration": 23,
    "start_time": "2022-03-27T21:28:07.151Z"
   },
   {
    "duration": 15,
    "start_time": "2022-03-27T21:28:07.176Z"
   },
   {
    "duration": 14,
    "start_time": "2022-03-27T21:28:07.193Z"
   },
   {
    "duration": 34,
    "start_time": "2022-03-27T21:28:07.209Z"
   },
   {
    "duration": 21,
    "start_time": "2022-03-27T21:28:07.249Z"
   },
   {
    "duration": 16,
    "start_time": "2022-03-27T21:28:07.271Z"
   },
   {
    "duration": 9,
    "start_time": "2022-03-27T21:28:07.289Z"
   },
   {
    "duration": 36,
    "start_time": "2022-03-27T21:28:07.300Z"
   },
   {
    "duration": 3,
    "start_time": "2022-03-27T21:28:07.338Z"
   },
   {
    "duration": 12,
    "start_time": "2022-03-27T21:28:07.346Z"
   },
   {
    "duration": 11,
    "start_time": "2022-03-27T21:28:07.359Z"
   },
   {
    "duration": 4,
    "start_time": "2022-03-27T21:28:07.372Z"
   },
   {
    "duration": 7,
    "start_time": "2022-03-27T21:28:07.378Z"
   },
   {
    "duration": 6,
    "start_time": "2022-03-27T21:28:07.387Z"
   },
   {
    "duration": 7,
    "start_time": "2022-03-27T21:28:07.394Z"
   },
   {
    "duration": 5,
    "start_time": "2022-03-27T21:28:07.402Z"
   },
   {
    "duration": 5,
    "start_time": "2022-03-27T21:28:07.409Z"
   },
   {
    "duration": 19,
    "start_time": "2022-03-27T21:28:07.416Z"
   },
   {
    "duration": 12,
    "start_time": "2022-03-27T21:28:16.602Z"
   },
   {
    "duration": 13,
    "start_time": "2022-03-27T21:33:23.095Z"
   },
   {
    "duration": 10,
    "start_time": "2022-03-27T21:33:24.021Z"
   },
   {
    "duration": 2,
    "start_time": "2022-03-27T21:37:37.049Z"
   },
   {
    "duration": 2,
    "start_time": "2022-03-27T21:37:37.385Z"
   },
   {
    "duration": 3,
    "start_time": "2022-03-27T21:37:37.827Z"
   },
   {
    "duration": 3,
    "start_time": "2022-03-27T21:37:38.192Z"
   },
   {
    "duration": 12,
    "start_time": "2022-03-27T21:38:32.973Z"
   },
   {
    "duration": 11,
    "start_time": "2022-03-27T21:38:33.566Z"
   },
   {
    "duration": 13,
    "start_time": "2022-03-27T21:59:00.756Z"
   },
   {
    "duration": 12,
    "start_time": "2022-03-27T21:59:01.124Z"
   },
   {
    "duration": 10,
    "start_time": "2022-03-28T15:53:40.865Z"
   },
   {
    "duration": 44,
    "start_time": "2022-03-28T15:54:25.183Z"
   },
   {
    "duration": 6,
    "start_time": "2022-03-28T15:54:25.388Z"
   },
   {
    "duration": 6,
    "start_time": "2022-03-28T15:54:25.627Z"
   },
   {
    "duration": 5,
    "start_time": "2022-03-28T15:54:27.796Z"
   },
   {
    "duration": 7,
    "start_time": "2022-03-28T15:54:28.554Z"
   },
   {
    "duration": 390,
    "start_time": "2022-03-28T15:54:39.562Z"
   },
   {
    "duration": 156,
    "start_time": "2022-03-28T15:54:39.954Z"
   },
   {
    "duration": 25,
    "start_time": "2022-03-28T15:54:40.112Z"
   },
   {
    "duration": 30,
    "start_time": "2022-03-28T15:54:40.139Z"
   },
   {
    "duration": 4,
    "start_time": "2022-03-28T15:54:40.171Z"
   },
   {
    "duration": 15,
    "start_time": "2022-03-28T15:54:40.176Z"
   },
   {
    "duration": 7,
    "start_time": "2022-03-28T15:54:40.192Z"
   },
   {
    "duration": 48,
    "start_time": "2022-03-28T15:54:40.201Z"
   },
   {
    "duration": 20,
    "start_time": "2022-03-28T15:54:40.251Z"
   },
   {
    "duration": 27,
    "start_time": "2022-03-28T15:54:40.273Z"
   },
   {
    "duration": 92,
    "start_time": "2022-03-28T15:54:40.303Z"
   },
   {
    "duration": 100,
    "start_time": "2022-03-28T15:54:40.397Z"
   },
   {
    "duration": 71,
    "start_time": "2022-03-28T15:54:40.499Z"
   },
   {
    "duration": 70,
    "start_time": "2022-03-28T15:54:40.575Z"
   },
   {
    "duration": 4,
    "start_time": "2022-03-28T15:54:40.647Z"
   },
   {
    "duration": 32,
    "start_time": "2022-03-28T15:54:40.653Z"
   },
   {
    "duration": 76,
    "start_time": "2022-03-28T15:54:40.687Z"
   },
   {
    "duration": 155,
    "start_time": "2022-03-28T15:54:40.765Z"
   },
   {
    "duration": 59,
    "start_time": "2022-03-28T15:54:40.922Z"
   },
   {
    "duration": 5,
    "start_time": "2022-03-28T15:54:40.983Z"
   },
   {
    "duration": 32,
    "start_time": "2022-03-28T15:54:40.989Z"
   },
   {
    "duration": 21,
    "start_time": "2022-03-28T15:54:41.034Z"
   },
   {
    "duration": 22,
    "start_time": "2022-03-28T15:54:41.057Z"
   },
   {
    "duration": 19,
    "start_time": "2022-03-28T15:54:41.081Z"
   },
   {
    "duration": 36,
    "start_time": "2022-03-28T15:54:41.102Z"
   },
   {
    "duration": 13,
    "start_time": "2022-03-28T15:54:41.140Z"
   },
   {
    "duration": 9,
    "start_time": "2022-03-28T15:54:41.155Z"
   },
   {
    "duration": 14,
    "start_time": "2022-03-28T15:54:41.165Z"
   },
   {
    "duration": 9,
    "start_time": "2022-03-28T15:54:41.181Z"
   },
   {
    "duration": 5,
    "start_time": "2022-03-28T15:54:41.192Z"
   },
   {
    "duration": 51,
    "start_time": "2022-03-28T15:54:41.198Z"
   },
   {
    "duration": 19,
    "start_time": "2022-03-28T15:54:41.251Z"
   },
   {
    "duration": 15,
    "start_time": "2022-03-28T15:54:41.272Z"
   },
   {
    "duration": 16,
    "start_time": "2022-03-28T15:54:41.289Z"
   },
   {
    "duration": 2,
    "start_time": "2022-03-28T15:54:41.333Z"
   },
   {
    "duration": 6,
    "start_time": "2022-03-28T15:54:41.337Z"
   },
   {
    "duration": 6,
    "start_time": "2022-03-28T15:54:41.344Z"
   },
   {
    "duration": 5,
    "start_time": "2022-03-28T15:54:41.351Z"
   },
   {
    "duration": 18,
    "start_time": "2022-03-28T15:55:49.274Z"
   },
   {
    "duration": 12,
    "start_time": "2022-03-28T15:55:49.820Z"
   },
   {
    "duration": 16,
    "start_time": "2022-03-28T15:55:50.386Z"
   },
   {
    "duration": 12,
    "start_time": "2022-03-28T15:55:50.922Z"
   },
   {
    "duration": 11,
    "start_time": "2022-03-28T16:28:56.876Z"
   },
   {
    "duration": 11,
    "start_time": "2022-03-28T16:29:16.316Z"
   },
   {
    "duration": 11,
    "start_time": "2022-03-28T16:29:26.699Z"
   },
   {
    "duration": 62,
    "start_time": "2022-03-28T16:30:04.309Z"
   },
   {
    "duration": 6,
    "start_time": "2022-03-28T16:30:20.683Z"
   },
   {
    "duration": 10,
    "start_time": "2022-03-28T16:30:24.760Z"
   },
   {
    "duration": 4,
    "start_time": "2022-03-28T16:30:27.210Z"
   },
   {
    "duration": 4,
    "start_time": "2022-03-28T16:30:35.482Z"
   },
   {
    "duration": 7,
    "start_time": "2022-03-28T16:31:19.026Z"
   },
   {
    "duration": 4,
    "start_time": "2022-03-28T16:31:34.411Z"
   },
   {
    "duration": 934,
    "start_time": "2022-03-28T16:48:26.185Z"
   },
   {
    "duration": 2058,
    "start_time": "2022-03-28T16:57:01.000Z"
   },
   {
    "duration": 263,
    "start_time": "2022-03-28T16:57:06.006Z"
   },
   {
    "duration": 22,
    "start_time": "2022-03-28T16:57:06.663Z"
   },
   {
    "duration": 45,
    "start_time": "2022-03-28T16:57:07.838Z"
   },
   {
    "duration": 5,
    "start_time": "2022-03-28T16:57:09.477Z"
   },
   {
    "duration": 22,
    "start_time": "2022-03-28T16:57:10.614Z"
   },
   {
    "duration": 6,
    "start_time": "2022-03-28T16:57:10.989Z"
   },
   {
    "duration": 58,
    "start_time": "2022-03-28T16:57:11.342Z"
   },
   {
    "duration": 41,
    "start_time": "2022-03-28T16:57:12.062Z"
   },
   {
    "duration": 59,
    "start_time": "2022-03-28T16:57:12.397Z"
   },
   {
    "duration": 157,
    "start_time": "2022-03-28T16:57:12.709Z"
   },
   {
    "duration": 163,
    "start_time": "2022-03-28T16:57:13.013Z"
   },
   {
    "duration": 149,
    "start_time": "2022-03-28T16:57:13.373Z"
   },
   {
    "duration": 61,
    "start_time": "2022-03-28T16:57:13.829Z"
   },
   {
    "duration": 5,
    "start_time": "2022-03-28T16:57:14.134Z"
   },
   {
    "duration": 26,
    "start_time": "2022-03-28T16:57:14.454Z"
   },
   {
    "duration": 56,
    "start_time": "2022-03-28T16:57:14.765Z"
   },
   {
    "duration": 119,
    "start_time": "2022-03-28T16:57:15.669Z"
   },
   {
    "duration": 74,
    "start_time": "2022-03-28T16:57:16.126Z"
   },
   {
    "duration": 6,
    "start_time": "2022-03-28T16:57:16.581Z"
   },
   {
    "duration": 24,
    "start_time": "2022-03-28T16:57:16.901Z"
   },
   {
    "duration": 22,
    "start_time": "2022-03-28T16:57:17.061Z"
   },
   {
    "duration": 19,
    "start_time": "2022-03-28T16:57:17.209Z"
   },
   {
    "duration": 20,
    "start_time": "2022-03-28T16:57:17.357Z"
   },
   {
    "duration": 28,
    "start_time": "2022-03-28T16:57:17.510Z"
   },
   {
    "duration": 20,
    "start_time": "2022-03-28T16:57:17.669Z"
   },
   {
    "duration": 13,
    "start_time": "2022-03-28T16:57:17.982Z"
   },
   {
    "duration": 159,
    "start_time": "2022-03-28T16:57:18.133Z"
   },
   {
    "duration": 17,
    "start_time": "2022-03-28T16:57:18.942Z"
   },
   {
    "duration": 15,
    "start_time": "2022-03-28T16:57:19.094Z"
   },
   {
    "duration": 10,
    "start_time": "2022-03-28T16:57:19.847Z"
   },
   {
    "duration": 43,
    "start_time": "2022-03-28T16:57:20.150Z"
   },
   {
    "duration": 24,
    "start_time": "2022-03-28T16:57:21.048Z"
   },
   {
    "duration": 32,
    "start_time": "2022-03-28T16:57:21.075Z"
   },
   {
    "duration": 20,
    "start_time": "2022-03-28T16:57:21.109Z"
   },
   {
    "duration": 12,
    "start_time": "2022-03-28T16:57:22.542Z"
   },
   {
    "duration": 6,
    "start_time": "2022-03-28T16:57:22.869Z"
   },
   {
    "duration": 13,
    "start_time": "2022-03-28T16:57:23.189Z"
   },
   {
    "duration": 4,
    "start_time": "2022-03-28T16:57:23.878Z"
   },
   {
    "duration": 27,
    "start_time": "2022-03-28T16:57:45.926Z"
   },
   {
    "duration": 199,
    "start_time": "2022-03-28T16:58:52.765Z"
   },
   {
    "duration": 185,
    "start_time": "2022-03-28T17:00:39.331Z"
   },
   {
    "duration": 184,
    "start_time": "2022-03-28T17:00:41.108Z"
   },
   {
    "duration": 129,
    "start_time": "2022-03-28T17:01:02.244Z"
   },
   {
    "duration": 174,
    "start_time": "2022-03-28T17:01:06.404Z"
   },
   {
    "duration": 174,
    "start_time": "2022-03-28T17:01:13.396Z"
   },
   {
    "duration": 48,
    "start_time": "2022-03-28T17:06:24.298Z"
   },
   {
    "duration": 46,
    "start_time": "2022-03-28T17:06:35.306Z"
   },
   {
    "duration": 281,
    "start_time": "2022-03-28T17:07:40.296Z"
   },
   {
    "duration": 277,
    "start_time": "2022-03-28T17:08:00.616Z"
   },
   {
    "duration": 18,
    "start_time": "2022-03-28T17:08:08.873Z"
   },
   {
    "duration": 231,
    "start_time": "2022-03-28T17:08:36.175Z"
   },
   {
    "duration": 242,
    "start_time": "2022-03-28T17:09:08.576Z"
   },
   {
    "duration": 348,
    "start_time": "2022-03-28T17:09:09.495Z"
   },
   {
    "duration": 247,
    "start_time": "2022-03-28T17:09:12.431Z"
   },
   {
    "duration": 6,
    "start_time": "2022-03-28T17:09:51.206Z"
   },
   {
    "duration": 7,
    "start_time": "2022-03-28T17:10:27.848Z"
   },
   {
    "duration": 108,
    "start_time": "2022-03-28T17:10:55.086Z"
   },
   {
    "duration": 18,
    "start_time": "2022-03-28T17:10:59.270Z"
   },
   {
    "duration": 262,
    "start_time": "2022-03-28T17:11:03.454Z"
   },
   {
    "duration": 234,
    "start_time": "2022-03-28T17:11:39.102Z"
   },
   {
    "duration": 1223,
    "start_time": "2022-04-05T04:51:55.776Z"
   },
   {
    "duration": 141,
    "start_time": "2022-04-05T04:51:57.000Z"
   },
   {
    "duration": 13,
    "start_time": "2022-04-05T04:51:57.142Z"
   },
   {
    "duration": 26,
    "start_time": "2022-04-05T04:51:57.157Z"
   },
   {
    "duration": 3,
    "start_time": "2022-04-05T04:51:57.184Z"
   },
   {
    "duration": 17,
    "start_time": "2022-04-05T04:51:57.188Z"
   },
   {
    "duration": 5,
    "start_time": "2022-04-05T04:51:57.207Z"
   },
   {
    "duration": 25,
    "start_time": "2022-04-05T04:51:57.213Z"
   },
   {
    "duration": 15,
    "start_time": "2022-04-05T04:51:57.240Z"
   },
   {
    "duration": 38,
    "start_time": "2022-04-05T04:51:57.258Z"
   },
   {
    "duration": 65,
    "start_time": "2022-04-05T04:51:57.297Z"
   },
   {
    "duration": 74,
    "start_time": "2022-04-05T04:51:57.363Z"
   },
   {
    "duration": 63,
    "start_time": "2022-04-05T04:51:57.439Z"
   },
   {
    "duration": 35,
    "start_time": "2022-04-05T04:51:57.503Z"
   },
   {
    "duration": 2,
    "start_time": "2022-04-05T04:51:57.540Z"
   },
   {
    "duration": 17,
    "start_time": "2022-04-05T04:51:57.544Z"
   },
   {
    "duration": 51,
    "start_time": "2022-04-05T04:51:57.562Z"
   },
   {
    "duration": 82,
    "start_time": "2022-04-05T04:51:57.614Z"
   },
   {
    "duration": 29,
    "start_time": "2022-04-05T04:51:57.697Z"
   },
   {
    "duration": 3,
    "start_time": "2022-04-05T04:51:57.728Z"
   },
   {
    "duration": 18,
    "start_time": "2022-04-05T04:51:57.732Z"
   },
   {
    "duration": 31,
    "start_time": "2022-04-05T04:51:57.751Z"
   },
   {
    "duration": 12,
    "start_time": "2022-04-05T04:51:57.784Z"
   },
   {
    "duration": 11,
    "start_time": "2022-04-05T04:51:57.797Z"
   },
   {
    "duration": 12,
    "start_time": "2022-04-05T04:51:57.809Z"
   },
   {
    "duration": 10,
    "start_time": "2022-04-05T04:51:57.823Z"
   },
   {
    "duration": 7,
    "start_time": "2022-04-05T04:51:57.835Z"
   },
   {
    "duration": 128,
    "start_time": "2022-04-05T04:51:57.845Z"
   },
   {
    "duration": 107,
    "start_time": "2022-04-05T04:51:57.974Z"
   },
   {
    "duration": 11,
    "start_time": "2022-04-05T04:51:58.082Z"
   },
   {
    "duration": 10,
    "start_time": "2022-04-05T04:51:58.094Z"
   },
   {
    "duration": 4,
    "start_time": "2022-04-05T04:51:58.105Z"
   },
   {
    "duration": 153,
    "start_time": "2022-04-05T04:51:58.111Z"
   },
   {
    "duration": 136,
    "start_time": "2022-04-05T04:51:58.266Z"
   },
   {
    "duration": 143,
    "start_time": "2022-04-05T04:51:58.404Z"
   },
   {
    "duration": 177,
    "start_time": "2022-04-05T04:51:58.548Z"
   },
   {
    "duration": 10,
    "start_time": "2022-04-05T04:51:58.780Z"
   },
   {
    "duration": 233,
    "start_time": "2022-04-05T04:51:58.791Z"
   },
   {
    "duration": 55,
    "start_time": "2022-04-05T04:51:59.026Z"
   },
   {
    "duration": 221,
    "start_time": "2022-04-05T04:51:59.082Z"
   },
   {
    "duration": 4,
    "start_time": "2022-04-05T04:52:14.226Z"
   },
   {
    "duration": 3,
    "start_time": "2022-04-05T04:52:22.607Z"
   },
   {
    "duration": 4,
    "start_time": "2022-04-05T04:52:34.172Z"
   },
   {
    "duration": 3,
    "start_time": "2022-04-05T04:52:41.651Z"
   },
   {
    "duration": 4,
    "start_time": "2022-04-05T04:52:53.572Z"
   },
   {
    "duration": 4,
    "start_time": "2022-04-05T04:52:56.903Z"
   },
   {
    "duration": 9,
    "start_time": "2022-04-05T04:55:22.136Z"
   },
   {
    "duration": 72,
    "start_time": "2022-04-05T15:01:07.525Z"
   },
   {
    "duration": 2051,
    "start_time": "2022-04-05T15:01:15.234Z"
   },
   {
    "duration": 241,
    "start_time": "2022-04-05T15:01:17.288Z"
   },
   {
    "duration": 22,
    "start_time": "2022-04-05T15:01:17.531Z"
   },
   {
    "duration": 16,
    "start_time": "2022-04-05T15:01:29.689Z"
   },
   {
    "duration": 94,
    "start_time": "2022-04-05T15:01:49.041Z"
   },
   {
    "duration": 13,
    "start_time": "2022-04-05T15:04:49.304Z"
   },
   {
    "duration": 47,
    "start_time": "2022-04-05T15:04:54.455Z"
   },
   {
    "duration": 12,
    "start_time": "2022-04-05T15:05:00.029Z"
   },
   {
    "duration": 12,
    "start_time": "2022-04-05T15:05:10.943Z"
   },
   {
    "duration": 11,
    "start_time": "2022-04-05T15:05:13.703Z"
   },
   {
    "duration": 6,
    "start_time": "2022-04-05T15:05:19.335Z"
   },
   {
    "duration": 6,
    "start_time": "2022-04-05T15:05:27.623Z"
   },
   {
    "duration": 6,
    "start_time": "2022-04-05T15:05:33.463Z"
   },
   {
    "duration": 7,
    "start_time": "2022-04-05T15:05:41.783Z"
   },
   {
    "duration": 107,
    "start_time": "2022-04-05T15:06:48.614Z"
   },
   {
    "duration": 10,
    "start_time": "2022-04-05T15:07:42.877Z"
   },
   {
    "duration": 7,
    "start_time": "2022-04-05T15:08:07.957Z"
   },
   {
    "duration": 5,
    "start_time": "2022-04-05T15:08:12.837Z"
   },
   {
    "duration": 8,
    "start_time": "2022-04-05T15:08:29.572Z"
   },
   {
    "duration": 7,
    "start_time": "2022-04-05T15:08:54.469Z"
   },
   {
    "duration": 5,
    "start_time": "2022-04-05T15:09:58.836Z"
   },
   {
    "duration": 7,
    "start_time": "2022-04-05T15:10:01.821Z"
   },
   {
    "duration": 14,
    "start_time": "2022-04-05T15:10:04.179Z"
   },
   {
    "duration": 6,
    "start_time": "2022-04-05T15:10:09.211Z"
   },
   {
    "duration": 5,
    "start_time": "2022-04-05T15:10:14.900Z"
   },
   {
    "duration": 214,
    "start_time": "2022-04-05T15:10:37.564Z"
   },
   {
    "duration": 18,
    "start_time": "2022-04-05T15:11:15.171Z"
   },
   {
    "duration": 6,
    "start_time": "2022-04-05T15:11:16.075Z"
   },
   {
    "duration": 33,
    "start_time": "2022-04-05T15:11:17.850Z"
   },
   {
    "duration": 24,
    "start_time": "2022-04-05T15:11:23.283Z"
   },
   {
    "duration": 33,
    "start_time": "2022-04-05T15:11:25.435Z"
   },
   {
    "duration": 14,
    "start_time": "2022-04-05T15:11:29.755Z"
   },
   {
    "duration": 11,
    "start_time": "2022-04-05T15:11:48.643Z"
   },
   {
    "duration": 99,
    "start_time": "2022-04-05T15:11:58.955Z"
   },
   {
    "duration": 110,
    "start_time": "2022-04-05T15:12:03.835Z"
   },
   {
    "duration": 99,
    "start_time": "2022-04-05T15:12:13.346Z"
   },
   {
    "duration": 186,
    "start_time": "2022-04-05T15:12:24.139Z"
   },
   {
    "duration": 121,
    "start_time": "2022-04-05T15:12:33.114Z"
   },
   {
    "duration": 16,
    "start_time": "2022-04-05T15:22:41.805Z"
   },
   {
    "duration": 11,
    "start_time": "2022-04-05T15:22:48.460Z"
   },
   {
    "duration": 91,
    "start_time": "2022-04-05T15:22:53.580Z"
   },
   {
    "duration": 103,
    "start_time": "2022-04-05T15:23:05.651Z"
   },
   {
    "duration": 88,
    "start_time": "2022-04-05T15:23:20.979Z"
   },
   {
    "duration": 30,
    "start_time": "2022-04-05T15:26:58.890Z"
   },
   {
    "duration": 22,
    "start_time": "2022-04-05T15:27:00.178Z"
   },
   {
    "duration": 31,
    "start_time": "2022-04-05T15:27:01.113Z"
   },
   {
    "duration": 94,
    "start_time": "2022-04-05T15:27:03.905Z"
   },
   {
    "duration": 107,
    "start_time": "2022-04-05T15:27:05.673Z"
   },
   {
    "duration": 98,
    "start_time": "2022-04-05T15:27:06.881Z"
   },
   {
    "duration": 54,
    "start_time": "2022-04-05T15:27:11.897Z"
   },
   {
    "duration": 4,
    "start_time": "2022-04-05T15:27:15.969Z"
   },
   {
    "duration": 26,
    "start_time": "2022-04-05T15:27:19.401Z"
   },
   {
    "duration": 54,
    "start_time": "2022-04-05T15:27:22.627Z"
   },
   {
    "duration": 117,
    "start_time": "2022-04-05T15:27:29.801Z"
   },
   {
    "duration": 61,
    "start_time": "2022-04-05T15:27:57.025Z"
   },
   {
    "duration": 49,
    "start_time": "2022-04-05T15:28:28.769Z"
   },
   {
    "duration": 17,
    "start_time": "2022-04-05T15:30:43.784Z"
   },
   {
    "duration": 18,
    "start_time": "2022-04-05T15:31:00.985Z"
   },
   {
    "duration": 51,
    "start_time": "2022-04-05T15:31:06.968Z"
   },
   {
    "duration": 18,
    "start_time": "2022-04-05T15:31:20.208Z"
   },
   {
    "duration": 17,
    "start_time": "2022-04-05T15:31:32.991Z"
   },
   {
    "duration": 19,
    "start_time": "2022-04-05T15:31:39.896Z"
   },
   {
    "duration": 23,
    "start_time": "2022-04-05T15:31:45.359Z"
   },
   {
    "duration": 20,
    "start_time": "2022-04-05T15:31:57.926Z"
   },
   {
    "duration": 25,
    "start_time": "2022-04-05T15:32:03.751Z"
   },
   {
    "duration": 14,
    "start_time": "2022-04-05T15:32:34.078Z"
   },
   {
    "duration": 23,
    "start_time": "2022-04-05T15:32:40.991Z"
   },
   {
    "duration": 24,
    "start_time": "2022-04-05T15:32:48.982Z"
   },
   {
    "duration": 18,
    "start_time": "2022-04-05T15:32:57.782Z"
   },
   {
    "duration": 21,
    "start_time": "2022-04-05T15:33:19.798Z"
   },
   {
    "duration": 17,
    "start_time": "2022-04-05T15:33:36.062Z"
   },
   {
    "duration": 18,
    "start_time": "2022-04-05T15:33:42.942Z"
   },
   {
    "duration": 106,
    "start_time": "2022-04-05T15:34:29.494Z"
   },
   {
    "duration": 58,
    "start_time": "2022-04-05T15:34:50.493Z"
   },
   {
    "duration": 16,
    "start_time": "2022-04-05T15:35:26.662Z"
   },
   {
    "duration": 5,
    "start_time": "2022-04-05T15:35:43.477Z"
   },
   {
    "duration": 23,
    "start_time": "2022-04-05T15:35:45.715Z"
   },
   {
    "duration": 20,
    "start_time": "2022-04-05T15:35:46.020Z"
   },
   {
    "duration": 19,
    "start_time": "2022-04-05T15:35:46.219Z"
   },
   {
    "duration": 19,
    "start_time": "2022-04-05T15:35:46.404Z"
   },
   {
    "duration": 23,
    "start_time": "2022-04-05T15:35:48.685Z"
   },
   {
    "duration": 20,
    "start_time": "2022-04-05T15:35:48.965Z"
   },
   {
    "duration": 17,
    "start_time": "2022-04-05T15:35:49.533Z"
   },
   {
    "duration": 14,
    "start_time": "2022-04-05T15:36:15.076Z"
   },
   {
    "duration": 13,
    "start_time": "2022-04-05T15:36:20.097Z"
   },
   {
    "duration": 118,
    "start_time": "2022-04-05T15:36:25.636Z"
   },
   {
    "duration": 191,
    "start_time": "2022-04-05T15:36:37.773Z"
   },
   {
    "duration": 166,
    "start_time": "2022-04-05T15:36:38.020Z"
   },
   {
    "duration": 16,
    "start_time": "2022-04-05T15:36:47.435Z"
   },
   {
    "duration": 12,
    "start_time": "2022-04-05T15:36:49.284Z"
   },
   {
    "duration": 6,
    "start_time": "2022-04-05T15:36:49.988Z"
   },
   {
    "duration": 278,
    "start_time": "2022-04-05T15:36:52.508Z"
   },
   {
    "duration": 237,
    "start_time": "2022-04-05T15:36:54.764Z"
   },
   {
    "duration": 283,
    "start_time": "2022-04-05T15:36:55.006Z"
   },
   {
    "duration": 263,
    "start_time": "2022-04-05T15:36:55.292Z"
   },
   {
    "duration": 15,
    "start_time": "2022-04-05T15:36:59.579Z"
   },
   {
    "duration": 253,
    "start_time": "2022-04-05T15:37:02.059Z"
   },
   {
    "duration": 11,
    "start_time": "2022-04-05T15:37:05.563Z"
   },
   {
    "duration": 240,
    "start_time": "2022-04-05T15:37:07.835Z"
   },
   {
    "duration": 106,
    "start_time": "2022-04-05T15:38:27.596Z"
   },
   {
    "duration": 148,
    "start_time": "2022-04-05T15:50:27.291Z"
   },
   {
    "duration": 118,
    "start_time": "2022-04-06T15:30:31.036Z"
   }
  ],
  "colab": {
   "collapsed_sections": [
    "E0vqbgi9ay0H",
    "VUC88oWjTJw2"
   ],
   "name": "yandex_music_project.ipynb",
   "provenance": []
  },
  "kernelspec": {
   "display_name": "Python 3 (ipykernel)",
   "language": "python",
   "name": "python3"
  },
  "language_info": {
   "codemirror_mode": {
    "name": "ipython",
    "version": 3
   },
   "file_extension": ".py",
   "mimetype": "text/x-python",
   "name": "python",
   "nbconvert_exporter": "python",
   "pygments_lexer": "ipython3",
   "version": "3.9.18"
  },
  "toc": {
   "base_numbering": 1,
   "nav_menu": {},
   "number_sections": true,
   "sideBar": true,
   "skip_h1_title": true,
   "title_cell": "Table of Contents",
   "title_sidebar": "Contents",
   "toc_cell": false,
   "toc_position": {},
   "toc_section_display": true,
   "toc_window_display": true
  }
 },
 "nbformat": 4,
 "nbformat_minor": 4
}
